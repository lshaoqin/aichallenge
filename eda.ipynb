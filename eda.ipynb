{
 "cells": [
  {
   "cell_type": "markdown",
   "metadata": {},
   "source": [
    "# Summary\n",
    "It's my first time doing such an extensive EDA, so apologies for many things being sloppier and messier than they ought to be - I didn't expect to reuse so much code for one, so more helper functions would definitely have been helpful. A more consistent naming scheme would also have made things clearer and less confusing for myself.\n",
    "\n",
    "I must also declare from the start that a lot of the code in this notebook was generated with GitHub Copilot. However, it only helped me with the implementation of the code, and not with the steps I wanted to take. The methods explored in this notebook are from my own self-reading and thinking.\n",
    "\n",
    "## Categorical Data\n",
    "For the categorical data, I explored the chi-squared test and the mutual information gain test to prune features. However, the features pruned caused the models to perform slightly worse (if only marginally), and this dataset is quite small, so I ended up keeping all features.\n",
    "\n",
    "I tried a variety of models, starting with Linear Regression as I thought the target variable was closer to ordinal in nature. However, Linear Regression performed quite poorly. Models which predicted a categorical target variable performed much better instead, such as Gradient Boosting and Logistic Regression\n",
    "\n",
    "## Text Data\n",
    "For the text data, first cleaned up the text, then tried running it through a LGTM Neural Network and Convolutional Neural Network respectively. The CNN performed slightly better, and I'm quite happy with its performance given it is predicting in isolation of other features, and despite still containing some unfamiliar words after the processing (for example, some descriptions were in Malay.)\n",
    "\n",
    "I then tried using a LLM(gpt-3.5-turbo) to generate predictions. Though not as good as the neural networks, it performed slgihtly above my expectations. I think it may have been possible to push it to perform better through fine-tuning, or use it as a way to generate new features, but I couldn't explore this due to time constraints (looming exams 😭). This is an area that I'm very interested to explore in the future though.\n",
    "\n",
    "Unfortunately, I was also unable to integrate the predictions of the two models, and they both performed better individually despite my exploration of using the CNN predictions as a variable, or to find the average of the two predictions. \n",
    "\n",
    "## The final model\n",
    "In the final model, I plan to generate two predictions - the speed of the pet being adopted based on the categorical/quantitative data, and the speed of the pet being adopted based on the text data. I believe they can be used in two ways - the first one can be used to recommend pets which are more likely to be popular for adopters, as well as identify pets which may have a problem being adopted so they too can be pushed more often for adopters to consider. The second prediction acts more like a grade for the description, where a poor prediction might mean that the description can be written in a better/more appealing manner."
   ]
  },
  {
   "cell_type": "code",
   "execution_count": 100,
   "metadata": {},
   "outputs": [
    {
     "data": {
      "text/html": [
       "<div>\n",
       "<style scoped>\n",
       "    .dataframe tbody tr th:only-of-type {\n",
       "        vertical-align: middle;\n",
       "    }\n",
       "\n",
       "    .dataframe tbody tr th {\n",
       "        vertical-align: top;\n",
       "    }\n",
       "\n",
       "    .dataframe thead th {\n",
       "        text-align: right;\n",
       "    }\n",
       "</style>\n",
       "<table border=\"1\" class=\"dataframe\">\n",
       "  <thead>\n",
       "    <tr style=\"text-align: right;\">\n",
       "      <th></th>\n",
       "      <th>PetID</th>\n",
       "      <th>AdoptionSpeed</th>\n",
       "      <th>Type</th>\n",
       "      <th>Name</th>\n",
       "      <th>Age</th>\n",
       "      <th>Breed1</th>\n",
       "      <th>Breed2</th>\n",
       "      <th>Gender</th>\n",
       "      <th>Color1</th>\n",
       "      <th>Color2</th>\n",
       "      <th>...</th>\n",
       "      <th>HealthName</th>\n",
       "      <th>VaccinatedName</th>\n",
       "      <th>DewormedName</th>\n",
       "      <th>SterilizedName</th>\n",
       "      <th>BreedName</th>\n",
       "      <th>BreedBinsName</th>\n",
       "      <th>StateName</th>\n",
       "      <th>StateBinsName</th>\n",
       "      <th>ColorName</th>\n",
       "      <th>AdoptedName</th>\n",
       "    </tr>\n",
       "  </thead>\n",
       "  <tbody>\n",
       "    <tr>\n",
       "      <th>0</th>\n",
       "      <td>86e1089a3</td>\n",
       "      <td>2</td>\n",
       "      <td>2</td>\n",
       "      <td>Nibble</td>\n",
       "      <td>3</td>\n",
       "      <td>299</td>\n",
       "      <td>0</td>\n",
       "      <td>1</td>\n",
       "      <td>1</td>\n",
       "      <td>7</td>\n",
       "      <td>...</td>\n",
       "      <td>Healthy</td>\n",
       "      <td>No</td>\n",
       "      <td>No</td>\n",
       "      <td>No</td>\n",
       "      <td>Tabby</td>\n",
       "      <td>Tabby</td>\n",
       "      <td>Selangor</td>\n",
       "      <td>Selangor</td>\n",
       "      <td>Black</td>\n",
       "      <td>Y</td>\n",
       "    </tr>\n",
       "    <tr>\n",
       "      <th>1</th>\n",
       "      <td>6296e909a</td>\n",
       "      <td>0</td>\n",
       "      <td>2</td>\n",
       "      <td>No Name Yet</td>\n",
       "      <td>1</td>\n",
       "      <td>265</td>\n",
       "      <td>0</td>\n",
       "      <td>1</td>\n",
       "      <td>1</td>\n",
       "      <td>2</td>\n",
       "      <td>...</td>\n",
       "      <td>Healthy</td>\n",
       "      <td>Not Sure</td>\n",
       "      <td>Not Sure</td>\n",
       "      <td>Not Sure</td>\n",
       "      <td>Domestic Medium Hair</td>\n",
       "      <td>Domestic Medium Hair</td>\n",
       "      <td>Kuala Lumpur</td>\n",
       "      <td>Kuala Lumpur</td>\n",
       "      <td>Black</td>\n",
       "      <td>Y</td>\n",
       "    </tr>\n",
       "    <tr>\n",
       "      <th>2</th>\n",
       "      <td>3422e4906</td>\n",
       "      <td>3</td>\n",
       "      <td>1</td>\n",
       "      <td>Brisco</td>\n",
       "      <td>1</td>\n",
       "      <td>307</td>\n",
       "      <td>0</td>\n",
       "      <td>1</td>\n",
       "      <td>2</td>\n",
       "      <td>7</td>\n",
       "      <td>...</td>\n",
       "      <td>Healthy</td>\n",
       "      <td>Yes</td>\n",
       "      <td>Yes</td>\n",
       "      <td>No</td>\n",
       "      <td>Mixed Breed</td>\n",
       "      <td>Mixed Breed</td>\n",
       "      <td>Selangor</td>\n",
       "      <td>Selangor</td>\n",
       "      <td>Brown</td>\n",
       "      <td>Y</td>\n",
       "    </tr>\n",
       "    <tr>\n",
       "      <th>3</th>\n",
       "      <td>5842f1ff5</td>\n",
       "      <td>2</td>\n",
       "      <td>1</td>\n",
       "      <td>Miko</td>\n",
       "      <td>4</td>\n",
       "      <td>307</td>\n",
       "      <td>0</td>\n",
       "      <td>2</td>\n",
       "      <td>1</td>\n",
       "      <td>2</td>\n",
       "      <td>...</td>\n",
       "      <td>Healthy</td>\n",
       "      <td>Yes</td>\n",
       "      <td>Yes</td>\n",
       "      <td>No</td>\n",
       "      <td>Mixed Breed</td>\n",
       "      <td>Mixed Breed</td>\n",
       "      <td>Kuala Lumpur</td>\n",
       "      <td>Kuala Lumpur</td>\n",
       "      <td>Black</td>\n",
       "      <td>Y</td>\n",
       "    </tr>\n",
       "    <tr>\n",
       "      <th>4</th>\n",
       "      <td>850a43f90</td>\n",
       "      <td>2</td>\n",
       "      <td>1</td>\n",
       "      <td>Hunter</td>\n",
       "      <td>1</td>\n",
       "      <td>307</td>\n",
       "      <td>0</td>\n",
       "      <td>1</td>\n",
       "      <td>1</td>\n",
       "      <td>0</td>\n",
       "      <td>...</td>\n",
       "      <td>Healthy</td>\n",
       "      <td>No</td>\n",
       "      <td>No</td>\n",
       "      <td>No</td>\n",
       "      <td>Mixed Breed</td>\n",
       "      <td>Mixed Breed</td>\n",
       "      <td>Selangor</td>\n",
       "      <td>Selangor</td>\n",
       "      <td>Black</td>\n",
       "      <td>Y</td>\n",
       "    </tr>\n",
       "  </tbody>\n",
       "</table>\n",
       "<p>5 rows × 49 columns</p>\n",
       "</div>"
      ],
      "text/plain": [
       "       PetID  AdoptionSpeed  Type         Name  Age  Breed1  Breed2  Gender  \\\n",
       "0  86e1089a3              2     2       Nibble    3     299       0       1   \n",
       "1  6296e909a              0     2  No Name Yet    1     265       0       1   \n",
       "2  3422e4906              3     1       Brisco    1     307       0       1   \n",
       "3  5842f1ff5              2     1         Miko    4     307       0       2   \n",
       "4  850a43f90              2     1       Hunter    1     307       0       1   \n",
       "\n",
       "   Color1  Color2  ...  HealthName  VaccinatedName  DewormedName  \\\n",
       "0       1       7  ...     Healthy              No            No   \n",
       "1       1       2  ...     Healthy        Not Sure      Not Sure   \n",
       "2       2       7  ...     Healthy             Yes           Yes   \n",
       "3       1       2  ...     Healthy             Yes           Yes   \n",
       "4       1       0  ...     Healthy              No            No   \n",
       "\n",
       "   SterilizedName             BreedName         BreedBinsName     StateName  \\\n",
       "0              No                 Tabby                 Tabby      Selangor   \n",
       "1        Not Sure  Domestic Medium Hair  Domestic Medium Hair  Kuala Lumpur   \n",
       "2              No           Mixed Breed           Mixed Breed      Selangor   \n",
       "3              No           Mixed Breed           Mixed Breed  Kuala Lumpur   \n",
       "4              No           Mixed Breed           Mixed Breed      Selangor   \n",
       "\n",
       "   StateBinsName  ColorName  AdoptedName  \n",
       "0       Selangor      Black            Y  \n",
       "1   Kuala Lumpur      Black            Y  \n",
       "2       Selangor      Brown            Y  \n",
       "3   Kuala Lumpur      Black            Y  \n",
       "4       Selangor      Black            Y  \n",
       "\n",
       "[5 rows x 49 columns]"
      ]
     },
     "execution_count": 100,
     "metadata": {},
     "output_type": "execute_result"
    }
   ],
   "source": [
    "# Load the dataset\n",
    "import pandas as pd\n",
    "import numpy as np\n",
    "\n",
    "df = pd.read_csv('pets_prepared.csv')\n",
    "df.head()"
   ]
  },
  {
   "cell_type": "code",
   "execution_count": 58,
   "metadata": {},
   "outputs": [
    {
     "data": {
      "text/plain": [
       "(14993, 49)"
      ]
     },
     "execution_count": 58,
     "metadata": {},
     "output_type": "execute_result"
    }
   ],
   "source": [
    "# Check dimensions of data\n",
    "df.shape"
   ]
  },
  {
   "cell_type": "code",
   "execution_count": 178,
   "metadata": {},
   "outputs": [
    {
     "data": {
      "text/plain": [
       "AdoptionSpeed\n",
       "4    4197\n",
       "2    4037\n",
       "3    3259\n",
       "1    3090\n",
       "0     410\n",
       "Name: count, dtype: int64"
      ]
     },
     "execution_count": 178,
     "metadata": {},
     "output_type": "execute_result"
    }
   ],
   "source": [
    "# Check distribution of target variable\n",
    "df['AdoptionSpeed'].value_counts()"
   ]
  },
  {
   "cell_type": "code",
   "execution_count": 59,
   "metadata": {},
   "outputs": [
    {
     "data": {
      "text/plain": [
       "AgeBins\n",
       "[  3,  6)    3670\n",
       "2            3503\n",
       "[  0,  2)    2483\n",
       "[ 24, 60)    1601\n",
       "[  6, 12)    1588\n",
       "[ 12, 24)    1557\n",
       "[ 60,255]     591\n",
       "Name: count, dtype: int64"
      ]
     },
     "execution_count": 59,
     "metadata": {},
     "output_type": "execute_result"
    }
   ],
   "source": [
    "# Investigate the nature of data in the AgeBins column, which seems less intuitive to me\n",
    "df['AgeBins'].value_counts()"
   ]
  },
  {
   "cell_type": "code",
   "execution_count": 60,
   "metadata": {},
   "outputs": [
    {
     "name": "stdout",
     "output_type": "stream",
     "text": [
      "Age\n",
      "2    3503\n",
      "Name: count, dtype: int64\n",
      "True\n"
     ]
    }
   ],
   "source": [
    "mask = df['AgeBins'] == '2'\n",
    "print(df.loc[mask, 'Age'].value_counts())\n",
    "all_age_2 = (df.loc[mask, 'Age'] == 2).all()\n",
    "\n",
    "print(all_age_2)\n",
    "\n",
    "# Seems strange there are so many pets in the '2' category, but they are not wrongly classified\n",
    "# Later, I learnt that many pets are only put up for adoption when they are 2 months old,\n",
    "# when they are more ready!"
   ]
  },
  {
   "cell_type": "code",
   "execution_count": 61,
   "metadata": {},
   "outputs": [
    {
     "data": {
      "text/plain": [
       "BreedBins\n",
       "307       5927\n",
       "266       3634\n",
       "Others    3272\n",
       "265       1258\n",
       "299        342\n",
       "264        296\n",
       "292        264\n",
       "Name: count, dtype: int64"
      ]
     },
     "execution_count": 61,
     "metadata": {},
     "output_type": "execute_result"
    }
   ],
   "source": [
    "df['BreedBins'].value_counts()"
   ]
  },
  {
   "cell_type": "code",
   "execution_count": 62,
   "metadata": {},
   "outputs": [
    {
     "data": {
      "text/html": [
       "<div>\n",
       "<style scoped>\n",
       "    .dataframe tbody tr th:only-of-type {\n",
       "        vertical-align: middle;\n",
       "    }\n",
       "\n",
       "    .dataframe tbody tr th {\n",
       "        vertical-align: top;\n",
       "    }\n",
       "\n",
       "    .dataframe thead th {\n",
       "        text-align: right;\n",
       "    }\n",
       "</style>\n",
       "<table border=\"1\" class=\"dataframe\">\n",
       "  <thead>\n",
       "    <tr style=\"text-align: right;\">\n",
       "      <th></th>\n",
       "      <th>BreedBins</th>\n",
       "      <th>BreedName</th>\n",
       "    </tr>\n",
       "  </thead>\n",
       "  <tbody>\n",
       "    <tr>\n",
       "      <th>0</th>\n",
       "      <td>299</td>\n",
       "      <td>Tabby</td>\n",
       "    </tr>\n",
       "    <tr>\n",
       "      <th>1</th>\n",
       "      <td>265</td>\n",
       "      <td>Domestic Medium Hair</td>\n",
       "    </tr>\n",
       "    <tr>\n",
       "      <th>2</th>\n",
       "      <td>307</td>\n",
       "      <td>Mixed Breed</td>\n",
       "    </tr>\n",
       "    <tr>\n",
       "      <th>3</th>\n",
       "      <td>307</td>\n",
       "      <td>Mixed Breed</td>\n",
       "    </tr>\n",
       "    <tr>\n",
       "      <th>4</th>\n",
       "      <td>307</td>\n",
       "      <td>Mixed Breed</td>\n",
       "    </tr>\n",
       "    <tr>\n",
       "      <th>5</th>\n",
       "      <td>266</td>\n",
       "      <td>Domestic Short Hair</td>\n",
       "    </tr>\n",
       "    <tr>\n",
       "      <th>6</th>\n",
       "      <td>264</td>\n",
       "      <td>Domestic Long Hair</td>\n",
       "    </tr>\n",
       "    <tr>\n",
       "      <th>7</th>\n",
       "      <td>307</td>\n",
       "      <td>Mixed Breed</td>\n",
       "    </tr>\n",
       "    <tr>\n",
       "      <th>8</th>\n",
       "      <td>265</td>\n",
       "      <td>Domestic Medium Hair</td>\n",
       "    </tr>\n",
       "    <tr>\n",
       "      <th>9</th>\n",
       "      <td>265</td>\n",
       "      <td>Domestic Medium Hair</td>\n",
       "    </tr>\n",
       "    <tr>\n",
       "      <th>10</th>\n",
       "      <td>307</td>\n",
       "      <td>Mixed Breed</td>\n",
       "    </tr>\n",
       "    <tr>\n",
       "      <th>11</th>\n",
       "      <td>264</td>\n",
       "      <td>Domestic Long Hair</td>\n",
       "    </tr>\n",
       "    <tr>\n",
       "      <th>12</th>\n",
       "      <td>307</td>\n",
       "      <td>Mixed Breed</td>\n",
       "    </tr>\n",
       "    <tr>\n",
       "      <th>13</th>\n",
       "      <td>265</td>\n",
       "      <td>Domestic Medium Hair</td>\n",
       "    </tr>\n",
       "    <tr>\n",
       "      <th>14</th>\n",
       "      <td>307</td>\n",
       "      <td>Mixed Breed</td>\n",
       "    </tr>\n",
       "    <tr>\n",
       "      <th>15</th>\n",
       "      <td>Others</td>\n",
       "      <td>Terrier</td>\n",
       "    </tr>\n",
       "    <tr>\n",
       "      <th>16</th>\n",
       "      <td>266</td>\n",
       "      <td>Domestic Short Hair</td>\n",
       "    </tr>\n",
       "    <tr>\n",
       "      <th>17</th>\n",
       "      <td>307</td>\n",
       "      <td>Mixed Breed</td>\n",
       "    </tr>\n",
       "    <tr>\n",
       "      <th>18</th>\n",
       "      <td>307</td>\n",
       "      <td>Mixed Breed</td>\n",
       "    </tr>\n",
       "    <tr>\n",
       "      <th>19</th>\n",
       "      <td>266</td>\n",
       "      <td>Domestic Short Hair</td>\n",
       "    </tr>\n",
       "    <tr>\n",
       "      <th>20</th>\n",
       "      <td>307</td>\n",
       "      <td>Mixed Breed</td>\n",
       "    </tr>\n",
       "    <tr>\n",
       "      <th>21</th>\n",
       "      <td>307</td>\n",
       "      <td>Mixed Breed</td>\n",
       "    </tr>\n",
       "    <tr>\n",
       "      <th>22</th>\n",
       "      <td>Others</td>\n",
       "      <td>Greyhound</td>\n",
       "    </tr>\n",
       "    <tr>\n",
       "      <th>23</th>\n",
       "      <td>307</td>\n",
       "      <td>Mixed Breed</td>\n",
       "    </tr>\n",
       "    <tr>\n",
       "      <th>24</th>\n",
       "      <td>266</td>\n",
       "      <td>Domestic Short Hair</td>\n",
       "    </tr>\n",
       "    <tr>\n",
       "      <th>25</th>\n",
       "      <td>Others</td>\n",
       "      <td>Persian</td>\n",
       "    </tr>\n",
       "    <tr>\n",
       "      <th>26</th>\n",
       "      <td>Others</td>\n",
       "      <td>Persian</td>\n",
       "    </tr>\n",
       "    <tr>\n",
       "      <th>27</th>\n",
       "      <td>266</td>\n",
       "      <td>Domestic Short Hair</td>\n",
       "    </tr>\n",
       "    <tr>\n",
       "      <th>28</th>\n",
       "      <td>Others</td>\n",
       "      <td>Rottweiler</td>\n",
       "    </tr>\n",
       "    <tr>\n",
       "      <th>29</th>\n",
       "      <td>266</td>\n",
       "      <td>Domestic Short Hair</td>\n",
       "    </tr>\n",
       "    <tr>\n",
       "      <th>30</th>\n",
       "      <td>Others</td>\n",
       "      <td>Shih Tzu</td>\n",
       "    </tr>\n",
       "    <tr>\n",
       "      <th>31</th>\n",
       "      <td>266</td>\n",
       "      <td>Domestic Short Hair</td>\n",
       "    </tr>\n",
       "    <tr>\n",
       "      <th>32</th>\n",
       "      <td>307</td>\n",
       "      <td>Mixed Breed</td>\n",
       "    </tr>\n",
       "    <tr>\n",
       "      <th>33</th>\n",
       "      <td>266</td>\n",
       "      <td>Domestic Short Hair</td>\n",
       "    </tr>\n",
       "    <tr>\n",
       "      <th>34</th>\n",
       "      <td>266</td>\n",
       "      <td>Domestic Short Hair</td>\n",
       "    </tr>\n",
       "    <tr>\n",
       "      <th>35</th>\n",
       "      <td>264</td>\n",
       "      <td>Domestic Long Hair</td>\n",
       "    </tr>\n",
       "    <tr>\n",
       "      <th>36</th>\n",
       "      <td>265</td>\n",
       "      <td>Domestic Medium Hair</td>\n",
       "    </tr>\n",
       "    <tr>\n",
       "      <th>37</th>\n",
       "      <td>265</td>\n",
       "      <td>Domestic Medium Hair</td>\n",
       "    </tr>\n",
       "    <tr>\n",
       "      <th>38</th>\n",
       "      <td>307</td>\n",
       "      <td>Mixed Breed</td>\n",
       "    </tr>\n",
       "    <tr>\n",
       "      <th>39</th>\n",
       "      <td>307</td>\n",
       "      <td>Mixed Breed</td>\n",
       "    </tr>\n",
       "    <tr>\n",
       "      <th>40</th>\n",
       "      <td>265</td>\n",
       "      <td>Domestic Medium Hair</td>\n",
       "    </tr>\n",
       "    <tr>\n",
       "      <th>41</th>\n",
       "      <td>266</td>\n",
       "      <td>Domestic Short Hair</td>\n",
       "    </tr>\n",
       "    <tr>\n",
       "      <th>42</th>\n",
       "      <td>292</td>\n",
       "      <td>Siamese</td>\n",
       "    </tr>\n",
       "    <tr>\n",
       "      <th>43</th>\n",
       "      <td>Others</td>\n",
       "      <td>Jack Russell Terrier</td>\n",
       "    </tr>\n",
       "    <tr>\n",
       "      <th>44</th>\n",
       "      <td>307</td>\n",
       "      <td>Mixed Breed</td>\n",
       "    </tr>\n",
       "    <tr>\n",
       "      <th>45</th>\n",
       "      <td>307</td>\n",
       "      <td>Mixed Breed</td>\n",
       "    </tr>\n",
       "    <tr>\n",
       "      <th>46</th>\n",
       "      <td>265</td>\n",
       "      <td>Domestic Medium Hair</td>\n",
       "    </tr>\n",
       "    <tr>\n",
       "      <th>47</th>\n",
       "      <td>307</td>\n",
       "      <td>Mixed Breed</td>\n",
       "    </tr>\n",
       "    <tr>\n",
       "      <th>48</th>\n",
       "      <td>307</td>\n",
       "      <td>Mixed Breed</td>\n",
       "    </tr>\n",
       "    <tr>\n",
       "      <th>49</th>\n",
       "      <td>264</td>\n",
       "      <td>Domestic Long Hair</td>\n",
       "    </tr>\n",
       "  </tbody>\n",
       "</table>\n",
       "</div>"
      ],
      "text/plain": [
       "   BreedBins             BreedName\n",
       "0        299                 Tabby\n",
       "1        265  Domestic Medium Hair\n",
       "2        307           Mixed Breed\n",
       "3        307           Mixed Breed\n",
       "4        307           Mixed Breed\n",
       "5        266   Domestic Short Hair\n",
       "6        264    Domestic Long Hair\n",
       "7        307           Mixed Breed\n",
       "8        265  Domestic Medium Hair\n",
       "9        265  Domestic Medium Hair\n",
       "10       307           Mixed Breed\n",
       "11       264    Domestic Long Hair\n",
       "12       307           Mixed Breed\n",
       "13       265  Domestic Medium Hair\n",
       "14       307           Mixed Breed\n",
       "15    Others               Terrier\n",
       "16       266   Domestic Short Hair\n",
       "17       307           Mixed Breed\n",
       "18       307           Mixed Breed\n",
       "19       266   Domestic Short Hair\n",
       "20       307           Mixed Breed\n",
       "21       307           Mixed Breed\n",
       "22    Others             Greyhound\n",
       "23       307           Mixed Breed\n",
       "24       266   Domestic Short Hair\n",
       "25    Others               Persian\n",
       "26    Others               Persian\n",
       "27       266   Domestic Short Hair\n",
       "28    Others            Rottweiler\n",
       "29       266   Domestic Short Hair\n",
       "30    Others              Shih Tzu\n",
       "31       266   Domestic Short Hair\n",
       "32       307           Mixed Breed\n",
       "33       266   Domestic Short Hair\n",
       "34       266   Domestic Short Hair\n",
       "35       264    Domestic Long Hair\n",
       "36       265  Domestic Medium Hair\n",
       "37       265  Domestic Medium Hair\n",
       "38       307           Mixed Breed\n",
       "39       307           Mixed Breed\n",
       "40       265  Domestic Medium Hair\n",
       "41       266   Domestic Short Hair\n",
       "42       292               Siamese\n",
       "43    Others  Jack Russell Terrier\n",
       "44       307           Mixed Breed\n",
       "45       307           Mixed Breed\n",
       "46       265  Domestic Medium Hair\n",
       "47       307           Mixed Breed\n",
       "48       307           Mixed Breed\n",
       "49       264    Domestic Long Hair"
      ]
     },
     "execution_count": 62,
     "metadata": {},
     "output_type": "execute_result"
    }
   ],
   "source": [
    "df[['BreedBins', 'BreedName']].head(50)\n",
    "\n",
    "# 307 corresponds with Mixed Breed\n",
    "# All the less common breeds are grouped together in the 'Other' category\n",
    "# We may want to encode the less common breeds as well depending on the entropy of the column"
   ]
  },
  {
   "cell_type": "code",
   "execution_count": 63,
   "metadata": {},
   "outputs": [
    {
     "data": {
      "text/plain": [
       "Breed1\n",
       "307    5927\n",
       "266    3634\n",
       "265    1258\n",
       "299     342\n",
       "264     296\n",
       "       ... \n",
       "176       1\n",
       "214       1\n",
       "125       1\n",
       "123       1\n",
       "81        1\n",
       "Name: count, Length: 176, dtype: int64"
      ]
     },
     "execution_count": 63,
     "metadata": {},
     "output_type": "execute_result"
    }
   ],
   "source": [
    "# Investigate the frequency of the \"Breed1\" column\n",
    "df['Breed1'].value_counts()"
   ]
  },
  {
   "cell_type": "code",
   "execution_count": 64,
   "metadata": {},
   "outputs": [
    {
     "data": {
      "text/plain": [
       "Breed2\n",
       "0      10762\n",
       "307     1727\n",
       "266      599\n",
       "265      321\n",
       "299      138\n",
       "       ...  \n",
       "104        1\n",
       "36         1\n",
       "17         1\n",
       "257        1\n",
       "279        1\n",
       "Name: count, Length: 135, dtype: int64"
      ]
     },
     "execution_count": 64,
     "metadata": {},
     "output_type": "execute_result"
    }
   ],
   "source": [
    "# Investigate the frequency of the \"Breed2\" column\n",
    "df['Breed2'].value_counts()"
   ]
  },
  {
   "cell_type": "code",
   "execution_count": 65,
   "metadata": {},
   "outputs": [],
   "source": [
    "# The number of unique values in the \"Breed1\" and \"Breed2\" columns is quite high. \n",
    "# I suspect that Breed can be encompassed by FurLength and BreedPure since majority of pets \n",
    "# are mixed breed or domestic"
   ]
  },
  {
   "cell_type": "code",
   "execution_count": 66,
   "metadata": {},
   "outputs": [
    {
     "data": {
      "text/plain": [
       "Type            0\n",
       "Gender          0\n",
       "Color1          0\n",
       "Color2          0\n",
       "Color3          0\n",
       "MaturitySize    0\n",
       "FurLength       0\n",
       "Vaccinated      0\n",
       "Dewormed        0\n",
       "Sterilized      0\n",
       "Health          0\n",
       "AgeBins         0\n",
       "FeeBins         0\n",
       "BreedBins       0\n",
       "StateBins       0\n",
       "VideoAmtBins    0\n",
       "PhotoAmtBins    0\n",
       "QuantityBins    0\n",
       "BreedPure       0\n",
       "ColorAmt        0\n",
       "NameorNO        0\n",
       "dtype: int64"
      ]
     },
     "execution_count": 66,
     "metadata": {},
     "output_type": "execute_result"
    }
   ],
   "source": [
    "def process_df(df):\n",
    "    y = df['AdoptionSpeed']\n",
    "\n",
    "    # Column 32 onwards are all derived values or labels which have already been encoded\n",
    "    # We will keep BreedPure, ColorAmt and NameorNO though because the information may be lost when we remove the original columns\n",
    "    x = df.iloc[:,:34].drop('AdoptionSpeed', axis=1)\n",
    "\n",
    "    # We may deal with these columns later, they are difficult to encode/likely not useful for analysis\n",
    "    x = x.drop(['PetID', 'Name', 'Description', 'RescuerID'], axis=1)\n",
    "\n",
    "    # Remove numerical columns because they have been binned\n",
    "    x = x.drop(['Breed1', 'Breed2', 'Age', 'Quantity', 'Fee', 'State', 'VideoAmt', 'PhotoAmt'], axis=1)\n",
    "    return x, y\n",
    "\n",
    "x, y = process_df(df)\n",
    "\n",
    "# Find columns with missing values\n",
    "x.isnull().sum()\n",
    "\n",
    "# No missing values!"
   ]
  },
  {
   "cell_type": "code",
   "execution_count": 67,
   "metadata": {},
   "outputs": [
    {
     "data": {
      "image/png": "[encoded data removed]",
      "text/plain": [
       "<Figure size 640x480 with 1 Axes>"
      ]
     },
     "metadata": {},
     "output_type": "display_data"
    }
   ],
   "source": [
    "# Visualise distribution of the target AdoptionSpeed variable\n",
    "import matplotlib.pyplot as plt\n",
    "import seaborn as sns\n",
    "\n",
    "sns.barplot(x=y.value_counts().index, y=y.value_counts())\n",
    "plt.show()"
   ]
  },
  {
   "cell_type": "code",
   "execution_count": null,
   "metadata": {},
   "outputs": [],
   "source": [
    "# Visualise each column against the target AdoptionSpeed variable\n",
    "from statsmodels.graphics.mosaicplot import mosaic\n",
    "\n",
    "\n",
    "'''\n",
    "for column in x.columns:\n",
    "    # Sort the DataFrame\n",
    "    df_sorted = df.sort_values(by=['AdoptionSpeed', column])\n",
    "    mosaic(df_sorted, [column, 'AdoptionSpeed'], title=column)\n",
    "'''\n",
    "\n",
    "# Commenting this cell out because it takes some time to run and output clutters the screen\n",
    "# Uncomment to view the mosaic plots"
   ]
  },
  {
   "cell_type": "code",
   "execution_count": null,
   "metadata": {},
   "outputs": [],
   "source": [
    "# Focusing on the FeeBins plot, initially I wanted to make a variable \n",
    "# determining how \"expensive\" the pet is relatively to other pets of similar breed and age\n",
    "# However, the plot shows that a large proportion of pets are free, so there may be insufficient\n",
    "# data to make a meaningful comparison\n",
    "\n",
    "# Furthermore, considering the ethical requirements of the project, it may be inappropriate to\n",
    "# make a variable that could potentially influence the adoption of pets based on their price.\n",
    "# We may not want to encourage \"budget shopping\" for pets!"
   ]
  },
  {
   "cell_type": "code",
   "execution_count": 69,
   "metadata": {},
   "outputs": [
    {
     "data": {
      "text/plain": [
       "<Axes: >"
      ]
     },
     "execution_count": 69,
     "metadata": {},
     "output_type": "execute_result"
    },
    {
     "data": {
      "image/png": "[encoded data removed]",
      "text/plain": [
       "<Figure size 640x480 with 1 Axes>"
      ]
     },
     "metadata": {},
     "output_type": "display_data"
    }
   ],
   "source": [
    "# Test which columns are significant\n",
    "\n",
    "from sklearn.feature_selection import chi2\n",
    "from sklearn.preprocessing import OrdinalEncoder\n",
    "\n",
    "# Split into train and test sets\n",
    "from sklearn.model_selection import train_test_split\n",
    "x_train, x_test, y_train, y_test = train_test_split(x, y, test_size=0.2, random_state=0)\n",
    "\n",
    "# Ordinal encoding assumes that the data is ordinal, which is not the case for most columns in this dataset\n",
    "# However, this should be fine for the chi-squared test, which ignores the ordinal nature of the data\n",
    "# The chi-squared test is used to determine if two categorical variables are independent\n",
    "# If a column is independent of the target variable, it suggests that it is not useful for prediction\n",
    "\n",
    "x_ordinal = x_train.copy()\n",
    "oe = OrdinalEncoder()\n",
    "x_ordinal = oe.fit_transform(x_ordinal)\n",
    "\n",
    "chi_scores = chi2(x_ordinal, y_train)\n",
    "p_values = pd.Series(chi_scores[1],index = x.columns)\n",
    "p_values.sort_values(ascending = False , inplace = True)\n",
    "\n",
    "# Plot the p-values\n",
    "p_values.plot.bar()\n",
    "\n",
    "# It seems like we can drop the NameorNO and ColorAmt columns"
   ]
  },
  {
   "cell_type": "code",
   "execution_count": 70,
   "metadata": {},
   "outputs": [
    {
     "name": "stdout",
     "output_type": "stream",
     "text": [
      "7256.688658336328 0.0\n",
      "4802.6120231857485 0.0\n",
      "87.42699401226184 1.0362617441868428e-19\n"
     ]
    }
   ],
   "source": [
    "# Test independence between BreedPure and BreedBins\n",
    "from scipy.stats import chi2_contingency\n",
    "\n",
    "contingency = pd.crosstab(x_train['BreedBins'], x_train['BreedPure'])\n",
    "chi2, p, dof, ex = chi2_contingency(contingency)\n",
    "print(chi2, p)\n",
    "\n",
    "# Test independence between FurLength and BreedBins\n",
    "contingency = pd.crosstab(x_train['BreedBins'], x_train['FurLength'])\n",
    "chi2, p, dof, ex = chi2_contingency(contingency)\n",
    "print(chi2, p)\n",
    "\n",
    "# The columns are not independent as ex_trainpected, especially since BreedPure is derived from the Breed\n",
    "\n",
    "# Test independence between BreedPure and FurLength\n",
    "contingency = pd.crosstab(x_train['FurLength'], x_train['BreedPure'])\n",
    "chi2, p, dof, ex = chi2_contingency(contingency)\n",
    "print(chi2, p)\n",
    "\n",
    "# Actually, the columns are independent! In this case, let's keep all of them."
   ]
  },
  {
   "cell_type": "code",
   "execution_count": 71,
   "metadata": {},
   "outputs": [
    {
     "name": "stdout",
     "output_type": "stream",
     "text": [
      "Index(['NameorNO', 'Color1', 'FeeBins', 'BreedPure', 'VideoAmtBins',\n",
      "       'MaturitySize', 'Color3', 'ColorAmt', 'Gender', 'Color2', 'StateBins'],\n",
      "      dtype='object')\n"
     ]
    },
    {
     "data": {
      "image/png": "[encoded data removed]",
      "text/plain": [
       "<Figure size 640x480 with 1 Axes>"
      ]
     },
     "metadata": {},
     "output_type": "display_data"
    }
   ],
   "source": [
    "# Only two columns were dropped, let's see if we can reduce the number of columns by considering mutual information gain as well\n",
    "# Jason Brownlee: \"Mutual information is calculated between two variables and measures the reduction in uncertainty for one variable given a known value of the other variable.\"\n",
    "\n",
    "from sklearn.feature_selection import SelectKBest\n",
    "from sklearn.feature_selection import mutual_info_classif\n",
    "\n",
    "fs = SelectKBest(score_func=mutual_info_classif, k='all')\n",
    "fs.fit(x_ordinal, y_train)\n",
    "\n",
    "# Create a DataFrame of the scores\n",
    "mi_scores = pd.DataFrame(fs.scores_, index=x.columns, columns=['MI Score'])\n",
    "mi_scores.sort_values(by='MI Score', ascending=False, inplace=True)\n",
    "\n",
    "# Plot the scores\n",
    "mi_scores.plot.bar()\n",
    "\n",
    "# We can try eliminating columns with mutual information score less than 0.005\n",
    "to_drop = mi_scores.index[mi_scores['MI Score'] < 0.005]\n",
    "print(to_drop)"
   ]
  },
  {
   "cell_type": "code",
   "execution_count": 72,
   "metadata": {},
   "outputs": [
    {
     "name": "stdout",
     "output_type": "stream",
     "text": [
      "0.2750916972324108\n"
     ]
    }
   ],
   "source": [
    "# Let's test the performances of feature selected datasets with logistic regression\n",
    "# Linear regression is appropriate here because the AdoptionSpeed variable we're predicting\n",
    "# is ordinal in nature\n",
    "from sklearn.linear_model import LinearRegression\n",
    "from sklearn.metrics import accuracy_score\n",
    "\n",
    "# First, test with the entire dataset\n",
    "\n",
    "# Hot encode the data because logistic regression assumes that the data is continuous\n",
    "from sklearn.preprocessing import OneHotEncoder\n",
    "\n",
    "x_hot_train = x_train.copy()\n",
    "ohe = OneHotEncoder()\n",
    "x_hot_train = ohe.fit_transform(x_hot_train)\n",
    "\n",
    "x_hot_test = x_test.copy()\n",
    "x_hot_test = ohe.transform(x_hot_test)\n",
    "\n",
    "# Train the model\n",
    "model = LinearRegression()\n",
    "model.fit(x_hot_train, y_train)\n",
    "\n",
    "# Make predictions\n",
    "y_pred = model.predict(x_hot_test)\n",
    "# Round the predictions to the nearest integer\n",
    "y_pred = np.round(y_pred)\n",
    "\n",
    "# Evaluate the model\n",
    "accuracy = accuracy_score(y_test, y_pred)\n",
    "print(accuracy)"
   ]
  },
  {
   "cell_type": "code",
   "execution_count": 73,
   "metadata": {},
   "outputs": [
    {
     "name": "stdout",
     "output_type": "stream",
     "text": [
      "0.2750916972324108\n"
     ]
    }
   ],
   "source": [
    "# Now, test with the feature selected dataset from the chi-squared test\n",
    "x_train_chi = x_train.drop(['NameorNO', 'ColorAmt'], axis=1)\n",
    "x_test_chi = x_test.drop(['NameorNO', 'ColorAmt'], axis=1)\n",
    "\n",
    "x_hot_train_chi = x_train_chi.copy()\n",
    "x_hot_train_chi = ohe.fit_transform(x_hot_train_chi)\n",
    "\n",
    "x_hot_test_chi = x_test_chi.copy()\n",
    "x_hot_test_chi = ohe.transform(x_hot_test_chi)\n",
    "\n",
    "# Train the model\n",
    "model = LinearRegression()\n",
    "model.fit(x_hot_train_chi, y_train)\n",
    "\n",
    "# Make predictions\n",
    "y_pred = model.predict(x_hot_test_chi)\n",
    "# Round the predictions to the nearest integer\n",
    "y_pred = np.round(y_pred)\n",
    "\n",
    "# Evaluate the model\n",
    "accuracy = accuracy_score(y_test, y_pred)\n",
    "print(accuracy)\n",
    "\n",
    "# Very similar performance"
   ]
  },
  {
   "cell_type": "code",
   "execution_count": 74,
   "metadata": {},
   "outputs": [
    {
     "name": "stdout",
     "output_type": "stream",
     "text": [
      "0.2720906968989663\n"
     ]
    }
   ],
   "source": [
    "# Finally, test with the feature selected dataset from the mutual information gain test\n",
    "x_train_mi = x_train.drop(to_drop, axis=1)\n",
    "x_test_mi = x_test.drop(to_drop, axis=1)\n",
    "\n",
    "x_hot_train_mi = x_train_mi.copy()\n",
    "x_hot_train_mi = ohe.fit_transform(x_hot_train_mi)\n",
    "\n",
    "x_hot_test_mi = x_test_mi.copy()\n",
    "x_hot_test_mi = ohe.transform(x_hot_test_mi)\n",
    "\n",
    "# Train the model\n",
    "model = LinearRegression()\n",
    "model.fit(x_hot_train_mi, y_train)\n",
    "\n",
    "# Make predictions\n",
    "y_pred = model.predict(x_hot_test_mi)\n",
    "# Round the predictions to the nearest integer\n",
    "y_pred = np.round(y_pred)\n",
    "\n",
    "# Evaluate the model\n",
    "accuracy = accuracy_score(y_test, y_pred)\n",
    "print(accuracy)\n",
    "\n",
    "# 0.7% worse than the model with all features - might as well keep all the features since dataset isn't too large"
   ]
  },
  {
   "cell_type": "code",
   "execution_count": 75,
   "metadata": {},
   "outputs": [
    {
     "name": "stdout",
     "output_type": "stream",
     "text": [
      "0.3211070356785595\n"
     ]
    }
   ],
   "source": [
    "# Linear regression seems to be performing quite poorly, let's try a different model\n",
    "# We can try a decision tree model, which is appropriate for classification problems\n",
    "\n",
    "from sklearn.tree import DecisionTreeClassifier\n",
    "\n",
    "# Train the model\n",
    "model = DecisionTreeClassifier()\n",
    "model.fit(x_ordinal, y_train)\n",
    "\n",
    "# Make predictions\n",
    "x_ordinal_test = x_test.copy()\n",
    "x_ordinal_test = oe.transform(x_ordinal_test)\n",
    "y_pred = model.predict(x_ordinal_test)\n",
    "\n",
    "# Evaluate the model\n",
    "accuracy = accuracy_score(y_test, y_pred)\n",
    "print(accuracy)\n",
    "\n",
    "# The decision tree model performs much better than the linear regression model (0.3221)"
   ]
  },
  {
   "cell_type": "code",
   "execution_count": 76,
   "metadata": {},
   "outputs": [
    {
     "name": "stdout",
     "output_type": "stream",
     "text": [
      "0.3907969323107703\n"
     ]
    }
   ],
   "source": [
    "# Try a random forest model\n",
    "from sklearn.ensemble import RandomForestClassifier\n",
    "\n",
    "# Train the model\n",
    "model = RandomForestClassifier()\n",
    "model.fit(x_ordinal, y_train)\n",
    "\n",
    "# Make predictions\n",
    "y_pred = model.predict(x_ordinal_test)\n",
    "\n",
    "# Evaluate the model\n",
    "accuracy = accuracy_score(y_test, y_pred)\n",
    "print(accuracy)\n",
    "\n",
    "# The random forest model performs even better than the decision tree model (0.3881)"
   ]
  },
  {
   "cell_type": "code",
   "execution_count": 77,
   "metadata": {},
   "outputs": [
    {
     "name": "stdout",
     "output_type": "stream",
     "text": [
      "0.39179726575525176\n"
     ]
    }
   ],
   "source": [
    "# Try a gradient boosting model\n",
    "from sklearn.ensemble import GradientBoostingClassifier\n",
    "\n",
    "# Train the model\n",
    "model = GradientBoostingClassifier()\n",
    "model.fit(x_ordinal, y_train)\n",
    "\n",
    "# Make predictions\n",
    "y_pred = model.predict(x_ordinal_test)\n",
    "\n",
    "# Evaluate the model\n",
    "accuracy = accuracy_score(y_test, y_pred)\n",
    "print(accuracy)\n",
    "\n",
    "# The gradient boosting model performs the best so far (0.3914)"
   ]
  },
  {
   "cell_type": "code",
   "execution_count": 97,
   "metadata": {},
   "outputs": [
    {
     "name": "stdout",
     "output_type": "stream",
     "text": [
      "0.39713237745915303\n"
     ]
    }
   ],
   "source": [
    "# Hmm, since classification models seem to be performing well, let's try a logistic regression model too\n",
    "from sklearn.linear_model import LogisticRegression\n",
    "\n",
    "# Train the model\n",
    "model = LogisticRegression(max_iter=1000)\n",
    "model.fit(x_hot_train, y_train)\n",
    "\n",
    "# Make predictions\n",
    "y_pred = model.predict(x_hot_test)\n",
    "\n",
    "# Evaluate the model\n",
    "accuracy = accuracy_score(y_test, y_pred)\n",
    "print(accuracy)\n",
    "\n",
    "# Turns out logistic regression performs even better! (0.3965)\n",
    "# Perhaps the AdoptionSpeed variable acts more like a nominal variable \n",
    "# since bins are not linear?"
   ]
  },
  {
   "cell_type": "code",
   "execution_count": null,
   "metadata": {},
   "outputs": [
    {
     "name": "stdout",
     "output_type": "stream",
     "text": [
      "(8132, 49)\n",
      "(6861, 49)\n"
     ]
    }
   ],
   "source": [
    "# Also check if it makes sense to split the dataset into dogs (Type = 1) and cats (Type = 2)\n",
    "# because the distributions of the target variable may be different for each type\n",
    "\n",
    "mask = df['Type'] == 1\n",
    "dogs = df.loc[mask, :]\n",
    "cats = df.loc[~mask, :]\n",
    "print(dogs.shape)\n",
    "print(cats.shape)"
   ]
  },
  {
   "cell_type": "code",
   "execution_count": 95,
   "metadata": {},
   "outputs": [
    {
     "name": "stdout",
     "output_type": "stream",
     "text": [
      "0.4074984634296251\n"
     ]
    }
   ],
   "source": [
    "x_dogs, y_dogs = process_df(dogs)\n",
    "\n",
    "# Split into train and test sets\n",
    "x_train_dogs, x_test_dogs, y_train_dogs, y_test_dogs = train_test_split(x_dogs, y_dogs, test_size=0.2, random_state=0)\n",
    "\n",
    "# Hot encode the data\n",
    "x_hot_train_dogs = x_train_dogs.copy()\n",
    "x_hot_train_dogs = ohe.fit_transform(x_hot_train_dogs)\n",
    "\n",
    "x_hot_test_dogs = x_test_dogs.copy()\n",
    "x_hot_test_dogs = ohe.transform(x_hot_test_dogs)\n",
    "\n",
    "# Fit the linear regression model\n",
    "model = LogisticRegression(max_iter=1000)\n",
    "model.fit(x_hot_train_dogs, y_train_dogs)\n",
    "\n",
    "# Test the performance\n",
    "y_pred_dogs = model.predict(x_hot_test_dogs)\n",
    "y_pred_dogs = np.round(y_pred_dogs)\n",
    "\n",
    "accuracy_dogs = accuracy_score(y_test_dogs, y_pred_dogs)\n",
    "print(accuracy_dogs)\n",
    "\n",
    "# Accuracy is slightly better!"
   ]
  },
  {
   "cell_type": "code",
   "execution_count": 96,
   "metadata": {},
   "outputs": [
    {
     "name": "stdout",
     "output_type": "stream",
     "text": [
      "0.37509104151493083\n"
     ]
    }
   ],
   "source": [
    "# Now, test with cats\n",
    "x_cats, y_cats = process_df(cats)\n",
    "\n",
    "# Split into train and test sets\n",
    "x_train_cats, x_test_cats, y_train_cats, y_test_cats = train_test_split(x_cats, y_cats, test_size=0.2, random_state=0)\n",
    "\n",
    "# Hot encode the data\n",
    "x_hot_train_cats = x_train_cats.copy()\n",
    "x_hot_train_cats = ohe.fit_transform(x_hot_train_cats)\n",
    "\n",
    "x_hot_test_cats = x_test_cats.copy()\n",
    "x_hot_test_cats = ohe.transform(x_hot_test_cats)\n",
    "\n",
    "# Fit the linear regression model\n",
    "model = LogisticRegression(max_iter=1000)\n",
    "model.fit(x_hot_train_cats, y_train_cats)\n",
    "\n",
    "# Test the performance\n",
    "y_pred_cats = model.predict(x_hot_test_cats)\n",
    "y_pred_cats = np.round(y_pred_cats)\n",
    "\n",
    "accuracy_cats = accuracy_score(y_test_cats, y_pred_cats)\n",
    "print(accuracy_cats)\n",
    "\n",
    "# Oh, accuracy suffers for cats though\n",
    "# Splitting into dogs and cats may not be a good idea"
   ]
  },
  {
   "cell_type": "code",
   "execution_count": 102,
   "metadata": {},
   "outputs": [
    {
     "name": "stdout",
     "output_type": "stream",
     "text": [
      "accuracy for gradient boosting model: 0.38979659886628876\n",
      "accuracy for logistic regression model: 0.3974658219406469\n"
     ]
    }
   ],
   "source": [
    "# Test gradient boosting and logistic regression models with dropped columns from chi-squared test\n",
    "x_train_chi = x_train.drop(['NameorNO', 'ColorAmt'], axis=1)\n",
    "x_test_chi = x_test.drop(['NameorNO', 'ColorAmt'], axis=1)\n",
    "\n",
    "x_ordinal_train_chi = x_train_chi.copy()\n",
    "x_ordinal_train_chi = oe.fit_transform(x_ordinal_train_chi)\n",
    "\n",
    "x_ordinal_test_chi = x_test_chi.copy()\n",
    "x_ordinal_test_chi = oe.transform(x_ordinal_test_chi)\n",
    "\n",
    "# Train gradient boosting model\n",
    "model = GradientBoostingClassifier()\n",
    "model.fit(x_ordinal_train_chi, y_train)\n",
    "\n",
    "# Make predictions\n",
    "y_pred = model.predict(x_ordinal_test_chi)\n",
    "\n",
    "# Evaluate the model\n",
    "accuracy = accuracy_score(y_test, y_pred)\n",
    "print(f\"accuracy for gradient boosting model: {accuracy}\")\n",
    "\n",
    "# Train logistic regression model\n",
    "x_hot_train_chi = x_train_chi.copy()\n",
    "x_hot_train_chi = ohe.fit_transform(x_hot_train_chi)\n",
    "\n",
    "x_hot_test_chi = x_test_chi.copy()\n",
    "x_hot_test_chi = ohe.transform(x_hot_test_chi)\n",
    "\n",
    "model = LogisticRegression(max_iter=1000)\n",
    "model.fit(x_hot_train_chi, y_train)\n",
    "\n",
    "# Make predictions\n",
    "y_pred = model.predict(x_hot_test_chi)\n",
    "\n",
    "# Evaluate the model\n",
    "accuracy = accuracy_score(y_test, y_pred)\n",
    "print(f\"accuracy for logistic regression model: {accuracy}\")\n",
    "\n",
    "# Gradient boosting: 0.3914 (all features), 0.3898 (chi-squared test) \n",
    "# Logistic regression: 0.3965 (all features), 0.3975 (chi-squared test)"
   ]
  },
  {
   "cell_type": "code",
   "execution_count": 103,
   "metadata": {},
   "outputs": [
    {
     "name": "stdout",
     "output_type": "stream",
     "text": [
      "accuracy for gradient boosting model: 0.3871290430143381\n",
      "accuracy for logistic regression model: 0.3867955985328443\n"
     ]
    }
   ],
   "source": [
    "# Test gradient boosting and logistic regression models with dropped columns from mutual information gain test\n",
    "x_train_mi = x_train.drop(to_drop, axis=1)\n",
    "x_test_mi = x_test.drop(to_drop, axis=1)\n",
    "\n",
    "x_ordinal_train_mi = x_train_mi.copy()\n",
    "x_ordinal_train_mi = oe.fit_transform(x_ordinal_train_mi)\n",
    "\n",
    "x_ordinal_test_mi = x_test_mi.copy()\n",
    "x_ordinal_test_mi = oe.transform(x_ordinal_test_mi)\n",
    "\n",
    "# Train gradient boosting model\n",
    "model = GradientBoostingClassifier()\n",
    "model.fit(x_ordinal_train_mi, y_train)\n",
    "\n",
    "# Make predictions\n",
    "y_pred = model.predict(x_ordinal_test_mi)\n",
    "\n",
    "# Evaluate the model\n",
    "accuracy = accuracy_score(y_test, y_pred)\n",
    "print(f\"accuracy for gradient boosting model: {accuracy}\")\n",
    "\n",
    "# Train logistic regression model\n",
    "x_hot_train_mi = x_train_mi.copy()\n",
    "x_hot_train_mi = ohe.fit_transform(x_hot_train_mi)\n",
    "\n",
    "x_hot_test_mi = x_test_mi.copy()\n",
    "x_hot_test_mi = ohe.transform(x_hot_test_mi)\n",
    "\n",
    "model = LogisticRegression(max_iter=1000)\n",
    "model.fit(x_hot_train_mi, y_train)\n",
    "\n",
    "# Make predictions\n",
    "y_pred = model.predict(x_hot_test_mi)\n",
    "\n",
    "# Evaluate the model\n",
    "accuracy = accuracy_score(y_test, y_pred)\n",
    "print(f\"accuracy for logistic regression model: {accuracy}\")\n",
    "\n",
    "# Gradient boosting: 0.3914 (all features), 0.3898 (chi-squared test), 0.3871 (mutual information gain test)\n",
    "# Logistic regression: 0.3965 (all features), 0.3975 (chi-squared test), 0.3868 (mutual information gain test)\n",
    "# The logistic regression model with the chi-squared test feature selected dataset performs the best"
   ]
  },
  {
   "cell_type": "code",
   "execution_count": 104,
   "metadata": {},
   "outputs": [
    {
     "name": "stdout",
     "output_type": "stream",
     "text": [
      "                    Name                                        Description\n",
      "4977              Vanila  / Adorable local mix Persian kitten looking fo...\n",
      "14176          Cliff-ord  Clifford and his 3 siblings need a home. Mothe...\n",
      "2137   â¥ ..Teddy.. â¥  Introducing Teddy! ♥ Adult male Shih Tzu, 1+ y...\n",
      "14768               Kiss  Poor Kiss was rescued off a road while he/she ...\n",
      "14437                Sam  Sam has lots of love to give! He even has a lo...\n"
     ]
    }
   ],
   "source": [
    "# Now let's move on with processing the text data!\n",
    "text_train_x = df[['Name','Description']].iloc[x_train.index]\n",
    "text_test_x = df[['Name','Description']].iloc[x_test.index]\n",
    "\n",
    "print(text_train_x.head())"
   ]
  },
  {
   "cell_type": "code",
   "execution_count": 105,
   "metadata": {},
   "outputs": [
    {
     "name": "stdout",
     "output_type": "stream",
     "text": [
      "                    Name                                        Description\n",
      "4977              vanila  / adorable local mix persian kitten looking fo...\n",
      "14176          cliff-ord  clifford and his 3 siblings need a home. mothe...\n",
      "2137   â¥ ..teddy.. â¥  introducing teddy! ♥ adult male shih tzu, 1+ y...\n",
      "14768               kiss  poor kiss was rescued off a road while he/she ...\n",
      "14437                sam  sam has lots of love to give! he even has a lo...\n"
     ]
    }
   ],
   "source": [
    "# The text contains a lot of special characters and some typos that we need to clean up\n",
    "def clean_text(text):\n",
    "    text = text.str.lower()\n",
    "    text = text.str.replace(r'[^a-z\\s0-9]', '')\n",
    "    text = text.str.replace(r'\\s+', ' ')\n",
    "    return text\n",
    "\n",
    "text_train_x['Name'] = clean_text(text_train_x['Name'])\n",
    "text_train_x['Description'] = clean_text(text_train_x['Description'])\n",
    "\n",
    "print(text_train_x.head())\n",
    "\n",
    "text_test_x['Name'] = clean_text(text_test_x['Name'])\n",
    "text_test_x['Description'] = clean_text(text_test_x['Description'])"
   ]
  },
  {
   "cell_type": "code",
   "execution_count": 114,
   "metadata": {},
   "outputs": [
    {
     "name": "stdout",
     "output_type": "stream",
     "text": [
      "{'too!', 'pasar.', 'rescues,', 'ragdoll', 'kedah.', 'fax:', 'kidney.', 'lassie,', 'stress.', 'car!', 'script.', '1female(black).', 'girl....area', 'along..any', '8\"(h)],', 'days!', 'sleeping.', 'feet/lap/shoulders.', 'mundar', 'fast-', 'neighbourhood.we', '(ie', 'friend\".', 'information!', 'them).', 'smpai', 'selatan.(self-collect)', 'face,', 'rat!', 'is--', 'living.', 'pet....please', 'found,', 'kwin', 'choices.', 'jolly,', 'active/young', '6pm.', 'thanks.!', 'mork', 'doggie.....he', \"'hump'\", 'that\"s', 'not-too-bad', 'libby', 'mah~~).', 'balls...very', 'nutrients,', 'died)', 'persion', 'social.', 'dachsun', '\"fish\"', '4)在约定好之后，我能够登门看看狗狗', 'betul....skang', '(non-negotiable)', 'e-mails', 'good).', 'mom...she', 'area..', 'juu', 'sylvester,', 'emmet.', 'girl(brown', 'enquiries,pls', 'guna', '***', 'cny!!', 'neighbourhood', 'world.their', 'chance?', 'yup,', 'softer.', 'exceptions.', 'split-faced', '2.always', 'here,&', 'tan).', 'mouth,', 'hhaha...', 'me...after', 'home.anyone', 'growth.', '¬', 'negotiable,', 'three!', 'iv', 'scabies,', 'sensitive(itching)', 'feathers.', 'sunway,', 'medicine!!', 'brickfields', 'mandarin,', 'kaki...', 'playful.', 'pikir', 'lastest', 'that,', '..please', 'homezzzzzz~', 'adorable..really', 'healthier.', '8.30pm', 'aphrodite),', 'accostumed', 'spayed.i', 'playful.pls', '#2', '4paws', 'more,', 'patience,', 'butterworth.', '65)', 'tail..', '28/3/10.', 'choky', '12am', '(again).', 'home.thanks!', 'malnourishment.', '**********************', 'hello!!', 'klang.', 'question,', 'givin', 'catelyn', 'rempits', 'memastikan', 'angle.', 'choice!', 'irene(pls', 'jeky', 'food.a', 'perdana', 'potty.', 'shar', 'sensitive).', 'boots:', 'pals.', 'newspaper.', 'keiko.', 'prevention)', 'agreed..bumble', 'buang.', 'march.', 'nooreen', 't-rex..', \"subang's\", 'merbok.', 'sos:', \"hammy's\", 'tidor.', '3)are', 'slimmer.', 'pots.', '2pm.', 'her...thank', 'action.', 'caleb', 'hujan', 'activate,', 'membesar', 'sigh!', 'sinar,kepong,today', 'theatre.', 'rough.', 'sendiri/', '*moo', 'shoplots.', 'day..', 'below)', 'expense).', 'yoshee:', 'puppy,female,3', 'digigit', 'spaying/vaccinations', 'ank', 'adopti.', 'shepard', 'ibu:russian', '(pinscher', '(whatsapp,', 'malays,', 'monitoring.', 'container*', '\"rambo\"', 'petron', \"action'\", 'frigga,', 'p/s:im', \"tyre.doesn't\", 'commit.', 'japped.', 'sani', '4-5,', 'mikey).', 'neighbour.', 'furthermore,', 'tasha,', 'selat', 'constraints-small', 'backstory:', 'loving-est,', 'directly:', 'long…some', 'teehee.', 'cergas..manja', '\"proper', 'truely', 'find.', 'struggling~', 'enuff..', 'rm..', 'affection~', 'jagaan', '5-year-old.', 'space.', 'place.', 'upright.', '15kg+/-.', 'hoppy', 'ma.', '肥肥', 'senawang', '\"back', 'bi-monthly', 'rini', 'penjaga', 'low-cost', 'yourself..', 'five-week-old', '(misha)', 'breed,both', 'molek!', 'genting,', 'zander', 'kualalumpur(at).com.', 'tico', 'people.likes', 'ampant', 'carz,', 'aiko', '(budget', 'perangai', 'smk,therefore', 'and,we', 'you,please.the', 'besar.', 'deal.', 'mudah.', '2-4', 'quit,', 'puddle.', 'her,training', 'chubba', '26/4/).', 'healthy)about', 'experience)', 'possible,', \"'follower'\", 'fur..', 'kinta.', 'cair', 'dirumah', 'charged.', '-health', 'cat.great', 'diletakkan', 'immunity,', 'wqs', 'affectionate..', 'left,lucky', 'ex-master', 'ti-girl', 'sepanjang', '(forever).', 'paws..if', 'home.approximately', 'botak', 'mpk..', 'daddy/brother', 'amanda', 'treats!', 'xox', 'silent.', 'sanker.', 'beradik', '小猫领养', 'buying.', 'female.i', 'bulu', 'pitbull/dad', 'hug,', 'contact(', 'living,', 'kittens:', 'unfortunately,', 'dirujuk', 'beautiful.she', 'and/or', 'khloe', 'money)', 'ok,they', 'voice!!', 'times..', 'yes,adopting', 'cheek-rubs', 'behave+', 'ss4', 'cat.looking', '&they', 'rio', 'stray*', 'pic...', 'gray,', 'london', 'issued-physically', 'bright!', 'qute..', 'sweeetttt.....', 'haded', 'scratchbox,', '#please', 'emil', 'entirely.', 'vet...', 'nothin', 'anyone!).', 'for?', 'lover/owners.', 'bersalin..so', 'spca?', 'passersby.', 'pwease~~~', 'brandee', 'brand.', 'expected.', 'alot.', 'oug,', 'crokett', 'amy', 'threatened,', 'scaling,', 'month.', 'sinbad', 'noodle.', 'pets!', 'goner.', 'miscarried,', 'porch.', 'jo,', '领养前请慎重考虑', 'bergambar.', 'cage/pet', '(p/s', 'steady.', 'spasms).', 'doctor.', 'puppies!', 'kl/', 'believe,', 'inu', '真的超乖,对猫对人都友善.', 'sekadar', 'suzie', '(glad', '-rescuer', 'whiskas,', 'yeast.', 'ktaj', '=^.^=', 'innocence.new', 'desperately.', 'baibai', 'sofi,', 'beruntong', 'trainable..', 'kedai', '(japanese', 'housing.', 'kitten,playful', 'lol)', 'mate.', 'long.', 'furiously.', 'donovan', 'instantly.please', 'beautiful!', '-medical:no', 'kitchen.', 'healty,playfull,handsome', 'roadrunner.', 'kelly.', 'lumpur。', '\"meow\"', 'addressed.', 'photos.', \"'golden\", 'shave.', 'no.1', 'cuties.', 'nyanyaw', '-8.30pm', 'tabitha', 'vigilant,', 'vacination.', '+gray', '__77_29_.', 'info,', 'reading?', 'tray!', '9pm)', '(usj).', 'kitten.it', '(/09)through', 'neutere', '9kg.', 'kontit', 'gheeza,', 'daisy,', 'friendliness..', 'kesejukan...', 'old,very', 'message.', 'lia', 'homes!', 'eligibility.', 'trauma...scared...since', '去虫', 'muslim', 'gift.', 'resemerry', 'tavi', 'gretel', 'fix.', 'connie,', '2-by-2.', 'puspa.', 'adorable!', 'hazel-geen', 'ni..sy', 'bulatan', '\"one\"', 'usj7.', 'rare,', 'year(for', ':3', 'pkk', 'year-old', '8.kg', 'shankly', '2-tier', '______________________________________________', 'kenari,', 'around..prefer', 'hesitate)', 'first-time', '4.current', 'ferringhi.', 'ubat,', 'minggu', 'enthusiasm,', 'toby.', 'mouth!it', 'thought!', 'him)at', 'state.', \"aj'\", 'yumi', 'compulsory.', 'dogs,got', 'symptoms.', '5pm', 'warning,', 'furbee,', '5o', 'children,', 'born).', 'wagyu,', 'heart,', 'word,', 'usia.lagi', 'eyes.every', 'moomoo', 'dana', 'kata.', 'his/her', 'charming.', 'infected.', 'belgian', '-found', 'friskies.', 'terengganu', 'maltese,', 'pinscher.', 'noice', 'ditempat', 'campaign.', 'mischevious', 'zozo', 'walk.', 'outside.they', 'permenant', 'all?\".', 'taynton', 'beagle)', 'sonata,', 'nampak..', 'nonny', 'jump..he', 'kejadian', 'semalam,', \"potatoes'\", 'indoor-', 'gm(1', 'mengganggu', 'well,love', '我們從狗结扎到患乳癌要切除,', 'safely,', 'deworming,', 'smile?', 'gooby', 'disguise,', 'him..thanks', 'rescue/adopted', 'shed.', 'trap-neuter-and-release.', '*lately', 'single/married)', 'indoor!this', 'girl.if', '21st-august-).', 'temple.he', 'jali,', 'me../.', 'enought', 'nenen.', '\".', 'dogs/puppy', ',thank', 'bermurah', 'crave.', '(24', 'regal.', 'mpaj', 'to)scared', 'status:', '17/8/12', 'adopter(s)', '(rescuer', 'sms-es', 'rona', '结扎费用领养人缴付(可以再商量)', 'sell,', \"puffy's\", 'parking,', '6weeks-old', \"'old\", 'sweetheart,', 'disisihkan..', 'always)', 'unplayful', 'adorable,', '(miko', 'so...thus', 'owner(s)', 'dad(s)', 'menangis', 'omg..', 'city.', 'cars,', 'tayton.', '..and', 'stages.', 'stroked,', ':)pls', 'cari', 'eyes!).', \"scooby's\", '【', 'cats.prefer', 'multi', 'keterangan', 'kiki(black', 'smiley,', 'isolation,', 'kittens(rosie', 'bayan', '11th', 'kilos)...so', 'mandarin.', 'blanket,', 'existance', 'gnawl', '6mths', 'experience,', 'temporaly', 'malay.', 'camera.can', 'abangnya', 'watchful,', 'indoors...gets', 'id:', 'she...', 'gregarious,', \"strays'\", 'years+', '现在要靠大家幫忙,', '\"clingy\"', 'solid,', '7.kg', 'right)', 'arrora.', '-minor', 'tai', 'bangladeshi', '(ekor', 'booklet.', '(search', 'deciding!', 'boy,he', 'time.looking', '10mins', 'owner/', 'montel', 'food...', 'lurus,', '2.make', '(*kiss*)', '(結紮）', 'syringe)', 'muhd', 'peoples.', 'usj14,', '(cuma', 'tip-top', 'bath.', 'description:', 'email).', 'chuweet', '-start', 'dibela', 'royale', 'bits!', 'doll,', 'respect.', 'please].', '\"elmo\"', '快來電，我在等你領養耶~', '(oct', 'mili', 'her..i', 'healthy..', '2-1-,', 'death!', 'cos', 'laugh.', 'thor', 'sayangkan', 'elevator.', 'gaya)', 'cutie?', 'vaccination*', 'skrg', 'boris', 'course!)', 'jap.', 'petfinder.my)', 'night,appreciate', 'dog.it', 'gastro-intestinal', 'doesnt', 'tower,', 'formula.', '\"harsh\",', '10/5/', 'night,', 'virus,', '(haha),', 'female.call', 'council.', 'notty...', 'there....for', 'sratch', 'pityful!', '(can)', '(kail).', 'datuk.', 'isnt', 'don;t', 'all,', 'sight!', 'carers!', 'top.', 'dr.wong', 'drinks,', '(tomtom', 'dyed!!', 'bleed.', 'fold,', 'owner..please,', 'suki..the', 'shifted.', 'prefered', 'bulan,litter', 'active,', 'her..the', 'small(mini)', '3+years', '-diet', 'her,well', 'demodex', \"students'\", 'claim.', 'apply:', 'notices.', 'iams/royal', 'we’re', 'bro...and', 'puppies.they', 'that,they', 'jem', 'jaga.', 'benefits.', '(transportation', 'raining,', '#adoptrobbie', 'shops.', 'post-walk.', 'johor,in', 'suerly', 'spitz,', 'punya', '//ruby', 'lalu', 'oj', 'housemate,', 'loveeee', 'nearby,', 'kerenah..', 'dipandang', 'eater,', 'keep.', 'wounds,', 'haru.', 'lol).', 'ago...nearly', 'age-5', 'jangkamasa', 'vaccine,', '(handsome', 'masa.', 'morning...with', 'kembali', '♦loves', 'malaysia!', 'pax.', 'trained..they', 'usm.', 'talkative,', 'poise!', 'unfortunatly', 'beach,', '(ie.', '(sebab', 'rice)', 'currently..', 'non-stop.', 'yuki', 'cloths.', 'abih', 'more!)', '25th', 'soyoung.', 'lela', 'nsk', 'kadang2..so', 'valley!:)', 'self-trained', \"adopter,i'm\", 'unit,', 'newton:', 'him.i', 'tony.', 'friends.', 'elsie~', 'notified.', '\"m\"', 'with.remember', 'crockett', 'monday,', 'siamese-persian', \"''how\", 'bok', 'active.can', '-characteristic:', 'temperement', 'owner,a', 'sociable,', 'church.', 'terrier)', 'josephine.', 'litter..', 'moomoo(b&w', 'fostet', 'diam.', 'plum.', 'vemal', 'bad.', 'jusco', 'langat,', '/sms', 'cute,funny,active', 'chuwed', '15kg.', 'bak', 'wasap', \"'fosterer'\", 'toilet),', 'porgi', 'dodo,', 'so..here', 'adorable,toilet', 'injected.', 'bowl,purina', 'road-kills', 'momo.', '\"athi\"', 'resting,', 'kristy.', 'msg/', '(chocolate', 'becok..', 'undergarments.', 'esy', 'bobbed.', 'lrt.', 'mandi', 'foong', 'religion.', 'februrary', 'pride.', 'details..', 'starved,', 'accidentally,', 'bujang', 'sgt.', 'bercadang', 'playful;', 'clingyness.', 'them.you', 'fluctuating.', '4)', 'month，', 'forever,', 'agility.', 'allegic', 'ziggy', 'intrested.give', 'guess).', 'kes', 'photo).', 'old..active,', '-beautiful', 'lashina', 'older,', 'lover......', '~)', 'lucky,i', '*allow', 'clifford', 'adoption:', '(boy', 'dog.plus', 'campus.', 'belief.', 'kalau', 'owner~', 'spotter.', 'serious。', 'sofi', 'deworming...', 'here....', 'fren', '性别:母(已经结扎)', 'properly.', 'avatar)', 'her).', 'lim).', '(mka', '😇🐶🐶', \"dr's\", 'mat,', 'jumpe', 'grace,.', 'driver.', 'gift:', 'bandar', 'weak.they', 'brown-black', 'oriented.', 'cheras..', \"accept'\", 'naughty...', 'cheryl', 'location,', 'bi-colour.', 'eczema,', 'monoboy', 'lucky?', 'faith.', 'sunshine!', 'nyalakan', 'ivan', 'beli', 'morgan', 'temperory', ':).', 'normal,', 'babies)', 'issue.currently', 'sit,', 'authority.', 'sofa.', 'sadly,', 'relocated.', 'costs)', 'main.', 'cataracts,', 'themselves,', 'maxi.', '♦female,', 'dude,', 'dirumah.', '(sand)', 'cats.you', 'drainage..female', 'dog..and', 'boarded.', 'details,manythanks!', \"sleep'.\", \"australia's\", 'unfrtunately', '7)love', 'dayyen', 'cat)', 'playtime)', 'tamans', 'atwhat', '7.5kg', 'taiping,ipoh', 'dog/people', 'ability.', 'theyre', 'well.we', 'octo,', 'puppy....no', 'hands,,,,,,', 'ni', '(cream', 'old.muffin', 'hound?\"', '*kitten', 'jinn,', '8/:', '(save', 'lazy...they', 'well-nurtured', 'bitch)', 'huhuh', 'spots.', '\"mr', 'bloodlines.', 'tail.it', 'midvalley', 'morning,', 'humans)', '8)during', 'thambhi(ct)', 'gorverment', 'deworming.', 'mengelakkan', 'behavved.she', '(apparently', 'fear.she', '********************', '请帮忙分享尽快给它寻找自己的家庭，功德无量', 'rm70)', 'dedication.', '(begging....they', 'shoptlots', 'ago.she', '(while', 'seksyen', 'features,', 'dorg..lg', '*****we', 'gorgeous,', '(fart', 'eleven.', '适合放在院子看门', '3ekor', 'pulai)', 'carlos.', 'home.i', 'hide/run', 'hand-feeding', '\"oreo\"', 'chelsea,', 'great,', 'choise', 'contentment.', 'this,', 'talks.', 'kulim', 'bitsy', 'explore,friendly', 'tangtang,', '如果家里有其他的宠物', 'dustbin.', 'trip.', 'images.', 'chooky', 'circles.', 'lyca', 'lio', 'old,when', 'tabole', 'sickness.', 'apps,', \"hero!..he's\", 'micky', 'okay.', 'fellow)', 'cheerful.', '#vaccined', \"at'\", 'wesak', 'rook,', 'fighter.', 'nm', 'trauma.', 'ingat', 'miu,', 'feiling', 'trick.', 'deposit,', 'puppies..light', '1u', 'january,she', 'me,she', 'tuxy', 'cuddles#', 'wnt', 'accomodation', 'companion!', 'record.', '(husband', 'grummpy', 'children!!', '2mth', 'lighning', 'pics!', 'yogurt,', 'owner*', 'quiet/subdued', '(pets', 'couples.', 'indoors)', 'about.', 'gump', 'anymore...wish', 'hair/tabby', 'bear.', 'rottwiler,male,pit', 'saya,kitten', '(rescuer)', '\"no', 'ulser', 'brooms,', '(worth', 'howling,', 'heart.suitable', '(pkk),', 'orkid', 'tuptup', 'couch!!!!', 'adopted..', 'him/', 'bright-eyed', '(name,', 'persistently.', '👋', 'mns', 'atopic', 'pakistani', 'kittycats', 'rottie', 'usj2.', 'bising..', 'bluee.', 'friendly.vaccinated,', 'pasti', 'iams', 'plk', 'long-haired,', 'bloated.', 'mom.tq', 'vaccinate,de-worm', 'attention..we', 'moving.', 'mohd', 'one)', 'complex.', \"'smiley'\", '--strictly', 'aggressive)', 'eldest.', 'afternoon,', 'clement.', 'mbmb.', 'berminat.n', 'independant', 'teman,', 'toy!', 'non-transferrable', 'oreo,', 'welfare.', 'canada,', 'retriver', 'agression)', 'bushy.', 'safety..', 'raya.if', 'melt..', 'compound;', 'selected.', 'chest.we', 'other.they', '\"brit\"', 'utama', 'site.', 'manje,', '(lying', 'perhaps,', 'home,a', 'kecik.', 'white/cream', 'microchip...', 'django', 'app:', '3.发照片', 'pelangi', \"minnie's\", 'koppi', 'years,', '(puchong)', 'tingkat', 'house]', 'rooney.', 'kembang2...', 'kumbang', '**********', 'rahayu', \"theres'\", 'whatsap', 'kesian...mereka', 'shooter.been', 'them,thus,i', 'dmh', 'comel-comel.', 'home.all', 'interested.tq', 'spootefy', 'kitty...my', 'millan.', 'tieson!', 'thu', 'meadow!', 'mummy...', 'leg!', 'seeker.', '时间：21', 'below,', 'maxine', \"'marble'.\", '(smudge,', 'danger,', '(since', 'jetlag.', 'oil,', '\"room\"', 'them.so', 'space(we', 'inquiry.,', 'breathing.', 'homes,kindly', 'ceria,', 'dog..he', 'pulak..hhuhu..sadis', 'rottweiler-6', \"could'nt\", '(one', 'huhuh...the', 'mummy..', 'semenyih,', 'rejang', \"stripey's\", 'suam', 'lab.', '\"mini', 'ahhh\"..', 'terkurung', 'mami', 'yourself,', 'suspicious.', '【update', 'longterm.', 'astley', 'cuddling,', '(6', 'post..', 'sheltered.we', '\"fluffy\"', 'pick.', 'people.they', 'assalamualaikum...', 'sweetheart.', 'means,', 'laju', 'vivien.', 'dominant)', 'roksana', 'weeks..', 'puppy..please', 'do),', 'home.thank', 'sidekick!', ',com', 'control.', '(nickname>>coffee)', 'sannice', 'boyboy', 'alike.he', 'hilarious!', 'polpot..sibling', 'jenjarom,', 'mos.', 'her)', 'pitbull', 'aug.3)', 'yuuki.', 'home-breeder', 'siamese,very', 'adopters]', '(m,', 'kenyang,', 'hillview,', 'accross', '...futher,', 'citta', 'dog....', 'pm/email/whatsapp', 'house.i', 'greentown.', '(female)has', 'passby', 'beradik..comel,sihat', ',located', 'lexy', 'there).', 'everyone,', 'grey-ish', 'moga', 'cage)', 'kayu)', 'heart!', \"don't,\", 'stewart,', 'knee-height.', 'legs,', '**latest', 'anymore!', 'adalah', 'looks.', 'shoes:', 'adorable..', '(single', '(fluffy).', 'neither,', 'weaned.this', 'tahu.', 'call/sms....if', '4mths', '(cream)', '(abt', 'rascal,', 'don’t,', 'sherpherd', 'relax.', 'thighs.', '(kitten', \"missy's\", 'they’re', 'pop-ed', 'fella.', 'subang,', 'stray.', '\"gentleman\"', 'god-sent', '?!?', 'hammock,', 'suffice,', 'posery.', '(orangy)', 'kan', 'dumped,', 'black+gray', 'g).', 'unspayed', 'hitam,', 'beagle!!', 'balls.', 'coughing,', 'clipped.', 'keris', 'sangkar', 'case.', 'constantly,', 'jiran', 'puppy..easy', 'discipline,', 'scratch-posts,', '(our', \"'pisang\", '&haha.', 'pit).', '(pasir).', 'adopt.)', 'untraceable.', 'spayed!!', '不答复以上三项要求者，将不会得到任何回复。', 'stuff..', 'brown.', 'tag:', '“lived”', 'good.he', 'ow-ow).', 'canis', '23rd', '(yes', 'nonetheless,', 'bathed,', 'noone', 'meminta', 'lurrve', 'midxed', '3号-母猫，已结扎。', 'like\"', 'apartment/condo.', 'provide:', 'manusia,', 'shirmy', 'sad.', 'lar,', 'tyson', '有養貓經驗者優先.......', 'ajyei...', 'joci', 'rm.', 'healthy&obedient.', 'eg.,', '(dia', '-his', 'penne.', 'lorax.', 'living!and', 'dmg', 'initially,', 'diselamatkan,', 'plz?', 'too.however,miko', '3rd-april-),', 'feed.', '\"moon\"', 'lama,bandar', 'playfull', '24/9/', \"jennifer's\", 'ntk', 'hans', 'ish', 'accurate.', 'something!!!', 'tv.she', 'owner;', 'guard-dogs', \"*i'm\", 'price:', 'brothers.he', 'mushu.', 'talkative!', 'snuggable', 'playfulness.', \"aslan's\", 'extra.', 'stays.', 'costruction', 'thing…..she', 'patches..', 'rescuer/dog', 'whiny,', 'house..', 'susukan', '😎', 'vets.', '5-7', 'stress,', 'built-in', 'family/home.', 'solved.', 'veterinar', 'zatar', 'lydia-', 'white/brown', 'persian,', 'indoor-only', 'apa-apa', 'demetri', 'fever.', 'pics!)', 'six.', 'medication,', 'healing.', 'bindy,', 'wechat.', '.only', 'cat...', 'six-', 'offer:', 'playfully.if', 'klang)', 'story…', 'lagipun', 'fooled.', 'ticks/fleas.', 'bambee,', 'from).', '願意帶小狗狗進行年預防針注射', 'boy!),', 'meow2', 'handsome,lean', 'left….!', 'serve.this', 'large.', 'home....i', '(yeast', 'safe(no', 'myself.', '3kgs', 'location:seri', 'tan/brown,', '年齡：5歲健康溫順純種洛威拿', 'terurus', 'saved,', '一定要带它们打预防针', 'kedah.....tnc', '\"comel\"', 'buster?', 'sewa,', 'workshop.', 'alone...(e-mail', 'years......', 'jogging.', 'seri', 'motto.', 'connor,po', 'alam-gombak', 'me):d..the', 'a-g', 'vaccinating,', 'forward.', 'hamster,female.', 'jalanan', 'toddler.', 'bushytail!', 'bestari', 'jagger', 'female+1', '1/4', 'baby?', 'blackie..', 'cindy.', 'read***:', 'manja...hrap2', '(spayed)', 'stooooopid)', 'expresso-', 'tail!', 'bimba', '\"angelina\"', 'trouble...', 'welcome!', 'yours?', '（才教一天已经会seat了），爱撒娇', 'aunt,', '(kimmy)', 'jill.', 'cantonese', '**', 'pasir..', 'valley)', 'tv,', '*both', 'berada', 'ibu..', 'adoption~', 'seek..', 'petfinder.', 'license)', 'female-2', '(tuna).', 'chica,', 'recovered..', 'belly,', 'rambut,', 'whatsapp..', '*only', 'sniffer-dog', 'heavy,', '(pepper)', 'through!', 'chest.', 'animals.', 'soon..', 'interactions.', 'tinker.', 'wechat', 'whitey,', 'wang', 'pendiam', 'team,', 'hatrick', 'infomations!', 'ok!', 'picta', \"off.he's\", 'male.few', '~大种', 'abuse;', 'komen', 'strays..', '(adoption', 'safety...very', 'frsme', 'gender,but', '(sarabi)', 'booth.', 'aku', '(big', '(check', 'hartamas.', 'kean', 'guidance.', 'maksim!', 'movement,', 'notty', 'had.', 'obedient.', 'ernest', 'limp,', 'it,i', 'hurray!', 'required.)', 'mula', 'abang.', 'nini)', \"pole.i'm\", 'much.if', 'intrested', 'english).', 'oval)', 'moustache,', '(dad-siberian', ';-)', 'hand)', 'ginko.', 'girl),', 'lovable!', 'condition),', 'ps.', 'care.my', 'requirements,', 'owner..', 'fizikal:', 'pen)', 'is,', 'deformation.', 'villamas', 'abg', 'chip.', 'e.t.', 'please??', 'trus', 'here....very', 'trauin', 'wendy.', \"dady's\", 'cat-loving', 'mkn,', '...\"', 'blh', 'apporximately', 'isospora', 'notti', 'white-chested', '(ang)', 'found),', 'time......both', \"(it's\", 'orange!', '(be', 'her/him.', 'adoption...can', '(jul)', 'profile.', 'supercute', '(~4kg)', '-ah', 'manja..', 'illness.', 'toe,', 'viewing!', 'dog.....gets', 'outside(especially', 'hmm.', 'serdang.', 'orange/ginger', 'adoption.playful', 'katil.', 'budu', 'mika.', 'boys.and', 'guard-dogs).', 'memeow', 'excuses!', 'freya', 'archie', 'home..she', 'mr/mrs', ':p)', 'sue-.', 'dog(have', 'gentleman,', '+kgs', 'sibuk.', 'je', 'manj...mata', 'toys,even', 'her...she', 'neh', 'adorable.', '(maybe', 'kruppy', 'tiggy.', 'boarded,', 'tahun', 'tree/bed/pet', 'sam/', 'sister.', '每年為狗狗更新執照', 'dog..are', 'pekingese....girl', 'kajang,', 'problem.she', 'asking)', 'cheers!!p/s:', '-semi', 'floor.', 'wise,', 'de-flea,', '#shiny', 'test.', '**urgent**found', '可爱，亲切，有望成为很好的伙伴', '-----------------------------------', 'bosco', 'ailments.', 'sms/call', 'round)and', 'spray)', 'sgat', 'condo.', 'blanco', '4eva', 'sherlock,', 'aso', 'kl/selangor/perak/malacca/penang/kedah/perlis', 'havana', 'up...', 'box..', 'resided.', 'puchong!hope', 'everyday,', 'pluto', 'afterwards.', 'tail,grey', '.must', 'then,', '\"carpark', 'mantin,opposite', 'pandai..korang', 'hari-hari', 'cope!', 'inky,', 'schmoo', 'cousin.found', 'pantas', 'gombak\"', 'kerana', 'finalised.', 'it),', 'kids?', 'dia).', 'mr.jeffery', 'playful.toilet', 'talkative...', 'teby', 'trainning', 'so-called', '...good', 'sifat', 'hati,', 'beutiful', 'much,', 'dog...lucky', 'rihana.', 'tabby.she', 'care)', 'collar?', 'preium', 'kinds.', 'friend...', 'tarzan', 'chan,', '2)why', 'burung', 'pedigree,but', 'brapa', 'call\\\\text', \"'sondol'\", 'puchong/subang/pj/shah', '⚠⚠', 'handbag,', 'cantik.', 'tummy,', 'children..', 'her.so', 'floofs', '(seasoned', 'dozen).', '(flea', 'support.', 'probiotics', 'nola', 'ot', 'beago,', 'respons..blh', 'now,after', '>done', 'jacklene', 'samara', 'dogs/cats', '(yes,', 'nurul', 'poes', 'describe.', '(receiving', 'pouncer\"', 'jaya,old', 'combination.', 'moscow.', 'bleeding.', '15kg', '(sayang', 'hours)', 'felix.', 'found..', 'friska', 'hmmm?', 'thinner.', 'connought.', 'perak)', 'relationship,', 'pee/poop,', 'berserta', 'mendapat', 'emma', '\"kuda', 'alyssa', 'donation,', 'adoption-', 'justice!', 'adopted:', 'prisoner.', 'criteria:', '(sold)5)color', 'usj4,', 'knows,', '1hour/day)', 'face..', 'boarding,', 'deserves?', 'home.she', 'distance..', 'dayang.please', 'event,', 'noisily.', 'well-secured', 'irene:(call', 'flat.so', 'pasal', 'yee', 'man.', 'fyi,he', 'waaaay', '3.3kg.', 'tiger-patterned', '-----------------', 'screening.', 'jenis:', 'photos)', 'building.', 'dependent,', 'permanent/foster', 'veru', 'since.', 'clipper,', 'monsters,', 'effection', 'dog.urgent,anyone', 'though).', 'neg.', 'drops:', 'kedai.', 'puppies,give', '(suspected', 'more.(the', 'panaskan', 'pregnant;', 'sure,', 'island)', 'best.', 'chaining.', 'litle', 'masa', 'sleeps!', 'babycat', 'bhd', 'suitable.', 'www.facebook.com/pawsmission', 'organs.....if', 'shelter)', 'unleashed.', 'kisahnya', '(jump,', 'decision,', 'birds!)', 'littermates', 'btw,', 'adopter.any', 'way!', 'dunham', 'anymore...', 'rownie', 'cat,memey', 'mabel,', 'angel..', 'playing)', '(considering', 'kitchen,', 'soon-to-be', '(shhh', 'adorable,playful', '>female', 'lagi', 'angel..please', 'kje.dia', 'response,', 'delivery,', 'leashed.', 'clipper.', 'bopeng', 'hound!', 'seniors.', 'worse.', 'interlligent', 'can.', 'went.', 'choice..', 'de-barked', \"dog's.\", 'information:', 'terrance', 'male,blue', 'mid-length', 'defleeced,', '(message/', 'click.', 'given),', 'bergaduh', '-not', \"house,can't\", 'badan,', 'midah', 'gooi(puchong),', 'jenniffer', 'claws)', 'mons', 'tzu.', 'too...loves', 'skuter.', 'kedua-dua', 'rice,bread', 'flavour', '7/4/15', '(chat', 'black,2', 'aminah,', 'semi-long', \"jeky's\", 'apartment,he', '\\'no\"', 'kisah.', 'help!!!', 'urine,', 'aswell', 'remark:', 'cute.we', 'monki', 'all^^!!', 'kl,', 'roscoe', 'mahkota', 'can’t', \"hawkers'\", '20).', 'home😍😍😍', 'lumpur.', 'white-furred', 'dehydration.', 'shame.', 'dia.', 'adorable?', '\"hand\".', \"they'r\", 'sambu', '***looking', 'philo', 'pandai!', 'inflammation.eye', 'care~we', 'ellie,', 'michelle(ampang),', 'puci', 'recall.', 'adopt!', 'sekeluarga.', '7:30pm,his', '2只母浪浪（已结扎）要找个安乐窝~', 'cutie~^^', 'puppyhood', 'background)', '4years.', 'homes)', 'peaches,', 'check.', '(already', 'enzo', 'cal', '(kittens', 'nie...', 'wiley', 'semalam', 'pergi', 'msj', 'purpose,', '7:30pm', 'bad,', 'dane.', 'cacing.', 'him/her.', 'starts.', 'angah,che', 'familiar.', 'foods.', 'shikit...', 'her...we', 'main!!', 'home....pls', 'hat,', '不舍得再给牠流浪，现在的牠生死未知，还在医院。', 'cuddle.kindly', 'color),', 'initiallly,', 'pinsher', 'male,both', 'unfortunate.', 'saja', 'bayi', 'huggieboy', 'casper.', 'affectionate,', 'romeol', 'bulat,', 'nampak', 'cho', 'leg...she', '^^!!!', 'intested', 'on-leash', 'budget.', 'tortie', 'water.on', '喜欢咬东西，好食。', 'process.', ',my', 'residents.', 'view..', '“presents”', 'tonight-', 'vitany!', 'mamak', 'be4.', 'roll.', 'far.', 'told.', 'share.', 'semi-persian.', 'food,', 'ms.', 'serve,nego', 'dos)', 'enquiry.', 'shampoo-ed', 'maintenance).', '(incl', 'add:', 'glace,', 'october', 'tq........', 'dog.)', '\"crate\"', 'pre', 'urgent!!!!!!!!minta', 'type\"...chack', 'cage.he', '5.she', '(obviously', 'tooooo', 'down-stair', ',last', 'cat(mosu', 'tarik', 'healthy...looks', '目前全家准备移民', 'lapa..', 'approx.', 'pandailah...', 'fur-less', 'chanelle', '(rm).', 'somethin', 'adoption.both', '(5)', '0ld', 'sek.9,', '24/9/10>', 'confused.', 'dog...pls', 'thread)', 'name!)', 'beautiful,', 'alaways', 'patch.', '0.65kg', 'well-kept...', 'brother,blackie.he', 'einstein', 'pm..', 'road.they', 'suggest)', 'azaad', 'mis', 'friendly,clever', 'kl/selangor', 'km', 'diet:blackwood', '请允许半年探望一次或义工自己决定。', '（remind:', 'asap!!', 'pur*', 'tiram,', 'education)', 'permanently..please', 'cat.probably', 'cat,tuti.', 'funny.（remind:i', 'life-long', 'playtime,', 'out:', 'talk-active', 'mengada2,', 'progress!', '30/3/', 'bong.', '*adapt', '-without', 'lovely.....', 'possible..', '🙂', '??', '联系号码:(美琪)', 'once/twice', 'coby', 'tidak', 'mother):', 'indoor..', 'mischievious', 'suki', 'husky,', 'them?', 'pada', 'leka', '(seen', 'mummiest', 'only)', '11/3/17(final', 'u..', 'weird.', 'langat', '-loves', 'muay', 'size!', '(compared', 'diuruskan', 'were..', 'older/bigger.', 'kitten2.', 'lak', '\"blessings\".', 'fenales.', 'terus', 'cats..:)', 'base,', 'emaciated.', 'coklat', 'semua.terima', 'mnja.currently', 'necesssary.', 'fracture,', 'fluppy', 'litterbox-trained.', 'bored.', ':,', 'charity.more', 'assalamualaikum..', 'also，thanks', 'suara', 'shoplot', 'dominant.', 'courtney', 'phoebe,', 'pong.', '*gender', 'tmc', 'basis,', '💎💎💎', 'clinic)', 'black/brown', 'her.the', 'ashepherd,with', 'kitten.he', 'kering.', '15min', 'automatically.', 'boby', 'muf', 'newspaper-trained.', 'dog.now', 'uo,', 'fearful,', 'mary).', 'tehres', 'beliau', 'peliharaan..', 'umrah', \"'advices'\", 'goddess!', 'belgian,', '-mencari', '(whom', '\\uf04c', 'chest!', 'stay.....pls', 'minmin', 'massage.', 'prefere', 'kitten.........................', 'curiousity', 'hightime', 'miniture', 'tired.', 'tookins', 'mondays', 'bilky', 'working,', 'pinscher', 'meowwww\"', \"reindeer..he's\", 'pekingese.', 'flowerbelle', 'hers.', 'nov).', 'swallowed.', 'leopard.', 'indonesia.', 'cat-proof).', 'pictures..', 'goku', 'doby', 'grey,snow&uteh', 'ipoh-lumut', 'nov', 'detail...', 'very,', '2.have', '装修工人把木板鐵支都堆積在\"旺来\"的落脚地,', 'close.', 'romeo.', 'nasi..', 'rebus.', '-save', '10,', '\"well', 'lau.', 'girl..i', '*adopter', 'active,playful', 'well-being,', '12months(female', 'changed)', 'here...abandoned.', 'wanderer,', 'area).', 'temiang.', 'issue..not-for-caging..', 'medication...', 'persian-domestic', 'nemo..she', 'sweet.can', 'gray,yellow,white(female)', 'moist.', 'contact,', 'attitude.......she', '(20/4-27/4).we', 'him..u', 'nicely!', 'dolly.', 'sharpei.', 'whutsapp', 'call/whatsapp', 'immunizations,', 'beef.', '(twice)', 'yatimah', 'puchong,', 'date.', 'guy,', 'eta:', 'moonbear', 'days.', 'vet,dewormed', 'pelangi,gombak..', 'months)and', 'though.have', 'brown,1', 'subash,', 'suzy', 'wechat:', 'socialised', 'memiliki', '有爱心与责任感，谢绝三分钟热度了；符合基本经济能力以带猫咪进行定期疫苗注射与结扎；家', 'whi', 'oug.', 'biting,', 'snuggle,', 'single-handedly', 'paper:', '1year', 'sale,', 'students,it', 'aaa+++.', 'time-to-time.', 'supaya', 'buli', '(-).', 'specks.she', 'boston', 'strange,', 'aini', 'eric', 'treated,', 'manja..pandai', 'love-dove!', 'drian.', 'ago,may', 'bulan..dia', 'ye.', 'minnie,', 'litter).', 'detick.', 'menghalang', 'general.)', 'old]', 'suzie,', 'you!', 'loneliness.', 'seeked', 'me,,', '.:', '都有告訴她,', 'lumpur.selangor/klang', 'sponsorhip', '-\"', 'fabel', 'umo', 'paul', 'vet!', 'batman,', 'dimandulkan.', 'sister-in-law', \"'please\", 'charlie.', 'pinchies', 'must~~', 'dsh,', 'past.', 'meat,', 'neatly,', 'e-mails.', 'berisi', 'i’ve', 'obediance', '!!!', 'everyone!', 'emaknya', 'adiknya', '8/2/18', 'ss17', 'purr!.', 'msg/whatsapp', \"hug.(she'll\", 'generation.', 'lagak', '5cats', 'mariamman', 'watches,', 'guy...', '***urgent!!!', 'benjie', 'fungus,', 'anoyone', 'indoor.', 'ambik', 'maksim', \"''love''!\", 'crippled,', 'shiya', 'values.', 'healthy..diet', 'rm(can', 'fear,', 'late,', 'shine.dont', 'environment!', '～四个月大', '(love', 'much..as', \"'stop'\", 'sub)', 'services(depends', 'cute,healthy', 'cat(the', 'command.he', 'heavily.', 'grass.', 'drink:', 'homes...please', '-saujana', 'gomes', 'face;', 'tidy!', 'urself', '\"abandonment\".', 'petfinder!^^', 'ones)', 'merayu', '(kopi', 'lew', 'hershey', '\"nero\"', 'serumah', 'lala,', 'absort', 'visit.', 'gambar)maaf,saya', 'telegram..', '*very', 'ok', 'bath,', 'et,', '\"please', 'that..tomagochi', 'lot.will', 'depressed,', '2/2/18.', '***:', 'heal.', 'tarpauline.', 'mak', 'residents,', 'anty', 'rottweiller', 'drinks.', 'e-mail,', 'old?', 'nov.', 'daging', 'computers,', 'tabby,', 'breastfed.', 'privacy.', 'leg(just', 'kinrara', 'needs.at', 'adorable...2', 'unknnown.', '...pls', 'ren.', 'browne', 'almond:', \"rena's\", 'gremlin.', 'please!', 'is;', 'hugg', '(black)', 'humans!', 'bekerja', 'kind-heart', 'looks,', 'bushes..', '也请联系我', 'dogs))', 'ground,', 'master.', '3-5', 'daily.please', 'evening/nighttime).', 'kgs', 'hour,', 'overrall', 'pet,it', 'neglected.', 'unluckyly', 'pirate,', '(cupcake)', '9/2/18.', 'bengal,', 'friendly,bubbly', 'nocole', 'divider.', 'kakak,', 'manhole.', '\"manja\"to', 'odd-eyed', 'tmrw', 'indefinitely!', 'separately.', '免费领养', 'pattern,', 'active..really', 'months.they', 'vaccinated).', 'what,', 'cold,', 'sehat', 'irresistible.', 'caging.seriuos', 'senior,', '4-6', 'dsh', 'terri', 'no?', '-easy', 'besar,paling', 'hunger.', 'pregnant),', 'de-flea.', 'purina', 'today-4th', 'can:', '30,', 'forever..', 'hehe.', 'well.so', 'derita', 'flee/tic', 'melayu.', \"michi's\", 'recovering,', 'whatsup', 'johore', '1,', 'neighbourhood.altogether', 'price,but', 'vegetables!', 'kittens.?', 'showing.', 'introduction-', 'status~', 'flight.', 'yg;-', 'compassion.', 'doreen', '21bee', 'fur)', 'somehow,', 'golden-orange', '3)able', 'catlover.', 'alergik', 'berusia', 'wont!', 'mostly.', 'lester', 'ada.', 'drain...while', 'tidy.', '1.打预防针', \"tuk'\", 'ekor,sekor', 'in)', 'cc-lia', 'lice,', 'greatly.', 'golden,but', 'like.the', 'jaya).', 'customer,', 'ismail.', '(jantan)', '(2months)', 'high-energy', 'melahirkan', '+year', '**already', 'info..', 'alex', '(twice),', 'hi,im', 'ryan,', 'dewasa.', '\"cute', '1.结扎', '\\uf04a', 'maths+.', '(preferred).', '(chinese)', 'well-socialized', 'neuterkan', 'syurga\"trust', 'sunshine.', 'to***', 'active，playful，', 'explaination', 'messi', 'berhentikan', 'orange/brown', '(6)', 'berbesar', 'anjo', '#walk', 'josy', 'maturity)', 'duduk', 'free!', 'home!(2', 'eat...and', 'syndrome.', 'xnk', 'dogs.\"please', 'well!the', 'bob,', 'dogs!', 'house,make', 'dipelihara.', 'sahaja', 'deserve)', 'master,', 'palm.', 'pooja', 'amcorp', 'skinny.', 'melalui', 'alex,', 'sial', 'socialization.', 'kata', 'omot', 'property.', '女', 'bagitau', 'broth.', '剩下2只可怜的姐妹狗宝在等待一个温暖的家。', 'cells.', 'apps', 'equilibro', 'poo-poo', 'kittens..they', 'grooming...', 'female^^', 'tighter,', 'barriers.', 'ear!', 'molly,she', 'asap...', 'mixbreed', '*i', 'adorable...if', 'pet.he', 'trouble)!', 'adapted.', 'shaila', 'sookie', 'doxycycline', 'helplessly!', 'elf!', 'people,friendly', 'thin,', 'girl!)', 'cherating,', '26th', 'childrens', 'lihat', 'nowhere,', 'lebat,', 'owner/mother.', 'spits..white', 'someone!', 'rm56)', 'comes.', 'badan', 'disciplined.', '也和店家了解能不能善待她,', 'everypawdy', 'anytime...will', 'pupies', 'ajiz', '(infrequent', 'quite.', 'that..).', 'weak,', 'furbabies.', 'diet:', 'long-bodfied.', '~reduces', 'sand.', '3-months', 'secured.', 'birth:', 'down).', 'citer', 'deliced', 'looi', 'pls', 'somalian)', '“swimming”', 'allergies...', 'e.g.', 'sell:', 'ricky', 'jump..', 'zoya', 'lover.', 'blue?', '(golden', 'mknan', 'outside).', 'sahsa', 'panjang!along', 'kiko.', 'nights,', '(these', 'sofia..im', 'mother(achik).', '(angels!!)', 'bosey', 'richard’s', 'meor', 'naek', 'anjing.80%', 'leg..but', 'free)', 'cute.they', 'takers...', 'has,', 'sekarang.', 'dinner.', 'malim,', 'kyan!', '提供营养均衡的饮食和干净食水', '\"she\".', '\"nutro', 'keadaanya', 'pre-paid', 'season.', '4)regular', 'msian', 'billings.', \"'talking'\", '\"roti', 'anything.contact', 'd.o.b.:', 'kelaparan,', 'bekalan', 'kemampuan', 'hawker,', 'call/whatsapp:/', \"monday's\", 'squiggliz.', 'vico.', 'patatoes-', 'dibuang', 'drive.', \"'tuk\", 'kuantan,', '>plse', 'eyes).', 'urgent~this', 'age:3', 'self-collection', 'cedera', 'vaksin.', '1.there', 'anymore..it', 'notices,', 'taiping,', 'kao', '(dry', 'bros', 'moves.', 'jacq,', 'legged,', '\"lie', '“life”', 'jamie-', 'thumbelina', 'aboo,', 'dewormed,vaccinated', '(basically', 'golden)', 'kity!', 'saffron:', 'one,', 'mixed..', 'diambil.', 'bored,', 'siblings.but', 'smartie', 'sesame:', 'lively,', 'handphone', 'long,kajang.', '-monthly', 'this.p.s', 'rafa', '\"mischievous\"', 'appreciated,', 'pregnant.they', \"friends'\", 'siamese', '\"talkative\".', 'away)', 'malnutrient.', \"fifi's\", 'puppy,', 'furkid', 'mary-ann,', 'get.along', 'koocheng,', 'dewormed,microchiped', 'stockin,', 'pampered.', \"'tupai'.\", 'twice.', 'flowers.', 'night..', 'cub.', 'pagi,', 'week...', 'me,', 'shoulder,', 'menghadiahkan', 'bird,', 'home,can', 'socks.he', 'items:', 'u.k.', 'bawak', 'car),', 'leornardo.', 'playing!', 'de-worm', 'others...', 'jer..', 'sheppard,', 'often.', '3days.', '(ellen)', 'cuddle-cat', '**urgent!!!', 'mother)', 'temperament:', 'home!!', 'or,', 'kiblets', 'fine).', 'unknown...please', 'where?', 'owner!', 'them.do', 'fafau', 'tuxies.', 'sick.', 'strayer~~', 'siakan', 'sweetheart;', '(urut).', '2pm', '(blame', 'hugging.', 'nur', 'ltak', 'pay,', 'mr.jack', 'neutered+dewormed.', 'adoption.cik', 'profession,', 'characteristics:', 'kittens(around', 'denise', 'inquisitive,', 'type.', 'hurrah!!', 'forpepperee,', 'defleas..', '13/6/10', 'named:', 'area.she', 'day.two', 'beards,', '(gibbons)', 'gowry', 'tnrm', ',5', 'dachshund,', 'well-groomed', 'king.', 'details-', 'go..but', 'nobu', 'fungal/worm', 'maaaaanjaaaa!', '3.kitten', 'sucessfully', '(rottweiler', '*promise', 'open).', 'ferdaus.', 'mistake,', 'mulut', 'dollah', '有養貓經驗者優先........', '19th.', 'sleepers!', 'besar2..', '😄', 'spot-on.', 'knight#3', 'generally,', 'together!', 'free;', 'mohon', 'vaccination,spay', 'choko', 'girl;', \"ald..there's\", 'often,', 'smaller,', '#1st', 'dioh', 'leena', 'cage....tq...', 'dealer.', 'caracter', 'venus', 'runding', 'gentlest,', 'dragon\".:d', 'quiet;', 'selera', 'fights.', 'house...chances', 'mischievous.', '(find', 'aida', 'depan', \"rambo's\", 'sophie.', 'sake..', 'max.', 'sleepy😸', 'disappeared,', '11am', '1yo', 'others)..they', 'adulthood.', '..royal', \"tim's\", 'pandan', 'ever..', 'kittie.', 'teehee!', 'date:', 'following:', 'ibunye', 'brue', 'knows?', '..hoping', 'marking...', 'virus),', 'thrive,', 'normally.', 'cell,', '注明', '15-9-', '#potty', 'adopter,', 'hair,nice', 'spay/neuter', 'pawprint', 'beradik..xpnh', '~rm', 'saved~~', 'factory.', 'cheek.', 'cat..it', '急需找家的毛小孩', 'cat-proof,', '现在是时候帮它找个安乐窝', 'boris.', 'smurf', 'kids,owner', '(able', 'life-', '9am-4pm', 'serious!', 'tortie-tabby', 'cloth.', 'rm70', '1),dewormer', '=^.^=...', 'length,', 'orange,', 'update!!-10**', 'kecemasan!!!', 'women.', 'soho', 'required)', 't.t......', 'self.', '(that', 'kwn.sesiapa', \"women's\", 'deserves.she', 'anjing.', 'bills/receipts', 'already.done', 'junior)', 'applied.', 'depress,', 'mengiau2', 'vaksinkan', ',etc.', 'fun,', 'outside..', 'membuatkannya', 'sorry.', 'jaya☆♥', 'go..cannot', 'young).', 'old..please', 'reallyyy', '◘', 'owner..mesti', 'chocolate.', 'sudikan', 'well).', 'toonho', '(slow', 'jillo', 'exam.', 'cameron', 'spaying..just', 'use,', 'omari.', 'spay。', 'pets...', 'strays!', 'survive!', 'berdaya', 'size:', 'whispering,', 'myself?)', '(apartments', 'aged.', 'ultimately,', 'guard,', 'though)', 'festures', 'futile.', 'kiitens', 'klo', 'infection,', 'her.....for', 'thursday', '9months', 'tamchiak:', 'kao,', 'guess),', 'birthday,', 'children,she', '2mths+', 'good-natured,', 'anak2nya.', 'yourself)', '5/9/16', 'migraine?', 'fabel.', 'kapar.very', 'tdo', 'membrane,but', 'fosterers', 'maybe)', 'terfikir', 'away:', 'heihei', 'me..!!', 'jake', 'antibodies.', 'ampang).', '(coz', 'outthere,', 'problem...i', 'gold,', 'cute..still', 'jan,', 'tory,', '*note:', '(7oct)', 'students.', 'adopter!!', 'eyes!', 'backyard,farm,etc.).', 'sambil', '16/5/15.', 'drooling.', 'mainecoon', 'otodectes', 'eyes.he', 'sochi', 'hazel;', 'well-taken', 'beside...', 'heat-perfect', 'hahahaa.', 'ill.', 'flow,', 'pet/pets', 'orange.', '14/4/14', 'option.', 'puri', 'yearly.', 'sia', 'feeding/toilet/nap/play', 'sally:', 'volunteer,', 'sibi', 'destress', 'ely', 'mungkin', 'divaksin,divitamin,..sumenye', 'videos.', 'kakak.', 'parvovirus.', 'booked)', 'shown),', '(parents', 'comot2', 'mackerel.', 'jaffee', 'rice,', 'ini.', 'tenants.', 'home..', 'christine', 'please!).', 'enough,', 'adventures.', '“', 'playin', 'is...', 'galavant', 'here),', 'playful.if', 'aktif,sy', 'territorial.', 'immune-health).', 'thick.', \"his's\", 'ampuan', 'dehydrated,', 'sniffff...', 'moo-two:', 'persian-bengal', 'babby...', 'tidor', 'message:', 'luckypaws!', \"'big\", 'contact(call/sms)', 'perhentian', 'brand).', 'auntie.', 'gums.', \"pupps'\", 'godzi', 'menyorok.', 'turn.', 'shopping!', 'discussion.', 'them,so', 'expenditure.', 'body..', 'pendek', 'human-loving!', 'shorthair', 'strange.', 'space)', 'heidi', 'tompok,', 'lover!', 'aug:', 'free...adopter', 'pemeriksaan', 'outstation,', 'playful.friendly', 'roxie.', 'seriously,', '(first', 'skudai', 'tinggal', 'home\"', '**adopters', 'chew-proof', 'dognapped', 'bino', '如果狗狗不合你们的眼缘，请求大家问问身边的朋友，狗狗会对你们忠心一辈子，永不背叛。感恩。', 'playmates.', 'sama2', 'home!!!!)', 'sesame,', 'ni..dan', 'sory', 'sweetie?', 'bdkl.', 'rm，', 'pearl)', 'saliva.', 'encouraged.', 'home.done', 'secretely', 'ups.', 'failed.', 'them..thx', 'dijaga.', 'bu11.', 'dapat..', '3)she', 'conversation.', 'another!', '6mth+.', 'melekat', 'du.', 'blackwood', 'mention,', ':-', 'pup..', 'check,heartworm', 'harum', 'furball', 'kembirikan', 'azrol.', 'lagi^_^', 'neutering...pls', 'robyna', 'premises.', 'home…', 'pss.', '(newbies)', 'hair..', 'cat...too', 'tuut', '(term', 'pretty!', 'luahkan', 'snoopy!!!', 'females....spayed)', 'vacination,', 'biscuits.their', 'wag.', 'them..please', '(17', '(ellen).', 'estate,', 'together....', 'from?', 'compount', 'digosok', 'destress,', 'alrd', 'byte..sometimes', 'cried,', 'rm1,', 'g.retriever', 'cyberjaya/putrajaya.', 'moca', '4yo', 'bangalow', 'black-nosed', 'saddie', 'china.', 'blacks,', 'adam', 'lean,', 'handsome,\"', 'bertahun', '1.5mths', '28th.', 'merle).', 'feefee', 'child.', 'bentong.', 'panda.', 'leo,panda,kinai', 'skittish.', 'tinnie', 'diiklan', 'ex-owner', 'aktif...litter', 'tabby(female)..others', 'very,very', '\"the', 'toilet-trained,', 'street.but', 'kl/penang.for', 'terrier-mix', 'yoda', 'sable..gorgeous', 'shiloh.', 'lap,very', 'shoplot.', 'caves,', 'meatball.', '(s.a.)', 'first..', 'appreciated.', 'maxy', 'sayang', 'alertness(perfect', 'felix,', 'hilang', 'also..she', 'naughty.', 'know,', 'lots.', 'shape,', 'dogcathers.', 'blue-coated', 'cuteeeeeeeeeeee', 'milo)', 'os', 'occasion.', '(unsure', 'parents-in-law', 'puchong,,', '⚪️let', '(sorry', 'nursing)', 'neighbours,', 'foods..so', 'bb', 'shepards', 'amer', '\"mata', 'big-jumbo', 'husky-like', 'entertain.', 'visits..', 'exercise!!!', 'of...', 'cari.', 'april),', 'kj', 'jess.', 'them...plz', 'vaccine!', 'daisy)', '~6', 'disabilities.', '..pasal', 'penang)', 'max(),', 'couped', '(sold)3)color', 'green),', 'thoroughly.if', 'thankfully,', \"x'mas.\", 'pilah,', 'only.please,i', 'tone.', 'rubber-band', 'sg', 'balik.', \"foxy's\", '1-5', 'it,', 'justice.i', 'psst.', 'kamunting,', 'vader', 'none-existent', 'happy,', 'madical', 'sporotrix.', 'strength.', 'rescued,', 'yasmin', 'please.', 'tie!', 'neighbour', 'dog,smart', \"lulu's\", 'browny.', 'white+orange', 'merrier!', 'kind\"', 'rescued)', 'him..if', '/uia', 'sundays', 'puppies,they', 'line,', ':4', 'euthanised', 'much.:)', 'kitten/cat', '--------------------------------------------', 'energy...', 'shama', 'belle..', 'scull.', 'bunnies,', '15/1/16.', 'always,most', 'male.all', 'i’d', \"cat...i'm\", 'risau', 'november.', 'blackwood..dah.3x', '28/4/.', 'halalkan)', 'unloved.', '\"sit,', 'andrea,', 'arwen', 'sorang2,', 'marvelous,', 'things.', '(molly', 'dlm.keadaan', 'cage!!!', 'protein)', '“belongs”', 'kampar,perak', 'good-natured.', 'bkt', 'jump!', 'berdiri', 'manja,', 'guy..', 'house,and', 'any,', 'millan', 'toys-', 'born)', 'side...so', ':d)', 'spirit.', 'elly', 'bobo.kepada', 'mishoo,', 'buaya', 'runs,', 'luxus', 'old..she', 'be?', '#1:', 'setakat', 'assignments.', 'tinggi,', 'heh.', 'body),', 'mths)', 'cathy', 'terrier-corgi', 'bucky', '🐶💖💕', '&beautifully', 'heat.', 'towel,', 'spider-cat', 'santi', 'makan..', 'grey(now),yellow-gold(at', 'me...my', \"'come'.\", 'clamp.', 'neko', 'saya,kesian', 'pintoo.', 'betty.', 'tamed.', 'forgotten.', 'let).', 'lovable.', 'gardens.', 'neutering/spaying', 'cucu', 'lambat', 'email):-', 'us...he', ',now', 'xiao', 'pwople', 'miskin', 'recover,', 'malnourished!', 'berdekatan', 'npe', 'halo,', '(self', 'tim,', 'interview.', 'white-paws', 'ms.midnight', 'you,', 'playfull.', 'number,', 'teddybear', 'remember,', 'details,pls', 'lot!!!', 'herself...', 'annoy,', 'it...please', '(pictures/video)', 'shape(white', ')..', 'lebuh', 'colored.', 'telomian', 'gung-ho', 'surroundings.', 'poo/pee', 'too.she', 'bangun..suka', 'hntr', 'nusajaya', 'complaining).', '2male.', 'another,', 'dewey', 'care,i', 'happiness.', '(i)', '/.(they', '6.the', 'feature;', 'asap,', 'melarikan', 'line)', 'year)', 'kenit', 'kara', 'male-2mths.', '(will', 'pseudomonas', 'selamat', 'batch,', 'housemates.', 'woofy', 'homes...', 'cantik,', 'moji,', 'now..', 'tree.', 'sibling(s)', 'ms.chong', 'active/hyper,', 'ss2/5', 'fluffy,', 'traveler,', '(jack)', '(once', 'alot).', '(muttley)', 'yaa...', 'end,', 'diamati', 'mpsp(refer', 'versace', 'preety', '(night', '5+', 'ann.', '(two', '2-month-old', '\"come\",', 'roma', 'long,', 'saimui', 'betina', 'collar..', 'fur.all', 'disease.', 'decent-sized', 'healthty', 'tempat', 'chantelle', 'human-friendly', '*kl', 'beckham', '\"blinky\"', 'did,', '混种黄金猎犬免费开放领养去。', 'selayang,', 'cheking', \"i'd\", 'still.', '剛開眼，還未可以自行進食。', 'mengalami', 'hair,medium', 'tess', 'rose:', 'tggu', 'attention?', 'colars', 'bm,', 'un-homed', 'office,', 'dah.', 'alot..you', '3days', 'may..', 'adoption..those', 'behalf.', 'lovely,passionate,can', 'vegetarian.', 'de-worm,neuter', 'h/p', 'a-year', '.interested', 'jab.', 'leashed,', 'us.fat', 'hp', 'read***', '领养贴', 'buloh.temporarily', '21/4/15.', 'start.', 'sibling,', 'fearful.', 'perhatian', 'all,but', 'baru..saya', '11am,', 'lifestyle!', '(26', 'passive,', 'jaqjaq', 'busuk,', 'shoes,', '救缓它的第一天，messy是瘦得见骨但它依然把自己的孩子们照顾得肥肥胖胖。', 'tuxedo-tiger,', 'clumsy.', 'dissapeared', 'still..she', 'vomit,', 'breeding.', 'teeth).', 'obvious,', 'becomg', \"adopters'\", 'diana', 'girlgirl', 'tahun...', 'ajar.', 'susu)', 'markings)', 'sticky,', 'greenish.', 'personality:likes', '70%', 'mobile:,', 'lelong', '[edit:', 'required,', '(upm),', 'russel,', 'watsapp),', 'saleh', 'coulour)do', 'tuk', 'included).', 'mouse/cockroach', 'bella', 'kami.', 'problem..gemuk', 'to.take', 'cage,let', 'interest,', 'months-old', 'kira.', 'small-', 'welnes,', '(gandalf)', '*location:', 'molly!', 'ofcourse.', 'road.i', 'mo-joe', 'zzzzzzzzzz', 'pies.', 'jamie', \"'empty'\", 'wonderrfully', \"cat's.\", 'her!!!', 'owner,easy', 'white)', 'fiona,', 'ago,,', 'temasuk', 'hearts.', 'putih.', 'neglection', 'network.', 'adopted!)', 'mix.', 'desa,', 'hot,', 'fro.', 'was.', 'jirus', 'conditions,', '(quite', '♡♡♡', '5th.', 'mengangkat', 'noose.', 'move,i', 'train.', 'child!', 'spots)', 'luki.', '.she', 'mami..', 'better,', '(improving', '(grey', 'down...', 'ngan', 'uep', 'aktif).', 'whatsapp/call', 'carrier..(rm)', 'hyun', 'makan', 'wolf\"', 'ticks/fleas,', 'bee-bee', 'teresa.', 'jumper!),', 'org.', 'elley,', 'infront', 'stay.', 'mug?\"', 'cheras', 'blok', 'zhafa:', 'play..potty', \"your's\", 'umah.', 'nap!', \"'pee\", 'eat!', 'fanzy', 'pumpkin.', 'carrot,', \"brothers'\", 'mamak,', 'cempaka).', 'chia', 'sedih...', 'jensen', 'sampah..kesian', 'ontop', 'monday...else', 'sept).', 'gsd', 'sometimes,', 'missing;', 'tail).', 'pupu.', 'sedikit', 'ear.', 'kedua2', 'biakkan', 'lekas', 'called/came', '(girl)', 'muted.', 'think)', 'sebijik', 'lover.no', '(2-3', 'zealand.', 'cat.tq!', 'disediakan.', 'bowls,', 'twinky(girl', 'forehead),', 'person.', 'amatlah', 'appetite!', 'owned/rescued', 'playful.have', 'persekitaran', '31/3/', 'harley', 'buat', 'grey-', 'part,', 'bush.', '3+', 'sesuka', 'bbpin:', 'juat', 'bergerak', 'rottwiler(both', 'nature).', 'none)', 'us,we', 'park...lovely', 'dryer.', 'game:', 'sincere,', 'enemy..', 'blood.', '5years', 'dayang', 'tails.', 'util', '(son)', 'a1', 'way...so', 'runt,', \"1'(l)\", 'poodle)', 'home.....yes,', 'sunny.', '(maru,', 'him(with', 'disoriented.', '。。谢谢您。', 'guilty,', 'kecil', 'petsquare).', 'cantonese),', '(whatsapp/', 'ago.waiting', 'folks!', 'amd', 'nice...she', 'caring,', 'poody,', 'cute?', '(dingo)', 'lacky', 'amora', 'andrew,', 'highlights,', 'process,', 'adopt.', 'details,', 'shuttlecocks.', 'road,so', 'while.', 'bidara,', 'colour...', '(1.30am).', '♦', 'outing,', 'legs).', 'ready..', '(clearing', 'circumstances...', 'cara', 'arround,', 'menarik', 'aboo.', '26/3/12', '(chest)', 'disoriented,', 'two-tone', '(itu', 'ver', 'one!', 'fur...', 'permintaan', 'healthy,happy', 'supply.', 'adoption..', 'jaga,', '(female),', 'wood..', 'takecare', '(thus', 'sj', 'nomi', 'earth!', 'attention-seeker!', 'spreading.', 'tuan/puan', 'sept>', 'male..love', '：小蛋撻', 'wondress.', 'later.', 'man.he', 'ic/passport', 'smelly.', '?,', 'worms..', 'nina...', '：乖巧安靜，喜欢摸摸～帶點小挑皮～', 'adoption).', \"i'll\", '(black)with', 'alamat', 'gmbar.', 'seorang', 'brazilian', 'mosty', 'hmmm...', 'less..preferably', 'fosterer’s', 'hearing.', '-give', 'alam', 'dark-chocolate,', 'homecooked', 'kitten,pls', 'kucing..sy', \"lovers...i'm\", 'rides.', 'average,', \"free..i'm\", '请问问身边的朋友或帮忙share，感恩。蒲种区。', 'warna:', 'danger.he', 'station,', 'kairi', '(puppies', 'furless', 'mawar', 'rescued(with', 'sudah.', 'middle:', 'attitude,', 'petfood', 'see...', 'temporaryly', 'peers.', 'sched.', 'neutered/vaccinated', 'suffer..', 'terbakar', '(sand).', 'interview)', 'chris', '(color', '(joanne)', 'insecure,', 'vidhya', 'jul', 'skin.', 'koh', 'month.it', 'issue,', 'samad,', 'pj,', '***he', 'jocelyn.', '(ia', \"'dig\", 'forget,', 'terms,', 'asma.', 'tampok', 'tngah', 'hapily.', 'winnie:', 'number)', 'legoland', 'bean.', '2)long', 'sept.the', 'purpose.', 'nilai,', 'bangi-kjg-putrjya-serdg.', 'world!..just', 'eyeball.', 'worker,', 'being..', 'v-notched', 'heart!!', 'kisses!', 'eyza', 'agent!', 'parasite.', 'factory.the', 'black-and-white,', 'bali', 'must-have', 'nick,', 'deaf.', 'pagi', 'sbnrnya', 'ngo', 'moves,', 'belang2.', \"lil'\", 'produced!', 'contrast.', '24th,', 'adopted!!anyone,who', 'smellanor!', '26/2/18.', 'commitment.', 'worm-free.', 'dirty.', 'wong,', 'rumag.', 'koi', 'bobtail!', 'them!).', 'bley', 'harry,', '两个月', 'riley', 'explore.', 'blu.', 'healty,playfull', 'penghantaran', 'mnths', 'snowhite', 'devotion,', 'macy,', 'other.a', \"russell's\", 'ago...', 'hindlegs', 'same,', 'cat.and', 'nite,his', 'damansara..', 'transportation.', 'kembar', 'friend:', 'call/sms/whatsapp', 'llbean', 'circumstances..i', 't-ger', 'ramai.', 'black,male.', 'pet’s', 'kasih!', 'enviroment', 'only!', 'down\"', 'me.today,i', 'healed..', 'tummy.he', 'berjaya', '[booked]', 'solids.', 'cat,,,so', 'grey).', 'two-and-a-half', 'guardian...please', 'is?', '😍😍', 'kindly,', 'whatsapp/email/facebook/instagram/house', 'shee', 'legacy!', 'miki.', '*p/s', 'mummy.', 'maintain....so', 'seek,', 'najihah,', 'photo)', 'lighter,', 'ball,', 'stacey', 'frosty,', '(apart', '(stays', 'yer...', 'cert.', '8pm', 'it.if', \"shs's\", 'spaying)', 'wif', \"minoo's\", 'entrance.', 'ill-treated', \"'put\", 'noted.', 'back!).', 'cream,', 'beagle.we', 'shelter...', 'aroud', 'young!', 'net.', 'trlebih', 'aia', 'lah.', '4/,', 'follow-ups).', 'ferringi', 'manny', 'kiera.', 'adopted).', 'bermin.', 'tasha', 'grateful.', 'cash,', 'staying,', 'together......', 'vco.', 'baka..', 'maintanence', 'says.', 'scaddy', 'stormy.', 'binky', 'clarissa', 'home...', 'weekend(7-mar-).', 'are,', 'active!', 'samaritans', 'haha', 'dachshund.', ';)love', 'cyberjaya.', 'parks.', '(kept', 'miss.', 'energitic', 'probs', ':-d', 'cuddled.', 'dearly.', 'thai', '80s', '3x3x3', '♦has', '…', 'wishes.', 'financially,', \"'frontlined';\", 'panaromic', '-age', 'pay.', '......................about', 'asked,', '&2', 'posting,', 'minyak', 'stray)', 'menyedihkan.', '2-month', 'gold,closer', 'enquire,', 'hand.', 'grace,', 'love-able', 'dogs.pls', 'whitish:', 'tough,', 'enkay', 'tq..;-)', '27/1/', 'pre-merdeka', 'evaluation.', 'bio.', 'evening.', 'tom.', 'alley.', 'party,', 'janda', 'bersifat', '二是不理她,', 'in.i', 'weeks,&', 'hendak', 'win!', 'dalmation-mixed.', 'loudly.', 'mel-d', 'wawa;', 'alaska!', 'dbkl', 'selalu', 'adjust).', 'station)', '所以没有结扎', 'chest).', '\"lips\"', 'experience,patient,loving', 'speed.', 'daily...and', 'fall..he', 'box)', 'pound,', 'haven,', 'toilets,', 'vetenary', 'up/visit', 'view:-', 'knee.', 'provide.', \"others'\", 'assist...', 'umur,', 'semiflate', '(slightly', 'doggy,', 'dikenakan.', 'it..now', 'advocate,', 'lifetime.', 'moody,', 'squarr,', \"neighbour's\", 'puppy..', '.tq', 'puppies.those', 'learner..learned', 'destructive.', 'wailen', '\"fetch\",', 'everything.', 'indian', 'card.', 'shortly.', 'betina.', 'theres', 'hafiz..', 'owner..brownies', 'nekoko', 'tk1/1', 'sihat...seekor', 'bowl.', 'fox..', '品种:迷克斯', 'playful,he', '(and/or', 'intec', 'requirement:', 'byk..', 'oninz', 'tone,', 'dinyahkutu', '2-day', 'mani', 'polpot..', 'petnanny', 'locals.', 'siam...', 'azzul', 'literally.', 'mereke', 'sendiri', 'tah', 'officier', 'dewormed.', 'friend/big', 'lynn:', 'affection.', 'person...', 'ronaldo..he', 'house.hoping', 'orang.', 'hide-the-shoe.', 'khong', '(bent', 'me,current', 'foundation).', 'country)', 'food.......', 'thin..i', 'ss15', 'personality-wise,', 'raw.', 'harap', 'calls,', 'maco', 'wrestler!', '(porch', 'essence!', 'inspection.', 'dia)', 'stronger,', 'holes.i', 'itu,', 'ones).', 'roadside.mummy', '15.6kg', 'jantan)', 'basically,', \"i'ts\", 'disebabkan', 'ramadhan', 'wood/', 'sandra', 'drak', 'wing..', 'accepted)', 'affected,', 'mary', 'mutty', 'missle', '___', 'allergies.we', '7.23pm', 'ghost.', 'tak?', 'limitations.', 'maroo,', 'hehehehe', 'as:', 'old-very', 'herself,', 'daily).', 'baby,no', 'owner....', 'gromming,vaccinated,', 'fikirkan', 'wings.', 'jaja', 'mont', 'baik,', 'them.we', 'gastric.', 'gunther’s', 'chubbby,', 'drains.', 'most,', \"choco's\", 'all--two', 'potential,', 'buying,', 'presint', 'dropped/dumped', \"pups'\", 'stimulation).', 'regulations/neighbours', 'buta', 'allergic.', '-innocent', '11kg.', 'desa.', 'area.puppies', '(euthanised/killed).', 'nampaknya', 'with,', 'sentul.', 'pet..i', 'kittens),', 'movie.', 'street,', 'swedish', 'diggies', 'week.they', 'little;', 'nutram', '2.fish', 'newspapers,', '(hanafi)', '*neutered', '/14', 'arya,', '2.5months', 'guard/watch', 'saying,', 'ogos', 'do!', 'islooking', 'time.', 'tntng', \"'excuse\", ',which', 'central)', '联系号码:（li', 'loudly,', 'hospital.', 'osteoporosis.', 'challenged,', '♦very', 'scooby,', 'mengatahui', 'females,black', 'call/whatsapp:', 'ringkas:', '++,', '(could', 'suruh', 'chinta', 'internet.....kerja', 'gve', 'onionz', 'paw)', 'sad..', 'alert!', 'time).', 'first,she', 'all!!', 'intelligently,', '我的電話是：', 'kaya', 'heart-melting', '有兴趣请联系', 'at.thanks.', 'hama.', 'muslim.', 'xsiap', 'them.they', 'drink..dog', 'me:/', 'wolfe:', 'muchukkk', 'follow.', '(royal', '☺️', 'u,', '(fiv,', \"weeks'\", 'hurung', 'palm-size', 'stroking.', 'scaredy', 'squmppy', 'active/friendly.', 'healty.', 'sahaja.', 'people!', 'from!).', 'willbe', 'swiftly.', '(thean)', 'seperti', 'smart!', '5/5/', 'neutred,', '9:30am.', 'bersama.', 'aadopt', 'agreement.', 'patting,', 'revolution).', 'responsiblity.', '-naughty,', 'pju', 'foc!', 'quarrel...', 'barnaby', 'nasihat', 'love??', 'ivie', 'deteriorated.', '-kitten', 'opens.', \"nature,she's\", 'petani.color', 'getting.', 'companian', 'build.', 'caj', 'bz', 'cash.', 'sandy!', 'trained....playfull.you', 'colour!', '\"kompom\"', 'tak', 'leh.ciri', 'kinik', 'sure)', 'wa', \"kacho'\", '+ve!', 'years..she', 'tsu', 'mertajam.', 'way...', 'indoor,', 'contact(wassap)', 'cats:', 'appetites!', 'tummy..he', 'viruses,', 'friends,a', 'pirate.', 'collar).', 'household.', 'bunga.', 'dent,', 'go.huggieboy', '6a,', 'trial.', 'someon', '\"旺来\"', \"'upin''.\", '(female),white', 'kreatif', 'gratitude.', 'on:-', 'mama.', 'active,cheerful', 'sekali,', 'balakong.', 'kuantan..', 'pet,shih', 'puipui', 'f,', 'sapa', 'langkawi', 'beautiful..', 'wardens.', 'exhausts,', \"'soft'\", \"di'adopt'\", '(desa', 'lives!', \"jamaica's\", 'sites,', '2-mth', 'mild,', '~~', 'achik', 'she’s', 'carried).', 'stroked.', 'jawapan', 'pedigree!', 'folks.kept', '↑', 'minoo', 'dorg', 'male-3', 'kitty.', '(30', 'mothersmilk,', 'janie.', 'sag!!', 'mischieveous,', 'girls.', 'siammies', 'lou', 'household,', 'kitten🐾', 'neuter..', 'well,', 'parvo', 'safty,', 'rm-rm', '目前3只小狗都住在菜市场里,另外5只已被人‘拿去’～祝福他们都遇到好家庭～剩下3个小女生', 'unfortunately,we', 'overnight!', 'name:ken', 'catcher,the', 'stuffs.', 'ayer', 'dilayan.kitten', 'trained!!!', 'keeping.', 'call/text', 'gazzillion', 'injured..according', 'stall,', 'tar,', 'kittens.', '__', 'b(kiv),c', 'adventurer.', '大概沒有辦法生存。', '-location', 'wish.', 'resort,', 'choco.', 'furball.', \"motty's\", 'restrained.', '),', 'lepaking', 'mendoakan', 'soace', 'protest.', 'napa', 'divested🙁', 'coat..no', 'jo-jo', 'longer...nice', 'ewa', 'air-cond', 'god.', 'nest\"', '3)i', 'pulau', 'whene', 'nie..sy', '\"kopi\",', 'reaponsible', 'tummy..might', 'lulu.', 't-rex,', 'kuala', 'too),', 'bark,', \"dosen't\", 'itself,playing', 'well-trained', 'jessy)', 'ideally,', 'khong.', 'pounces,', 'contact=(christina)', 'lari...lebih', 'computer.', 'betina.anak-anak', '\"handsome\"', 'yeochi', 'playful(during', 'females:', 'gemini', 'asean', 'come.we', 'louis)', 'way,', 'perak.', 'chinese,', 'mamak...manja..sape', 'hsbc', 'area!!he', '..like', 'cute,playful,healthy', '\"he\\'s', '(hand', 'succesfully', 'beauty..as', 'email...', 'advice,', 'boars.', 'everyone，lexi', 'people)', 'member)', 'samy', 'noise!', '這些小狗狗需要一個家及愛他們的主人。', 'clame', 'orange,so', 'mewing.', '-rice', 'playful.they', 'percaya', 'cream/beige', 'discuss..', 'cat...please', 'bantuan', 'samiritan.', 'fur,now', 'groomed,', 'rough,', 'onr', 'stripe.', 'puan', 'fiancee', 'commands..', 'veterinar,', 'chase/bite).', '5months', 'thin.', 'shannen', 'fixed.', '(approx', '[urgently', 'shampooed,', 'factor)', '1st.)thanks', 'shanty,i', 'attack,', 'didi', 'pancrease),', '=>', 'alert;', 'dibo', '\"crying\"', 'you~!', 'independant,', 'fb', 'owner:', 'mobile).', '(needs', 'only）', 'skudai.', 'owner)', 'houdini', 'pork,', 'org..sakit', 'pet-keeping!', 'cat,playful', 'carer.', '>many', \"'go'\", 'website/fb', 'kali.', 'home]', 'brutal.', 'street-smart...whenever', 'him...prefer', '15years.', '25.7.,', 'cha-', 'wouldve', 'long，', '(nad)', 'sikly', 'spayed/castrated,', 'medium,', 'sesi', 'hall.', 'future,u', 'wolfe', 'dh', 'othman', 'wonderful,', '（狗狗已被领养了，谢谢）', 'post)', 'kesian-looking', 'gaia', '3-4mths', 'tabby(male)', 'sb', 'lov', 'presence.', 'maggot.', 'petfinder.my', '2)狗狗到了适合年龄，带去结扎', 'uncertain...', 'pc', '*preferable', 'fido', 'vaccineated', 'nst', 'survive...', 'trouble,', 'inrerested.', 'seremban.', '***prefered', 'bonus)', '品種：土狗', 'care*', 'questionaire', 'cherish&', 'dog-lover/', 'ina,laili,faizal..', 'usj18.', '*he', 'commands...no,', 'safely.', ':(sms', 'them..', 'regrets.', '我們暫時將5隻帶回來，', 'menerusi...', '：男生male', '`he', 'nyuruk', 'adopting.thank', 'rita', 'kerja..hari', 'face(male)', 'yrself..would', 'station.browne', 'leukimea', 'shampoo,used', 'rujuk', 'fetch!:d', 'well..so', 'potential:', '\\'dirty\"', 'orange/brown/black', 'berumur', 'bobby.', 'adjusted,', 'come,', 'tofu,', '有養貓經驗者優先...', 'kasih.', \"morning....that's\", 'ringo', 'chocolate-colored', 'scheme.', 'week!', 'breed..her', 'think..', 'thirsty..and', 'flowerbelle!', \"july'16.\", 'gbee', '*update*', 'breed.', 'eye+ears.', 'chance...', 'dihargai,', '(dimandulkan)', 'supervision.', '不能關在籠子里養，衹能開放式的養在家裏！', 'park,', 'independent.', 'dibuang.', 'usj1,', 'oshi', 'kereta', 'sheida', 'it).', 'legged.i', 'norman.', 'reason..hopefully', 'teruk.', 'nama:', 'euthanasia.first', 'discharge.', 'please...please..people', 'findly', 'ball..that', 'eczema.', 'divider,', 'amik..thanks', 'ps/', 'hera),', 'mandulkan', '(up', 'elvis,', 'interaction.', 'selepas', 'before,he', 'miracle,', 'viewing.tqvm', 'go.', 'pal,', '‘bunny”', 'dewormed', 'pyramid!', 'lot...', 'bruno.', 'call(kak', 'ehen', 'potty-training', 'heirarchy.', 'aug.', 'nellie,', 'sorang,', 'hugs*', 'behind,', 'dried!according', 'puppies/sick', 'appetite(eating', 'broken/injured.', 'pedigree.', 'dr.', 'home:)', 'looi.', 'precaution.', 'house...', 'release:', '(antibiotic', 'tikky.', 'buang...', 'avila', 'climbing,', 'korea.', \"can't.\", 'seconds.', 'bagi.', \"apartment,that's\", 'resistance,otherwise', 'male,1', '16/1/', 'kakimotong.', 'dipasar', 'berkawan.', 'adoption!*', 'damanasara', 'playful.not', 'huh?', 'lingkugan', 'berkali-kali', 'slow.', 'angelina', 'berapa', '14/5/:', 'sofa,', 'bnyk', 'adaptable.', 'owner,thanks', 'meru,', 'hearted,', 'bekilat,', 'chellom,', '************************************', '10times', 'bangi/kajang.', 'sembuh', 'maine-coon', 'puteri,', 'dog.adoption', 'elfi', '(d.o.b', 'home.😊', \"(he'll\", 'old,short', 'window,', 'precious.', 'chester,', 'danger\".', 'ws', 'zachy.', 'cream-colored', 'sembilan.', 'jambu', 'thing.foster', '(pch', 'street-smart,', 'sponsored*', 'daschund', '(nutri', 'him,,', 'orange)', 'berdua', 'sand..', 'tultul', '1puppy', 'garfu', 'alexander', 'cute;', 'him.', 'jiran..hahahahaha', 'city,is', '“chosen', 'friendly.she', 'migo', 'gwennie', 'ini', 'yatimah.i', 'bilis', '4ekor.', 'text.', '谨记，宠物是一辈子的责任，领养不弃养。', 'richie', 'mampu', 'treatments,', 'lap-cat).', \"'lucky'\", 'friendly..', 'corner.', 'canin+blackwood', 'alergic', 'haru!', 'guys..i', 'freely.', 'her..while', 'christina', 'us::', 'ofcourse!)', 'b1', 'picture,', 'gums!', 'insects.', 'checks.she', 'yelpers!', 'etc).', 'dog!his', 'mandy', 'java,', '(tri-colored', 'promise.', 'skippy', \"yo's\", 'neutering.', 'hal', 'shld', 'passed...and', '从干净白色的毛发，圆滚滚的体型直到变得doremi的排骨，黑色的毛发...', 'semula', 'kinski,', 'cage.(been', 'mastiff.', '/:', 'bear!', '抛弃我在路旁真的不是唯一的出路', 'betul-betul', 'jualan', '***submissive***', 'happiness!', '\"older\"', 'enquries&', 'instagram', 'mo', 'bubbles.', 'you....', 'ders', 'cats....i', '+-3', 'denzel', 'cats,', '(1.2ml', 'gray).', 'bastards.', 'sy.tq', 'finishes.', 'kinta', 'growls.', 'naughty,', 'kandungannya', 'everywhere..he', 'proximity.', 'siamese,', 'tie-up),', 'steady,', 'aktif,toilet', 'dakota', 'veeyee', 'lepaskan,kucing', 'hearts,', 'appetite!)both', 'bharu.', 'talk.', 'gentle,', 'alang)', 'kampar', '-scared', 'tortie.', 'baik', 'shihtzu', 'sas', '那时初見她,', 'skali,', '领养代替购买，结扎代替捕杀。', 'accurate,', 'garcia', '🐾🐾', 'kids).', 'size..like', 'kitten.well', '(this', 'thiger', '(in', 'gold-grey', 'recent,', 'putih/cerah', 'moomoo.', 'unconditionally.', 'fosterer,', 'tau....', '(agak', 'crackers,', 'medium..', 'her...lure', 'po', 'scratched.', '1pm', 'hope)’s', 'sunways', 'shelter.pls', 'dogs.anyone', 'character..', 'playful.litter', 'supercoat', 'males,', '(malabsorption)', 'ppl).', \"area...i'm\", 'kepada', 'victimised.', '領養的第一天答應帶他們去打預防針。', 'nag...', 'emel:', 'universiti.', 'caging)', 'door”', 'sahaja)', 'strings.', 'keseorangan,', 'smokey/siamese', 'plants.', 'intetested', 'snacks,', 'them...i', '(/14).probably', 'health).', 'month,she', 'bernard,', 'asher', 'sebab2', 'work).', 'athletic.', '(dry).', 'bone?', 'people...i', 'tahan.............', 'jelutong', 'starve.', 'westland', 'breeding).', 'shoes.', 'edmond', 'neil', 'any),', 'bulan)yang', 'tige', 'sbb', 'wait.', 'georgeous...', 'mth.still', '(pic', '(apartment).', 'owner...', 'nakal..', 'tame)', 'busy,', 'sopan', 'constraint.', 'hospital,', 'adopt.hope', 'snuggle-puss,', 'bulan,', '♦adorable', \"b'worth\", 'email/sms', 'prince:', 'steady.if', '(another', 'christmas', 'lick.', 'naughty!', 'poci', 'attach)', 'miko.', 'well-matched', 'call/sms.', 'matted)', 'tanggungjawab.', 'tail,friendly,playful,manja,active', 'stopped.', 'deon', '\"big', 'training.', 'f)', '(loves', 'whity.', 'pre-booking.', '(b&w', 'rayyan.', '5month', '有点小挑食', 'sister-in-law.', 'kindest.', 'apr', 'accidents.', 'language.', 'selalu.', 'sucurity', '吉隆坡,甲洞', 'viewing.this', 'hound)', 'anuty', 'oves', 'ago.my', 'alert,', 'limping.', 'rehabilated', 'street-smart', 'bit.', 'quicker.', '27-sep-', 'ooking', 'sekamat),', 'ampang.', 'minat', 'miyaki', 'shahrizan', '1x', 'dimandulkan...sesuai', 'fought,', '(obviously)', 'purrdy', 'buying~', '\"soccer\"', 'kamera.', 'fo', '3cats(mom', 'ibu2', '6.i', 'february.', 'tel:-', '(13/4/14)', 'basket.', '().', 'fetish.', 'girl...she', '5-month-old', 'together.feel', 'puppies(2', 'adopter!', '問一問,', 'auto-milk', 'full!', 'envinroment', '2mths', 'teramat', '6)', 'outdoor))', 'afternoon!', '🏠', 'kisah', 'mixed-breed', '19th', 'lightgear.', 'rescuing!!!', 'ahhh', '--------------------------------', '谢绝玩弄哦', 'maid.', 'food,this', 'dia.....', 'home,very', 'grille.', 'ioi', 'clean,loving,affectionate,quiet', '3)定时更新我狗狗近况', 'miliki..', 'rapat', '❤', \"d'\", \"cody's\", 'olds', 'cousin;s', 'jan', '*actually', 'ginki,', 'yinchin', 'antarabangsa.', 'water),beside', 'adorable....', 'b..', 'cekau', '-trained.', 'sibuk', 'kumba', '不能隨便給她們吃不好的貓糧或人類的食物。', 'mother;s', 'ginger(yellow/white)', 'around.this', 'sembilan,', '():', 'adoption..he', 'kitten)', 'dogs!!', 'ohana,', 'proof.', '(klinik', 'looker,', 'least]', 'lab!', 'toileting.', \"rex's\", 'water.', 'trucks...', \"chabee's\", 'aloof,', 'sharp.', 'lapponian', 'sem', 'gets).', 'broomstick,', 'hancing', 'eyes\"', 'huan', 'friend.please', '==>', 'pregnancy,', 'mereka.', '三隻可愛的貓需要愛貓人士的領養哦~', '5pm.', 'pwetty', 'starvation.', 'injured,', 'month-', 'oreo', \"old..it's\", 'husband/', '-putih', 'digi', '5)make', 'find).', 'mkanan', 'addorable', 'tim', 'adopting,so', '.cheerful', 'pertolongan', 'sms/whatsapp.tq', 'ran....ran', '2%', '(2', 'produced!one', 'tikky', 'fom', 'companionship.', 'color)', 'calm.', 'girl.please', '(advocate).', 'affectionately.', 'garage,', 'maggots!', \"'down'\", 'roommate!', '30kg.', 'filthy,', 'adopter/dog', ':rm', '17,shah', 'injections/vet/spade', 'blind,', 'sushi.', 'teresa', 's/he', 'info.', 'adopters!!!!!!!!!!!!', 'entertained!', 'feels!', 'relaxed.', '#vaccine', 'vaccination.', 'fosterers,', 'lola', 'size.he', 'lame.', \"santa's\", 'lim,', 'kopi', 'home..and', 'lembek-lembek.', '1pm-7pm.......thanks......', 'beautiful...', 'maaf', 'bless!', 'lorry.', 'ball/stones', 'cinammon,', 'chocolat', 'looking.', 'loong', 'negative.', 'like.to', '(rm15', 'destructive,', \"guys.u'll\", 'responsive,', 'pregnant)', '\"shy', 'membolehkan', 'inshaallah.', 'rexy', 'deflea-ed', 'tiga', 'area.thanks.', '20%', 'pupp', 'adoptable,', 'beagle.however,they', 'berger', 'activitys', '*phew),', 'daxixi3', 'extend,', 'lifetime,', 'manyaw....', 'afar.', 'mealtime.', 'canot', '(its', 'breed.a', 'home/adopter', '-cannot', 'almong', 'months,', 'damai', 'kurus,', 'spotsy', 'fawn.', 'tlc!', 'gorky', 'youre', '*adequate', 'furboy', 'around).', 'home.healthy', 'displays.', 'licorice.', 'accepted).', '而\"旺来\"還是被绑在固定的地点。有一天,', 'azah', '/09.', 'sleep.and', 'kayella', 'pos', 'gate.', '2weeks..', 'cateliya', '(right', 'sometimes..', 'spots).', '(non-refundable)', 'cry,', 'neck..', 'learner.she', 'yang.', 'catlovers,', 'to!!!!!!!!', 'nescafe', '1female', 'utama.', ',playful,', 'yourself.', '地点：巴生，吉隆坡，怡保', '它的故事或许并不是最感人，最吸引人但它想活下来。', 'oven.', 'wanted/interest', 'appreciated).', 'apartmet', 'beranak', 'crowd-funded', 'pertolongan.', 'papa,so', 'permanent,', 'soccer.', 'seat.', '*如果到我们指定的宠物诊所', 'rozy', 'we(mercy', 'cured.', 'sebagaimana', 'pahang', 'truck.', \"breeding.i've\", 'soon),', \"'just\", 'canin.', 'thirsty;', 'cinderella', 'tristan.', 'cuter).', 'selatan.', '3months.', 'bulat.', 'strokee', 'fiv.', 'above....', 'sit..', \"'toffee'\", 'ape2', 'splotches.', '\"orange\"', 'ramal', 'orange.juga', 'ceiling,', 'heartshape', '(spaying', 'dobermann.', '7feb-', 'salmon.', 'biru...macam', 'melepaskan', 'anyone.', 'dog...', 'headmaster.', 'lee,', 'small/medium', 'guinness', 'cat..fully', 'brando', 'be.he', '^*^)', 'yawn,', 'since.jumper', 'full-length', 'mbpj.when', 'tilagu', 'gombak', 'ago...☆♥', 'vigourously', 'pup....', \"ones'\", '(3/12)', 'street.now', 'terms:', 'code.', 'petfinder', 'firsky', 'waktu', 'ahmad', 'semi-d,', 'sporotrix', 'perished.', '和每年为他注射例行预防针', 'blocked.', \"business'.\", 'pontian', 'account),', '3pm', 'tone),female,very', 'qt', 'ohsem.', 'much!', '*dino', 'mrs.lai', 'ms.fanny', 'fireworks.', 'deworm...other', 'kid.', 'so,i', 'donald', 'javanese', '-comel', 'neigbourhood', 'litter-box.', 'kene', 'lola.', '流浪这条路不好走，流浪并非是它原意的', 'ambang', 'queenie', 'sekali..', '12-jul-.', 'colour(', 'kongsi', 'occupation?', 'in,to', 'tiger-like', 'coco!!!', 'dmh.', 'bertubuh', 'pitt', 'bmi', 'juga', '\"samak\"', 'stripey,', 'active,growing,', 'purrs..', '好乖的猫咪，不舍得让她在外面流浪，希望您可以给她一个温暖的家，感恩🙏🏻', 'kawan2', '*家庭式领养人最佳', 'interested,sincere', 'rare.', 'yet).', 'owner.so,if', 'charcoal.', 'b&w.', 'princess.', 'sun,', 'weight...', 'bailey...', 'recommended)', 'night,they', 'mencari.', 'taught.', 'medivet', '(poo+pee', 'teddy:', 'pls...adopt', 'xxx', 'dah...', 'condition.she', '**p/s:', 'thirst.', 'other..', 'tail..i', 'earliest.', 'female.', 'jantina:', 'coffie', 'humans.now', 'vaccination**', '#prefer', 'rolla', '-playful', 'sun-glasses', 'putra', 'home.on', 'home..hitam', 'puppy.', 'ringworm).', 'location:subang', '(unwanted', 'supplement,', 'loving!', 'tammny', 'clinic.when', 'kaler', 'trust,he', 'national)', 'breed,mix', 'jackjack', 'je..sbb', 'me.u', 'jalil/', 'capri', 'mixes.', 'miaw', 'zylan', 'j-male-02', 'alone.', 'dikembirikan...', 'owner!!', 'behavior.', '(short)', '(before', 'tanjong', 'baginda,', 'robert.', '\"labrador\"', '👀', 'deserve...', '—', 'tqtq', 'almond(golden),', 'cage!!!...', \"thank's\", 'house).', \"goreng'\", 'hunter.', 'buddies.', 'megan', '>^.^<', \"'accident'\", 'casey', 'rehome!', 'ali)', 'now.rain', 'arrangement.', 'toy:', 'injury,', 'active,like', 'task.', 'sooo..oo', 'alert~~~', \"boy...we're\", '(lohicr)', 'milkmilk', 'wynn,', 'baby..still', 'te', 'commited.', 'mon-sun', 'water(', 'heaven.', 'cheeky.', 'indipendent.', '(4/12)', 'friend,who', 'pups)', '(dob', 'energy..sadly', 'days!!!!!', '我们是“优美可笑”', 'busy....', 'puppies.it', 'out.', 'barbara', 'him...please', 'incidentally,her', 'head)', 'cross.vaccinated,dewormed,', 'month++', 'coloured)nearby', 'bedroom.', '别让小叮叮失望好吗？', 'xserasi...so', 'jeddah', 'renovation.', 'smartheart.', 'temperament.he', 'boarding)', 'lembah', 'answered...', 'tiga2', 'breeders!!!', 'ward.', 'constantly.', 'terrible,he', 'witn', 'home..pm', 'lah).', '-sit', '-kept', 'dione', 'kondisi', 'teehee!)', 'purrr,', 'annoyed.', 'dec', 'syg', 'videos:', 'free?', 'sooty,', 'with...', 'lohicr.', '😀😃😄', 'fit,', 'vitamin)', 'tito.', '(see', 'sabah', 'stokin;)', 'betina,', 'fleas/ticks', \"gracy's\", 'submissive,', 'tuesday,', '-----', 'male)', '圆圆比较喜欢自己独居生活', \"15'.\", 'deticked,', 'alam/seri', 'person-in-charge.', 'care.owner', 'ini,', '(huskies', '-manja', 'do,', 'lady-like.i', 'food...she', 'e)', '30/5/', 'hair...', 'stable.', 'male/2', 'clever.', 'jimmy.', '************************************************', 'zakiah.', 'parking.', '[approx.', 'tvt.', 'awful,', 'urgentttttt', 'buloh,', 'voice.very', '(wants', 'cheras/kl/ampang', 'sayang....', 'barangan', 'ligation.', 'huuu...', '(5month', 'malaysia,', 'cute..healthy..obedient', \"brutus's\", 'cat:-', ',one', 'hyperactive.', 'limping,', 'momcat.', 'coated...', 'onward.', 'manja', \"loke's\", 'hobbies:', ';d', 'couldnt', 'afro', 'chain.today', 'lowey', '那时身邊小狗只剩一只。我要求朋友幫忙带走她,', 'sangat-sangat', 'lahir.', '...love', 'makhota', '\"potty\"', 'nikita', 'klcc', 'smart,playful,', 'attention).', 'inside)', 'pm,', 'terminaaly', '❤️', 'pepper)', 'bercakap.', \"'brownie'\", 'dog.they', 'says:\"', 'bg..', 'reading,', 'make.', 'desease', 'ω', 'pinang', '5pups', 'ever.', 'family!', 'pippa.', 'dusbin', '*four', 'learner.', 'yamuna', '(大小便)', 'eyes/b-color', 'catch/dognap', 'merry.', 'foster/forever', 'nyet', 'resident.', '*first', 'outstation,,', 'mika,', 'ok.):', 'call,sms', '(have', 'planning;', 'scratch.', 'green+blue', 'wm', 'world.', 'review.', 'pinschers', 'day),', 'allowed\"', 'baru..', 'already).', 'wouldn’t', 'need.', 'dapur.', 'swear!', 'penang.', 'status,', 'membuat', 'nabi.', '人类常怪我们导致安宁，导致环境肮脏...但责怪的人却没想过那么多流浪狗是谁造成。', 'physique.', \"then.....it's\", 'problems.', 'wei', 'adopter.all', \"'s\", \"adopter's/s\", 'thoughts,', 'maximillian', 'cuddle.friendly', 'appreciate.', 'fine!', 'damas.', 'opp.', 'you..', 'siblings)--rehomed', 'worry,', 'dragon.', 'e-mail/sms', 'staff/office', 'choosy,', 'pees/poop', 'menjaganya.', '6months-7months.', 'scotty', 'poodle.', 'anderson', 'milo-', '😸', '体型属中型。生性聪明，不乱吠，乖巧易教。', 'johor.', 'coulsd', 'low-quality', 'sentuhan', 'curious/crazy', 'die!', 'qayyum', 'semenyih.', 'phase,', '>thanks', 'stuck.', 'sleeping/nap', 'friendly!', 'jooby', 'ginn', 'bessy).', 'sendri..tq', 'owner.this', 'wassap', 'dialect,', 'time!!', '義工會慎重挑選領養人。領養條件如下：-', 'labrado', 'thing...', 'roam!', '\"come,', 'ii', 'april).', 'bear,', 'moon-jelly', 'baru..nak', 'fiona', 'mother:', 'sheila.', 'ashuwat', 'bapaknye.', ',just', 'sihat..lincah', '😊', 'see!', 'kajang.', 'dida', '*neutering', 'cattery.', 'jamaica!', 'rajin', 'muscular.', 'adopters):', 'usj/subang', 'member.', 'treats?', 'temperatures,', '\"ok\"', 'homes...a', \"'too\", '...wants', '(sofi,', 'scovel', '•very', 'kelly.they', 'mengadopt', '圆圆是只全盲无眼珠的老猫猫', '(charcoal)', '(tuesdays', 'being.', 'similar.', 'spot.', 'small,', 'resuce', 'contact/visit', 'manakala', 'her.', 'me...im', 'sentosa', 'terjmupa', 'sale!', 'steadier.', 'asalnya', 'new,serious', 'letgo', 'sense.', 'cikenets', 'water..', 'sonme', 'home.p/s', '(blackwood)', 'caryn.', 'mucchhhhh...............', 'improving.', 'choose.', '2.this', 'seen,', 'soft-spoken,', 'spoken.', 'dog.however', 'komala', 'be!', 'kebelakangan', 'address.', 'perkarangan', 'serdang', '-quiet,', 'youtube', 'anymore,', 'neutered/kembiri),', 'coon.', 'folder.', '\"responsible\"', 'judylovepet', 'grown.', 'kontot', 'owner.so', 'want.', 'pampering,', 'cute~~', 'xtakut', 'playful,obedient,', '0.5ml', 'tracy', 'worry.', 'sit,down,wait,spin,roll,jump,up,beg,bye2', 'meals]', 'obedience.', '(wong', 'mattres', 'sweety...just', 'asas', 'wires.', \"'ll\", 'ledang', 'female-1mth+.', 'shine,', 'pat,', 'zazu', 'we’ve', 'this....sos..', 'temple.', 'gembira', 'vomitting', 'sneezing,', 'daxx', 'still:p', 'asap)', 'something..there', 'tabbies,', 'worries,', 'soft,', '\"october\"', 'jt-', 'micro-chipped', 'here..', 'room!', 'contacts,', '-)', 'selamanya.', 'people,', '领养代替购买；结扎代替捕杀。', 'fosterers.', 'muar,', '6pm', 'day)', 'dude.top', 'we’ll', 'calmer,', 'kuar).', 'semut.', 'experiences,', 'care.', 'etc.,', 'je...', 'gomol,', 'think?', 'well-being', 'tanggal.', 'gombak,', '(lep)4-7.', \"dato'\", 'year,', \"determination..she's\", 'maggots.', 'adopter,please', '(20th', 'zoey', 'fluffy!!', 'bagheerah', 'ashe', 'staffi', 'cinammon', 'tex', 'malfoy', 'there.that', 'tractors,', 'excreting.', 'welcome.)', 'kibbles!', 'tame,', 'serious,', 'pipka', 'tanggung.', 'hitam..my', 'safe!', '-breed', 'tuesday.', 'kid;', 'them.', 'sonya', 'cute....if', 'foot!', 'overly-attached', 'home..cat', 'www.klpoochrescue.org', '(english', 'loving...', 'kido.', 'aina', 'pawrents', 'caged.', 'creature,', 'playmate.', 'widely...we', 'bravo.)', 'millio.', 'malaysian.', 'mpsp,and', 'kitten,already', 'shwun', 'pythons.', 'roma,', 'abby,', 'yellowish.', '--->', 'haiwan2', 'personality.she', '七个月大的女孩', 'doesnt..i', 'december.', '13/5/', 'skuai,', '8+', 'tzu.he', 'energy!', 'pulse.', 'enterprenuer', 'bunch....sbb', 'bulat', '(!_!)', 'well...but', 'working(farm', 'opened.', ',caring,', 'domesticated.', 'miauwing..asking', 'reluctant,but', 'rock-star.', 'jiawei.', 'arises,', 'ago,i', 'permanent,loving', '_________________________________________', 'nini(yellow', 'call,', 'coffee,', 'saya..saya', '/,i', 'well-fed', 'workload,', 'spain,', '\"cool', 'berbelang2', 'red!', 'malee', 'female.....if', 'choosing.', 'bye2', 'milk,', '(amy,', 'vivi', 'crowie', 'indoors/no', 'dipegang.', 'saya..', 'spitz-golden', 'city,', 'kendi', 'moly,', 'chika', 'appreciated)', 'fifie', \"families'\", 'elegant.', ',active', 'dog...i', \"fluffy's\", 'appreciatively.', 'wioth', 'out…..', 'asleep.', 'you.', \"puppies'.\", 'mid-may', 'help,', \"tzu's\", '2mths++', 'colour,blue', 'baca', 'rosee?', 'pedang', 'manja/loving', 'tilt,', 'available...get', 'boy(black', 'fleas.', 'brimstone)', '(mercy', 'ngam', 'companion).', 'dander,', \"mylo's\", '-rescued', '5-6', 'house,', \"children's,she\", 'duty.', 'hour:', 'suria.', 'bus.', 'mrr2', 'kiss..he', 'crusoe', 'hours.tying', 'sometiems,he', 'apartment,she', 'seremban', '3.一次家访-在领养的第一个月', '1)light', 'appointment,', \"'interrogate'\", '\"kneading\"', 'ynag', 'home,many', 'gorgeous).', 'spay/neutering', 'renovated,', 'la.', 'rosco', 'hi..my', 'kitten1,', 'jimbo', 'bila-bila', 'banyak..(dah', 'more)is', 'keeper.', 'soooooo', 'lg.', 'nnt.', 'she,', 'samson', 'asked.', 'rocher,', 'dango', 'menggesel,', 'humaan', 'call/ring', '领养人必须符合的条件：', 'sering', 'befote', 'tractor)', 'desexing.', 'cares.', 'chest,', 'photos=p).', 'tino', 'muat', 'party.', 'entertainment,', 'mao', 'stunning.', 'breast)', 'wihout', 'vet).', 'foxxy', 'dogs.she', \"(won't\", 'kiki:', 'solihin', 'burden^^', 'tq', '(bless', 'timez', '-the', \"jensen's\", 'foals;forever', 'puppies..i', 'buy.', 'much😢', 'europe.', 'massimo', 'drives.', 'jawa.', '(buttercup).', 'nerves.', 'jackie!', 'strings...did', 'playful.although', '3male', 'meowing.', 'unbearable!', 'cuddle.', 'unconcious', '3.)', 'ald.', '“soooo', 'mth.', 'bath..', 'silka.', '7weeks.', 'ya~', '(deb)', 'bro', 'manja.please', 'adopts,', 'hyper.', 'gabby.', \"megan's\", 'hahaaa', '\"meatball\".', 'hati.(kawan2', '(being', 'ointment.', 'have.please', 'pomeranian,im', 'grown,', 'belongings.', 'junction.', 'michele', 'by,', '(p/s:', 'steal...and', 'him..', '请联络/面子书:debbie', '-active,', 'them..adopt', 'tame.those', '2kgs', '\"wong\"', 'person.)', 'lanky,', 'susulan', 'hygiene.', 'berbagai', 'again.', 'dawn,', 'pomeranian', 'unnecessarily.', '.after', 'stays)', 'riendly', '6/', 'whites.', 'hachi.', 'vet),now', 'affraid', 'fuss.', '我能出钱', 're-home', '(conan)', 'eivonne', 'behave..sweet', 'rats.', 'rain:', 'natural-born', 'owner...pls', 'mall),', 'bone/toy.', 'treats...then', 'male-11/2', 'noir', 'travelling.', 'divaksin,', 'in,', 'neuter/vaccinate', 'daily?', '(/)', 'away...gentle,', '(leysha).', '5.8kg', 'taily', ':mixed', 'japanese)', 'havent', 'alone!', 'sangat2', 'tmpat', 'on-coming', 'least)', 'dibayangkan.', '9/3/16', 'resolved.', 'gratitude,', 'members/friends', 'dobie', 'terminally-ill', '(male-', 'canteen.', 'street,meowing', 'developer,', \"gabby's\", 'baby...', 'everyday~', 'counting)', '年龄', 'onwards.', 'owner,william', 'more..*sigh*', 'sudoku', 'happening.', '(so', 'damai,', 'bibi', \"years'\", 'fetch.', '(diff', 'gareth', ';only', 'recovering.', 'fifi..', 'dad(husky).', 'injecfion', ':d).', '\"tell\"', 'centre.', 'anything,', 'grey-blue', 'shoplot,', 'parent.', 'kechik', '可爱小混色狗寻找主人哦！', 'rott從新公開領養⋯', '我失去了一只眼…还有人会愿意爱我吗?', 'kicimeow', 'dogs,can', 'soon!!!', 'sakit.', 'maintain,', 'colleague,', 'ch', 'house-trained', 'tam(black+yellow)', 'periods.', 'stick.', '(spaying,', 'geno:', 'dikesan..untuk', '(total', \"kofi's\", 'cheeko', 'shelter.', 'mengawan', 'info:', 'hopeless,', 'samaritan,', 'allready', 'anti-flea/ticks,', 'ismail', 'gentleman!', 'food;', 'hilir,', 'cannot.', 'duzell', 'main2,', 'home;', 'guys!', 'cicak', 'lain...', 'daddy?', '治安来得差，它原意为你守护家园守护你。', 'freely..', 'intellegent', 'sleeps/plays', 'meshira', 'compartment.', 'bag,', 'fifi,kiko', \"whom's\", 'market,', 'pick-up', '-trained', '感激！', '17days', 'linda', '(severe', 'msg.thank', 'at.cod', '*trial', 'catch,', '你愿意领养她吗?', 'peoplez,', 'feast)', '^_^', 'llive', 'holidays.....the', 'surau', 'whn', 'curently', '(priority', 'ginko,', 'adventures:', 'pj8,', 'run-over', 'hugged,', 'boarding.(i', 'frindly,', '1-', 'week.)', 'bubble.', 'roughplay', 'him,which', 'lim)', 'ngau', 'rehomed', 'call..plz', 'kido', 'darling,', 'how)....', 'pics...', ',and', 'aj', 'cute)', 'soo', 'issue).', '\"stranger\".', 'email,', 'conrad,', 'prob.', 'bowty', \"siblings'\", 'already.gender', 'home...left', 'fearless!', 'je..nnt', 'michael', 'hi..im', 'drains)', '11a,', 'pastu', 'senget,', 'half.', 'attachable.', 'shy..but', 'home.he', 'min!)', '(something', 'hose.', 'intereste,', 'natured.', '***we', 'mobing', '>^.^', 'observance.', 'kairi!', '__________________________________', 'kt', 'rottie.', 'confidence.', 'perhaps?', 'should.', 'rm20', 'pasttime', 'ŷand', 'bersyukur', 'terbiar', 'juvenile-type', 'active.', 'habis!', 'unecessary', 'mempertimbangkan', 'soon)', 'wirh', 'guy.my', 'liter.', \"mugee's\", 'place,but', 'affectionate..nursed', 'memebers', 'trustworth', 'adult,', 'fees:rm', '(sms/whatsapp', '(p/s:this', 'fluffy!', 'philos,', 'info/viewing.', 'bad...', 'black/white', 'week)', 'sherpard..', '(half', 'sy..masa', 'luna,', 'amek', 'restaurant..', 'gently.', 'vicky', 'walkway..', 'makcik', 'abdul', 'visits/transport', 'companaion!', 'doing.', 'aki', 'dirty.so', 'naik', 'pet,', 'morning.beside', 'malang', 'grey)', 'lovers.', 'kechik...', 'bijak', 'mother,', 'studio.', 'lazy,', 'ayonk', 'realised', 'coating..', 'yellow.', \"(can't\", 'shoot.they', 'breeder!', 'milk/hp', 'huang', 'toddlers.', 'whiskers.', 'activator.', \"'panda'\", 'iams.', 'longer...', 'cage...', 'meat..etc)', 'gang)', 'nature),', 'shadow...', 'corner!', 'seiapa', 'geri', 'u...', '-de-liced', 'baby..', \":'(.\", 'groom,', 'me...they', 'feets', 'contagious.', 'alor,', '(nasha)', 'comel.', 'leg..', 'behaviours', 'four,', 'tricks.:)', 'namakan', '....he', 'anyway,i', 'old.☆♥', 'mischief,', 'flats.', 'us:', '(18', 'method.', 'nepalise', 'rott', 'fatin:', 'replacement.', 'efficient.', 'sentul,', 'adopt.need', 'clean,', 'whatsapp/email', 'blanket.', '♡', '(receipt', 'spiders.', '\"hand\"', 'liang', 'chinese', '7kg(purple)', 'sparkle,', '[terms', 'berani.', 'life!', 'furry,', 'neuter.', 'cute..superactive', 'vaksin:', '体色：黑鑲金', 'protective,', 'hospitalisation', 'female..unfortunately,it', 'miu', 'self-inflicted.', '****first', 'spay:no(on', 'regularly,', 'chanel', 'litter-trained.', 'gebuuuuuuu', 'shot)', 'amputated,', '\"allowed\"', 'malay)', 'call/whatsapp.', 'too...', '14/3/10.', 'pronature', 'dewom', 'whereever', 'street-kittens', 'approxmately', 'hidung', 'albino,', 'sure).', 'botton', 'apartments/condos.', '10th', 'miraculously.', 'gantikan', 'fruit.', 'pao', 'well-being.)', 'enviornment', 'flea-infested,', 'biscuit,', 'azimah', '(ligament', 'gugurl', '*toilet', 'july.i', 'play.they', 'places,', 'rod,', 'coronavirus,', 'urgent:', 'ara.', 'purr!', '(spaying+medical+boarding)', 'kittens/cats.', 'justin', 'blue)', 'has/had', 'committe', 'busuk', '(female', 'adopters!', 'orijen', 'super-intelligent,', '[updated', 'sesat.)', ',he', 'sejuk', 'instagram.com/maera_ismail#', 'suntikan', 'memey,', 'ambilical', 'rm50/-', 'sand,', 'tail,', 'dilatih.', '24/7)', 'dialu-alukan', 'brown/black', 'cutie!', 'protests).', 'drain!', 'home...please.', 'yesteray', 'mixbreed,', 'perdana!', 'posted,she', 'yoona', 'contact:,', 'gorgeous.', 'opot', 'ready.', 'siti', 'her,probably', 'much..therefore', '可是实在无法带回家', 'witty,', 'pliz', 'stop,', 'blackish-brown', 'incident).', 'dante', 'moo-moo', 'bepisah...', 'digaul', 'euka', 'passport.', 'food...price', 'hollywood', '1/2,', 'charge,', '谢谢', 'cny,', 'tau...', '\"john\"', 'at/', 'biarkan', 'up;', 'sekejap', '\"loving\",\"responsible\"', 'car....hope', 'africa,', 'crossbreed,', 'intan', 'threatened.', 'half-folded', 'intrested...', 'call..thank', 'audrey,', '❤️-', '2)so', 'www.petepicure.com', 'kebaikan...sekarang', 'yona', 'surau.', 'well-defined.', '___________________________________________', 'love....if', 'before).well', 'head.', 'ramadan', 'hunter;-)', 'smell.', '⚪️enough', 'everytime.', 'male!!', 'trainable:', 'outstation.', \"'kampung'\", 'state,,', 'healthier,', '(silky', 'home.thanks.', '(neutered)', 'collection.', 'funny!', 'kecik', '尤其是两颊的肉', 'scratches!', 'flu)', 'smile!', '(wong2,', 'december!', 'vaccination+deworming).', 'spaying/neutering.', 'lunch.', 'charm.', 'poodles,', 'meldoy', 'galgal', '(zhafa)', 'gombak.', '\"family\"', 'msyang', 'cute..tak', 'died).', '9:15pm.', 'teluk', 'sahaja..1st', 'cassie', 'licks,', 'out..:(', 'eddie', 'purrs,', '(corgi-mixed', 'tying...maintain', 'cost.adopter', 'bite...or', 'dewormed:', 'fluffyfur', '(6th', 'wild(fish)', 'xnak', 'highway.', 'however,', 'pembiakan', 'course!).', 'everybody,', 'why?', 'caracter:', 'shelves.', '~save', 'intersted', 'olive.', 'terjadi', \"'fei\", 'friendly,healthty.', 'adorable,fully', 'mula2', 'closed,', 'tropicana.', 'pon.', \"''purr''\", 'hey,', 'topsy', 'meeting.', ':)!', 'up,loves', 'seok', 'thanks,', 'indicated,', 'outside...its', '(yes/no)', 'wet-food', '..we', 'german.', 'u5', 'would!', 'spot/stripe.', 'reasons.', 'rm*', 'necessary,', 'gwmuk', 'him...and', 'while,', 'melawati.', \"lil'pup\", 'plate.', 'basah+kering', 'tri-colour:', 'omie', 'j&j', 'requirements:-', 'me.and', 'lg..akan', 'keity.', 'bengal.', 'education,', 'home.hes', '30:', '(blackwood', 'catflu.', 'snow-shoes,', 'choky.', 'lilly', 'posting.', 'conditions:', 'lai...hoping', 'fleas/', 'home...but', 'week,suffered', 'zety', 'pipi.he', 'adoptian.', 'noraini...johor', 'coverage.', '(a.k.a.', 'grain-free', 'cute,', 'peepee', 'nya', 'community.', 'ps,', '(meow)', 'home!14', 'marking.', 'cat,she', 'yoshee', ':(.', 'april:', \"home.it's\", 'chomot', '5)eat', 'puma.', '紧急', '(7', 'kitten.loves', 'menggosok2', 'week.', 'laps.', 'balance,', 'hillarious', 'appetite.my', 'active..healthy..adorable...toilet', '(kibble,', 'container...', 'wags,', 'not..so', 'homeboy,', 'kot..', 'please..', 'ways!', 'eating.', 'yumi.', 'rosie.', 'malaysian,', 'eversince', '橘貓小妹求包養', 'long-term.', 'welcomed.', 'pupps.', 'mustache!', 'changed,', 'sites.', 'recommended(will', 'temprement', 'cari..', 'legs..vet', 'tekali', 'dek', 'fufilled', 'note;', 'fur-brother', 'weight:', '3-year', 'siblings..', '-性格', 'night;', 'female..she', 'sampingan', 'ampang,', 'high-rise', 'clan,', 'may,.', '這一次，共捉了10隻，都還年幼，', 'command,', 'rebellious.', 'family,he', 'urgent#', 'hope,', 'person;', '(estimate', 'choco', 'biscuits).', \"apartment.i've\", 'food.its', 'fostered.', 'negotiable.', '50%', 'mid-january.', 'given:', \"safe.she's\", '.according', 'bahan', 'address,', 'tuna..', 'lot,', 'desexed,', 'jinak.', 'on.', 'charms.', 'mearly', 'lantai;)', 'neighourhood', 'lane,', 'bubbliest,', 'phonecall', 'burmese,', 'in..', 'family~', '你们可以伸出援手吗??它可以当免费的保安，保护你....小白熊需要你的帮忙。', 'intanshahar', 'day).', 'poodle;', 'ur', '(yay!)', 'alam,seksyen', 'chocolate,', 'bagus', \"'manja'..please\", '2,country', '(human', '1)color', 'low...', 'jupe', 'fleas)', \"neutered(it's\", 'pj.', 'tigger.', 'spayed,dewormed', 'eat.....', 'snap.', 'laughs.', 'kontot:', 'certain.', 'diberi', 'brotheres,', 'cont', 'rm.this', 'interested.tq.', 'squirrel,', 'rm,after', 'meowing,', 'sunglasses.', '6month.', 'devin', '（不远可以载送）', 'commitment,', 'home.kindly', '(june', 'them,can', 'shawn', \"b'day\", 'insecured', 'cage.she', 'olympia)', 'aktiv.', 'howls.', 'area.we', 'chua', 'soooo', 'problm,my', 'puppy-proof', 'snooze.', 'j-female-01', '(estimate),', 'fish+rice', 'independent..', 'kl.im', 'cny', '(mum)', 'girls..', 'kittens/cats', \"til'\", 'manjakan', 'muds', 'march-april', '**********************************', 'stop.', 'potty/newspaper.', 'noises,', 'babies?', 'tame,fur', 'gila,', 'lui\"', 'effort.', 'urgent!.', 'material...take', 'snacks.', 'milk).', 'cat).', 'danny', 'formula,', 'uneasy.', 'yuki,', 'paws.since', 'anymore,we', 'yesterday.', 'hearts).', 'pinscher...', 'baby,not', 'legs.', 'pain,&', 'thunder,', 'torres', 'ang', 'parut', 'includes:', 'machinery.', 'feb,he', 'geget', '25th-------', 'hard...for', \"'forever'\", 'path.', 'rm50*', '(swept', 'food/grooming', 'yourselves.', \":')\", 'mindy', 'loky.', 'agressive.', 'inputs,', 'ease.', 'jaga', \"'rag\", 'tentu', 'walk,bamboo', 'member(s)', 'telefon/sms', 'gardens,', '大型工作犬', 'bezakan', 'charactor', 'this?', 'abused.', '7/6/', 'bapa', 'kuku.', 'sungguh..mari', 'home....pups', 'detick,', 'apparently,', 'white).', 'sini\"', 'hunger.not', '癌症狗几千塊医好了,没人要,', 'iklankan', 'ness!', ':o)', 'feed.harap', 'c,', 'sean', '(terri)', 'now.both', 'necessary).', 'afriad', 'impian,', '2days', 'nice,', 'months++,', 'population)', 'lps', 'park,so', 'brown..', 'rack.', 'rm30.', 'return.*', '\"outside\").', 're-homed.', 'puppies...his', 'ong', 'fart!!', 'ucu', '讓她有個家,', 'berjangkit.gmbr', 'family.', 'please...please', '=p.', '(grey)', '(makcik', 'anymore..the', 'lepaskan', 'indoor!', 'disabled...according', 'thet', 'jasz', 'why..oh', '*oren', 'down)', 'izzy', 'gregarious)', 'boy.we', 'astrid', 'siong,', 'free,', 'apartment,people', '5pm)', 'in...', 'goin', 'microchiped.', '2)kitten', 'sms/call/whatsapp', 'possible.', 'putus', \"neighbors's\", 'match!', '10/1f,', 'gege', 'cafe)', 'korat.', 'darth', 'backyard!', 'white/grey', 'healthwise', 'mush!', '(include', 'yvonne', 'furkids.if', 'sampai', 'eat,', 'un', 'compartment).', 'smooth,', 'saloon.', 'll', 'alvin', '(terms', 'clean.', '31/3/.', 'daxx,', 'pass.', 'escape.', 'patience.', ';)', 'too..', 'blue-roofed', '(do', 'house!).', 'vaccination,neuter', 'collar,', 'registed)', 'tawau,', 'susu.', 'rufus', '.brownie', 'puppy-01', 'born.but', 'tq!', 'dia?', 'harder...for', 'finally.', 'father.', 'chain.', 'aziza/', 'kucing....', 'gud', 'sangat!', 'selangor..', 'tied,', 'here!', 'thieves.', 'from?:', 'staff.', 'environment/other', 'colour.she', 'world,', \"'17\", 'mummy?', 'manja...saya', 'drink.', 'minho:i', 'ducati', 'confirm.', 'temperament,eating', 'itnerested.', '()', 'month,i', 'think,', 'oregano.', 'onwards)', 'work..', 'invite!', 'wife.', 'jiji', 'pet-friendly', '(inc.', 'min.', 'me/family..', 'kind-hearted,', '(whatsapp/wechat/', 'known.', 'go;', 'deworm.', \"home...i'm\", 'stay!', 'train,good', 'injured.', 'mikio,', 'frank,', 'is,her', 'asap...:)', 'problems.please', 'apprently', \"'dou\", \"around...i'm\", 'why...', 'human).', 'cody', 'cat,milo..very', 'breds,', 'something..', '-cute,', 'josie', 'vasantha.', 'attitude.for', 'cali', '13/1,', 'gusto,', 'mouli', 'grace.', 'kibbles).', 'alphaness', 'deposit，', 'apartment...mommy', 'melacca', 'independently...', 'severus', 'mengutamakan', 'sekor', 'happened...we', 'hyper)', 'children.i', 'recovered...', 'e,', 'marbled-coat.', 'tying/caging', 'winky', 'live;took', 'alor', 'steven.', 'mins!', 'jump,', 'dogs,', 'dogs,n', 'oh,', 'resuced', 'docile).', 'van.', 'area,biting', 'mrleo。', 'yy', 'volenter,', 'cuddling!', 'haracter', 'schnauzer,sachi', '👼', 'person,', 'advise,', '(via', 'surmi', 'garden,', 'paria', 'old,they', 'infos.', 'jihyo', 'hai,', 'borned', 'unexpected.', 'litre.', 'dibawa', 'siblings.', 'along.she', 'outsite,', 'owners,', '两个月左右', 'make!', 'adopter!)', 'asap!!!', 'life?', 'elton', 'moossy!', '(arn)', 'areas.', '↓', 'leg)', '还在笼子里默默等待她们的好主人出现', 'fiancee!!', 'menjaga', 'sangat..kalau', '6)give', 'pinky:', \"other's\", 'him.he', 'shoo-ed', 'demanding.', 'teeth,', '(dlh)', 'a.k.a.', 'sweet-natured', 'friendly;', 'shiro,', 'tying.', 'kali,', 'abbyboy', '(normal', 'other\"cake\".', 'so-and-so', 'toilet..', '1,so', 'kevin,', '(each', 'pelan', 'tbh)', 'mix)', '2mos', 'up/collection', '(jerry', 'teeths', '(maldigestion).', 'rescuer/feeder.', 'diambil', 'deserves.', 'sebastian.', 'inside.', 'vacinnated', '他很怕陌生人,可是我每天去喂他,他会在我脚下一直转圈,也没那么怕人了。', '~~~~~~~~~~~~~~~~~~~~~~~~~~~~~~~~~~~~~~~~~~', 'dog(s)', 'fara', '(4)', 'helena.', 'alu-alukan', 'make-over.', '(siberian', 'cat;', 'friendly.even', 'have..the', 'ini...', 'jaya,ipoh,perak.', 'broccoli,', '/13', 'al-rajhi', 'shoulders!', '\"beg\"', 'sleep.', 'tina,', 'shamelin', 'melayu,', 'karen,', 'fees,', '30mins,', 'masuk', 'much..please', '7yrs', 'whatapps', 'outdoor,', 'angel!!!', 'in!!', 'needy,', 'chong.', 'plz,', 'sickness;', 'warmful', '30/9/17.', 'booked.', 'microchip.', 'food\",', 'rm,', 'panda!', 'padang', 'chewing,', 'friday,no', '13/2/18.', 'them...so', 'zaizai', 'old.but', 'foster.', 'pekan,', 'lovable,very', 'ikan..', '(tuxie,', \"'paws'\", 'taiwanese.', '++.', 'doing!', 'mbpp,', 'malaysia??', 'dog.u', 'owners.so,', \"goden's\", 'hand!', 'below!!', 'bong,', 'lagi..open', 'gua,', 'suppliment(additional', 'dian', '(10in1)', 'sickly.i', 'lovelies.', 'rub-down,', 'me/whatsapp', 'safa', 'migrating.', 'hi,our', 'jusco,', 'fosterers!!!)', 'way.she', 'diseases),', 'batman.', 'boboy', 'nail:', 'supply).', 'said..', 'underweight,', 'years.', 'hamba', 'big,', 'nini', 'noriah', 'veterinarian.', 'grow.', 'suckle!', 'bcause', '蒲中，雪兰莪。.......', 'vaccination,deworming', 'multi-vitamin', 'feisty!', 'cake!', 'huskies,very', 'alti', 'belai..', '\"that', 'die...', 'xena', 'diet:pro', 'day!!', 'adrian', 'alang', 'usa.', '😂', '新的环境实在不能把黑皮带过去', 'arrange,', 'deceiving.', 'rescured', 'cute!easy', 'teja', 'caging--', 'petfinder!all', 'duzell,', 'bagi', 'puppies..pls', 'whatsaapp', 'otty', 'please?..you', '\"meoww\"...', 'oktober...', 'jam,', 'abang2', 'required..we', 'heart-achingly', 'female）', 'healthy\".', 'us/inform', 'food.（remind:', 'segar,', '2)heavy/chubby,tall(male)', 'stuff.', 'rockvellie,', 'april,', 'alam...or', 'killing.', 'felix', 'campus.he', 'seeker...', 'utama!', 'depressed.', 'equilibrio', 'brandon', 'wouldnt', '14/9/09', 'people............sos', 'sister..', 'feeding.the', 'thoughts.', 'doo,', 'sweet..', 'tahun++', 'each)', 'provided)', 'too..black', 'student....please', 'warm.', 'have..:o).', 'worry!', 'below).', 'penyeri', 'idiot..', 'pipe.', 'b/feeding.', 'am-3pm', 'reg', 'panjang.', '**she', '(manja)', '(sand-trained)', 'x-', 'maincoone,', '-her', 'tummy!....which', 'georgie(speaks', 'terdengar', 'suan', 'tho!', 'muar', '-shah', 'too.please', 'polo.', 'kiki', 'voice)', 'blackies', 'weekend,', 'palyful.', 'made.', 'deworming..vaccination', ':normal+branded', 'yard.', '时间紧逼，领养不出就真的必须打回原形。', 'short.', ',the', 'russel(female)', 'kinderland,', 'ladies.', 'nicely.', 'mervin', 'cassie,', \"'get\", 'home...hp', 'thanks!!', 'flat,', 'others.i', 'shadow.', '(unknown', 'i.', '(indicating', 'lovingly,', 'tumbler,', '(emy)', 'haha..', 'spayed/neutered', 'kenakan', 'adults.she', 'v.', 'uri', 'fully.and', 'served...', 'insects,', 'rufus,', '欲領養者必須：', 'mengemis', 'suka', 'rm40', 'batas', 'blackie', 'jaq', 'section)', 'grass).', 'sazz:', '(black', 'dot.this', \"'house'\", 'mommo', 'emails/', 'field/park', 'vet,so', \"zazu's\", 'sari.', 'days~to', 'me.)', 'cool/dark', 'rahah,', 'advance!', 'puteri', 'neglect,', 'rest.', 'muchuk...', 'carer,', '3分钟热度-非诚勿扰', 'idea.', 'snowwhite', '和每年为她注射例行预防针', 'abroad,', 'them!they', 'maybe...?', 'brown+', '(negotiable)', '(off', 'instantly.', 'furever', 'loves,', 'adorption.', '-super', 'notes:', '(gabrielle)', 'right...', 'rescued,loved', 'conjunctivitis.', 'page...', 'tuntutan', 'year),', 'them...size', 'ahead,', 'rehoming..', 'ryan', 'cat,', 'jolie', '-one', 'saw,probably', \"tiny'\", 'rm+', 'versa', 'transportation,', 'pics).', 'usah', 'house.....', 'looser(whisky', 'sometimes...', 're-hab', '30/1/.', 'rotti', 'call..', 'lyn', '-small', 'ago..', 'kne', ',kindly', 'sd15/3', 'eczema....', 'amik..', '#adoptme', 'dia..lepas', \"stake'\", 'dsh.', 'may),', 'melt.', 'cindy', '“cat', 'pokai-ing),', 'dog,', \"golden/samoyed's\", 'mary)', 'aphrodite', 'fighting.', 'pupy', 'homes,', \"trixie's\", \"prev.owner's\", 'hunger,', 'visha', '/dah', 'sms/wats', 'street,crying', 'tkt', 'damas', 'petaling.', 'vco', 'bit,and', 'selebihnya', 'alor.', 'it...i', 'time,the', 'elsewhere)', 'bed,food', 'gracy', 'diarrhea,', 'wellbeing.', 'first)!', 'many).', 'poole', 'adoption.for', 'rapi', 'sekali.', 'minta.', 'michi', '********************************', 'yeng', 'personality!', 'tall.', 'tyger.', '¯）づ', 'month..', '這是我朋友的貓咪，他離開馬來西亞了，把他的貓咪交給我。但是我現在養不了，希望有人可以收養它。', '3pm,', 'ikhlas', 'train...', 'walks...very', 'sit,up,come', 'mr.', 'foxy.', 'kan,', 'noticed.', 'it..i', 'srk', 'pups;', 'interested:-', 'train!!love', '-very', 'puppy-03', 'trainer.', 'chiwa', 'enxiety', 'insyallah', 'obidient', 'bedroom,', 'also?', 'attention-', 'danger.', 'adventurous.', '-sleeping', 'elbow,', 'hour...', 'them,only', 'contact.please', '狗种/breed：母：菜狗，', 'superrrrrr', \"only....i'm\", 'camp.', 'bdkl,', 'go.huhuhu~', 'canin..', 'will!', '(frankie)', 'chunky(male)', '.-rescue', 'think).', '一定要真心对待它，爱护它。', '*litter', 'officer/workers.', 'alone...worried', 'sight,', 'aci', '：白色灰斑，長毛，尾圆如兔子，四肢短小可爱', 'prebooking', 'mr.yoga', '(not', '#note:', 'scrurried', '有点粘人', '3.boiled', 'mempuyai', 'saja.', 'face(female)', \"poo'\", 'yearly)', 'ng,', 'gray-coated', 'benji', 'valid...and', '/06.', 'fast-learner', 'sam', 'gigit.', 'etc....', 'fractured,', '(due', 'material]', 'tanpa', 'beyonce', 'condos,', '4/5/12', \"sowon't\", 'bgs2..', 'beso', 'alduts', 'lap-cat', '(am', 'plssss....', 'bonnie,', 'him,he', 'ipoh,', 'removed.thanks', 'beginning.', \"casn't\", 'num', ',always', 'tree!', 'customers,', '9am-6.30pm,', 'khor', '(13th', '(=^ω^=)', '\"yes!', 'donny', 'smart,playful', 'totally,', 'sayang..', 'cheerful,', 'kungfu', 'me*', 'ms.abhi', 'setar', 'trainable!', 'loose,', 'isa', 'oversea.', 'blind)', \"buzz'\", 'warehouse.believe', 'appearance.', 'adopt🙏', 'he.', 'jack.....', 'kind!very', 'end.', 'cute.....very', 'intersection.', 'playful,elegant', 'wana', 'nakalnya', 'back...', 'surprise,', 'chain,', 'fluffy(female)', 'bites.', 'suap', 'journey，a', '-toilet', 'dennis', '(10months)', 'available.if', 'well-being).', 'feaful.', 'availability.', '0.1.6.6.6.6.5.1.7.7.', 'inquiry.', 'bino,', 'balakong', 'comment,', 'ops...!', 'jr', 'weeks...', '(from', 'paw,', 'cats/kitten/dog', 'adorable!!', 'adopted.the', 'dawg', 'hugable', 'friends?', 'even,', 'potty/toilet', 'mugo.', 'only..pls', 'nikki(d.o.b', 'supermarkets.', 'juz', 'clare', 'adoption.call', 'b,', 'that...', 'two-in-one', 'backleg', 'infection).', 'spirited!', 'lajunya.', '(brief);', 'cautiously.', '20-sep:', 'between.', '*responsible', 'welcomed,', 'hairs-not', '-dewormed', 'cnnt', '个月', '4kg.', 'kinly', 'trained/playful', 'pallets.', 'timid.', 'puppy;', 'easy-to-trained.', 'adopt.we', 'obviously,', '(sometime', 'pss:', '-penyakat', 'unsupervised).', 'relocate,', 'comes.two', '**************************', 'more...fun...joy...happiness...loyalty.', 'katniss', '11am-6pm', 'sponsored.', ')at', 'diri', 'kisses.', 'baru-baru', 'muslims.', 'already..', 'baik...', 'procedures.', 'lincoln', 'lullu.', 'delima,', 'puppy.the', 'je.', 'scold...', 'companion,or', 'asli', 'impulse.', 'shepherd,female', 'pulih.sangat', 'mill.', \"'sit'.\", 'age.[appointment', 'deflead', 'there~', 'takle', 'cleaned,', 'ikot', \"'up',\", 'perseus', 'morning.', 'usj6,', \"outside..it's\", 'tomorrow,i', 'complications.', '1.black', 'telephone!', 'station.', 'doktor', 'owners..', \"(she's\", 'daripadanya', 'russia.', '(klang', 'home,i', '(yearly', 'plus.', 'tobby', 'old,and', 'staight', \"'runt'\", '*sy', 'house..starving..', 'cat,does', '对同类和天敌（猫猫）有点不友善', '(2nd', 'toy-sized.', 'backlane.', 'privilege.', 'ceasar', 'pembersih.', 'poison.', 'pintar', 'irish', 'boys.', ',email', 'trained...', '/.1st', '6.4kg', 'chai', 'yummy.', 'setapak', 'long-hair', 'clackity', \"jamil's\", 'box-trained.', 'kiko', 'favour,', 'bottle.', '救起來時，滿身黑油，好可憐，可以給孩子一個家嗎？', '(white&orange)', 'account).', 'reinforcement)', 'eat..', 'arranged!', 'mirabelle!', '6/8/', 'mpk.', 'ago,now', 'email/text', 'resposible', 'stake.', 'cute\"..seriously!', 'drinking.', 'emas)', 'basement.', 'available)', 'salam..', 'noise,', 'usj11', 'haired.', 'only)..', 'rudolph', 'note*', 'pack).', 'species.', 'females..', 'entrance..', 'call(mrs.yap)', 'ambition:', 'morning/evening', 'gotto', 'shamimi.', 'home....................', 'up/caging', \"rough).he's\", 'appreciate!', 'zara,', 'beautiful...if', 'froma', 'dari', 'hings', 'other.recently,they', 'stalls,feel', 'response.', 'sammy', 'ourselves.', 'petted!', 'okoplus).', 'done(rm30).', 'berlaku', '只開放給認真考慮領養者。', '4-kitten', 'maltese.', 'chester', 'colours:', 'yeah,', '(playful)', 'ligaton', '世上...妈妈是最伟大的', 'adoption.no', 'littred', 'microchip,', 'opened,', 'lanjut', 'greatest...', 'alot..', 'me…', '~improves', 'stewart', 'twins)', 'jitra,', 'paper,', 'daju', 'save!', 'sabah,', 'crate.', 'coco,', 'thunders.', 'doo', 'pee-ing', 'obedient!', 'email:', 'warm,', 'akak', 'squirells', 'grams.', 'me)', 'shelters!', 'saya..terima', 'bear\".', '(toileting', '3-', 'momths', 'tanti.', 'ard', 'internet:', 'bad..', 'gunther', 'flea-free.', 'sangka', 'dough..from', 'team.', 'nw', 'tvt', 'kurap', '-type', 'overseas.please', 'growing)', '\"hi,', 'store.', 'theresa', 'cert/import', 'belaian.', 'marble.', 'madeline', 'chest...her', 'skinny,', '-----------', 'active,loving', 'sedia', 'village..!', ',approximately', 'pregnancy.', 'removed.)', '(absolutely', 'preferrable', '***chinese', \"can't...\", '...tops', 'car,what', 'vaccinate,', 'app)', 'cudnt', 'home,preferably', '西施在找家', 'faculty.', '(0.5km', 'exploration.', 'affectionate,loving', 'gave.', 'cacing,', 'giza', 'howler,', '“out”,', 'temporary).', 'jackson.', 'with/from', 'midvalley.', 'venue.', '性格比较害怕人，只可以养在室内，要有养猫经验，要有耐心和他接触。', '(puchong,', 'swep', 'kuantan).', 'purposely!', '2-month-old.', 'protective.', 'dimsum.', 'bolt;', 'know.', 'society,', 'indoor*', 'favorite!', 'black/brown,', 'home!:)', 'de-worm,', '不是很無奈嗎?', 'needs,', 'cleanliness,', 'him,took', 'sleep!', 'browny', '..her', 'adopter...', 'through.ong', 'highway...one', 'tateh', 'scared.', 'complaint.', '29/7/,', 'husband...', 'gayathry.', 'creamish', 'lembut', '(white,brown,black)', 'beagle.however,my', \"puteri's\", 'too!).', 'anita', 'meal.', 'here,', 'examination.', 'soon,', 'tones,', 'vaccination.has', 'yulia.', 'ths', 'charmer,', 'after...', '**rm', 'kitten(', 'secured,', 'outstation.therefore', 'gambar,', 'dewormed.now', 'ialah', '\"toilet\"', 'summarise,', 'information,please', ',fed', 'urgent...', 'cleaver.', 'alone..sometime', '(muslim', 'injured...', 'kesas', 'dealer,', \"'manja'...\", '(kinder,', 'berharap', 'it..putih', 'intro', 'gombak/uia', 'heat=d.', 'opposite.', 'fb:', '(send', 'trainable,', 'character!', \"her,don't\", '年龄:2岁', 'toto', 'none,', 'food.', 'dawn.', 'lama,', 'greenies,', 'brown+white', '(demo)', 'cat,look', '性格活潑好動亲人。。。', 'adoption)', 'pulih', 'as-puppy-07', '：女生female', 'observation.', 'sekarang,', 'lifestyle,', '3/1/', '•male', \"might've\", 'owner.thanks', 'drain.his', \"it''s\", 'bleh', 'mongrel.', 'calm.lovable', 'jabs,', 'give/contribute', 'available.premi', 'menyusu.akan', 'cooked,', 'defleas.', '(pure', 'catcher.', 'caves.', 'humans).', 'delicacies,', 'wayne', 'cats(mom', '(shots,', 'seremban..', 'aishah', \"vaccinated.she's\", 'pound.', 'things..', 'medical...', 'tungau', 'of.you', 'firm,', 'someone..but', 'cleanliness:already', 'breeded', 'threathened', '4ever', 'behaved,', 'explorative.', 'brown-chocalate-black', 'outdoor:1/-present', '7/3/12', 'really.', 'cats.i', 'fast)', 'bersalin.', 'constricted.', 'nitsa', 'say...', 'rehomed..', 'salam.', 'agak', 'shiro', 'pantai,', 'ure', 'skiny', 'nicky.', 'health?', 'kendra', '.12.', 'paw.', 'malam,', 'adorption', 'wani', 'persian.', 'catchers,', 'hopefully,', 'segerakan', 'pulai,', 'carmen', 'pros:', 'dimaksudkan', 'deed,', 'masalah,', 'kempas,', '3/4', '==============================================', 'cat,toilet', 'cutie,', 'cat~', 'kitten.litter', 'office.', 'food/water', '会抓老鼠,壁虎,蟑螂', '\"kitty\".', 'one.', 'keen).', '她救到了几只可爱的小狗宝,', 'minutes,', '3,', 'pit,', 'that)', 'biscuits,', 'mustadopt!', 'menara', '-preferably', 'maju', 'managed.', 'pelangi.jb', 'caspian.', 'sudah', 'greyjoy', 'aunty,', 'pets)(foreigner', 'could,', 'nye..', 'all...', 'rmplus', '~***intelligence', '*three', 'buy\"', 'willing,', 'grooming,', 'sweet-natured,', 'serve****', 'rai', 'blue-point', 'hello..', 'together.hey', 'sarawak.', 'tigger', 'someone.', 'hitam..', 'strip,', 'gooood', 'child....she', 'wanie:', 'c’mie', '*deposit', 'anything.', 'yota', 'alright.', 'dirampas', 'ns.', 'asyik', '\"saving', 'cutest,', 'strings?', 'indoor-trained', 'cantik...', 'meat..i', 'olly)', 'stalls.', \"ozzy's\", '24/7.', 'contribution/donation', 'eddie(male', 'male/female', 'syringe.', 'cerita', 'sisters.after', 'ol', 'forum:-)', 'ye,', 'now,we', 'hewey', '(using', '(updates', 'rupa-rupanya', 'at,tqvm!', 'botanic,', 'shetty', 'recued', 'pepper,', 'arrived.', 'gate)', 'as-puppy-10', '=.=', 'orange+blakc+white+grey', 'sikit', '(free)', '蓝眼银灰色流浪猫咪gin', 'shy,', 'fifi.', 'catfood.（不餵超市貓糧）', 'owners!', 'flateface', 'dewormed.she', 'traumatised', '..flush', '领养费', 'vege', 'ultimatery.', 'bellies.', 'foever', 'tunnels,', 'jermaine', 'antibiotics.', 'sent,', 'siberian', 'timtam', 'command.', 'adopting*', 'weeks,', 'puteh', 'hilo,', 'milky.', 'album,', 'no..', 'weight,tall(female),', 'fighting..my', 'micha', 'manjanitis.', 'sherperd', 'newspapers).', '(nick)', 'sunway.', 'possible....thank', '(going', '#adoptionsaveslives', 'reverse,', 'cooper!!!', 'wound.', 'mori', '!!!..', 'petfinders.', 'spotty....dob', 'him),', 'bodies.', 'usual,', \"'rafia'\", 'sulaiman', '(ivermectin)', '-adopter', 'armor\"', '欲領養的朋友，', 'positif,', 'fip.saya', 'siblings(', '6-7week', 'siblings..1', 'conditioner,', 'multiplying.', 'dogs.', 'life.i', 'semua.', 'aimy', 'tara,', 'moment,', 'yellow-ish', 'homes,she', 'ss7/2.', 'sayang,', 'are.', 'family..', 'home....♥♡♥♡', 'milka,', 'pet.so', 'holly.', 'charlie.berumur', 'weeks+', 'never!', 'room.', 'happy.\"', \"'business'\", 'kitten..looks', 'au3', 'kittens,one', 'kindheart', 'training..', 'omiey', 'call/email.', 'currently.', 'litterbox-trained', 'knowledgeable,', 'online.', 'muki', 'jumbo..when', 'beaten.', 'pishi.', 'taknak', 'homesick!', 'manchester', 'heartguard', 'yota.', 'small-than-average', 'casper', 'anyway,', 'defect.', 'tammie', 'etc.', 'female-2mths+.', 'socialized,', 'nap,', 'call-to-action.', 'him.you', 'barking.i', 'clever,likes', 'both).', 'heart.', 'monitor,', 'retriever)', 'mohogany,male,american', 'tooo', 'love.please', '绑狗狗，他们需要基本的自由', 'constipation.', 'muar.', 'ald', 'golden.', 'already...', 'cat!', 'pisahkan', 'sheets.', 'vet...vet', '10am', \"kimmie's\", 'adoption💵🙅', 'sad...can', 'balai', 'her.actually', 'straight,', 'decision!', '能和其他猫咪朋友融洽相处，请给萌萌哒的小萌萌一个家吧', 'jeritan', 'ekor),', 'watchdogs.great', 'furniture.', 'characteristic.', 'shampooed.', 'food.gender', 'road.he', 'parents?).', 'television.', '💞', 'pro-diet', 'sorry..', 'adopter!..', 'adoprion.', 'adorable..^^', 'gumu', 'around!', 'phobia)', 'tok', 'nanti', 'funny.and', '(pomeranian', 'handsom', 'attentions.', 'puppy...they', '(dog', 'relocating.', 'live).', 'govin-', 'care-givers!', '1(the', '2.neuter', 'beradik)', 'sugee.', 'shivering.', 'rihanna,', 'environment,', 'musang', '(unless', 'rm85.', 'died(knocked', '-black', 'dragging,', '^.^', 'colby...', 'now..oni', 'mew.', ';;....ruby', \"robbie's\", 'roof/awning.', 'sms:', 'wheatish', 'cnt', 'change,at', 'also.)', 'though!!', 'awwwwww.', 'naughty,super', 'jazzmin', 'infact', '+.', 'waiting…', 'attention)', 'proud,', 'dengannya', 'paid.', 'blackwood/iams.', '(sometimes', 'top-notch', 'candidate.', 'sherlock', '(preferably', 'theirs.', 'cat(look', 'feathers,', 'near,', 'georgetown', 'pakej', 'chomel,', '(~rm)', '\"sticky\"', 'takecare.', 'bola.', 'michii', 'needed.', 'kering', 'span:', 'fosterers/adopters', 'birman', 'sisters)', 'st.angel', 'bln', 'tau.', 'fon:', 'sides,', 'individually,', '(may', 'me.thank', 'thanks!', 'abnormalities,', '性格：聪明', 'year..', 'fuss/', 'bau', 'tame!', 'flea/tick/heartworm', 'kindsoul', 'pups.', '(how', 'pernah', 'contact/', 'purrs.', '2-years', 'utar.', 'siang', 'him/her/both', 'version.', 'ýard', 'arms...', 'mths+.', 'managed,', '😔', '(sms/whatsapp)', 'afiq', 'manje...', '6kgs!)', 'times),', 'lui', 'away..', 'sumbangan', 'lepas.', 'sebaik2', 'sunkist', 'commitments,', 'describe:', 'positively.', '和她小狗,', '“fluffy”', 'penyayang.', 'deserves,', 'gait.', 'jaya,', '/】', 'optimus', 'nisa', 'neccessary).', 'fortitude.', 'mesta', 'thnk', 'kedua2nya', 'stable,', 'littles', 'sebegini', 'wks,', '(rm12)', '1.5months', '(malaysian', '(adults', 'steadily.', 'puteh.', 'documents.', 'courageous!', 'mumy', 'playful,big', 'tuesday', 'cleaned.', 'pg', '1kg,', '(fortunately', 'lah\".', 'condominiums.', 'training!', 'something).face', 'welcome,', 'keys.no', 'pokerface', ',please', 'owner?', '9:30am', 'ss2/66', 'away...the', 'rescuers.', 'barang..', 'putus,', 'painfully.', 'starved.', 'maintain!', 'him!!!', 'needs..', 'kong', 'rc', 'bangi)', 'tepok...', 'rawang...for', 'olly,', 'large,', 'mth', '(dec14),', 'fili', \"'stay',\", 'pokky', 'fulltime', 'dengar', 'owner..very.', 'female,short', 'subang', 'dijadikan', 'luka.', 'kesemuanya', 'either....anyone', '#foradoption', 'walked.', 'hair)late', 'spay/', 'off).', 'tuh', 'better!', 'neutered&dewormed.', 'kerana,', 'resq', 'her/his', '11/3/17', 'object,', 'do?', 'term),', 'anya', 'bm)', 'mustve', 'reflex.loving', '有没有人愿意捐款助养小黑？', 'them....so', 'kuantan', 'survived.', 'jb', '(beside', 'court.', 'well,sleep', 'abit.', 'interested.hp', 'doggy.', 'widely.', '会看门', 'coloring.', 't&cs', 'female(chou', 'too.i', 'abuse!', 'ragam.', 'it)', 'stout,', '(manja).', 'mon', 'heavy.', 'awhile.', 'center.', 'shoes.........they', 'depan,', 'panjat', '*******************************************', 'moji,mango', 'aje...', 'love-able,', 'lap-cuddled.', 'samada,', 'topping),', '适合想要玩伴的朋友们领养，小黑也是看家的好帮手。', '(fee', 'peach,', 'truma', 'tibbs', 'could).', 'fierce,', 'chlorox,', 'brown/', 'realises', 'zara', 'frightening.', 'akar)', 'jari(sila', 'dog...a', 'jumper).', 'amigard', 'ashraf', 'matted,', 'emergencies.', 'luilui', 'tyme', 'foods,', 'apai,', 'me:', 'pertengahan', 'walk)', 'health.', 'tebal.', 'dumass', 'instict.', '(minor)', 'adoption***', 'neutered).', '(starpro', 'xabi', 'sebuah', 'fairgirl', 'frontline(anti-flea&ticks', 'chased.', 'bank.', 'shimba', 'chong', 'owg', 'mother)are', 'meo,', 'nazir.', '(jt)and', 'burns...all', 'penpecinta', 'chezzy', '-rawang', '(including', 'bertuan.', 'poop).', 'hi...', 'bertanggungjawab', 'house..its', 'quitely', ',location', 'way.', 'pup.they', ',who', 'reasonable.', 'ect;', 'daisy.', 'park.', 'chuah)', \"litt'\", 'ahad', 'melarang', 'sweet..very', 'senyum', '(free).', 'hadiahkan', 'chew,', 'started.', 'behavior:', '(black))', 'enthusiastic.', 'live.tq', 'home.adoption', 'bapoo', 'anymore.', 'spayed!', 'adventurer;', 'oren', '1。不能長期綁著和關在籠子裡，必須要有足夠的空間給他。', 'seperate', '猫咪的结扎费用', 'nero', \"maco's\", '(they', \"pm/what's\", 'doogie', 'sudi,', 'coz,', 'isa.', 'home).', 'months(he', '\"robert\",', 'lorry...so', '\"voice\\'', 'yg', 'jacky', 'sterilise', '**the', 'saintifik..tu', 'pervention', 'miaos.', 'romeo!).', 'go:', 'kolej', 'tol.', 'fur-family', 'iams,', 'again,will', 'adik.', 'dyaveiro', 'taiwan.', 'perpetrator(s)', 'outside....', '(mother):', '(yong)', '可爱的浪浪狗狗在蒲種,', 'rm30', 'perasan', 'night).', 'during/before', 'fluffy.interested', 'this!!).', 'vet,', '*new', 'vaccinated..he', 'now.medium', '\"laundry\"', 'back..pls', 'provided.', 'pooh.', 'rm49)', 'careful.', 'diperlukan', 'pebbles.', 'naturally,', 'teeth)', 'mon-sat', 'regards,', 'burmilla', 'bayak', 'abbie.', 'fur-dude', \"him...it's\", '你愿意给它们一次机会吗？？', 'beach.', '1.1kg)', 'charge;', 'son.', '\"fetch\"', 'at.free', 'playful+active.', 'energetic,friendly', 'shop,', 'kemana.', 'felicia', 'commitments.', 'failure,', 'problem..', 'india.', 'secepat-cepatnya.', 'homes.serious', 'russell', 'lab-mixed', 'bulu,', 'danau', 'fosterer(s)', 'tejani', 'lexie', 'bullmastiff', 'discreminate', 'iskl.', '20kg.', 'foong.', '*this', '*be', 'melintas', 'berekor', 'leh', '(dad).', 'frogs.', 'neighbourhood.', 'for!', '3-4yrs', 'aggressive).', 'home,they', 'relaxed,', 'pepper/pebbles', 'gemok...no', '...', '(potty', 'sunday.', 'base)', 'mylo)', 'rebus)', 'caspian', 'her...i', ',but', 'calico..', 'attached.', 'masdor', 'comforted.', '(1/', \"noizy's\", 'yourself).', 'ohh,', 'mereka,', 'them,as', 'kucing..5', 'stool.', 'unsupported,', 'longer..coz', 'him?please,', 'already,dewormed,', 'mites,', 'yummy!!', 'spay,', 'wrong!\"', 'guessing.', 'ikan.', 'hup', 'glue.', 'friska.', 'popo', '(think', '22feb,our', 'mio.', 'take’em', 'moms.', 'teddy!', '2/1/', 'at(', 'months+.', 'de-flead.', ';-(', 'jaya(an', '12th-', 'johan', '5.)', 'quiter', '\"oh..', 'supplements.', 'neigborhood.', 'human.', '-eats', 'fussies', 'mercy!', 'this!', 'vaccined', 'box!', 'home.as', 'a.s.a.p.', 'sibling-', 'alexis', '21st-august', 'snoopy.', 'wait,', 'energy...they', 'posible', 'up..', 'leave/abandon', 'her.minor', 'diorang', 'aggressively.', 'harbour', 'encounter,', 'cadbury', 'bantu', 'ader', 'belang.', 'spine,', 'microchipped.', 'guruh.', 'materialise.', 'keira.', 'sparkle.', 'jantina', 'nasi.', 'mee', 'kua', 'doggie,', 'character.', 'head!!!!', 'fast.', 'kemensah', 'abandoned!', '(plus', 'plz.', 'niki', '领养条件', 'mungkin.tq', 'cats..besides', 'menetap.', '(along', 'innocent-looking', 'shop.', 'park,klang', '(lines)', 'threated', 'sausage,', 'see,', 'shelby', 'sekeluarga', 'tunggal.', 'bercerai', \"ch'ng).\", 'markus.', '皮厚肉松', 'digger!).', 'anymore..coz', '(schnoodle', 'kitten,he', 'dog.location', '(xiao', 'easier,', '**your', 'shenanigans.', 'june,', \"ninja'ed\", 'lol', 'd-trick,', 'deserves!', 'wastes.', '因为我家的老人家不喜欢猫，所以在寻找着温暖的家。', 'dog.will', 'computer,', 'justice!).', '(all', 'pity...i', 'mpsj.', 'ying', 'ones.', 'labours.', 'palyful', '(friend', 'whatsapp.', 'maxx', 'sisters!', 'you.if', 'yellow,', 'louie.', 'girl...', 'anymore.i', 'home/adopter.', 'kucing2nya...sesiapa', 'butter)', 'tiger,', 'health/growth', '7mo.', 'mung', '(approximately', 'surfaces.', '(8/7)', 'soft.', 'colour.', 'joy!!', 'guand', '[after', 'microchip:', 'islamic', 'anybody???', 'ge', 'maggie', '*affectionate', 'glady', 'me..', 'serdang,', 'kete', 'identical,', 'completely.', 'misery.', 'rm-rm..saya', '(gorgeous', '....if', 'chatime', 'condo/apartment/flat.', 'unsupervised,', 'appetite,very', 'face.', 'berpundah', 'environment/stranger', 'company.', 'polite,', 'perferably)', 'kitten.please', 'expense)', 'conditions:-', '*woof*', 'ya,', 'belakang', 'kak', 'tabby/dark', 'side),', '1/2mths+.', 'takut', '“hi!', 'toys..)', 'mages', '2:30pm', 'dogs\"please', 'sacrifice,', 'long/mahkota', 'fyi:', 'nursed.', 'condition).', 'excited.', 'height.', 'beach\"', 'tompi', '\"hiya,', 'lick-lick-lick)', 'gabriel', 'king,', '(viana)', 'sir,.........', 'poopoo', '2)give', 'abdopted.', 'yuen', 'grey/black/stripped', 'redzuan', 'adults.', 'english,', 'urgently..', 'kawaii.', '(rashid)', 'color..its', '(tin', 'old,male,cream', 'booked..', 'humans),', 'fee*:', 'restoran', '5/6', 'purr-ing', 'eyes..she', 'michievious', 'round,', 'bulus', '(eg;', 'vacinated,', 'breeders?', '(hands', 'toys,', 'scoop,', 'strong-willed', 'keja...', 'loyal,', 'preggy.', 'urgent!!', 'bubbly,', 'location:port', 'train).', 'famine.', 'call/sms:', 'petprofile', 'puppy.this', 'golden/orange', 'asthma,', 'so,do', 'adoption：', '療養,', '(kuala', 'alergy', 'comotness,', 'bebo', 'koptiam', 'leave,', 'terrace,', '【beagle', 'lukanya', 'bungah', 'momo', 'bawalah', 'hands..', 'colur', 'dead.\"', 'any)', 'pekingese)', 'together.pls', 'avail.', 'committment.', 'expect?', '3-4weeks', 'adoptor', 'house.and', 'breath.', 'playful..likes', 'mix..', 'txs!', 'wasnt', 'action,', 'desires,', 'school.', 'urgently...', 'own...', 'health.both', 'them.my', 'valley/', '(vaccinated', 'awake.', 'harvey', 'shirt/clothes', 'ambil', 'esenia', 'good!.)i', 'are!!!', 'grey-female', 'blitzers', 'snow,', 'of,', 'kutu✅.', 'loving;', 'occassionally.', 'depress.', 'iq,', 'life....i', 'imessage', 'perimeter.', 'scooby.', 'harmony.', 'buntong,', 'mickey(name', 'now..n', 'human!', 'adopt/foster', ')is', 'call-haniza', '性別：男（已結紮）', 'white:', '(ticks)', \"'full\", 'walks).', 'law!', 'semangat', '(iams', 'enegertic,', 'giv', '\\u202a+‑\\u202c', 'diajar.', 'ebie,', 'melalui...', '-ok', '#save', 'energetic.', 'dissapearing.', 'whiskies,', '(wet', '(born', 'responsible.', '(chew).', '(20/9)', 'years+.', '(6pm-10pm)or', 'loving...feeding', 'veterinary.', 'compulsory,', 'hamil', '4。領養不棄養', '2.5kg-3kg', 'couch.', 'compound.therefore', 'tray,', 'april)of', 'apa2', '/11,', 'phillipa', 'keep...', 'three-legged', 'lama.', 'malay', 'runner,', 'tricks..', 'hi...if', 'flat),', 'recognises', 'ketot.', 'utar', 'call/whatssap', 'details/how', '(3/)', '(look', 'hrp', 'alive.', 'evenings,', 'garage.he', 'bottle..he', '(tried', 'change.', \"'park\", \"tora's.\", 'rmh', \"'adopt'\", 'handphone...', 'pinggiran', 'maisarah\"', 'soulmate,', 'whr', 'aravind', '还有另一只哥哥也开放领养哦！', 'jordon', 'pre-pay', 'pasu..', 'sleep.a', '(rc', '*still', 'bonded.', '(joseph)', 'comforting!', 'ypur', 'jack.', 'sume', 'pusat', 'worst.', 'aftet', 'raining.she', '(rescuer)and', 'amedium/long-haired', 'fluffyest!', \"'advertise'\", 'inquire.', 'sephryn', 'me...do', 'life...thank', 'alicia', 'kizyme', \"jacker's\", 'may)and', 'well.thanks,', 'foster,', 'went,', '*latest', 'fund.', 'thea!', \"請簡訊或what's\", 'volunteer.', 'vetri-dmg', 'sparky)', 'gray.untuk', 'bobbi', '\"farid\"', 'smbung', 'heaps!', '喜欢啃骨头', 'boy)', 'garden.', 'www.myanimalcare.org', 'hobbes.', 'de-flead,', 'exhibitionidvalley', 'purposes,', 'ipoh)', 'off.', 'call-', '(ms.sandy)', 'whicever', 'sit!', 'dog,poodle.for', '(six),', 'able.', 'kotor,', 'kl/shah', '#bekind#adopt', 'charity,', 'beautiful,and', 'esther', 'selebihnya..)', 'ending...', 'siamese!', 'dog...no', 'siamese/', 'negotiable)', 'flu,', 'bling', 'boys,', 'estelle', '“sit”,', 'christne', '(actually', 'manja...', 'moggies.', '*****************************', 'bergurau,', 'pillow.', 'please..if', 'healthily.', 'scarce.', 'apply,', '-receipts', 'berdasarkan', 'petfinder)', '/(sylvia)', 'buku.semuanya', \"'heart'\", '...future', 'mochi.', 'mengenai', 'mereka...tetapi', 'ginko', '*genuine', 'deflea-d', \"anymore.(we're\", 'buatkan', '(blue', \"levi's\", 'twin,', 'measures.', 'bell,', '(call', 'food(worth', 'rex.', 'staying.', 'sleep?!', 'conclude,', 'kg,', 'arrangement)', 'puppybehaviour,', '!!)', 'loop.both', 'tiggy', 'chestbox,', '.)', 'becuase', '1.5kg', 'then;', 'ju,syam', 'saddly', 'mencari', 'anything)', 'diminta', '1.5-2', 'sbrg', '#rescued', 'staircase,', 'vaccinated/', 'woolsy!', 'kerenah.', 'mei', 'flo', '-berimaginasi', '(rm9)', 'aspca.', 'special.', '(siblings)', 'flower.', 'sgt2...', '20th', '*as', 'funkiegirl', 'ralph', 'publika.', 'ppl,', 'yet.but', '是两歲的狗狗,', 'high-five,', 'today....', 'ramli', 'times.thats', 'journey.', 'alam/klang', 'selangor', 'four.', 'dsebbkn', 'dhani', 'deseases).', '-abandon', 'benar-benar', 'weeks.kalau', '2.05kg,', 'month+', 'sje', 'munchkin.', '\"safe\"', 'wouldwonder', 'appartment.', '“down”,', '\"my', 'resellers.', 'urine/motion.', 'sebagainya.', 'janes', 'machine.baby', 'circumstances.', 'simba,nala,zazu,shelo', '(winter’s', 'podge', 'routine;', '1.3kg', 'remains!!!!', 'juno,', 'pounds.', 'p.indah', 'mega,', '[adopted', 'baharak', 'cemburu.', 'with..', 'sm', 'suami', 'hadiah', 'totaally', 'times.and', 'separate.', 'underweight.', 'food/', '(mon-fri', 'playful.toilet,', 'characteristic:', 'contract,', 'body/leg.', 'everybody!', 'train.very', 'dwarf...only', '蒲種区，雪兰莪。......', 'skills.', 'hairs,', 'confident,likes', 'adoption,please', 'old.healthy', 'weak.', '0.55kg', 'age.-', 'wrongly.', 'doberman.', 'beberape', 'ltr', 'unbearable.', 'beside,', 'student.', 'belaian', 'superactive', 'good..only', 'uniqueness.', 'all!)', \"wong's\", 'curiously.', 'saveourstrays', 'as-puppy-04', 'jabs)', 'westie', 'wagging!', 'any).', 'yippy', 'sprayed/neutered:', 'latifa', \"redzuan's\", 'sharpei', 'smart,and', '(who', 'transformational;', 'stall.', 'fasa', 'dashund).', \"aboo's\", 'adorabl...........', 'tricks,', '2).', 'hatchiko', 'still.she', '可爱小狗想要有个家', 'home~', 'ahe', 'with/walked', 'pethouse:', 'tentang', 'malam', 'amy,', 'much).', 'words,', 'goodness!!', 'untuk', 'phone:', 'discarded!', 'phoebe,i', 'plan,', 'castrated,', 'maya,', '华语字幕】', 'alert),', 'trully', 'after,', 'feeling.', 'kembangan', 'two...', 'jaya..berminat??', 'at;', 'personality)', \"sim's\", 'ichiban', 'cats;', 'kulai,interested', 'clinic.', 'cuddlebug', 'those.', 'ball/bone/tree', 'fluid,', 'sini.', 'muka-kesian', 'wmis', 'blacky-o:', 'schnauzer-poodle', 'dgn', 'whatapss', 'thr', 'seminggu.', '42g,', 'sharm-/', '***healthy', 'membelai', 'sand/soil.', 'missha', '(girl).', 'kutu..', 'fall..', 'sweet!!', 'allergics(my', 'bising)', 'nicky).', 'concious', 'timmy', '\"home\"', 'call...thank', 'pounce.', 'missy?', 'tumbuh.', 'meowpinkly(at).com', 'shampoo&', 'available,', 'kebaikan', 'playful,i', 'twins.', 'shortlegged', 'mj', 'bob-tail.', 'rmah..', '17-4-~the', 'scammers,for', 'nutella', 'sokongan', '-indoor', 'cuddly.', 'girlgirl.', 'kk', '(norlia)', 'elderly).', 'water,', 'pet).', 'because:', ':),is', \"mbpj's\", 'chessie', 'adoption..(becky)', '2month,the', '2)playful', '雪兰莪被爱心姐姐照顾着，可以给他一个好家的朋友，请直接联系以上号码，给他一个机会，感恩', \"-_-'......\", 'ashie', 'emails.', 'buying!', 'darren', 'adoption.....', 'papers.', 'kitty:', 'goreng', 'mrk', 'goodguard,', 'bagheera', 'puchong*', 'pengsan.', 'year?', 'kurap.', 'frendly', 'salam,', 'bcuz', 'abled', 'munchkins,', \"cats'\", 'house....', 'terrier/shihzu', 'who’s', 'utama)', 'guy.he', 'cekodoks)', 'lk', 'more.i', '(speaks', 'mia', 'area,chased', 'premises..i', '(hwee', 'homeless!', 'color.new', 'favourite,', 'meeeeeeeeeeee', 'lisa', 'area...........', 'tame,adorable', 'have.(and', '(minimum', 'comot.', 'her,,', 'smiles.', 'food!', \"'crafted'\", '\"act', 'adoption,allow', 'newspaper,', 'anak-', '(left', 'apartment...please', 'seremban/selangor/kl.', 'surgeru', '10cm', '\"owners\"', 'dono', '小蛋挞正在寻找爱它们的粑粑麻麻们哦', 'rubbed.', 'mandarinzxa,', 'pan,', \"'adopted'\", 'pokok.', '(note:', 'eat).', '●ˋ)', 'anggerik', '(down-down)', 'kecomelan', 'coat,', 'fanie', '\"stay\",', 'asal', 'time)', '必须在年6月或之前进行结扎手术，否则结扎押金将不退还.', 'has.', 'photos..', 'mommy.', 'marilyn', '-active.', 'worda', 'canines;', 'ekspo,', 'you!\"', 'saya...tetapi', 'abam', 'home.***', 'kim.', 'cage!', 'mr.whity', 'vaccinations/deworming/', 'medium-longhair,', 'oct', '(8)', 'mona.', '(meow).', 'de-tick,', 'secukupnya.', 'paw-pad.', 'appox', 'nyamuk.', '\"forever\"', 'juliet', 'kidding!..', 'news:', 'prefence', 'sammy.', 'frontline.', 'bangsar', 'venti', '(asking', 'shots.', 'cat....looking', 'deserve.', 'nego', \"all...i'm\", 'lala', 'short-haired,', 'talian.', 'guess...they', 'umah....', 'white-footed', \"jan'17\", 'close..tq..', 'throat.', 'yeong', 'ss26', 'eyes/grey', 'potty-trained(using', 'lain..', 'fuzzy,', '我的手机号码：', 'already:', 'new,', 'hao,', 'paralysed', 'bravo,', 'utama),', '5th', 'area,', 'adopters,galaxy', 'killed,', 'rufus.', 'kucing..thanks', 'arrived,', '“stay”,', '\"tiger\"', '(-nani)', '4-year', 'agreed.', 'ramai', 'street).', '(freshly-frontlined!).', 'sungguh', 'playful.daddy', 'and...', 'lapar,', '*clean', 'well)', 'fear).', 'owner.he', 'not.', 'meow-ing', 'cute....', 'ok..sy', 'hashi.', 'kl/pj/selangor', 'tq.', 'purrer', 'her.i', 'him...he', 'consideration=d', 'ulu', 'iam', 'walau', '8weeks', 'roadside.', 'br', '(jumbo', 'temporary,', 'cheezie', '此狗的血脉为pittbull配mastiff养育的母狗意外配上了黑色长毛的retriever', 'females)', 'grill.', 'tronoh,', 'weeks!', '-if', '未完待续', 'blessing.', 'hungrily.', 'now),', 'play.', 'ciktam', 'hamster!', 'petaling,', 'boy..', 'heights,', 'english)', 'at.may', 'year...after', '地点/location：阿里玛，大山脚(alma,', 'hei', 'university.', '联系号码:', 'cuddle.a', '1)extra', 'fellas..', 'i.e.', 'pack?', '\"cats', 'tukar2', 'aggrieved.', 'interested:(sanjay)', 'smartest,', 'latto', 'viewing.tq', 'infested,', 'boost.', 'drainhole', 'active,obedient', '-grace', 'adoption(rm).', 'dam).', 'kadar', 'barrel.', 'at,', 'well-nourished!', '(cocker', 'walks/be', 'lettew)', 'weekend.', 'connaught,', 'everyone:)', 'ringits', 'cream-coloured', 'cute!!!!!!', 'lol..', 'each..the', 'perdana,', 'running).', 'wunerful', 'melacca..', 'cannt', 'ball.', 'shot,', 'guess)', 'econsave', 'indoor...maybe', 'sooooo', '4)color', 'pose.', 'jaga..', 'home..i', 'fam)', 'sprays.she', 'kitten.very', 'female...', 'borhan', 'socialble', 'court,', '但手續费,医药费和療養费肯定是几千塊,', 'fainting.', 'stunts\".', '(dah', 'emel', 'raya', 'singers.', 'p.s:', 'maintained.', '8-weeks', 'valley..', 'russell.', 'sebanyak', '谢谢。', 'duke,', 'off-load', '(ipoh)', '(after', 'know…soon!', 'afterall.', 'justice;', 'male,', 'kibblrs', 'adorable!if', 'ago,', 'x-owner', 'thus,', 'tnr', 'zazu!', '7pm', 'inquire).', 'paw\"!', 'spitz(fluffy', 'terrace.', 'watchdog.', 'floopy', 'aready', 'iphone.', 'citizen.', 'adopt:', 'medium-long-haired', 'territory.', 'him....', 'siblings)', '..very', '2weeks.', 'profile,', 'him.a', '有意者請私訊或電話聯絡', '1-6pm', 'dream.', 'nevertheless,', 'thanks!!!!!', '(really', 'me.many', 'health,no', 'kajang!', 'black)', 'www.klpoochresortandrescue.org', 'seputeh.', 'therefore,', 'well-built', 'aman.', 'elevator,', 'permai.', 'marking:', 'diselamatkan.dia', 'deworm', '**all', 'firstly,', 'alley,', 'lot...i', 'poty', 'bimbang', 'furry).', 'joli', 'ft', 'perak，但可以安排送到外坡领养。有兴趣者请联络pm。谢谢。', '\"ringworm\".', '5.5kg', 'friendly...he', 'awwwww~~such', '(advice', 'tortoishell', 'reaper.', 'dog-lovers', 'collected.', 'playful.love', 'home.they', 'age:6', 'contrator', \"'sukakan'\", 'sms/watsapp', 'pit.', 'markings,female.', 'kinrara.', 'cancer)', '(loud', 'hound.', '(bills', 'mugen', 'dog,tito', 'dk', 'thunder/', '生下8只小宝贝后离奇死亡（口吐白沫）', '*stayed', 'forever...', 'perkahwinan', '♠', 'for,', 'him!😊).', 'ago),', 'antara', 'neighbor.', '(diet:', ',it', 'heat,', 'thx.', '(jimmy)', 'minor.', 'spine.', 'positions!', 'mrs', 'bernam.', 'date.since', 'champion.', 'littermates.', 'picky-eater', 'market.immediately', 'problems,', 'properly)', '地点:新山大学城', '将会收一点关于检查小狗健康的费用哦！', 'delivered.', 'one/fewer', 'manja...plg', 'seasons.', '2.)', '(once),', '...too', 'uma..', '(semua', 'taught).', 'rescuers,', '*******************', 'debarked(we', '(+),', 'jefry.', 'oreo:', 'toes.', 'kita.', 'cars.', 'menyewa', 'foc.', 'summer...', 'quick,', 'accordingly.', 'adorable....very', 'issue...looking', 'adoption..there', 'carry,', 'q&a', '(3)', 'pelihara', 'carried.she', 'kalu', 'care,so', 'cuter.', 'sundae:', 'stage,', 'pro!', 'spottefy', 'megacat', \"'hair'\", 'goden', ',im', '19days', 'road,obviously', 'girls-cherry', 'earlier,', ':),', 'watchdogs,', 'guards,', 'jue', '(urgent!)', '50)', 'pertanyaan.sms', 'animal’s', 'over-population)', '(dkt', 'soup,', 'rules,if', 'pregnant).', 'harapan', 'remarks:', 'ss23.', 'datin', 'masin..', '*pls', 'togahter.', \"neighbours'\", 'anything!', 'bingewatcher.', \"(don't\", 'pencinta-pencinta', 'mao,', 'whatsapp/call/text', 'pola.', 'sands.', 'frequent,', 'organisation.', 'span,', '(may).', 'grey、brown)', \"u'll\", 'choby', 'puppies...waiting', 'abe', 'pet..', 'break.', '27th', 'grey-brown', 'adopiton', 'kok,tel:', 'carrier/cage.', 'whith', 'anyone!', 'loving..', 'box...i', 'them).both', 'midsemester', '(light', 'rahmat', 'smooth.', 'black\"', 'clever,very', 'mothers.milk', 'scar,', 'whassap', 'pity,', 'xiaobai', 'blueys!', 'treatement.', 'pee/poo.', 'toy...', 'bunting..di', 'longer,', 'house/terrace.', 'matures(where', 'taklah', 'defleaing', '\"dominos\"', 'answers/feedback', 'betina)', 'vijay', 'berlari.', 'blackwood,', 'stich.', '13,', 'really!', '(brown', 'bidor', 'san,', 'aroung', 'nusa', '\"i-can-do-it\"', 'luar.', 'find)', 'wrong!', 'adoprion', 'but...', 'twice!', 'alottttt', 'days,digging', 'lately!', 'traveling,', 'vivendren', '2yrs+', 'lawrence', 'pinky,', 'sit.', ':-(', '(done', 'tengah', 'rides,', '8/5/', '(front', 'indeed).', 'hasina', 'connaught', 'well-socialised.', 'advance.', 'sepak', 'disaspek', 'always.', 'sat,', '它们不像人类一教就会，更不会自力更生...', 'suppose).', 'asset!', 'techit', 'maltese', '**picture', 'kid?', '(brown);', 'says...', 'rumah', 'buddha,', 'cockapoo', 'alas,', 'down-stay,roll-over', 'me...adopt', 'waaay', 'around....', 'pets..', 'yoru-ichi', 'color,', 'ghafar', 'cat...healty....available', '1.)', 'vd', '2-3hari', 'manja..sihat..odd', 'done-', 'love,treat', 'anf,', 'tegas', 'kad', '-litter-trained', 'ke,', '*there', 'me...', 'kutu', 'pee.', 'protein.', 'total.', 'them)', '1)deworming,', \"'gallery'\", 'round-faced', 'night.', 'snowball.', 'separated,', \"tigerlily's\", 'pitt,', '(weekend),', 'keebles,', 'wrna', '(3male,3female).', \"'sweet\", 'crazy.', '-brown', 'etc)if', '\"chocolate', 'scared,', \"filo's\", 'april', '*please', 'healthily,', 'catelyn!', 'kobe,', 'per..', 'anti-fleas', 'play.hes', 'grayish-gold', '14th,', '(kibbles).', 'title)', 'td', 'hye~', 'flat.', 'dapat.', 'teeth,but', 'asap.', 'removed)', 'gift(s)', 'plzzzzz....', 'served.', 'bolt.', 'female/5', 'fosterer/rescuer.', 'family!!', 'baboo', 'yanyan', '1.5kilos...', 'garang,', 'dec/', 'sound.', 'one..................i', 'owne', 'noticed,', 'environments!', '^^)', 'paddy.', \"'dasch'\", 'restrains.', 'anti-biotic', 'animal.', 'super-duper', '不能长时间关', 'malam2', 'situations.', 'bonnet.', 'pitbulls,', 'license,', 'lynx.', 'tomogachi', 'healthy,', 'socialize.', 'byak', 'digunakan', '===========================================]', 'egyptian', 'running..', 'maluri', 'occupied,', 'stop\".', 'form.but', 'hill)', '3)no', 'caged)', \"t'kedek2.\", 'active,healthy,', 'pet.i', 'student’s', 'myself:', 'message)', 'spot,', 'are:', 'hell.', 'pouncer,', 'kluang', 'jumper.', 'coone.', '品种;狐狸犬', '～公狗', '(putih', 'hai...', 'trained!', 'dopin', 'puas', '4)give', 'msged', 'vacinnated.', 'labrador?', 'shivering,', 'brave.', 'nakal,', 'owner...therefore', 'est', 'ttu', 'hahah!', 'pregnant.', 'sngat', 'movements.', '(siamese)', '..give', 'founf', '(despite', 'theon', 'socks);p', 'snuggle.', 'mana).', 'fish)', 'fei', 'offer.', 'morrie', 'abyssinian', 'bite,', 'nota:', 'ordeal.', '-weaned', '-crate-trained,', 'sohaib', 'jinak', 'sekitar', 'kayama,', 'weather.', 'whiskey,', 'klinik.', 'pippo', 'terrible,', 'adopted!!!', 'itam,', 'beside.', 'oringa(boy)', 'will.make', 'unneutered,', 'dosnt', '(fat).', 'dengkil', 'shelther.', 'not..:-)', 'useing', 'prems', 'wean.', 'knowing,', 'u,to', 'malay:)', 'annie.', '\"potty\",', '9-in-1', 'tyres', 'square.', 'discarded.', 'mddb,', 'remember.', 'pengambilan', 'sms!!!!!!!!!', '(compulsory)', 'stay,', 'only!)', '-caged', 'u,he', 'gurl', \"'4\", 'times!', 'puppies..my', \"'petfinders.com.\", 'vickay', '(rm', 'train,sit,bark', 'crippled.', '(bapoo)', '(most', 'adopt/view/for', 'mother!', 'can’t.', 'puppies?', 'nueter', 'her,she', 'wash.', 'doll..very', 'house.very', 'help..', 'vehicle.', 'dobby!', 'apply).', 'cost...', '*conditions', 'mitchie', 'sebenar', '..thats', 'pls....', 'holidays.', 'breed...', 'did!!', 'up?', 'breed,6', 'already.tq!😊', 'though,', 'wks.', '1bulan.', '流浪動物的命運坎坷，你有信心能給他們幸福的家，幸福的人生，請聯絡我。', 'applies.', 'wangsa', 'brickfields.', 'handle..', 'resued', 'month)', \"around.i'd\", '.giving', '狐狸狗', 'up!!!', 'swasta', 'family]', 'terakhir', 'ashey,', 'cola,', 'pupppy', '(as', 'nightsand', 'neuteured,', '(registered', '*your', '(cageless)', 'interested.', 'alergy.', 'fish),', 'loud.', 'lembik.', 'furrbabies', 'pok', '我在', 'need..thank', 'health:', '/sms/line', '#sundaythecat', '.therefore,we', 'pre-occupied', '(adopters', 'negotiable(but', 'tummy.(', 'polpot', 'mommy/daddy', 'them..this', '♦does', '(oops', 'ajar..kues..kues..kuess..).', '(only', 'active..current', \"'putus\", '\"rounds\"', 'fortunately,', 'sita,', 'rebut2', \"'chill'\", 'personality:', 'alone,one', 'gasing.', 'wave,', '(it', '(najla)', 'indy', 'bailey,', 'han', '(of', 'polka-dot', 'self-sufficient,', 'these.', 'shepherd.', 'keperangan.', 'well-loved', '(cld', 'up,vaccine', 'teething.', '^^,', 'nips.', 'tired).', 'light-light-brown', '1a/1d', 'gugur).', 'gedik', 'gerbera!', 'gallery).', 'nighty.', 'attractive.', 'neyo', 'read)', 'mushtash', 'vimi', 'dewormd:yes', 'treat.', 'purring.', 'maui', 'ceiling.', 'firecrackers..', '有个过路人告诉我,他出世没多久他妈妈就整身烂和生虫的死在他现在的住所。', '\"zorro', 'stretch.', 'sound,', 'laju)', 'labrador.....to', 'perhaps.', 'brownie.', 'pellet.', '>friendly,', 'huhu.', 'hi,jingle', '\"black', '[important]', '2.boiled', 'climber,', 'shirly', 'shower.', 'loke', 'happiest,', 'edward', 'me;', 'update*****', 'month..she', 'tokong,', 'enquiries,', 'am,', '2find', 'temper.', '(labour', 'kitten.healthy', 'torarawr.', 'her...', 'giler', 'promise.he', 'watch/guard', 'dflea.', 'anak-anaknya', 'justice).', 'dots.', '(1', 'trimmed,', '#seriousadopter', '(simpang', 'rellocated', 'allowed),', 'spirited.', \"kiki's\", 'klennex', 'hugo.', 'guardian...', 'mayang(pj)', 'character..very', 'scene.', 'post),', 'noorul', '(toilet', 'puviyal,', 'point,', 'feet)', 'sidekick.', 'kopi-o', 'lot!!', 'kampung', '6/2/11', 'tumour,', 'moment?', 'purrrry', 'auntieeee...', 'view,', 'call)', 'thx!', 'birt', 'bite.', 'scottie', 'adorable:', 'pixie)', 'hui', 'sdkit', 'fence.', 'gender,', 'day(but', 'vaccinations/deworming/spaying', 'compassionate,', 'babies.', 'neglect.', 'flu.', 'hi.', 'attempts,', 'diangkat', '(currently)', 'front-', 'asap...help2...i', '\"pig', 'minho', 'besabar', '(3rd', 'progresses,', '--its', 'unschedule', 'story!', 'yantie', 'fosteres', 'terhenjut-henjut...', 'either,', 'local/international,', '(vaccinations,', 'frequently).', 'damansara)', '(spoiled);', 'owner...i', 'ms.ooi', '+,', 'abused,', 'they’ll', '1)带狗狗打预防针', 'long-haired', \"ss2's\", 'whatsapp。.......', 'buck/simba!', 'puncak', 'kitten.', 'area.i', 'stuart,', \"nye's\", 'attention...', 'yuffie,', 'jessica', 'janji', 'perai,', 'spitz(lighter', 'petshop,', 'info/adoption.', 'bold,', 'zee,', 'anti-flea', 'colourful.', 'photograph.', 'cream(a', 'hooman', 'all..and', 'snuggly,', 'kiv', 'pad.', \"(photo's\", 'picture..', 'unikl', 'pedro', 'spaying,', '11/2', 'adoption】', 'directions.', 'previously,', 'perut(kuat', 'thanks..', 'kittie', 'josephine', 'ciktam...', 'dog,she', 'qq:-', 'dustbin,', 'dia', '我超乖,任抱任捏任搓任玩,超爱撒娇也很想有家', 'married,', 'tranfer', 'system.', 'first.', 'weaned,', 'fractures..', 'shj', 'seputeh,', 'pzgan85,', 'veryyyyy', '5,5', 'at(nur)-kuantan', '*2', '2weeks', 'babysitter.', 'helth', '(if', 'utih', 'lasak', 'tail.', 'brown,2', \"feral's\", 'crowd,', 'dumping!!', 'canin', 'as-puppy-05', 'tonight,,she', 'pola', 'driveway.', 'road,she', 'ago...i', 'taman.', 'vanila,', 'itu', 'ketakutan', 'mischief.', 'contract.', '28/1/09', 'de-ticked', 'mii', 'wander/free', 'pendiam..', 'experience.', 'home???', 'bald.', 'fee..foc..only', '..sape', 'playground,,she', 'menyayanginya', 'college,', '\"lap\"', 'sangat', 'precoutionary', 'puppies).', 'chooky-', 'guardian.', 'condition,', 'surya.', 'hormat', 'sis)', 'tuna.', 'uum,', '-amie', 'ingin', 'fostered,', '(local', 'area?', 'canen', 'well\")', 'istilah', 'happie', 'end...', 'cikenet', 'chaco', '8yo', '+++', 'hunger.he', 'home~!!', 'petani,', '.both', 'tom,', 'case,', 'thanks~', 'rm]', 'melahirkn', 'now.the', '8/9/09', 'tade', 'qualify.', '\\uf04a.', 'hookworms,', 'carrier.', 'list)', 'colour,', '97%', '[on', 'vaccinate,neuter', '(estimated)', 'whining.', 'alia', '(barks', 'iium', 'cabinet,', 'eyes)', 'ignore.', '24/7', 'what?', 'tickles.', 'kennedy', 'petfinder!', 'trained..come', 'centre', 'eargerly', 'kenakalannya', 'dobby:', 'la,', 'area(', 'sabrina', 'free...', 'cages..but', 'at__77_29_.', 'e-mailing', 'call/email', 'live,we', 'cats)', '华语字幕', '-personality:', 'tails!!', '(detick,', 'studies.', 'tatao', 'simba.', 'space..', '(never', 'attention/', 'chamber，', 'let...so', 'hyperactive..', 'thoroughly.', 'noticably', 'detail..', 'mother-dog.', 'celah', 'bits.', '(landmark', 'hole/drain', 'him.(,8:00pm-dear', '2)i', 'her?', 'oren.', 'nettie', '-can', 'leftovers.', 'abon', 'soonest!', 'viewed!', 'herder,female.', 'xmanja', \"cat..can't\", 'all,my', 'junior..mummy', '-allow', \"tookins'\", 'lang', 'kasar.', 'wednesday', 'kiew', 'buddies?\"', 'chain...', 'constrain,', '(littering).', 'ride.i', 'chibi', 'kacau', \"'puss\", 'grey!!!', 'sepenuh', '(blackwood).', 'needed,', 'disedekahkan..', 'him,is', 'tebiar', 'also,neutered', 'susah2', '-wearing', 'boy?he', 'owner.unfortunately,', 'semak,', '(very', 'lazy.', '17/6/.', 'cats...and', 'beranak.saya', 'cook,', 'alrealy', 'convenience.', 'say.', '(mom)', '*prefer', 'goreng.', 'lincah..', 'juju.', '】', 'distance,', 'm2', 'stick,helmet', 'curly,', 'puu', 'couple.', 'nutrition.', 'wagyu', 'with..an', 'coat.a', 'cindi', 'pury', 'angel,', 'month;', 'rimau', 'off,', 'button,', 'fiv/felv', 'cat..she', 'updates.', 'playful,outgoing', 'bff,', 'may,', \"guinevere's\", 'hold,', '(really2', 'speedmart', 'care,toilet', 'tigger).', 'daughter.', \"miko's\", 'flea,', 'fish,', 'him...well..i', 'cookie,', 'unique,', 'name:', 'ubat', 'kucing,terus', 'oggy', 'inez', 'proximity;', 'purebreed', 'weaned-off', ':)..', 'cute,active,', 'tuxedo,', 'disease)', 'compound/garden.', 'lost&found', 'tt___tt', \"bella's\", 'ok..', 'carmen.iam', 'nisha', ':（li', 'unhappy.', 'chase!', 'rehabilitated.', 'cheras,', 'beroperasi', '(voice', '(malaysian/expatriate?', 'adorable!he', 'pityful', 'areas,', 'melaka).', 'panic,', 'home.alrdy', 'jacky.', 'mertajam,', 'aku.', 'mantin', 'nach', 'waste....', 'kland', 'internship.', 'didalam', 'yumi:', '---------------updated', 'oct-nov', '在领养的第二到第六个月', '5kg', 'siapa2', '\"japanese', 'before!', 'andrew', 'moca,', 'haha...', 'manegment', 'family.daisy', 'text/call/email', 'bachk', 'jolok', 'aggresive', '(i.e.', '(about', 'kingsley.', 'asap.its', 'sleep...', '我們將他們的資料放上網，', 'meds,', 'selain', 'selangor,', 'words...sit', 'but..we', 'good-looking,', 'her,need', 'anjing', 'me...(', 'dsh..', 'pending)', 'days..', '1kg', 'vietnamese...', 'food)', 'dogs).', 'playful....', ',clean', 'active/', '-------------------', 'syazwanie:', 'sms/wassap', 'gv', 'oilment', 'them.both', 'wet,', '\"meow\"!', '2-6pm.', 'blue/grey', 'jantan..dah', 't-shirt', 'chubby.', '可怜的小毛孩mochi除了脸部肿瘤外，还确定感染上心絲蟲症(heartworm', 'sepenuhnya.', 'kajang', 'chained.', 'eater.she', 'caging/short', 'matsalleh)', '(specifically,', 'like?', 'it!\"', 'hopefully!', 'snuggly', 'realy', 'tertera.', 'hill.', '*short', 'seven.', 'lot.', 'humans:', 'sponsorkan', 'day,suspected', 'people(humans).', 'ctc', 'babies,', 'playful+hyperactive+affectionate.', 'yik,near', 'them:-', 'puppies.one', 'belang2,', 'needed..pls', 'bone,', 'housebreak,', 'needs.', 'notice.', 'elaine.', 'then?', '16.7..', 'ngo,', 'kejar-mengejar', 'none,i', 'property?', 'it..the', 'oprah.', \"didn't.\", '2,', 'someone,', 'laura', 'ng.', '(char', 'frightened,', 'bought,', 'groom.', 'kondo..saya', 'a.k.a.small', 'intresting', 'pl', 'gray+white', 'half-open', 'choice.\"', 'too!!', 'escaped.', 'scare.', 'watch-dog', ',pulau', 'females:)', '\"rescued\"', 'car.finally', 'recently.', 'hp:', 'muslims', 'demeanor,', 'photos,', '2c', 'euthanized', 'thailand.', 'sponsor/donation', 'associattion', 'food&the', 'rm10', 'beauty.', '###adobted###', '\"by', 'loving,chubby,', 'be...', 'inseparable.', 'mother....they', 'tiffani', '\"sheperd', 'owners:', 'voice,', 'mengada', 'f2', 'onn,', 'foundation)', \"'probably'\", '[note]', 'iaitu', \"t&c's\", 'worf.', 'mothers,', 'manja,bila', 'pulak', 'chah', 'manzar', 'palm,', 'smoky,', 'thea', 'choki', 'where.', 'him)', '\"onn', 'kutu,', 'individuals,', 'activities.', ',cant', 'attention!!!', 'oriented.loyal.', 'carlos', '...so', 'mother.very', 'vomit.', 'reference.', ',rescues', 'sgt', 'long-tailed', 'apartment)', '有意者请联络', '10yo,', 'alreaddy', 'solution).', 'brown..like', 'couple!', 'basis.', 'though.', 'only),', '**posting', 'renting,', 'prai', 'kok', '(12', 'rusco,', '-golden', \"could've\", 'kpd', 'house..his', 'conditon', \"tigger's\", 'wongwong', 'momy', 'singapore.', 'belonged.', \"'golden'\", \"jacquelyn's\", 'well.)', '(dry)', '[no', 'recently)', 'keliling', 'talk.she', 'inquire,', ':(!', 'bentuk', 'strays),', 'right?', 'pitbull-mix', 'walk/', 'puppy…', 'families.', 'companion...look', 'marley', 'more:', 'backyard).', 'bersih.', 'humans...very', 'tired,', 'sincerely,', 'scoopy', 'gerai', 'a.s.a.p', 'imogene', 'jealousy.', 'apartment,', 'halus', 'prawns.', 'bed.', 'similiar', 'indoors.must', 'ex-foster', '\"eyes', 'brother.', 'dogs.obedient', 'sembilan..better', 'number.', 'robbie', 'asal...', 'japanese', '😒', '(gray', 'before..ive', 'born..have', 'dog-fights', 'butter,', 'rented.', 'ikea', 'vaccines,', '2.black', 'mission)', 'scream.', 'smile,', 'day...very', 'she’ll', 'ill-will', 'killed.she', 'boned,', 'neck,', 'pee...', '.com', 'set=a..&type=1', 'mumu', '(good', 'newcoming', 'dee', 'worry),', 'spray.', 'mischele', 'work.i', 'joanna', '1++', 'mother)plus', 'human-affectionate.', 'them.interested', 'adult?', 'adoption.3', 'them..so', 'oudoor', 'un-sheltered.', 'tricks).', 'viber,', '-i', '.he', 'big!).', \"-doesn't\", 'everydoghasitsday09.blogspot.com', 'sakit.so', 'spots!!', 'miowing', 'smarts.', '(any', \"'come'\", 'her..so', 'whatsapp/sms', 'people,not', \"(i'm\", 'norman', 'habits.', 'un-neutered', 'delicate,', 'diluted-calico', 'place..worse,', 'steve', 'much.unfortunately,this', 'there.', 'sickly.', '(dmg,', 'personalities.', 'agree)', 'badass', 'har-nee', 'poisoning,', 'chichi.', 'came.', 'brushed.', 'angles.', 'tepi', '1.8kgs.', 'sis.', 'komplen..nak', 'away.', 'kajang/bangi/cyber/putrajaya/kl', 'obligation.', 'question.', 'tookins,', 'once,', 'body...', '27.1.,', '\"god', 'semuanya....sesiapa', 'loa-', '•活泼可爱', 'tidy,', 'owner=)', 'sexy!)', 'confident.', 'a.s.a.p.!', 'trotting.', 'rosie,', 'kittens!', 'putrajaya...do', 'vaccined💉', 'disposable!', 'selesa.', 'op', 'friend?', '1.7kg', 'neuter.in', '#adopter', '(does', 'jemah', 'omel).', 'gone.', 'affection/manja', 'hugs,', \"'tempang'\", 'pinewood.', '请读以下的条件：', 'vaccinat,', 'protector.', 'diorang)', 'distributed.', 'heathly.if', 'bebe', 'plan.', '3st', '(note', 'haiwan', 'chamelia', 'seng', 'greenlane.', 'feature.', 'albert', 'dewormend.', 'him(', 'usj1', '-/', 'berabab.', 'nego.', 'amidala', '1号和2号-公猫，已结扎。', 'assalamualaikum/', 'bouncy,', 'father:', 'location:iium', '14/8/13', 'valerie', 'medicine,', 'popular,', 'nilly,', 'neighbours.', \"home.i'm\", 'packet)', 'preferably:', 'ps:prefer', '*slurpslurpslurp*', 'dogs..please', 'and...=.=', 'kid,can', 'here...', 'forrest', '24/7,', 're-join', \"thankin'\", 'attached,', 'leg)..', 'turn,', 'litter-box,', 'dec,', 'yenny', 'pleasant,', 'tortoise.', 'camila', 'sdn', 'rosak', 'kunyuk.', 'sdpot', '**will', 'sms).', '-it', 'left]', 'xiaomi.', 'gloves!', 'sudden.', 'overview,', 'untk', '21/9/17.', 'zee)', 'lilit', 'buddy.', 'parking...rasanya', 'kondusif.', 'muscular,', 'golden,', 'kadangkala', 'sya', 'somehow.', 'playful..this', 'dismay.', '2)spay', 'btw.', 'instinct.', 'vader.', 'scottish', 'munchy', 'out..', 'ready,it', 'about,', '\"lembik\"', 'normal/domestic', 'adoption:-', 'milka', 'harvey.', '/feline)', 'bubu,', 'tk1', 'community,', 'adoption.(tmn', 'hideout.', 'tuxedo/\"domino\"', 'patiance', 'him,already', 'her…', 'cuddle-bug', 'sna,', 'medium-sized.', 'tqtqtqtq.', 'milton', 'pop-tail.', 'paperbags.', 'big)', 'spray,', 'spayed/neutered).', 'nauthy', 'yoghurt.', 'bites/', 'bark..', 'halle', \"well-behaved.he'll\", '寻找有心人，它也想拥有一个温暖的家。', 'sore,', 'rte', 'condition,i', 'lil', 'house...i', '(penang)', 'intact,', 'hairdryer.easy', 'in.could', '***toilet', '(joen)，非常感激您领养取代购买!', 'bayaran', 'old/big', '7-9bulan', 'tortoiseshell,', 'play..sleep..and', 'class.', \"'blur'\", 'restaurant,', 'lynn', 'pictures,', 'timmy,', 'royal.', 'name;', \"'forever\", 'dukung..', 'cautious,', 'photography,', 'minoo.', '很活泼', 'purrssss', 'thanks!!!', 'dorminant', 'bliss.', \"'wow!\", 'flat...hope', 'jambul,', \"'sunshine'\", 'takers?', 'alredy', 'tito', 'kandung', 'charlene', 'tri-color', 'starpro.', 'commands).', 'rina', '(anak', 'looking,', 'dog)', 'vaccinations,', 'purr,', 'melor', '2/5/', 'hook.', 'tiara,', 'loveeeeee', 'patting.', 'pts', 'frequent.', 'perfect,', 'soul..', 'adorable,,', 'knigh', 'bexsh', '(hereby', 'home..if', '================================', 'orphan.', 'seeking.', '2-', '-a', 'ago,3', 'rehomed.', 'overall,', 'bwee)', 'playful..', 'eating..', 'sound...the', 'jemari', 'condition.please', 'slowly,', 'clean!', 'coat:', 'canned/cooked', 'crawling.', '(founder)', 'else,', 'liamliam', 'detail,thanks!', 'old.his', '\"him\".', 'marisa', 'rules:', 'calls)', 'cut.', 'akita', 'kobis', '(both', 'contact/whatapp', 'hyperactive,', 'shampoo/accessories', 'passrby', 'bark).', 'shanon', 'vet.', 'melly', 'at-', 'attach,', 'kordinat', 'self-pick', 'stomry', 'yes.', 'tani', '华语字幕)', 'pet,i', 'debab(white+orange)', '(alert', 'contact:', 'perhatikan', 'spread.', 'lady-w', 'joos', 'disappointment.', 'no.3', 'while..am', 'remuneration:', 'ailments,', 'prefferred.', '(old', '--healthy', 'u?', 'mimey', 'de-wormed:', 'accompany,', '♥', 'caging\".', 'clean..', 'gene,', 'hotline,', \"'painted'\", 'giler.', 'hide-and-seek.', 'lovely,caring', 'block,', 'sememet.', 'carers,', 'defensive.', 'observed,', 'decision.', 'boy.small', 'belly!', 'rm50', 'homes?\"', 'kelaparan', 'sheela.', 'forever!', 'berak', 'toddlers...', 'easily,', 'message/watsapp', 'felv,', 'bw', 'rescued,adopted', 'morpheus', 'caring.', 'male.about', 'behaviours.', 'recks', 'bye-bye', 'happier.', '“blind', 'independant.', 'outdoor)', '...male', 'msg/call', 'pannu', 'campur', 'grayfoot,', 'litter-trained', 'sepasang.', 'couldn’t', 'iv.', 'heels!', 'jaya..', 'vaksin', \"abc's\", 'belang)', 'kiri', 'kafe', '旧巴生路，吉隆坡', 'hide,', 'box.i', \"weeks....he's\", 'ökoplus.', 'home.:)', '2),', 'vehicles.', 'cage,puppybed,foodbowl,dog', ',thx!!!', '1k++!!)', 'observe.', 'krr)', 'issues.', '很好动的小妞，喜欢扑在人身上摇尾巴，很会看门，门外有什么小动静都会吠叫。', 'month**', 'infact,', 'city)', 'spay/neuter.', 'runway.', 'days!!.', 'loss.', 'videos).', 'thouse', 'thunderstorm.', 'xtaw)', 'indded', 'kira-kira', 'puppy...the', 'dexter,', 'sleep.aunty', 'staying..', 'mahsuri', 'help...someone', 'great!', 'carrie', 'deworming..', 'get..', 'cats...his', 'vac.', 'tunjukkan', 'dogs´.', 'gettin', '_\"\"', 'kelso', 'minute.', '5b,', 'surgery.', 'tangkap', 'token,', 'she..', 'eco', 'thursday!', 'alahan', 'mothers.', 'ruffio', 'father(', '(%', 'details...only', 'him.quiet', 'moods.', 'lembut.', '2。願意支付狗狗的結紮和預防針費用，以幫助其他流浪毛孩。', 'submissive.', 'starbucks,', 'later..thanks', 'joints.', 'sehingga', 'afterall,he', 'them...hve', '(shirley)', 'her....adopter', 'due,', 'molek', 'euthanasia.', 'mar.', '⚪️toys', 'gender:both', 'licence)', 'shadow,', 'had).', 'sms/', 'delight.', 'sc2', 'whatspp', 'pearness', 'faktor', 'field,', 'stray),', 't’chalka', 'care,and', 'brminat', 'powerless,', 'point).', 'family).', 'cropped.', 'basement,', 'lovingness,', 'shi', '2-week-old,', 'besar,', '3)', 'ani)', 'up:', 'coming....', 'package.', 'punch,', '(medium', 'victim.', 'prepared,she', 'too.the', '(male)', 'pulangkan', 'feeder.little', '，或是面子书：', '*have', 'grip.', 'cuddling.', '=========================', '\"i\\'m', 'preten', 'brushing.', 'mum-golden', 'polo,', 'besar', 'rosie)', 'making.', '(there', 'motion.', '(/16),', 'saturday', 'corn(corn', '(nov', '2hitam', 'googled', 'haris.', 'purrrfect', 'yuuki', 'freak.', 'responsible,', 'mengarahkan', 'allergy.', 'healthy,active', 'whatsapp/call/sms.', 'overcrowding.', 'bi-eye', '(those', 'dog).', '(maybe).', \"june's\", 'potential.', '(provided', 'nasi', '蒲種区，雪兰莪。.....', 'breast-feeding.', 'sex.', 'mesmerise.', 'tue-fri', 'greet/talk', 'sven', 'permanently.', '(nani)', '会亲自载送', 'adopted.left', 'dogs(her', 'behavior,close', 'menamakannya', 'debra..', 'dio', 'boys...', 'meriah', 'flat.he', 'yennylim.', 'puppy-', 'quiet,innocent', 'gajah/jalan', 'handsomey', 'dog:', 'waiting,', 'pic.', 'makin', 'sisters,', 'interested,tq', 'now).', 'chen', 'ketua', 'lagi.kucing', 'well.i', 'watch-dogs', 'anak.', \"bear..he's\", '(saying', 'rates)', 'skang', 'them..is', 'menepis', 'dehydrated.', 'him:-', 'hah,', 'januari.', '4-year-old', 'uk', 'explore,', 'kathy', 'properly.now', \"cats's\", 'activist,', 'roads.\"', '(once)', '(crooked', 'pkai', 'features.', '(name', 'ii.', 'scared/shy', '蒲种区........', 'them..so,dogs', 'dataran', 'owners).', 'dewormed..', 'faded),', 'dewasa', 'dropping,', 'vanilla.', \"d'kota)\", 'company)', 'four...', 'everyone’s', 'noisy/loud.', 'puppies!!!', '*********************************', 'rabbit,', 'female-1', 'michele...7', 'cz', 'hello!', 'yap.', 'mother.that', 'already)!', 'nigina', 'weavy', '(ttdi)', 'bulu.', 'lost...', 'godiva', '#yoycantbuylove', '(we', 'least,', 'fridge.', 'on....', 'info/viewing/adoption.', 'kerja.', 'gutter.', 'gi', 'heppy', 'call/sms(affi)at', '(non-violent),', 'unrescued.', ':).and', 'handled,', 'night)if', 'jane,', '9/9/', 'sharika', 'condition-', 'outsite', 'tootsie.', 'strangers,', '___________________________', 'khaleesi', 'aristotle', 'houses.', 'early).', 'mpkj', ':none', 'apartment.', 'source.', 'foods--', 'conditions...', 'really2', 'fish4dog', 'hair:)', 'resist.', 'cold,after', '\"melbourne', 'coat)', 'momot', 'phobia!', 'cord,', 'thingy..', 'wounds.', 'definitly', 'spitz,male.', 'me?\"', 'oh!', 'vivienne', 'purry.', 'rm50,', 'nearby...i', 'peluang', 'cremo,', 'pelvis.', 'antibiotic.', 'terpaksa', 'fish..', 'snuggler!', 'foster/feed/vaccinate/take', 'chatty.', 'ss2/4', 'bull.', \"'the\", 'jogging,', 'island/ipoh.', 'dibelanjakan', 'deworming:', 'af.', '(cirit', 'members(as', 'vaccinations.', '(bapa)', 'location??', '如不适合领养请通知义工，请不要在没通知义工之下随便送给不认识的人。', 'k9s.', 'tail..!love', '(fully', 'address:', 'cat\",', 'homes..', 'breed:', 'adoption/sale', 'herbie.', 'one-week', '!!!!....corner', 'there!', ':0)', 'jan.', 'bersihkan', 'blind.....', '希望可以為他們找到一個幸福。', 'b4)', 'outstation..anyone', 'age,', '(gold', 'sihat', 'pay...', 'k?', 'bubbas', 'brave,', 'mean.', 'factory..', 'it??', 'mobile#', 'purchase.', 'dong.', 'cat-intolerant,', 'affectionate!)', 'wolf.but', 'adopter’s', '😂)', 'daily.', 'segambut,', '出门散步运动后，喜欢到水里趴下，洗脚，甚至是玩水。', 'potty-trained', 'cantonese)', 'mummy.they', 'medication..the', 'whisky,', 'tlc!!', 'named.', 'creatures..', 'go).', '3.take', 'helpless,', '4yrs,', \"upm's\", 'cabinet.', 'hidup', 'male;', 'prostar', 'abandoned...', 'mites/stomach', 'investigate,', 'mother).', 'pau)', 'hatinya,', 'dog,i', 'klau', 'knows.he', 'alasan', 'bryant,', 'adoption.if', '😭', 'temporarily).', 'clever,', 'owners):', 'black-brown', 'syrige', 'study,', 'stray!', '😥', 'obesiti,but', 'pr', 'food,occasionally', 'ex-litters,', 'observed.', 'health!', 'jalanan.', 'vacinated.', '4.send', '(friday,', 'love~we', '注明：不需虐待！不需遗弃！', 'fellah.', '(maggot,skin', 'kajang.)', 'seema,', '~love..yoghurt', 'karat,', 'indoors..', 'sofie', 'cmpur', 'big-boned,', 'days.desperated,i', 'adventurous!', 'daredevil.', 'foster/adopt', 'maps://maps.apple.com/maps?q=3..', '6kg', 'share!', '\"illegally\"', 'guarddog', 'make-shift', 'malaysian!', 'u!', 'nyot', 'sinnodurai', 'friends..or', 'buncit.', 'buli2..they', 'usual,i', 'male(black&white)', 'checked,blood', '28th', '(sheru', 'glorycat', 'mom(dachshund)', 'kuai,', \"circumtances.he's\", ':blackwood/iams', \"komi's\", 'rehome.pls', 'behavior,am', 'tel:;', 'ovely', '(12)', '♦daring', 'little,', 'itam.', '聯絡我', '(agreement', 'misunderstanded', 'sakit/kutu.', 'sweetheart.he', '-owner', 'missionshare5', 'cuddly,', 'housetrained', 'asthma).', 'requirements.', '8,', 'fellow...', 'growning', 'in,give', 'aircond', 'prescription.;', 'mainan', 'temiang,', 'muncul', '(gamba', 'reggie', 'rope.', 'mei,', '我們為牠們尋找一個愛牠們的家。', '½', 'night)', '5-6months', 'while..however,', '+3kids+a', 'filipino', 'changlun', 'black&white),', 'tying-up', 'tvt,', '\"homely\"', '1pm-7pm,', 'pup(s)', 'sturdy.', 'husky-mixed', '2-weeks', 'mid-valley', '(daily', 'bff!', '(affi)', 'bula-bula.i', 'megah,', 'ganas', 'freely...', 'mr.wong', 'cats).', 'kehilangan', 'his.', 'shots/', 'separated.only', 'bearbarella', 'frodo', 'job...', 'miao', 'briefly,', 'wes', '/neutered', 'siblings!', '\"silent\"', 'owner).', 'inquisitive.', 'tomagochi.', 'yusuf', 'cyclops:-', 'ears,sharper', 'teeny-tiny', 'home?', 'bertolak....', 'openly.......', 'white):', '(white/black),', 'kuen', '\"eow!\")', 'inside/outside', 'tq~', 'pasir', 'obidient.', \"roma's\", 'kausilya', 'eva', 'setar)mahal', 'comfortable.', '\"if', '(azri)', 'eileen', 'best,', 'happy-go-lucky.', 'capsquare', '2)black,', 'apollo.', 'heart-ed', 'est.', 't&c,', 'population.', 'nampak.', 'dbkl).', 'months(the', 'brooch.', 'leilei', 'tuxie', 'kittens.they', 'jannette', 'jatuh', 'downpour.', 'sms-hafiz', 'tho),', 'object.', 'kecoh', 'pegang,', '-kajang/bangi/putrajaya/serdang.', 'roxie', 'baskets/boxes', 'fighter!!', 'interested:)', ',than', 'shifted,', 'siam', 'happy-go-lucky', 'atas', 'nobunaga', 'teeth(look', 'yuen).', 'cafe', 'brown.1', 'gets)', 'mall)..', 'puchong..they', 'kerja', 'favourites', 'opis', 'appreciate...', 'you=)', 'chest.both', '24hrs', 'person\"', 'ticked,', 'imagination.', 'color-', 'adopt/view', 'diseases.', 'clawdette!', 'eevie', 'upright!', 'migrating,', 'amigos:', 'meowzer', 'due.', 'only!!)', 'there,', 'people;', 'maincoon', 'me..so', 'loyal.', 'mother(pf).', 'waited.', 'lost,', '2years', 'rahimah..', 'berselera', 'meantime,', 'puppy....after', 'uk.', 'caging).', 'mrleo', 'hitch-hiked', 'goodbyes.', 'walk;', 'clever,friendly', 'female)', 'a/d', 'ampang...', 'leo,', 'need....', '(eg.', 'needy.', 'sofas.', '=))', 'groomed.anything', 'this,i', 'dog..tq.', 'interested...', \"lucky..i'm\", '3/2/17', 'love..', '-live', 'loa,', \"simon's\", 'breed,', 'island.', 'lively,just', 'sumi', 'friskies', 'beginning.his', 'retailer,', 'goodwill,', 'puppies...', \"jun'15.\", 'pavillion.', 'jom!', 'old.total', 'her,please', 'saturday.', \"children's\", 'collar.', '三个月', 'animals,', 'home...a', 'times,', 'begitu', 'chox/chalks.', 'kl,if', \"katy's\", '因為某些原因，rott', 'app/', 'liz', 'rescued.1', 'domesticated,', '请联络我', 'crate,', 'carried.', 'cream/gold', 'snuggle/sleep', '\"cat-it\"', 'rump.', 'regards,cathy', 'before).', 'lasak.', 'perai,penang.', '(doreen)', 'urine.', 'ask,', 'picasso', 'kitten,', 'taipan),', 'usj14', 'meek,', 'p2,cinta', 'juru,penang', 'bunting.', 'deciding..', 'jugak.', 'elements;', 'kee', \"'one-dog'\", '(teh)', 'addorable,', 'oyen.', 'warna', '**update', 'suzy,', 'torn)', 'orange.currently', 'nicole', 'defence.', 'much...but', 'flyover.', \"family.it's\", 'goodness,', '13.3.13', 'frontlined,', '(currently', 'tulang', 'fluffly', 'romeo,', 'minta', 'yeoh', 'permits.', 'scammer', \"scruffy's\", 'mail.', '\"agent', 'hensem', 'seen.', 'complaints.', '\"lively\"..', 'kenji,', 'nakal', '27/5/', 'ngadu', 'aaaaand', '3.send', 'tetapi', 'jessy', 'listeners,', 'treatment.', '13pups', 'memilih', 'healthy&active.', 'boink', 'post).', 'friendlier.', 'socialisation', 'spitzee', \"'emblem'...\", 'fast!', '*the', 'cita,', 'tido..', '...etc.', 'hair,', 'black/grey', 'day,', 'harri,', 'own?', \"peoples's\", 'horse..', 'malam.', 'available**.', '*reimbursement', 'limitations,', 'transfered', 'spoken\"', 'lawa!', 'feels?', 'cost:', 'britcare.', 'terlepas', 'spayed,vaccinated,dewormed.', 'sasa', 'sad.management', 'great.thanks', 'excident.', 'rejected.', 'head,', ':d.', 'jamie,', '\"sweet-lap\"', 'manggis,sungguhpun', 'only..', 'menggosoknya', 'too..but', 'recognizes.', 'oren*', 'nb:', '--disney', 'nobu,', '4)spaying', 'frm', 'dicederakan,', 'born,', 'lovely,playful', '*transport', 'ending!', 'spca,if', 'gentl', 're-adoption.', 'company!', 'adopte', 'reccomend', 'spotty,', 'penat', 'starving,', 'lesser.', '(ms.ai)', 'ar2', 'pippa', 'me,many', 'kittenbites,', 'financial-able', 'deformed.', 'barking).', 'boomer&bumper:', 'word.(training', 'complants', 'adopted.thx', \"(doesn't\", 'taxi.', 'distances,', '(19', 'motivator.', '.allow', 'thing;', 'deedee,', 'text!', 'puss.', '(fiona,snow', 'yeo', 'availability:', 'shepards,', 'streets.b', 'band.', 'home.the', 'man).', 'pup.', 'tinka', 'abby.', '-playing', 'mdm.', 'week,', 'hai..', 'mengizinkn', 'blue-ish', 'berry)', 'lulu,', 'caging/leaching', '*will', \"'lap-cat'\", '(3yr,', 'admin', 'scenery.', 'jungle,', 'alive!!now', '(frontline).', 'folks,', '(elaine)', 'soyoung', '(clever),', 'attributes:', 'five.', \"legs'.\", 'uprooting.', 'discovered,', 'pain/fear', 'thanks^^', '.😀interest', '(brown)', 'vaksin.pada', 'soil.', 'ekor)', 'reciprocate.', 'shaunie', 'michelle', 'fur.', 'alot.not', 'melepak', '(mix)', '**(important)', 'garage.', 'kg),', 'kotak', '\"another', 'charateristics:', 'slim.', '(preferred)', 'months..healthy..need', 'cold.', 'pet)', '店家竟然說:', 'peggy', 'flourish!', 'over.', 'text/whatsapp', 'healhty.', ',they', 'go,', 'attention..', 'stuff:', 'wakaka', 'bermain,', 'clearer,', 'call/sms/whatsapp:', '还有另一只弟弟也开放领养哦！', 'tie-up)', '\"owner\"', 'putrajaya..', 'floor!', 're-homing', 'vet..i', 'time,', 'resolve.', 'faris', 'max-a-million', 'salak', '😁', 'cie', 'ad,', 'one-dog', 'nabi', 'ijok.', 'kental..anyone?', 'up,', 'dog.i', 'kurapnya', 'call/message', '4ft', \"x'mas,\", 'young(', 'unsecure', 'criterias', ',playful', 'previously,1st', '-active', 'keempat', 'cakap', 'white;', 'beranak..anak2', 'running.', 'babys..', 'fostering,', 'preferred).', 'owner。i', 'gebu,', 'afford..', 'penuh', 'rocky.', 'mui', 'anymore.there', 'cuteeeee', 'tag.', 'patterns/marking', 'puppies,', 'julie,', 'cousin.', 'jela', '[they', 'persistant', \"'longkang'\", '(dangerous', 'hamtaro', 'timid,&', 'baby,', 'jet-black', 'manyaw', 'rain,my', '(it’s', 'suisse', 'sape', 'ago..they', 'attentive,', 'shoulders,', 'free-roam', 'detail,', '5,', 'nak,asalkan', '(ampang/cheras/kepong/selayang)', 'interest.', 'nyet.', 'drunkard.', 'alone:(', 'ago,a', 'aldy.', 'rules.', 'yard,', \"villagers'\", '(stacey', 'free..prefer', 'tertentu.', 'air.', '(and', 'friendly.very', 'harriot', 'dead,', 'tam..', 'cina', 'streets,', 'angel(adopted^^!)', 'compulsory.if', 'sorang', 'stimpy', 'cats.please', 'listening.', 'something.', 'chihuahua,', 'kemuning.', 'listener.', '*********************************************', 'mka.very', 'adorable.she', 'again!', '(black/tan)', '如果我不乖，你耐心教导我...我尽我所能服从一切命令。', 'message!', 'smurf,', 'one.she', 'menyusu.', '(james,', 'limp.', 'skinproblems', 'advised.', 'cat,so', '1/45,', 'cuddlebug!', 'home......', 'scooby', 'eyes!!very', 'goyangkan.', 'bridge.', 'ways.', 'anyones', 'ouside', '6puppies.', 'anyway?', 'scolding.', 'uterus.', 'year..now', 'dada,', 'ketika', 'heart❤?', 'tummy/rubbed', 'cats.very', 'desserve!!', 'weight.', 'gary', 'royal,', '..busy', 'inshape.', 'edge..', 'bahaya', '******', 'mao2..so', 'kulai.', 'person!', 'cat/kittens.', '(houseowner', 'chamelia.', '#请支持领养，代替无良繁殖#', 'ajak', 'serahkan', 'unnecessary,', 'return.', 'right:', 'biggest.', 'medium.', 'fee,', 'die..', 'tickled.', 'rm90', '(labrador', 'caty', '如果你想让他结扎', 'ticks,a', 'labrador.', 'female...while', 'shift,', 'denzel,', 'leaf].', 'food/fresh', '(to', 'doggie.', 'season.8', 'gigi,', 'bcause,', 'unknown.', 'chan', 'alike,che', 'kucingi', 'injures.', '但义工无法再收留它们了，因为义工必须准备帮助下一个的浪浪们。', 'asap.adopter', 'ppl!!looking', 'confirmation.', \"i'am\", '\"treat\".', '(strays)', 'respon', 'marriage.', 'climbing.', '“attention', 'chicko', 'pc.', 'trusted.', '->', '(mamie)was', 'lompat', 'tzu', 'mimi', 'medium-length,', '然後會繼續養她...我們带她结扎时,', 'sponsored,', 'choosed', 'ni..;)', 'ladylike.', 'link,', 'follower.', 'utama,selangor', 'poop!', 'pound-', 'weekdays.', '时常喂养的地区救缓回来的，因为暂养着的地方是公寓，接到投诉', 'soon,and', 'durign', 'ayu', 'thereafter.', 'tree,', 'apartment--', 'veternar', 'survivor!', 'putra(transportation', 'men,', 'pendek.', 'them...call/sms/whatsapp', \"stuffs.it'll\", 'talgi', 'intestines.', 'dog.', 'cuddle..', 'think):', \"march'17.\", 'fee/neutering', 'ellie', 'why:', '(might', 'mth+', 'needed?', 'terry,', 'treatment,', 'kids(', 'rescuer-agnes.', 'brickfields,', 'over,caught', 'bums!).', '*commitment', 'keperluan', 'lives.', 'smexy', 'play:)', 'paws,pj.', 'up.so', 'populasi', 'puppies(buddy,pixie,twinkle', 'teeth...', 'care?', 'mixed!we', 'old..friendly', 'twins,rapat', 'detail-', 'food,kitten', 'food:', 'kittens)', 'pauh,', 'bengal!', 'sofie,', 'besar..', 'dijumpai', '!!!!', 'caging,', 'badly,', 'melarat.', 'shalinee.', 'smart..royal', 'sel', 'lively!', \"milo's\", 'loveee', 'toranj.', 'streets...thank', '27/6/', 'manja.', 'boxes.', 'cage(笼子)', 'ridgeback', 'yearly,', 'her:', 'place.but', 'sombody', 'luqman.', '(d)', 'adoption,they', 'naari', 'boy!', 'hierachy.quite', 'phoebe]', 'roland', 'rei', 'amptutation.', 'linus', 'collect.', 'help.im', 'phenobarbitone', 'trouble.', '(total:', 'stayed.', 'booking,', 'ruang', 'tuna...', 'fungus..', 'interactive.', 'discipline).', 'jeddah,', 'eve,', 'guy!', 'ins,', 'whereabouts.', 'empuk', 'carrier,', 'ongey.', 'mui.', '-cute', 'alsation', 'out-loud', 'kim,', 'lma2', 'spayed.she', 'recoverd', '3weeks', '(neutered', 'useless.', 'now...maybe...yea.', 'drain..', 'kunyuk??..here', 'beuty', 'de-wormed,', 'chrge', 'help!!!!!!.....', 'indoor).', 'door-step', 'susie', '-contact', 'discharged.', 'thomas', 'sumtin.', 'ting,tang,tong', 'booloo', 'mark.', 'choo', 'stand,eat,', 'lokasi:', 'home.who', '6.00m', 'charges).', 'health.due', 'rocco', '12/2/18', '-cod', 'buang', 'child..', 'kcing', 'penghabisan', 'yoko', 'easy.', '(especially', 'hahahahaa', '1.she', 'pandai', '5x', 'bruno:', '2x', 'food.owner', 'clinic.we', 'healthy,with', 'details/to', 'individual.', 'adopt/', 'carrier;', 'heal,', '-currently', 'house.the', 'road.so', 'temapat', 'unsure.', 'jalanraya', 'perfinder', 'grass,', 'instinct)', 'huaband', 'mother.anyone', 'dog~~', 'poop,', 'neurobion', 'shophouse', 'preferable.', 'panas.', 'samoyed', 'intenstines', '~15kg', 'thanks.', 'bobo', 'watchdog,', 'intelligent😍', '(sporo)', ',to', 'lives...', \"kitten!'\", 'protect.', 'van/american', 'trunk.', 'restricted.', 'leader,', \"zoey's\", 'lady!', 'difficult,', '9weeks,', 'nak?the', 'paw...;-)', 'sunway/caltex', 'meets.', '\"lui', 'strong...surviving', 'now.hope', 'persiaran', '.........', 'aug', 'them.jocelyn', 'tuna,', '(9/7/17)', 'ago....nursed', 'gucci', 'playing.', 'rex?', 'dominant,', 'faithful.', 'now.new', 'lembut.yang', 'breed(semi', 'rottweiler,', 'market.', 'zoo.', '5puppies.', 'mslim.', 'junie', 'problem..comel', 'isaac', '1st.', 'injuries.', 'nancy,', '..but', 'then..', 'so,feel', 'threat!', 'home..!', 'posted.', 'them.please', 'adoption...', 'rere.', 'expires.', 'mentari', 'thanks.....', 'dru', 'makanan.', 'cute..nice', \"'allow'\", 'vanilla:', 'cipok', 'attentive.', 'usj', 'checks.', 'e-canine', '(condo)', 'knos', ',maya', 'gershon', 'artic', 'rats...i', 'lad)', 'obediant.', 'tiny,', \"asked'.\", 'mnth', 'house?', 'basket,', 'foster/take', 'hand,i', 'diadopt,sila', 'myka', ',haha', '\"friend\".', '•prince', 'b2', 'separated),', 'bam', 'skuter', '\"big\"', 'kurus..', 'pleased!', '*friendly', '_______________________________', \".it's\", 'noisy,', 'medical/vets:', '8puppies.', 'owner..whatapp', 'lost/abandoned', 'shiroi', 'mpsj', 'fostering.do', 'rm++for', 'healthy........taught', 'barky', 'qq', '#要领养别弃养#.', '注意', 'pund', 'stunning,', 'stroking,', 'castreate', 'coincidentally,', 'such,', 'chance!', 'de-flea/de-ticking', 'obie', 'paws,', 'lucas', 'rubio,', 'habis', '8th', 'liase', 'octo', 'commit!', 'ooi', 'mana.', \"drag'\", 'wat,', 'all(it', 'cum', '有你们合力帮助，这样救缓的义工们才有动力帮助无辜生命。', 'clumsy.but', '(price', 've', 'threatening)', 'slighty', 'or...it', 'comel...', '(agnes)/[whatsapp', '\"were', 'jari.', 'secure,', '(rabies', 'it.thanks.^^', 'bottle)', '7/8', 'aprl', 'malaysia.kitten', 'hip.', 'suke:-', '(taking', 'sleepy.', 'experienced.', 'mabel!', 'vaccinated..', 'rm65', 'sp4/28,', 'heartgaurd', 'todate,', 'anymore..pls', 'human-loving.', 'whitey.', 'today,', 'pretty,', 'kayama', 'puchong...', 'longkang.', 'dida.', 'junior/kitten', 'hide-and-seek', 'taichi', 'trouve,', 'stray,', 'mean?', 'dannis', 'company!)', 'stage.', 'vigorous.', 'melo.', 'meyer', 'vincci', 'raggles:', 'kulim.', '茶太和茶道被人遺棄在我上班的地方。', \"bruno's\", 'msia.', 'mandi,', 'mengizinkan', 'mother.she', 'eargly', 'hestitate', 'ricco', 'orang,', 'himalayan.', 'same.', 'markings,', 'berat', 'hee!)', 'them.....', 'sape2', 'tgt,', 'impressive...', '想申请领养的朋友，欢迎填写领养申请表格', 'hotel.', 'siameese', 'hall,for', 'nemo', '(joen)', 'sampailah', 'klang\"', 'litter-trained,', 'observation,', 'adoption,', 'farm.she', \"tabitha's\", 'medium-hair', 'monday', 'ms.amy', 'karla,', 'kellyactan', '*subtitles', 'regard,', '*another', 'cantik...!!', 'fish).', 'escape-proof.', 'kristy', 'rust).', '~pls', 'paper!', 'berminat', 'menghormati', 'also,', 'bonnet,', 'laluan', 'ate/slept/poo/pee-ed.', 'alam)', '27/3/12', 'lovesome.', 'biru..', '(ricco', 'meow~', 'dodi', 'them.with', 'about),', '_____________________________________________', 'zoey.', 'nonstop,', 'call...', 'everydayy', '-please,', 'future,', 'berbulu', 'pasport..', 'undies,very', 'well.', 'wassalam.', '\"playful,', '•current', 'bercham', 'him/his', 'knowledge?', 'store,', 'hak', 'love.i', '领养代替购买', 'all,i', 'paremeswari..', 'exist.', 'bags.', 'them,', 'smart.', 'mood...', 'tu,', 'town).', 'insan', 'russian', 'text:', 'mika.spotted', 'a)', 'home!!!!', 'hihi.', '*exchange', '--he', '*pur', 'didnt..', 'defleas', 'volunteer.\"', 'di.', 'hair(dmh)', 'camera.', 'nivea', 'kieko', 'kunyuk', 'female,', 'bottle-fed', 'videos)', 'miuw.', 'cuteness-overload', '(11/2', 'angel!', 'handsome,', 'hujan..masa', 'grooming.', 'today....i', 'reika', '*****', 'nikki', 'him..a', 'russel.', 'neutered!', 'neutering,', 'f-o-c.', 'harri', 'mendengar', ',your', 'alternatively.', 'hubungi,', 'mother/siblings', 'taller...', 'student,', '-pink', '非誠勿擾，謝謝。', '(follow', 'dibelai,', 'is!', '.will', 'shalinee', 'skills(', 'socks.', 'xmas', '(29/9/).', 'rubs!', 'column.', 'are)', 'bradley', 'unit.', 'finalise', 'checkups.', 'bark.', 'name).', 'bread.', '\"have', 'wth.', 'active..but', 'iklan', 'chen.', 'dewi', 'lady-cat.', \"kumbang's\", 'charming..his', 'temparament', 'serve.', 'doggies!!', 'market.so', 'miley', 'torarawr(tora):', 'messaging.', 'negeri', 'indoor-toilet', 'fyi,', 'receipt.', 'sarah.', 'fluffy.', 'them..i', 'brown)', 'nuerted', 'a,', 'lastly,', 'kl', 'bie.', '36..', '3:', '这是你给我的承诺吗?是你当初把我抱回家那刻的承诺吗?', 'mean!)', 'life.we', 'needs).', 'section.', 'rangka', 'week(may', 'guidance,', '(profile:', 'fed.', 'telefon', 'ngo.', 'nilai', 'lek()', 'lover,u', 'container.he', 'saparately(kittens/mom),', 'rihanna', 'wiskas', '9months,my', 'rascal)', 'info,please', '有養貓經驗者優先..', 'winnie,', '\"no\"', 'chiki', 'yenyen', 'preferably.', 'working/studying,', 'penyayang..', 'sendiri..bab2', 'properties,', \"body.i'm\", 'kitten...', 'public..', '目前剩下妈妈，义工有心无力..家中还有太多待领养的孩子无能为力继续收留了。', 'meor.', 'companion.', 'prada-girl', 'visits!)', '😻😻😻', 'mengusik', \"elvis's\", 'fosterhome', 'katty!', 'eyelids,', 'quakity', 'edmund', 'peeps!', 'buruk.', 'mandir', '(adopted,', 'kitten,especially', 'heritage.', '.,', 'kepong.', 'fees.please', 'boxy,', 'gemas.', 'wander.', 'bandaraya', 'himself,', 'koridor', 'condition!', 'relocation,', 'active..cyberjaya.', 'xiaoshan', 'larat', 'max!', '☆♥this', 'fosterer/adopter', '\"rain\".', 'mppj/dbkl', 'detail.', 'cure,', 'vaccin。', 'home.please', 'adjust.', 'baginda', 'tamed.they', 'bising', 'more)', ',not', 'mocha,', '好美的猫，母的，大概6,7个月，蒲种区，有兴趣领养可以whatsapp', 'update!', 'many...', 'cooked)', 'hwenever', 'whatsapps', 'kadang2', 'dogs...now', '(doctor', 'damansara),', 'ibunya.', 'vaccine.', 'cover,', 'colours)', 'kittin', 'time.anyone', 'no:31,', 'posts.', 'cant..so', '\"acrobatic', 'week!!', 'thks', 'boy.', 'wood.', 'apam', 'vaccine+deworm.', 'young.', 'photostated', '20kg;', 'nk', 'hungry...', 'coo.', 'goldo', 'mix,', 'memerlukan', 'on....i', 'cm', 'dying.', 'shots,', 'drowned.', 't&c.', 'heartworms,', 'give!', 'rawang.', 'frens', '(given', '1:', 'anne.', 'fussie', 'staff,', '3rd-april-,', 'oversea!', 'kitty..but', 'good,caring', 'kimmy.', 'okki.', 'heavy^^!!', \"coming'\", 'grow,', 'kittens,', 'limbed', '-self', '(indoors)', 'suppliment', 'venice', 'mau', 'all..i', 'missing.', 'chance..', 'plus.i', 'dapatlah', 'life.they', 'house...otherwise,', 'only:', 'wak', 'xray', 'shoebox,', 'spoilt.', 'reagan', 'injury.do', 'pugsley', \"'sell'\", 'melaka.', 'him,i', 'disturbed.', '(betina)-', 'langgar', 'behind).and', 'kelihatan', 'yet..', '(unique', 'layan', 'bangi.', 'people.he', 'packed.', 'home.do', '\"play\"', 'sit/shakehand/come', 'msn', 'three,', 'arthritic.', 'zizi,', 'time...they', 'elsewhere.', 'gingivitis.', 'brother,', 'them,who', 'micko', 'chests,', 'food.we', 'accompanied.', 'frey,', 'you:)', 'meet-ups', 'february', 'visiting,', 'perai.', 'gelap', 'habit..most', 'terpisah.', 'saya...', 'dogs:', 'petang', 'rina...dia', 'would.', 'home)!', 'sort.', 'wwell-behaved', 'him.back.', 'huge...please', 'chox.', 'yeah!', 'kegunaan', 'hi,i', 'bapanya', 'rescuered', 'pedalaman', 'ling.', 'adventure!', 'period,', '2/7/10', 'pic).', 'major,', 'adorable.if', '一星期後再看看有沒有能力帶他們回來。', 'trippy', 'medication),', 'pedigree...', 'course..i', 'kelantan.', \"'welcome'\", 'reasons,', 'incident,', 'hana-chan', 'mkn.2', 'karmen.', 'a.m.', 'decended', 'courage.', 'pavement.', '¯', 'too.napoleon', 'monty', 'loving,people', 'vehicle,', 'semenyih,selangor.', 'quite..', 'schmoopy', 'girl..always', 'sponsering', 'weird,', 'others.', '【update:', 'presence,', 'polis,', 'location:jln', 'hissing..feel', 'spayed/', 'hour).', 'monday.', 'sekaligus.', 'arms.', 'putih', '(义工会跟进，当猫猫六个月大时帮助安排结扎手术)', 'too)', 'one-on-one', '//', 'tq.....', 'toys.', 'biru.lahir', '(by', 'migrated.', 'sgt2', 'cutsie', 'handle,', 'rm60', ':)d', '\"running', 'chasline', 'interested:/', 'andrea', 'fees.', 'base).', 'heartgard', 'mengandung', 'wetfood', 'pendek..', 'territory,', 'toll.', 'tzu..', 'spynx.', 'rooben', 'whitie', 'zaizai,', 'ba', 'for.', 'mine,', 'nee', '19/9/09', 'mesh....', '31/3/12', 'tinggl', 'daughter,', '1.5yo', 'memilikinya...', 'puppies..', 'markus', \"sophie's\", 'work/permit)', 'kare', 'together!!', 'pot.', 'meowmy', 'frim', 'shine.', 'clean).', '-vaccination.', 'mlm..balik', 'couple..', 'individual#', 'canai\",', 'site.ma', 'choi', 'update:', 'hukm,', '2,3', 'cow.', 'recover，', 'ps:', 'yoey.', 'area,i', 'kubi,', \"oct'09),\", '/10', 'friendly...she', 'ms.kelly', 'april.', '7am', 'pellets.', 'furkids,', 'over.even', 'gemar', 'now:', 'bergurau', 'egypt.', 'cuddles!', 'football.', '\"nur', 'recover(*pray)', 'plus,', 'larger-than-life', '#friendly', 'karenah..', 'medications.', 'because,', 'backlane', 'wechat,', '(walk).', 'bulldog.', 'rigorously.', '-puncak', 'two-month', 'pomeranian,', 'aggressive.', 'means.', '(whiskas', 'diarrhoea,', 'gas.', 'bersesuaian.', \"'lepak'\", 'taken,', 'family.she', 'initiatives.', 'ahigh', '*terms', 'one?', 'salem', 'nadhirah', 'ini:', 'car(i', 'bawah', 'reason.junior', 'ala2', '13-may-.', 'tabatha', 'unacceptable.', 'on-', '(pts)', 'protection.\"', \"skin.he's\", 'body.doctor', 'wht', 'sandbox!', 'cantonese,', 'kasih', 'lover!this', 'mex,', 'fees*', 'darren:', 'meds+suplement', 'catfood', 'swirls.', 'kepong.out', 'ttdi.', 'supermarket.she', 'de-worming', 'shifting.', 'richard', 'negotiation.', '忍不住了,', '1.neuter', 'manis', 'increases,', 'kids:', 'diorang.', 'dirts', 'lover.caca,', 'touch,', 'rm', 'born.', 'iu', 'flaws.', 'fifi', '***please', 'gold)', 'days).', 'pertukaran', 'socialised,', '“feed”', 'puj', 'left/right', 'evelyn', 'course)', 'adopt,', '(much', 'jump,eat,water,and', 'reality.', '*strictly', 'cacing...', 'details:-', 'questions.', 'anfield', '1,rm', 'jog,', 'homebody，', 'food..', 'hurrah!!!', '4female', '(azie)', 'jb.', 'pyramid,', 'coco(male)', 'spoiled.', 'met.', '-_-)', 'mites/intestinal', 'kibbles)', 'research,', 'lepaskn', 'period.', 'desexed.', 'minitored', 'diet)', 'oil.', 'repond', 'traumatized,', 'candy,.', 'rescuer/fosterer', 'leash,', 'comman', 'train),', '*zazu', '4/1/', 'mondays,', 'vaccinnation', '4yrs', 'ziggy,', 'cofee', 'follow-up', 'cross.', 'bergumpal,', 'should:', 'softttttt', '3/4month)both', 'help...he', 'tuannya', 'acana/orijen', 'picture)', 'tommy,', '5/,', 'raya!!', 'ebie', 'sooner,he', 'daisy!', 'touched.', 'bull,rottwiler,finnish', 'tabung', 'dark,', 'or(vithiya)', 'spayed..)', 'fiesty,', '2.5kgs', 'oredi..', 'himself?', 'tinggi', 'only......god', 'get.', 'him:(and', '(choy', 'kemudian..', 'female(brown', 'berapa.', 'ni..', 'nature.toilet', 'tiba', 'wassup', '(white);', 'friend).', 'balik..lagipun', 'conditions.', 'centre,', 'matanya', 'ping-pong', 'active,playful,', 'serve..please', 'dreaming.', 'mcm', 'good-mannered,', 'hojo.', 'roof.febee', 'improving.good', 'ipin,', 'demolished,', \"(it'll\", 'perangai:', '\"disturb\"', 'fiv,', 'black+white).', '^^', 'pitbull.', 'comot,', 'say:', '华语&', 'astaka', 'advice.', ',mencari', 'pasti,', 'traffics.', 'odds,', 'sucky', 'atas.', '(slight)', 'penyewa', 'spotty.', 'leukaemia', 'caleb,', 'pair,', 'shop...', 'treats,', 'mask!', 'mayang', 'rezeki', 'loner.', 'follow...', 'suffering.', '***active', 'neuter/spay).', 'daniya.', 'cleaner,', 'orey.', 'fresh,', 'leash.', 'perhatian:', 'annually.', 'sweety', 'transit)', 'baobob,', '\"helmet,', 'tahu', 'sexes.', 'harsh..', 'foc,', 'is-', 'apartment,because', '5.adopter', 'nyau', 'jadikan', '-umur', 'jika', 'ad.', 'drop,', '18,pj.there', 'stoli', 'escaping.', 'bermain', 'fip,', 'sbbkan', 'kittens).', \"u're\", 'howzzat?', 'female,1', 'pea.', 'half,', 'vocal!', '....i', 'fadz', 'message/whatsapp', ',immunized', 'black-ticked', 'mannered.', 'faithful,', 'two-month-old', 'shih', 'white/cream/gray', 'berjanji', 'thirsty,', 'survival.', 'gracie.', 'husin', 'close..potiental', 'time.so,our', 'summary,', 'house..when', 'savour', 'aussie-', '5)puppies', 'can..', 'lebih', 'fast-moving', 'cat(stray', '✅litter', 'too).', 'partner).', '必须同意结扎', 'fluffy-chub', '5am', 'sensitive.', 'nuetering', 'lepaskan.', 'sebelah', '(assuming', 'kontena', 'minggu.', \"samaritan's\", 'kindergarden,', 'inbetween', 'madge', '...tq', '(full', 'vitamis', 'siblings:', 'penyakit.', 'november', 'work,', '2-3-', 'donald)', 'poo!!', 'cant.', 'anda:)', \"miu's\", 'advantageous.', 'quickly...', '30th', 'dog-loving', '\"strangers\".', 'soonest.', 'indoor:', 'together.available', 'temperament,', 'kenji.', 'a:male', 'dog!many', 'iving', 'puasa', 'years).', '18kg.', 'fungus..i', 'feeding,', 'www.rescue2rehome.blogspot.com', 'authorities.', 'where,', 'cataract.', 'crannies.', 'gg', '(near', 'colours', 'back:)', 'factory,pls', 'breeders’', '(khaki)', 'salam...', 'giggs', '*my', 'escalator.', 'her..thanks', 'lrt', 'dalam', '(26-5-13).', '8!', 'parsi', 'ayam.dia', 'you),', 'food(whiskas', 'ke.', 'ditempatkan', '2+', 'filthy.', 'confidenced', 'we.', 'ok.....ayu', 'tampoi.', 'sister!', '(lactose', 'condition..i', 'kate', 'self-esteem.', 'probbably', 'souls.', '------------', 'him..i', 'boboi.', 'yatim', 'kitten,,', 'fracture.', 'jackie.', 'midnight)', '(level', 'tel:', 'whatsapp/', 'kadang', 'expression.', 'short-term', 'helicia', 'bruno?:', 'pup;', '(betina,', 'kaka.', \"dragon'?\", 'spunky.', 'noel!', 'adopter.', 'kid,', 'luv', 'cable,', 'blu)', 'grey-orange', 'family.they', 'hi...ni', 'bapak', 'repetition.', 'baloo', 'ady.....he', 'intelligence.', 'dysfunctional.', 'wednesdays', 'abandoning.', 'thanx.', 'monthly.', 'jessie.', 'languages.', 'words.', 'all-black', 'tinnz', 'girliee', 'care/raise', 'en.', 'guard-dog', \"parents'\", 'full-time', '领养，等于拯救一个生命，延续守护她的使命。', \"boots'\", 'baby..genuine', 'hm,', 'neuter/spayed', 'klover', 'spca.', 'polly', 'adopot', 'sheltie', 'adorable,looking', 'etc..', \"kecik's\", 'have,', '\"beauty\"', '(chicko)', 'medan', 'mellow.', 'scrub,', 'sky-blue', 'siblings...', 'lost.anyone', 'red,etc.', 'you’re', 'eevee', 'sweetest,', '8.7kg', 'len..', 'dijual', \"(hmmm...there's\", \"'intruders'),\", 'companion,', 'watch.', 'suffer.', 'rhondo', 'felinechic', 'hands!', 'jab)', 'legs!poor', 'ooooo', 'lifes', 'xander', 'gem!!', 'up.now,', 'alone.help', 'minimum,', 'belanja', 'bullied.', 'shelter.this', 'clarifications,', 'cat.,weight', 'farah.', 'neighborhood,', 'tel,', 'atm', 'zzaasss..', '\"keh', 'mandul.', 'dog?\"', 'fu', \"store',\", 'long~', '*rm', '-poo-poo', 'ni?', 'ago...adorable,', 'location:', 'street,they', 'house.his', 'joy!', 'bell!', 'justy', '但我们想活下来，想继续为生命奔跑', 'assistance.', 'person.very', 'nutripet', 'out...', 'brutus', 'follow-ups', 'coming!!!', 'tuna!', 'bulan..mak', 'jrt.', 'ruling.', 'area.', 'manage/cope', 'cloe', \"''sickness''\", 'at...', 'percuma!', 'oug', 'properly,', '10months', 'jungle.', 'app/wechat', 'tri-colored', 'yrs,', 'dlm', 'kuat,', '2!', 'toilet).', '8am', 'fiesty', '5½', 'worst...', 'lorong', 'rooftop.', 'fosterer:', 'puppies/kittens.', 'messy~', 'neko-san', 'round.', 'anak2', 're-home.', 'catmilk', 'sementara.', 'evidence:', '(rishen)(balan)', '__________________', 'allowable.', 'joe', '☆♥it', 'game!', 'karmen', 'louie).', 'apr,', '(their', 'him.for', 'whiskes', 'kitten.active', 'updates:', 'active...love', 'eating,', 'rack,', 'pupps,', 'energetic,', '小頭人(cute)在我上班的地方流浪。我們擔心牠遇到不測，想為牠找一個愛牠的家。', ':)', 'free.', 'kemana', 'ash:', 'heartworms.', 'frappie', '2)able', 'mongrel;', 'sms.', 'toilet!', 'greek', 'kin,', 'manjalara,', 'italian.a', 'rest,', 'manusia.', 'wud', 'mouse.', 'wll', 'him..just', \"**she's\", 'you.”', 'life\"', \"grandmothers',\", 'sos...', 'jantan..kalo', 'high.', 'at(lie).', 'dirty,both', 'swollen,', 'mandi...', 'melaka..he', 'pejabat', '16/6/', 'damansara/pj', 'call/watsapp', 'bluecheese', 'usual.', 'skywalker', 'deticked', '(puchong).', 'sunway', 'suspect]', 'irene', 'in-door', 'sesapa', 'parents/home.', 'diabaikan', 'so..', 'nsk,', '(black/brown)', 'urgent.', 'suzie.', '猫咪生命太脆弱，街头处处有风险，猫咪需要养在室内，在外散步或在户外主人需要陪着', \"louise's\", 'toilet-trained', \"spain's\", 'relationship.', 'names):', 'lili', 'society)', 'meows,', 'play,', 'purry', 'gm)', 'sesangat', 'card,', 'spotless!!', 'me.hp', 'traiend', 'jefry', 'active...i', 'intuk', 'abdopted', 'leukemia,', \"that.(don't\", 'kuash', 'tail.she', 'understanding!', 'car,so', 'lady,', 'problem,', 'favs.', 'callie.', 'liliana.', '##', 'split.they', 'beings,', 'past?', '-poodle', 'sinar', 'xpasti', 'toilet0trained', 'abang(orange)', '(what', 'guyz', 'white,black', 'cerewet', 'puppise', 'elok', 'abandaned', 'newborn.', 'fan,', '7ml', 'foot.', 'days!)', 'offleash', 'kami,', 'ebam,a', 'tiny.', '(with', 'foune', 'contented.', 'wanted,', 'asli,', 'hugry', '对，我们不是名犬..没有昂贵的身价', 'hip,', 'rescuer~recently', 'guiness', '*it', 'misread,', 'gizmo,', 'prob,', 'girl.born', 'rena', 'old.looking', 'lau', '-dob', 'car..', 'mah', 'sophie,', 'tumour.', 'sake,', 'traffic?', 'afu', '(d.o.b:', 'jay.', '联络好吗', 'eye,', 'pests..', 'pinggang', 'blake', '5mths).', 'built,', 'nursing.', 'gal.', 'her,we', 'run...', 'ago..i', ':grey', 'leaving.', 'wiggly!', 'clumsy!', 'beagle-look-a-like', 'jogger.', 'lagi....thanks', 'whiskas', 'july.', 'anatomy.', 'with...he', '(ear', 'hour,appreciated', 'handel', 'humans,', 'persy', '-->', '\"sit\"', 'house.', 'other,', 'yes,', 'teach,', 'listed,', 'friday.', 'greedy..', 'rani.', 'teana', 'peanut,', 'tin.', 'pills.', 'refuge,', 'along.', 'tabbies.', 'tri-coloured', 'pack)', 'digi,', 'tummy~', 'mochi,', 'hinata', 'berasingan.mestilah', 'fikir2', \"'botak'.\", '10th.', 'fights,', 'pulak,', 'urgent...bleh', 'nenen', 'seller.', 'everyday..', 'enimore..', 'sini', 'berkeley', 'no,', 'kini', '...and', 'further,', 'playful(female)', '(too', 'mroe', 'toys,shelter,vaccination,dog', 'very3', 'anti-inflammatories,', '筹到了费用讓她開刀切除乳癌,', \"'fat\", 'hazael,', 'then.i', 'strickt', 'mummy,will', '(min', 'british.', 'chlamydia.', 'junjun', 'tada', 'dog,suitable', 'brothr', 'character!!', 'dibuang.sila', 'approach,', 'pictures.', 'ger', 'patches,', 'tiffany', 'member,i', 'coos,', 'daerah', 'people.the', 'acana', 'babby(tiger', 'ber3..harap', 'assistants.', '2nd', '~4', 'stir.', 'miao........looking', '\"shh!\"', 'personal/business', 'commands.', 'vacination', 'old)', 'mum)', 'selamatkan', 'happily?', '(julia)', 'bowl,leach', 'messes.', 'meal....', 'thge', 'better..', 'techik', 'krispy', 'overnight.', 'dan', 'polok', 'fiv', 'pinky.', 'intervened.', 'penat..and', 'menurut', '52,', 'mylo', 'requests（小條件）', 'patal', 'benda', 'waffle.', 'gentlemen..love', 'dollah,', 'jeffery,', 'this:', 'siamese.', '**please', 'nego)', 'supermarket/minimarket', '(cage,', 'unnecessary.', 'kawan', 'opi.', 'haram.', 'walking/running', 'not..but', 'happy!!', 'cat(s).', 'like!', 'umah..', 'putera', 'days?', 'form,', 'golliegirl', '(within', 'mysteriously,', 'sihat.hope', 'worms/heartworms.', '(eff', 'cats!', 'ropes/yarn/strings', \"marschia's\", 'digruntled', 'allow.', 'month,one', 'bit,', 'qaseh', 'retriever/', 'anywhr', 'ooi)', 'shoulder)', 'rescue/adopt', 'i’ll', \"this.i'll\", 'small-sized', '\"ridgeback\".', 'rubberband', 'adopter!!feel', '(hema)', 'sekendi,', 'shelther', '(vitamin,', 'play~', 'fussy,', 'time/month,', 'smaller.', 'constraint)', 'unmanaged.', 'ispca,', '23/6/', 'f.o.c.', '-guling2', 'phone,', 'roxy', 'kmpg...6hb', '-born', 'everyone....', '所以毛小孩急需找到永远的家，永远的主人', 'merawat', '\"devoured\"', 'belle!', 'chicil', 'awesome.', 'nana', '0ct', 'non-negotiable', 'utk', 'terjumpa', '(grey-ish)', '...thank', 'him..............', 'mall.', 'sergei', 'beating,', '住公寓/组屋/高楼者，家门与窗户必须安装网纱以确保毛孩发生不必要的意外或遗失，谢绝放养式领养.', 'well..', 'mppj', 'serve,', 'overpopulation.', 'kondo', 'starpro,', 'phone-', 'tk', 'fans,', '(has', 'walking,', 'anyway.', '\"lap-cat\",', 'puppies\"', 'bridge,', 'kibble!', 'facebook,', 'maine', 'wants.', 'jinak...direscue', '\"special\"..to', 'ehsan', 'always..', 'shy..', 'thanx', \"sadz')\", 'fazer,', \"her.bruno's\", '\"off\",', '4/6b,', 'him).', '\\u200bemil.yusof', 'owner.the', '：喜欢摸摸～帶點小挑皮～', 'guy.', 'else.', 'guys..sadly', 'funny.', 'paw/bat', 'light.', 'yet.', 'places.', 'cages).', 'manja,active', 'alot', 'amount)after', 'give.', 'roof...she', 'itself.he', 'orders.', 'build,', '=]', \"po'.\", 'miraculous!', 'listed.', 'lah....', 'together?', 'deworm..all', 'brothers/sister', 'kurus.', 'back!', 'appreciative,', 'bug.', '领养时必须附上rm结扎押金.', 'dog／dog', 'sitting,', 'gapil', 'risaukan', 'temperment;;', 'hunter!', '(m)', 'bintang', 'playbites', 'lain)', 'cat-lover', 'rights.', 'loan-shark', 'or,email', 'males)', 'tiger.they', 'drain)', 'hv', 'born..2', 'kakak', 'bolehlah', 'sudoku.', 'ng', 'feline-leukemia),', ',lovely,cute!', 'skrng', 'luna', 'adopter/fosterer', 'eye..', 'louise', 'thought.', 'tarikh', 'cat.he', 'creaturues..we', 'backyard,', 'meal...they', 'adop', 'bathe,', 'frail.', 'bai,', '(re:', 'involved,', 'itam', 'menyesal..mereka', 'kiteen', '小岛看到熟识的人总是很开心很开心的摇着尾巴。和其它的狗狗也能好好相处，是个爱家的好好女孩哦!（づ', '~2-month-old', '嗨，我是小王子！', 'anda', 'sold.', 'sedekah', 'pacino', 'immunity.', '(km)', 'buki', 'balik', 'bunny.', '4.发照片-在领养的第二到第六个月', 'ticks..friendly', 'unwind.', 'aravind:', 'cat-female', 'ti-ara', '³', 'from.', 'duchess.', 'penjagaan', 'house…', 'this...', 'calls.', 'cat.(rare', 'bg', 'kitten(s)', 'trait.', 'pet...', 'thirsty...', 'chance.', 'amputated.', 'zuba', \"17jul'15\", 'two-year', 'every.', 'earnest.', 'generousity', 'realising', 'diet.', 'inclined,', 'solar.', 'roger,', 'terrier).', 'cats.finally,', '[at', 'booked..thanks', 'herself.', 'kids.....pls', '16/4/14', 'approaching.', '(balakong,', 'holes...', 'pupies?', 'move,it', 'sifat-sifat', '15/6/', 'college.', 'hodor', 'segera.', 'leave.she', '(10)', '1)spaying', 'soneone', 'mark...they', 'hasnt', 'dog..its', 'jawab', '(condo', '(doberman)', 'u.', 'accomplished!', 'door!', 'vetenarian', 'tinggi.', '因为心疼它们一家遭遇，义工li', '(11/3/17)', '(at', '请好心人帮忙', 'na', 'only.', 'breathing,', 'snowflake.', 'kedua-duanya', '定期為帶狗狗去診所注射疫苗', 'alonso,', 'cat...very', 'kampung,', 'cat-)', 'hug..', 'diff', 'arbut', 'frigga', 'kembung', 'menerima', 'succeed.', 'kepong,', 'bai', '1mth', 'meat.', 'dachshund-beagle', 'maklumat', 'warehouse,', 'outstationed', 'bathroom!', 'important.', 'memilikinya.', '(white+golden', 'successful.', 'ayam', 'beauty!', '+‑\\u202c', 'sini)', 'aorund', 'end..', 'human-friendly.', 'advices.', 'vishnu', '(toys', 'haiwan,', 'bermanja.', 'frightened.', 'cage/very', 'mok.', 'kada', 'chubby-faced', 'please?', 'bermula', 'call/wassap', 're-stitched', 'two)', '(~2', 'thorns,', 'toys!', 'rain,', 'belly!)', 'hitam-putih,', 'preferred)', '(prodiet', 'bfore', 'communities.', 'leah', 'schedule,', 'mischa', 'membuatkan', \"mkland's\", 'lonely,', 'gorky.', 'car,', 'elora', '1mth+', '(now', 'guys.', 'names,', 'furrever', 'condo...please', 'deliveries.', 'toilet.', '(0.3km', 'tan.', 'sms-es.', 'freedom.', 'blacwood', 'home.this', 'prima', 'forver', 'force-fed', 'hamster.....oh', 'aama', \"keiko's\", 'bersih', 'specialty,', 'luckyboy', 'house:(', 'terurus.', '(boy),', 'once.', 'australia.', 'cover.', 'treatment,she', 'stubborn,', 'membawanya....', 'kumina', \"sms'ed\", 'caging.', \"tiggy's\", 'mungkin..', 'hayley', '\"port', 'says:', 'cool.', 'berry.', 'age!!', 'alertness.', 'lucky!', 'thank~!', 'pepa', \"'chopper'.\", 'kol/sms', '(age', '2pouppies.i', 'smokey.', 'co-fostering', 'unnecessarily).', 'kittens.(', '(baru', 'ri8', 'little-est,', 'sleepz', 'upload,', 'mites)', 'responsive.', 'family,', 'mak.', 'dimandulkan).', 'manja,comel..', 'pinang.', 'esp', 'well-disciplined.', 'furred,', 'active,healthy', 'sinlings.', 'jinny', 'faqs', 'cremeo', 'whatsapp-', 'partner.i', 'family...', 'kgs.', 'here:+', '6)gorgeous', 'lungut', 'disowned.', '(shiro,', 'jackson', 'everyone.', 'way?', 'balcony,', '(/):', 'g,', 'blackbeauty', 'melody,', 'sebulan', '遭受过虐待，被拯救，经过疗养，如今准备寻找新家了', 'friendy,', '[see', 'garden,though', 'un-demanding,', 'sushi,', 'urge,', 'u!!!', 'misty,', 'day.i', 'batu', 'eng', 'buktikn', 'breastfeeds),', 'tqvm', '(*have', 'cushions.', 'lizards.', 'arrangements.', 'cute,healthy....', 'home(private).', 'kebetulan', 'nasty,', 'sootie', 'gaduh', '7:30pm.', 'feeded', '\"growling\"', 'disertakan', 'wong', '*afraid', 'mix*', 'colour', '(black)[all', 'human,not', 'area)', 'medicated.', '*cute,puffy', 'them...but', 'harga.', 'gets,', 'doggo,', '2dog', 'name:robert', 'now.male(cookie),', 'pishi', '3x', 'drain).', 'pattern.', 'china,', 'lizards,', 'neutered)', '*must', 'brown).]', 'fine.', 'it..this', 'segalanya.', 'siblings..trico', 'comfort,', 'kembangan.left', 'apartment.i', 'jadi,', 'out!!!', 'age:2', 'close-by', 'maincoon.', 'healthier!', 'personality.', 'kot.', '(ain).', '性格活泼', 'bambee', 'tamtam,', \"babies'\", 'mira,', 'refuse.', 'jensen:', 'helpless.', 'paco.', 'while...', 'makan),', 'baybe', 'myanimalcare.will', 'cushion,', 'main..', 'place..', 'lookings', 'place:', 'me...thanks', '(had', 'affection,', 'tame..', 'one.(', 'of)', 'famly', 'adopt?', \"taman's\", 'offended.', 'surgeri', 'seller,', 'kebiasaannya', 'beauties.', 'respectively!', '2yr,', 'doc)', 'attention.please', 'fursiblings', 'pendatang', '(kitten)', 'gerak', 'gus', 'mesmerizing.', 'first-vaccinated', 'white...', '#请支持结扎，代替残忍捕杀#', 'amen!', 'adopt)', 'spirit...she', 'meee', '\"brownie\"', 'kuat.', 'tummy.', 'it.3', 'companion...', 'paralysed,', 'repetoires,', 'rain.', 'perky.', 'twitter:', 'kepong', '4months.', 'tabir...', '3.5kg', 'behave,', 'persian+ragdoll.', 'home.commitment', '4/24,', 'fetch,', 'leornardo', 'prima,', 'afternoon.', 'punishment!', '：我只是帮朋友传发消息。如有兴趣请联络以下的号码。领养代替购买，谢谢。】', 'kejiranan', 'ariful', 'discipline.', 'catchers.now', 'tina', 'babyface', \"'bunny-tail'.\", 'yellow)', 'separated!', '(mother).', 'dog(s).', 'wrong.every', 'gigi', 'respond.', 'eye..does', 'hashbrown', '(propably', 'backyard.', '如果你很有兴趣', 'gentleman.', 'note!', 'pregnency', '**light', 'thick-haired', 'whatssap', '一是切除,', 'it,,', 'westside', \"them'.\", 'pedigree,', 'mommy....', 'yaa..', 'indoors/fenced', 'air..', 'hse.', 'open,', '(father)]', 'buster,', 'whatsapp/text', '-ekor', 'tunggal,', 'project.', 'constraints/regulations/neighbours', 'spunky,', 'temperaments.', 'going.', 'cerai', 'baby!', '(sparkle)', 'isteri', 'dia,', 'malays', 'crated.', 'nose.\"', 'home...please', 'everyone..i', 'angie', 'rio,', '(blood', 'michelle.', 'lola.he', 'neutered:', 'xbyk', 'look!)', '19).', 'flesh,', 'puppies~', 'sharpei?', 'rm75', 'papers,', 'semua', 'hello,', 'hunter,', '1½', 'privacy,', '会上传照片', 'lain2', 'enough.', 'mencapai', 'rm35', 'below:', 'foc', 'pei', 'seiras', 'powder.now', 'percuma', 'triangle,', '28/2/17.', 'tompok', 'cured!', 'decision.this', 'armenian', 'males:', 'harmony,', 'really,', 'virus.', 'rajah,', 'harry.', 'smile-like', 'agile,', 'mischievous,', '°°*♪♪♪♪♪', 'rambo.', 'chicken!!).', 'machineries', 'klang', 'sangkar.', 'tail...', 'cuddled,', 'agnes:', 'jr.,', 're-location', '(according', 'bunch.', 'disposals:', 'ady', 'garden/yard', '10thmay.some', 'rescused', 'waterpark)', 'half-persian', '(picking', 'cheras.', 'henrry', 'mandikan.', 'joyful.', 'parvade', 'sht..br', 'normal.', 'mikey,', 'dibiarkn', 'clarification/information', 'huggieboy.', 'goldie', 'taiwan', 'otw', '*love', 'roma.', 'cat.very', '很乖,', 'old!', 'puma:', 'dinyahcacing', 'td.', 'him:', 'annie!', 'b12', 'longer..', 'area....always', 'lumpur/klang', 'emo..', 'strokable!', 'fits,', '1-1.5', '\"naturals\"', 'saddest.', 'ridgeback,', 'minnie:', 'otherwise,', 'gooffy', 'manja...now', 'moving.still', 'charcoal,', 'playful..i', 'hera', 'chubby..they', 'next!!', 'tqvm!', 'home...if', 'spm', 'drain.', 'nervous.', '(check)', 'dilakukan', 'sma', 'cream).', 'meow).', '(1.8kg)', 'pulih.', 'more.....as', '-sangat', 'there,please', 'ema.', '-quite', 'boxton', 'flat-coat', 'upm.', 'ms.shang', 'hao.', '💕', 'der....', '3cutie', 'kanna', 'speed,', 'sygkan', 'style,', 'paris', 'marie,', 'agak2.', '12th', 'to..', 'moment..', 'mary-ann', 'died,he', 'friendly.', 'well,i', 'tgok2kn', 'bushy/crinkly', 'dimandikan.', 'neshalyn', 'sms;', 'deflea', '-poos', 'pasrt', 'tahan', 'me/whatsapp..!', '(cotton', 'suzann', 'cat..:-)', 'poodle,', 'deflead.', 'hola', 'mashie)', '1kg...', 'puppies!!', 'gwi', 'home,please', '-dog', 'charlie,', 'vaccinate,spay', 'trust,', 'pain.', 'clearly.', 'sitting.so', 'asik', 'ours!', '(rescuer):', 'sumone', 'goodhome.', 'him.fyi', '(miss', 'luke', 'suffering!', 'update(photos', 'defensive,', 'disturb)', 'blacks.', '9/9/09.small', \"kids'\", 'mummy’s', 'marnie', 'confidence,', 'deflead,', 'stubborn...he', '•可以吃干粮', ':friendly', 'indeed!', 'saje', '+salmon', 'romeo!', 'baka,', 'life🐾🐾', 'umur:tak', 'gerbera,', 'minpin,', 'that.(his', 'raised.', 'silver-grey', 'appearance:', '❓❓❓❗️', 'juga.', 'lalu...charlie', 'tersengguk-sengguk.', 'drooling,', 'bdr', 'wendy', 'today?', 'cat..very', 'healty', 'mosque.', 'he😊🐶', 'her..please', 'market)', 'dijaga', 'breast.', 'week(11/7)', '4)so', 'black-short', 'them.pls', 'bapa:', 'dog(which', 'samson.', 'pts(', 'call/yell', 'tadaaaa...this', 'wall-eyed,', 'powder!', 'which,', '(puchong', '16.5kg.', '-lovers', 'character),', 'pls!', 'eaters.', 'neat.', 'motors,', 'dilepaskan', '(d', 'pny', 'survivors.', 'muscle,', 'saya,kota', 'isverycute', 'anjing..and', 'hasn’t', 'cute.rm50', 'block.', '*adopt', 'jacklyn', 'momdog', 'sick,', 'it.need', 'smell),', 'pk', 'option!', 'cage....but', \"ng's\", 'skills:', 'year.', 'no:(call/text/whatsapp)', 'mggu', 'partner.', 'enough,2nd', 'socialized:', 'colour.has', 'still,', 'down~', 'jump.', 'voice.', 'mbsa..', \"kimora's\", 'students)', 'complimented.', 'keikhlasan', 'eukanuba', 'takashi', 'seminggu', 'oyr', 'adorable.......', 'house/flat/apartment/condo?', 'libary.', '\"ready\"', 'parasites.', 'fur..i', '\"hiya!', 'alyssa.', 'playful.with', 'heartful', 'vidhya,', 'pisahkn', 'ase', 'h/p...', '(still', 'poppy.', 'teri', 'puppy-please', 'goyang', 'refund.', 'hindleg(left)', 'dogie,,', 'sharon', 'lucy.', 'ferauni!', 'voice,loud', 'passion,', 'rahang', '(adik', 'placejcc.', '\"malu\"', '----', 'all).', 'him..sebab', 'zany,', 'caesar', 're-confirmed', '15th', 'seronok', 'ditinggalkan.', 'mikio', 'personality,', 'samuel', 'indoor/outdoor', 'it..sorry', 'litters,', 'here?', 'cute...n', 'but).', 'country).', 'disney', 'daring.gets', 'dumb).', 'assistants,', 'home🙏', 'week.:(:(', \"months'\", 'her,dont', 'you..my', 'lynette', 'tumour', '\"i', 'indoor.a', '🐕', 'cuteee', 'species:', 'hantar', 'swift.', '8-9', 'xcukup', '*active', 'menjadi', 'fails,', '(上班时間,', 'randy,', 'sungei', '-lap', 'surmi.', 'buah', 'tuxie,', 'kimmy', 'tiba2', 'equiptment/shampoo/dry', 'ruffio.', 'breed--domestic', 'shrieks,', 'appointment.', 'kinrara....it', '5.2kg', 'how.', 'aslan', \"puppy'.\", 'penyelidikan,', 'kitten-love.', '*让我们去探望还有更新消息', 'pray...to', 'me,will', 'dao', 'injury=fungus', '*active,', 'khoo', 'jinjang.', 'edit:', 'pets,', 'sy...', 'tesco', 'kind,', 'river,', 'iii', '狗妈妈是拉布拉多犬！', 'yet)', 'aug.7,);', 'trainer)', 'enough...', 'accompaniment.', '#adoptdontshop', 'playful,', 'tgi', 'two..', 'sleep,', 'catlovers', 'nkve', 'confirmed.', 'kristin.', 'caterpillar..', 'stewie', 'weight:3.24', 'summer.', 'vaccined.', 'petsfinder.', 'mexican', 'outdoors,', 'well-mannered.', 'exercise,', 'jerry.', 'negasunt', 'peanuts:', '-just', 'cat.i', 'letter.', 'kalangan', '其它的都很健康。。', '1.6kg.', \"down',\", 'women,', 'rupanya', 'age.tq', 'version\"', \"mddb's\", 'gray.', 'socializing.', 'term.', 'sleepy,', 'charley', '😢', 'cheras..interested', 'jacquine', '4p', 'handle.', 'dimana.', 'my,', 'fees:', 'me..cuz', 'road(she', 'bunga', 'intrest', 'double-fold..', 'o.', '***[important]', 'furr.', 'nite,after', 'breed)', \"i've\", '(start', 'boleh', 'manja!', 'cino', 'tomorrow.', 'broken!', 'eq', 'krim)', 'hua,', 'immediately.', '到现在完全康复,', 'actually,we', 'overweight...lol!', 'tispy', 'ni...', 'adults,n', 'nida.', 'sms/email', '\"hi!', 'sleeper.', 'teknologi', 'away...', '\"telah', 'membeli', 'jus', 'license.', '\"massage\"', 'hey!', 'and,', 'prince!', 'blong', 'tiada.', '1st', 'clever!', 'bm', 'chica', 'injuries,', 'heart...affection.', '💪🏼', 'time(', 'fussy.', 'note:-', 'ciara...', '各位好，', 'you!!!!', 'survived,', 'undercoat.', '(16', 'patience..', 'rusty.', 'home.both', 'room,', '*sorry', 'income.', 'dewormed.i', 'cries.', 'san)', 'time;but', 'referral)', 'rock.', 'ody', 'segar', 'starbucks)', 'txs', 'yellow&white', '它们正等待一个温暖的家。', 'sox.', 'far,', '2:', \"'find'\", \"gigi's\", 'support!', 'taiga,', 'observant.', 'stormy)', 'furiously,', 'mgmt', 'theodore', 'sampah', 'hearter', '13th', '20/5/', 'done:', 'tons,', 'moto....well', 'upnm', 'subuh..', 'lahir', 'leukmia..untuk', 'blues.', 'takda', 'clean,healthy', 'babie', \"(日语'银'的意思)想有家♥\", 'mddb', 'follow...watch', 'pup...', 'ye..tq', 'soft!', 'him...', '-have', 'bite...he', '-tame', \"'buang'\", 'lfe', 'ko', '(11)', 'checkup;', 'ukur', 'mixed-short', 'tooked', 'berpindah', 'didukung..sy', 'puppy.not', 'email/msn', 'sorry!!', '(lab', 'mid-august', 'bayu', 'ago,the', 'ears,face,feet,', 'indoors/fenced.', 'bcz', 'around,', 'whatapps,', '23/9/17', 'dexter.', 'c.o.d', 'go,come,sit,', 'reopen.', 'difference).', 'baphaer.', 'yrs.', 'mengatakan', 'jauh,kulai..call', 'malangnya', 'hours;', 'superwell.', 'home,', 'kedua2nya....', 'doctor,', 'minnie.i', 'all.', ':(..', 'hope.', 'busy.', 'squirrel:', 'age)', 'legs,so', 'lovers,', 'came...', 'jangkaan', \"dou'\", '\"twenitu\",', 'chap.', 'twiny', 'seeks.', '23th', 'color.', 'bakti', 'yin.', '(leslie)', 'heat!!', 'ordeal.but', 'dijaga,', 'street..they', 'enough)', 'untoward.', 'thing!', 'vaccine+deworm', 'july),', 'chiclet', 'approx', 'peoples,', 'hands,', 'doesn’t', 'rm!', 'milk)', 'free).', 'her..no', 'masalah', 'manageable!', 'ilk,', 'below.', 'trained,dog,strong', 'sangat,', 'rasah', '1.30pm-6pm!', 'petani.kittens', 'miao.', 'jimmy(whatsapps/texts,', 'pintu', 'terrifying.', 'runs.', 'puppies.not', 'melihat', '(little', 'patted,', \"'paw'\", 'phoebe.', 'to,', 'highlights.', 'storm!\"', 'tri-', 'kasik', 'tsk', 'breeding!', 'midicine', 'joyful,', 'ketiga-tiga', 'rumah.', 'insyallah.', 'darlings.', 'tunggu', 'lean-', '3.she', 'perling', '3days,', 'nih.', 'maklumlah', 'sisters..', 'panda)', '领养一条生命比起购买来得更有意义，生命不分贵贱。', 'ferauni', 'lexii.', 'affections.', 'jage', 'hygiene,', 'dbkl,', 'bad...we', 'bilangan', 'bsh', 'food....', 'commmitment).', 'dangerous,', 'burn,', '20/4/14', 'baraka,', '(approximate)', \"'baby',\", 'milo,', 'tippy', '小萌萌获救，并被义工短暂寄养中。个性非常活泼好动，像个过动儿', '=d', '(questionnaire', 'reika!', 'weening.', 'bulan.', 'bela', 'clutches.', 'male-1year6mths.', 'checked,', '大頭(crocs)在我上班的地方流浪。我們擔心牠遇到不測，想為牠找一個愛牠的家。', 'oticlean', 'dog..because', 'curb,', 'fr', 'litters.', 'sofa...', 'park,very', '聪明，友好，警惕性高，适合陪伴老人家与小孩。', 'adopt.🙏', 'kona,', 'diarrhea.', '(whatsapp', 'shd', 'andy', 'blk', 'fever,', '^0^', 'kg.', 'fast...', 'update..only', 'one..', 'nd', 'melawati,', 'su', 'crossbreed.', 'fine..', 'urgently.', 'rough..', 'intension.', '(jill)', 'tamil', 'ahli', 'paramedic..so', 'lorry,', 'son,', 'kitties!', 'lucy', 'valley/seremban', 'bruno!😊🐶he', 'thigh.', 'recently,', 'bentong', '🎈', '唉~从它们2个月大，义工已帮它们找家让它们不必在外流浪~', 'telomain,', ',taken', 'lady.', 'cat/cool', 'pertanyaan', '(/14)', 'cheapies', 'affectionate;', 'parti-coloured', 'lining,', 'status.', 'constraints,', 'temui', '10kgs', 'all-white,', 'bertny', 'surely..may', 'must.', 'fip', 'with!', 'orange-ish', 'first)', 'wet/soft', 'ling', 'hao', 'sun.', 'ms.grey.', 'fair,', 'white-foot:', 'strips.', 'cat.3', 'detailly', '(exercise', 'no.23', 'petfinder,', 'aidy', 'morrison', 'eyes),', 'restaurant).', 'smokey,', 'socks,', 'tiger.', 'sekilo', 'foreigner.', 'nicole.', 'sorry!', 'sekiranye', 'joke.it', '(probably)', 'boo.', 'iswara', 'partnership.', 'cookie:', 'biondi', 'sunkist.', 'bangsarian', 'orangey', 'accident.', '\"get', 'bottlefeed.', 'kiseki!', 'imagine.', 'rhymes?', 'dissappear', 'riba.', 'indoors.', 'extreamely', '♦jumps', 'deflea.', 'alrdy', '(18th', 'dr.tan', 'easily).', '***the', \"iam's\", 'them,feel', 'www.everydoghasitsday09.blogspot.com', 'cacing', 'watspp', 'think.', 'cracked,', 'caspy...', 'water)!', 'active...', '*free', 'pups....', '認同共答應在狗狗成年時，帶狗狗去作絕育手術。', 'sonia,', 'snowshoe.', 'whats-app', 'spayed.', 'strokable.', 'asthma.', 'pictures!', 'two,', 'dude.', 'rm80.', 'dog,o', '4months', 'injury-', 'misha', 'hehe)and', 'meymey', 'downstair', 'tall,', 'works.', 'much!!', 'hospitalisation,', 'divaksinkan', 'tc', 'adopted,', 'hai,if', 'student,i', 'bnyak', 'puppy:', 'de-fleas', 'kayla', 'love💜', 'richard.', 'spaying.', '-female', 'luckie', 'winston', '-11-', '-keep', 'loh', '(even', 'high-spirited,', 'more.so', 'outside...', '/12', 'willi', '(namely,', 'about:', '(\"small\"', 'poisoning.', 'moniq', 'eat。', '/12.', 'detective,', 'expert).', '(whatsapp/texts', 'heart-breaking.', 'rag-doll', '\"this', 'tummy.(just', 'facts:', 'whatssapp', '(he', 'elakkan', 'small-medium', 'cranny.', '(demodex)', 'gay).looking', 'puppy/puppies', 'berada.', 'sugar.', '(short', 'baili', 'percayalah.', '2yo', 'sharifah', 'shiba.', '2months-3months', 'tripod.', 'ldp', 'attached..', 'interested??', 'settle.', 'cataholic', '-----------------------------------------', 'little.', 'cared,', 'poop...', 'sure!', 'feisty,', 'faith,', 'evie,', 'bath!', 'ayu..and', 'tunjuk', 'cried...and', 'nuetered', 'tangled.', '=p', '\"choi\"', 'wants!', 'thunder/fireworks', 'left,', 'puppy.it', 'lvoes', 'dogpound', 'puppie.', 'dog..', 'pan.', 'management.', '(left)', 'coats.', 'hair(ibu)', 'bryls', 'guard.', 'ajam', 'everyday)', 'backside.he', '可以联络', 'hair),female.', 'shy/scared', '\"sparky\"', 'hai...i', 'ate/slept/poo/pee-ed).', 'you!!', '6.30pm!!', 'cashew.can', 'separately,', '1)what', 'foid', 'dughter', '(foreign', 'effendi.', 'tuula,', '14,', 'berwarna', 'petaling，', 'claire', 'appartment', 'walks.', 'kontot,', 'nose,', '(yep', 'truffle,', 'genting', 'maddie', \"'dumped'here.can't\", 'spaniel,', '(shake', 'adorable.pls', 'cuvette,', 'hosatel', 'country.', 'leong', 'name)/(', 'dosmetic', 'him...no', '(chinese', 'millie,', 'timid,', 'athena...she', 'misery?', 'simpul.', 'italian', 'homezzz', 'law.', 'booboo:', 'kamsahamida~~~~~', 'yur', 'him,or', 'microchipped', 'cinamon', 'food+wet', 'percy', 'now...', 'poo)', '\"panda', 'dia.sape', 'chance❤️', 'familly', 'jasmine,', 'interested!', 'person(s),', '5!', 'set.', 'to..thank', ':12', 'mana-mana', 'kitten,litter', 'adorables!', 'month...and', 'mums!', 'concern.', 'text/', '(paws', 'development.', 'delisha', 'rehabilitated,', '\"chocolate\"', '(/),', 'can:-', 'mind.', 'tailed,', 'dogs/strays', 'cheras...', 'moustache!', 'sendiri,', '#already', '(family).', 'malaysia.', 'ade', 'respectively,', '-update', 'been.', 'scared)', 'mimi,', \"'soft\", '-priority', 'dmestic', 'hr', '☆♥sorry', 'et.', 'not..', 'paitience', 'german).', 'couch)', 'serious,kindly', 'unknown)delivered', 'attention!', 'only-', 'lover).', 'also.', 'zorro,', 'ammani', 'johor,', 'healthy,playful', 'spaces.', 'spayed..(yeah', 'lok,', 'dysplasia,', 'felines.', 'bcame', 'shy.', 'mittens,', '18/1/', 'shoting', 'markings/colour', 'mom,', '\"love', 'area...so', 'call/whatsapp/sms', 'wobby.', '*nomnomnomnom*', '\"accidental\"', 'bleeding,he', 'cooking.', 'stool,', 'baiknya', 'jb,', 'safe....', 'guys...', 'fit.', 'pregnancies.', 'strays,', 'chua,', 'indoors,', '(4-in-1,', \"'malaysian\", 'anak-anak.', 'friendly,they', '(falls', 'entrance,', 'blue..', 'more.if', '小春卷正在寻找爱它们的粑粑麻麻们哦', 'weasley', 'leslie', 'luxating', '-leash', 'simpang', 'kelana', 'companian.', 'ekor,', 'single,', 'smaller-eyes-version', 'pegi', 'lg...', 'pictures,i', 'p/s:', 'petlovers', 'togather', 'tenderness.', 'xindie', 'kitten,blackwood,boiled', 'season,', 'anywer', '..do', '9/9/08.', 'case)', 'outside.sincerely', 'wendy,', 'sim...', 'hobbes', 'medicine...', 'sandrah', 'sleek,', 'masih', '(2males', 'namy', 'masjid,', 'months!', 'sains', 'ming', '19\"', 'aboy', 'active.if', 'sometime.', '4cats.', \"(you've\", '1.vaccination', 'colouring.', 'melur', 'required!thanks', 'gender/age:', 'vaccine,dewormed', 'hajime', '15th,', 'natured,', 'emergencies,', 'puppy..love', 'menjalankan', 'mama!we', 'mom.', 'he?', 'soil/sand/litter/or', 'cuteness.', 'found:', 'everyday,looks', 'kena', 'kids!', 'together,', '.if', 'tiffy', '答应不准遗弃和虐待', 'cat!)', 'people\".', 'hairfall.', 'moving,', 'friendly.suitable', 'sizes,', '(domestic', 'info/to', 'cats!)', '(vocal', 'bersosial', 'potentially)', '-good', 'train)', '-first', 'esso', 'kapar', 'hand-hand\".', '(/11)gugu', 'diyana,kajang', 'one?\".', '(sometimes)', 'baek', 'tq,', 'sapa2', 'saturday,', '虽然小叮叮没有完美的外表，但是这绝对不会影响到小叮叮的内在。小叮叮的内在，还是一样会很完美..', 'siblings.thank', 'ara’s', 'curious,it', 'photographs.', 'sterilised.', 'saya...dan', 'roadside.might', 'sunburned.', 'haliza,', 'no:.', 'mirabelle', 'woof..', 'un-neutered,', 'jasmin', 'angeline', 'year...', 'him!', 'unigue', '只有这只小狗有一点皮肤问题，但是并不是永久性的。。它也像其它兄弟姐妹一样活泼。。', 'lovable...can', 'call!', '_______________________________________________', 'find!)', 'toe.', 'lovin', \"pippo's\", 'considered.', 'kittens;', 'lobe.', 'xiaomi', 'marco', 'farm,', 'lepas', 'soon!.', 'hahaha..', 'outdoor).', 'desexualisation', 'injections.', 'puppies)', 'overseas,', '(aimi)', 'pets..pls', 'ongey,', 'matured.', 'sleeping!', 'cataract,', 'joan', 'pink-ish', '(dmh)+', \"children'\", '!!***', 'ss2,', 'hadapan', 'bio:', 'square,', 'rejects.', 'rottweiler.', 'job..', 'sy', '1feb,', 'free?!)', 'korean)', 'other’s', 'plush-coated', 'dogs/puppies', \"much!!i'm\", 'mugee', 'amazing...', '19-9-', 'ipoh,kl', 'dog\"', 'pond.', 'shelters.', 'me...hissing,', 'bru', 'oren...baru', 'zapin', 'for/with', 'dekat', 'finally,', 'heath.', 'ranji', 'separately).', 'rascals.', 'tolonglah', 'accessories,', 'indoors.intelligent', 'cpt', '在领养的第一个月', 'deworming..good', 'lab/golden', 'ibu.', 'setting.', 'college.please', 'adopted)', 'mahu', 'admin,', '****once', 'eater).', 'merbok', 'gambar', 'brands.', 'water....', 'old....4', 'bui', 'animal\".', 'dbkl!', \"'ok'\", '\"sit', 'picit2..jadi', 'kesian.terus', 'poo-ed', 'compulsory..', 'heartbroken,', 'feed.we', \"lucy's\", 'paws.)', 'brushes,', 'in.not', 'makanan:', 'veneral', '(males)for', 'jaja,', 'wok.', 'examples,', '(newly-built)', 'beri', 'country,', 'genit.', 'sorts,', 'fear!', 'ok..:)))', 'january', 'wars.', 'furball?', 'attachment.', 'minnnie', 'mase', 'crazy(male)', 'tu..', 'allah', 'manage,', 'difficulty.', 'gizzmo', '******************************', 'anymore,maybe', 'is:', 'tp', 'baru', 'people*', 'family,cute', 'hachi', 'royale.', \"available'\", '\"dogdog\".', '6。eat', 'oil)', 'ticky', '○', 'pokemon', 'hand-raised', 'seakan', 'house..we', 'lokasi', 'earth.', 'tumble?', 'long-term', 'size>', 'pet-friendly.', '(5/12)', '(white)', 'pahang.', 'lifestyle.', 'frens,both', 'pleeeease', 'tri-colour(flower).', ':]', 'adopted.', 'suggests,', '*provide', 'month.sesiape', 'them!)', '绝世好喵', 'life🐾', '(rented', '----------------------', 'brown).', 'white,male,american', 'ofc', 'taker?', 'experienced,caring,and', 'whatsapp/call/sms', 'costs),', 'adopt...save', 'merayu2', '那空間只够她站立而已,', 'abuse...all', 'breed?', 'ran-over', 'colby,', 'ie:', 'bob-tailed', 'de-flead', '.pls', 'wet.not', 'cleaner.', '(linked', 'staffordshire', 'ideal.', 'non-pet-friendly', '😍,', 'adopted!', '(1male', 'immediately..', 'mpsj,thk', 'msger', 'stripe,', 'mayleen', '20/1/', 'problem:(', 'memberikan', 'injury...need', 'dog,hope', '7/9/14)', 'kindlly', 'lebih.', 'needed!', '(holistic', 'layari', 'now.becuz', 'negara!', 'going,', 'no11a,', 'association.', 'cyberjaya', 'packed,', 'kirby!', 'memuaskan.', 'young--very', 'seterusnya', 'siam)', 'found!', 'izzy,', 'old...have', 'dog/cat,', 'more...so', '1)big', 'haknya', 'me),', 'gorgeous!', '1)gentle', 'behind.', 'word.', 'mccollar', 'heymiao', 'loo)', 'mannerisms,', ',hyper', 'stay/sleep', 'oliver,', 'urgent.if', 'perdana.', 'lool', 'black/golden/white', 'fee(this', 'kemuning/cheras', 'd-trick', 'at.pick', 'well...', 'george', 'sekali)', 'kuanthai', 'head-butts/hand-nuzzling.', 'dose),', 'cuddle-bug!', 'easy,', 'markings?', 'patches.', 'setar,', 'species..=___=..she', '(except', '-deflea', '(pd/seremban)', 'recovered,', 'ditemui', '(biting', 'owned.', 'kitten,male', '11..', '4-month', '8pm.', '(yulie)', 'around.', 'ayi', 'estee,', \"life.'\", 'beritahu.', 'kundang', 'umur:', 'neutering)', 'vaccs', '\"sit\".', 'c’mie,', '\"what', 'bright,', '****thanks****', 'motnhs', 'hair.we', '(cheras/sungai', 'fb.', 'seconds,', 'area.he', 'wonky.', 'spca', 'on-.', 'jovie', 'houses(but', 'menyanyangi', 'klang..', 'm1,m4', 'lucy\".', 'ppl.she', 'tina.', 'balance),', 'fat.', 'miserably...', '31/1/.', 'assume.', 'hujan.', 'kepuasan.', 'personality:shy', 'tinkerbell', '\"tear-drop\"', 'nakal.', 'hotel,', '.for', 'butterworth', 'jellybean:', 'tummy,obviously', '****', 'crime,', 'skobel', 'addition,', 'isn’t', 'pedigree/alpo/probalance', 'too,he', '(pm', 'me...:)', 'strong),now', 'cheras.....hungry', 'thomas,', 'milk-o-dog', 'stubborn.', 'jer', \"'no'\", 'requests.', 'commit,', 'left!!!', 'black:,_black_and_tabby', 'pweese', 'hence,', 'strolls,', 'brucie', '/9', 'me?', '(niki).', '8/5/)', '(ˊ●', 'migration,', '\"trap\"', '(kecik)', 'adoption!!', 'filo.', 'tailed.', 'maternity.', 'mama/papa', '(qiut)', 'happy.isabella', 'sits.', 'joys/tears,', 'furries', 'mps.', 'ages.', 'furever.', 'stand,', 'shophouses.', 'email!!!!', 'attention,', 'well-mannered', '(catherine).', '4)are', '*priorities', 't&c', 'garbage-truck-natural-barking-trigger.', 'danno', 'garfield..they', '#funfacts', 'harap-harap', 'yeochi,', ')was', 'farnie', 'diluar', 'girl.', 'coon+domestic', 'rain....', 'character,', 'procedure.', '/.', 'wait!', 'up!', '(10', 'fleas/ticks.', 'somewhere,', 'missy.', 'leng', 'tan/light', 'beruang', 'minpin.', 'kibbles.', 'puchong.self', 'succeeded.', 'selera.tapi', 'relatives..', 'comel', 'apartment...', 'reti', 'sama.', 'begining).', 'doris', 'homey,', 'old.need', 'rebecca.', 'left..grey', 'playfull....', 'fees-', 'judy', 'evenings.', \"tiny's\", 'cheshire', '1.5-2kg', 'complaints,', 'seeker,', 'cost,', 'mess).', 'huuuumans', 'time!)', 'litter.(amy,', 'inu.', 'released.', 'georgeously', 'nishinoya,', 'docile,', '(likes', '同意义工们上门探访', '(location).', 'adopt。', 'sms)', '3.needs', 'ard.', 'phone.', 'kitty)', \"'busy'\", \"tarzan's\", 'angry.', 'white(7months)', '32.anakyer', 'orientated.', 'stairwell,', 'd-day', 'sex:', 'ahandoned', 'gal,', 'puchong救的,如果不救他们会受风吹雨打，晚上还要见鬼（酒鬼）', 'only..both', 'hahaa', 'mongrel)..', 'healthy,n', 'petito', '‘s', 'muffy', 'training...', 'huai', '-lokasi', 'refence.', 'sepenuhnya...', 'poo,', \"thing..he's\", '1-8', 'hubungi', 'below,like', 'lost.', '~2months', 'behalf,', '*spaying', 'dua2', 'ery', 'nallini', '4paws,', 'fuss!', 'mesej.', 'caged,', 'year-old,', 'kbu', 'kucing..xmampu', 'hujung', 'caregiver/adopter.', 'petani', 'bessie', \"hera's\", 'back,', 'mum-mum', 'minggu...montel2', 'aspca', 'tu,bkn', 'me.\"', 'well-adjusted', 'packed.i', 'naala', 'yourself!', 'musketeers..', 'skrg)...', 'bayar', 'kitty,hope', 'hitam(jantan),yg', 'heaven!', 'silap', 'monster.', 'tokinese', 'refundable指定期限内结扎后会全数奉还)', 'human,but', 'manyaw,', '(e.g.', 'musim', 'senai-de', 'g!', 'orchestra.', 'cozy,', 'rooney:)', \"dinah's\", 'dot)', 'sumone.', 'ms.huey', 'je.dlm', 'liung,klang,selangor', 'details.', 'midvalley,', '(posted', 'terbiar.', 'climb,', 't&c:', 'ss3.', 'stay;', 'cheerful!', 'chewing.', 'posters.', 'mr.tom..thx', 'retriever,', 'teman', 'karenah.', 'bushes.', 'weeks,well', 'berpindah.', 'innocent.', 'mppp', 'okay,', '*****for', 'cat-safe.', '杨韵姗', 'kuchik', 'wet.', 'home.after', 'attention.', '(angah', 'mamak..', 'housing/industrial', 'boxer,', 'them:', 'wean,', 'gak..', 'hua.', 'other:-)', 'selesa.saya', 'buncit', 'places.so', '(12/5/12).', 'angels!', '(maisarah)', 'secure.', 'hurry.', 'related,', 'trays,', 'non-biological', '7。owner', 'pokemon)', '(almost', 'perdy:', 'motherless.', 'nekoko....someone', 'sesuai', 'mewah,', '有兴趣领养', '11\"', 'house.need', 'carrying.', '10/1g.', 'certified.', 'u-turn', 'eyed,', 'welcomed!', '.friendly', 'pinocchio', 'cut.she', 'floor)', 'jujubee', 'white/black,', '/14:', 'bedding,', 'rm90.', 'laughter.', 'mother(', 'corn)', 'legs;', 'afternoons,', 'further.', 'setengah.', 'time,they', 'd.', '(ldp', 'jannett.', 'male(black', '#adoptdontbuy', '(mj)', '\"he\".', 'tu..anak-anak', 'semenyih/kajang/bangi', '(many', 'loki,', 'eur1k.', 'adaption.', 'he/she', 'rawr', 'ive', 'contributation.', 'lot.as', '~miss', '✅very', \"joe's\", 'surroundings...a', 'sounds,', 'indah,', '(adopted).', 'skarang', 'kibbles/soft', 'play-bite', 'd)', 'weaned!fresh', 'asalkan', 'image.', 'ganda', 'alone.a', 'aleady', 'mum,', 'hungry.realizing', 'playfully.', 'mka.', '(belum', 'emily', 'kampar,', 'pee/poo', 'bowls/', 'owners.', 'active.the', 'milo(male)-', 'mummy)', '狗宝6个月后，必须带去结扎。', '待领养', 'allowed).', '(c)', 'kata,', 'kl)', \"(there's\", '4in1.', 'active,male', 'komplex.', 'he’s', 'arabian', '我們想，', '5)', 'naps,', 'vitamin..', '-male', 'shower,', 'motorbikers.', 'sister)', 'serato(female', 'dirty,', \"kittens'\", \"mimo's\", '1gold,', 'help.', 'cerewet,', '*for', 'hit.', '9th', '1-year-old,', 'rocks🐶🐶', 'goes.', 'motobike', 'stree.', 'suitable,', 'cnrm/tnm', 'pj', 'trained...eat', 'no.:c', '10pm', '\"ahhh', 'ambillah', \"sayin'...\", 'lg...mata', 'aje', 'aswell.', 'times...', 'daebab', 'temporarily,i', 'eater!', 'pets)', '(shah', 'good,', '(potty)', 'cuddled.he', 'bones,', '♥,', 'records.', 'months.', 'can,tq.)', 'kuantan.', '29th', 'now,', 'cld', 'farewell.', 'workers.', 'ticks,body', 'neutered..', 'dlu.', \"'sweet'\", 'besides,she', \"muslim's\", 'spitz).', 'mek', 'sampah,', 'anyone/anything', 'clyde', 'rub,', 'prior.', 'me).i', 'tora.', '/16,', 'ding?', 'september,', 'siamese-ish', 'funniest,', 'treatable.', 'school..', 'friendly,loyal', 'hari.', 'together..as', 'happened).we', 'serdang)...', 'car.please', 'shampoo...etc.', 'death).', 'dognapped,', 'akn', '(friday', 'kerap', 'vitany', 'ther', '～', 'exhausted.', 'klu', 'mix\"', 'short)', 'van,', '(mr', 'humor.\"', 'bovril', '\"pumpkin\"', 'many..but', 'dog.we', 'someday,', 'kitorang', 'floor:)', 'longer.', 'celah2', \"'manja'.\", 'kumar', 'peppa', 'sandie', 'checkup.', 'mknn', \"tyler's\", 'while..', 'difficulties,', '(sy', 'flood.', '#2:', 'rainin', '我不想再将牠放回原位给他继续流浪，如放回原位牠再遇上了“打狗队”那就非常是可怜的一生了', 'chance.you', 'now,but', 'disappointed,', '1male', 'princess,', 'engine,', 'indicated.', 'petted,', 'mystery,', 'flea-treated', 'god-made-sensors', '7month', 'mbsj', 'movement.', 'piatu', \"she's:\", 'guai', '(prefer', 'floren', 'lee).', 'mayo,', 'female,cute', 'trained)', 'big-boned', 'manner.', 'ninja!', 'healthy..if', 'hurray!!!', 'soft,playful,active', '2nd.', 'hwee', 'missions,', 'am?', 'hush..', 'along..', \"nando's).\", 'award.', 'smart?', 'omey.', '-vaccination', 'definately', \"malfoy's\", ',keeping', 'flavor.', 'house-trained,', 'aunty(a', '如果這些小狗狗被丢到郊外，', 'priceless.', 'maximum,', 'spike.', 'blue-gray', 'bb.', 'yellowish).', '大家好', 'nice,goofy,', 'berbulu.', 'velvet.', \"b'coz\", 'shasha', 'hera.', 'prawn,', '(izyan)', 'rescued.he', 'closer.', 'brady', 'newborn..gave', 'glory.', 'aside,', 'emmie', 'dog?', 'marks.', 'raisin,', 'makan...', 'course).', 'fosterer.', 'negotiable).', '(eg', 'responsible.shld', '///', \"stockings'\", 'hari,', 'jynee', 'stranger-friendly.', 'age:', 'rambo', 'lady..the', '(advocate', 'silver,', 'lepas,', 'employee.', 'life...', 'she.and', 'temple.unfortunately', 'dewormed;', 'spay/mandulkan', 'rm15.', 'diy', '(skin', 'holiday.', 'now..sunshine', 'initailly', 'multi-pet', 'handsome.i', 'bboy', 'grounds,', 'trained;', \"girls'.\", 'kn', 'comet-like', 'bum,and', 'gentlemen.', 'recover...from', 'pemaisuri', \"shes's\", 'lomaikai', 'already,someone', '没地方去,', 'temporary....i', 'puppies.she', 'owner...please', 'lovely.they', 'readers,', 'passerbys', 'husband.', \"cesar's\", \"their'\", 'pups,', 'der', 'ravevarmen', 'fees:rm50', 'tommee', 'plays,', 'shack.', 'short/kinked', 'ash-gray', 'sir,', '-suka', 'thing,', 'plsss', 'month。', 'working)', 'tanggung', 'allowed,', 'nothing.', 'perished,', '10yrs', 'pro-formance', '....come', 'squirm,', 'delivery...', 'really3', '10kg', '(vignes)', 'haiz~', 'cuti', '10pups', 'act.', 'nurse.', 'quiet...she', 'vaccinate/deworming:', 'pak', 'she:', 'bebas', 'sand,already', 'sep)', 'gelandangan/dibuang.', 'errands.', 'tying/caging.', '剛剛在setia', '...i', 'tray.', ',her', 'attenion', '-this', 'have.', 'taklayan', 'burmese.', 'cait', 'appearance,', 'strangers.', '-litter', '\"putih\"', 'location;', 'kidding).', 'symbol,', 'happy!', 'buku', 'rm).', '(buddy,twinkle,elmo', '(strictly', 'blue).', 'milky/cloudy.', 'nose)', 'vero', 'outdoors.responsible', 'pups!', 'bassets)', 'app', 'johor..saya', 'oreo.he', 'unadopted', 'did.its', 'buildings.', 'catcher.they', 'injury;', 'play&eat', \"'simba'\", 'finger/', 'garfield', 'paw-pad', 'meetings.', 'sochi,', 'cece', 'manje', '1month++', \"did'nt\", 'aktiviti', 'garfield,', 'else’s', 'dog,friendly', 'tangan', 'year!', 'safe)', 'bergaduh.', 'colleauges.', 'grass.alrdy', 'lama...so', 'kill.', 'cocoa!', '(call,', 'mandatory:', 'malinois', 'bubu', 'frida', 'climber!', 'cruel.', '13kg.', 'klinik', 'us)', '(must', 'jenny,', 'hand-reared', 'sy....', 'sibling)', 'kasi.', 'us.thank', 'problem;', '[i', 'returns..she', 'non-stop', 'associations.', 'female..im', 'daripada', 'hand,', 'more.', 'adoption.i', '性别', 'dogs\"', 'mommy..', 'chlamydia)', 'houte', '(she', 'supply)', 'quarantine)', 'fate.', 'calling.', 'indoor-outdoor', 'hanger;', '(2)', 'saty', 'bershka)', 'work!', 'terrified.', 'pupps', 'paco', 'warry', 'message/', 'xuu', 'specific,', '(breeders', 'perak', 'sold,', 'farm-kebun,where', 'patient,', 'adorabe', 'pernah.', 'her...very', 'ranzak', 'july,', 'whatsapp/line', 'lucy)', 'urgent~!', 'kucing..jumpa', 'mr.tan', 'kim', 'urgent~fiona', '被撞死,', 'off.i', 'iii.', 'rooney', '它们已呆在义工家好久一段时间了。', 'th', 'cruelty!)', 'bowls.', 'nearby.', 'sit;', 'gua', 'chicken.', 'maintainance.', '1/1/', 'kind.', 'cr', 'name)', 'her.lol', 'consideration.', 'ball?', 'it.)', '4/3/16', 'caretakers,', '而成年狗多数是忽略掉。。。', 'crackers.', 'sleeping,', 'adopt.boleh', 'wah', 'wishfully,', 'him!)', '\"baby\".', 'vitamins.', 'cctv', 'walking..', 'examination,', 'inch)', '20-3-', 'shafizzasaidon', 'fears.', 'bag.they', 'mpsp', 'tongue.', 'him,pls', 'spayed/neutered!', 'cuddles,', '可是经济能力有限', 'dvd),', 'begining', 'angkat', 'undertone),', 'chatty,', 'lah', 'left...', ':):)...so', 'shampoo.', 'awasy', 'call(vithiya)', 'unexpected:', 'menggunakan', '(sofi)', 'hug!', '(grey).', 'appear..but', 'up.and', 'orange-male', 'know.we', 'home/fosterers.', 'readily.', 'safe.', 'cake.', 'g)', 'p.s', 'dominat', 'humans.she', '-friendly', 'kwn', '2++', ':)\"', 'through,', 'cempaka', 'energy.', 'page!', 'elok-elok.', 'crossed.', 'kimi', '(juju)', 'eventho', 'questions,', 'video:', 'impressive,', 'home!thanks', 'home...he', 'dibelai', '一开始会很胆小，久了会很好相处，不挑食，独立聪明厉害观察奴才在干嘛😂', 'legenda', 'it:', 'cowardly,', 'regularly.', 'love!', 'mengunakan', 'dog!!!', 'lelaki', 'abit', 'shiloh', 'soldiers.', 'june.', 'mud.', 'above.', 'position.', '(petfinder', 'jaw.', 'ok!!:d', 'solution:', 'asap:', 'hyper!', '-**', 'laws.', 'male:', 'ttg', '\"leave\"', 'meow!', 'circumstances,', 'she/', 'happen.thanks', 'bilik', 'shadow!', '#adoptacat', 'house-cat', 'f.o.c,', 'interested,please', 'expenses),', 'beautiful.', 'why,', 'cuz', 'likes.', 'keletah', \"'iams\", 'urgently!', 'adopter(s),', 'ear).', '支持寵物絕育', '，a', '💜', '8-june-.', 'anytime)', 'mddb.', 'huggable', 'charmain', 'me..nearby,thre', \"thy're\", '21st', 'ready.2', 'nutri', 'or(charlie)', 'only.there', 'sake.', '(welcoming', 'arm:)', 'acer,', 'drain.she', 'seekor.', '1sr', 'alia,', 'age.', 'threatening,', 'tintin', 'luke,', 'pan)', 'see.', 'abt', 'kiki,lala,chloe', 'recommends.', 'fast-learner.', 'misty.', 'chinna', '5/1/08', 'scolded,', 'people.we', 'indoors/fenced...', 'yakult', 'crossed),', 'asap.kindly', \"'muscular'\", '(mammary', 'lrt.just', 'people.', 'taste.', 'gadis', 'spayed\\\\neutered', 'basis*', 'him..so', 'paws]', 'cuddled.,', '14)', 'rumble.', 'pack.', '(weight:', 'kl/puchong', 'ringgit.', 'deposit).', 'prefably', 'rebecca', 'serios', 'free免费', 'azrol', 'chessie?', 'batman!', '目前希望有好心人可以收养，原地放回流浪真的不是最恰当也不理想。', 'spitz.', '1.25kg.', 'times)..', \"apollo's\", 'homeless.she', 'dr.ng', 'ebam', 'angah', '.beautiful', 'baham', '2.home', 'feb,', 'tau..', 'whatsapp,', 'heaven.....', 'lot)', 'chained,', '(excited).', 'life...all', 'judy.', 'lamb,', '\"manja\"..', 'leo', 'tree).', 'adoption..looking', 'syampoo', 'cal.', 'skali', 'sale...extremely', 'or.', 'mubarak', 'background:', 'paws.', 'playfull,sweet', 'white!', 'string-toys', 'kemalangan', 'de-ticked.', 'firm.', 'foster/adopter..', 'receipts,', 'golden-cream', 'puasa..3', 'estimates;', 'home...they', 'julie', 'euthanized,', 'detail.thank', 'fingers..', 'december', 'andalas,', 'sakit..sihat2', 'prob..no', '(bilik', 'situation!', 'soon..so', 'at..i', 'no.', '16th', 'rescuer)', 'pulai', '即使自己挨饿挨打，也不会让孩子受一点委屈。', 'nak', '(also', 'smart...', 'ema', 'information...', 'paru2.', 'already，', 'lancelot...', 'deal)', 'sunsuria', 'taiping', '3-kitten', 'location).', '3dogs', 'intresed', 'ridgeback-like', 'sebab', 'times.he', 'text/wassap', 'home,tq.', 'prohibited.', 'info/photos', 'diego.', 'character:', 'not-so-activ', 'cat.so', 'intrested,', 'quickly,', 'byk2...', 'pamper.', '-rex', 'male..big', \"inside...i'm\", 'exotic,', 'go.both', 'purposes,if', 'furrrever', 'cut,', '...bless', 'aktif.', 'sook', 'thing.', 'below**', 'mengambil', 'beverly.', 'region.', 'kicking,', 'nangis2', 'asap!', 'xx', 'don’t.', '24/7!),', 'village,pulau', 'keroh', 'orphan..need', 'chi\"', 'hom3', 'kasi', 'breeds)', 'paint,', 'bumblee', 'wechat/', 'elvin', 'bukit', 'rescued.', 'knockdown.', 'heathy!', 'lovable.he', 'purrrfectt', 'turkey)', 'zeus.', 'dua,', 'terlibat', 'usj,', 'gate/grill', 'blotches.', '6\"', 'iskhan', \"'sit',\", 'money,', '蒲種区，雪兰莪。.', 'pahat,', 'size,seriou', 'oskar', 'amy.', 'pup?', 'blackkwood', '25,', 'ignored.', 'account.', 'whitesocks', 'built...', 'criteria,', 'guys..', 'eskimo', '(taman', '[mixed', 'craying', 'chest)', 'extrovert!', 'tip)', 'lari..', '2,puchong', 'guarantee!', 'dogs!!so', '\"empty', 'playful.but', 'out)', 'held.', 'xd,', 'soon.', 'age:-', 'berakhir', 'tri-colour..putih,', 'felt,', 'shana', 'breads.', 'retriver,', 'temple,', '\"manja', 'honest,', 'house,he', 'loooveee', 'drain,', 'help!!!!!!', '更多详情可联络我的朋友：', 'gm,', 'me.i', 'compulsary).', 'frisky,', 'personalities;', 'life.', '(december)', 'qwner', '***love', 'free-roaming', 'husky:', 'beth.', 'koyak', 'human-company', 'melahirkan.', 'senior).', 'tarik/geget),', 'rosie', 'spongebob', 'takde', '3month', 'acu', 'mommy.pls', 'sardin', 'it.....', 'miki', 'sharan', 'dewarmed.', 'kuar', 'y/o', 'mange,', 'high..so,i', 'adoreablee.', '19/9/', '-male,', 'so..because,i', 'be,', 'dogs...however,maybe', 'items.', 'kesayangan', '住在可以合法養寵物的地方', 'medium-length', 'fleadrops', 'megamall.', 'bayab', 'world..but', 'controllable.', 'child...', 'knot.', 'medical*', 'outdoor(a', 'texture.', 'neuter/spay', 'heartbreaking.', 'dapatkan', 'nephew.', 'doberman-pinscher', 'master.she', 'caring...', 'maturity.', 'adik2', 'smartbites', 'wanted.', 'saujanapet.com', 'rapunzel,', 'ordeal,', 'liung,klang', 'myself,', 'apparently.', 'blackwood...', 'permohonan', '*im', 'g3', 'skali.bawa', 'tel:-;', 'bengkak', 'mix).', 'likes:', 'inbox', 'lembut,', 'urusan', \"adopter's.\", 'war.', 'face.pup', 'all..', 'pilmoor', 'neelu', 'kembalikan', '10am-4.30pm', 'furry.', 'fidget,', ',loyal', 'aggression,', 'faisal', 'spay-neuter', 'sharifah:', 'healthly.', '指定期限内结扎后会全数奉还)', 'homeless.', 'kitty.i', '12pm)', 'prarasites.', 'hours..tolong', 'baru2', 'loving.', ':(,', 'monica’s', 'cantik', 'care...', 'house.we', \"invited...she's\", 'dander.', '9/5/', 'frankie', 'sekali', 'hoppy.', 'her,', 'quite.cos', 'mane.', 'jea.kesian', 'cuddly..', 'ellen:', 'escapes.', 'ditambah', 'seek.', 'them..they', 'there’s', 'reason.', 'compulsory!', 'pz.', \"melo's\", 'that!', \"one.it'll\", 'super-active', '\"lai\"', 'miko', 'sita', 'mahu.', 'her),', 'furkids..', '2)round', 'phua.', '\"halal\"', 'accident..', 'road...', 'kerenah', 'lyca.', 'barking.', 'everyone，we', 'nicky,', 'jugak', 'hve', '_____', 'bottle,', 'skin..she', 'themselves.', '-never', '很幸运，孩子们都成功被领养了...', 'see~', 'welll', 'loving.only', 'arms.....', 'home...no', 'miu,they', '\"lilo,', 'kebawah', 'time.when', 'setapak,', 'seterusnya.', \"i'm\", 'oh!!!', 'torti', 'month-old', '**urgently**', 'mixxy.', \"tzu..he's\", 'hee', 'drg', 'yeah?\"', 'poor,', 'yeh', 'visit/', 'baby..of', 'generasi', 'requirement:-', 'althought', 'sunshine.remember', 'less.', '(ly).', 'siter', 'cute,and', 'earlier.', 'nature:', 'bersama', 'p.klang', 'heartworm,', 'survive.', 'urgently.pls', 'snickers!!', 'ticks,', 'now!', 'kembang', 'school?', '領養條件：', 'blood,', 'peasy!', '.just', 'downstairs.', 'caley', '\"down\"', 'rosemarie!', '♦full', 'baik..harap', 'charming..i', 'silky,', 'july..n', 'udah', '3.00am', 'ppl...', '(biggest', 'occasionally.', '\"will', \"brother's.we\", 'barking,', 'pity,hungry', 'sat-sun', 'suza', '(group', 'budget:', 'sebulan.', 'me?....', 'suria)', 'bangalo', 'supervision:', 'kepala', 'dobies.', 'dresses,toys,medication', 'rindu.', 'hairfall', 'adoption.approximately', 'brothers/sister,', 'defle', 'chop.', 'dulu', 'face...', \"10'\", 'hugo,', 'sms/e-mail', 'advert.', '(really,', 'cute..female', 'eye)due', 'infor,', 'clear.', 'beredar', 'attap', 'belly.', 'temperament!', 'snack:', '(myiasis)', 'tumpukan', 'adorbale', 'junk.', 'soon).', 'jimi', 'healthy-full', 'umur', 'enthusiastic,', 'renee', 'bubbly.', 'nila', 'pudu,', '🌹🌹🌹wish', 'zabell!', 'lian', 'comb,', \"chloe's\", 'elley', 'you.....', 'pproximately', 'mckenzie', 'usually),', 'elsie', 'lie,', '/injured.', 'dsara).', '(dewormed).', 'famile', \"mother's).\", 'betul2', 'residing.', 'broomsticks.', '(miu', 'amore', 'comel..', 'christmas!', 'ataupun', 'jelouse)', 'btw', 'jawa', 'house-trained.', 'fifi)', 'notched.', 'mewmew', 'meow.', 'barks,', 'mertua', 'malim.', 'pollux', 'picture),', 'st', 'demi', 'tick/flea', 'graduation.', ',hungry', 'adoption.well', 'commands)', '(final', '(neutered).', 'evening,', 'self,', '一定要跟义工保持联络。', '(28/4/13).', 'days,and', 'whataps/viber', 'quietly.', 'poli', 'ampang/cheras.', \"lovin'\", 'grays,', 'companionship...', 'shepards.', 'cat..', 'photo..', 'yours.i', 'litter:', '(non-agressive)', 'tiggy,', 'digalakkan', 'completed.', 'polite.', 'check-ups)', '>o<', 'tempered.', 'leo..who', 'yoyo,', 'parties):', 'snowie', 'miraculously,', 'mka...', 'dengan', 'diselamatkan.', 'unresponsibility', 'lusac', 'sempat', 'uitm', '(temporary)', 'specialised', 'touch,hug', \"'ipin'.\", 'approachable.', 'cicak,', 'whink', 'baby.', 'grabs.', 'yarn.', 'spayed...she', 'saran.', 'mth/o', 'they’ve', 'pening...', 'info/viewing', '***strictly', 'was,', 'jack,', 'pal.', 'stripes;', 'school,or', '.the', 'procedure:', '(thilaga)', 'play-bites', 'whitish-grey,', 'reproduce).', 'elderly,', 'interested.strictly', '15/9/09', 'boots?', 't.l.c.', '(kami', 'female(any', '....', 'hermes', 'tri-colour', 'adoption.*', \"bucky's\", 'timeup', 'manificient,', 'suddenly,', 'him.if', '(22-nov-).', 'conjunctivitus', 'contact，thank', '(resulting', 'ears,', 'bbm', '[only', 'wilful,', '***call__', 'ben.', '(pakcik', '7days', 'austin,', 'victim,', 'ditch,', 'adoption.location', 'tara', 'success).', 'arrival.', 'u...hope', 'samseng', 'joci,is', 'dicarikan', 'melaka!', \"mothers'\", 'necessary.', 'active...he', 'apapun', 'sms', '歡迎愛狗人士', '---', 'becasue', 'kuma', 'julian.', '~2-3', 'bcos', 'high-profile', 'namanya', 'truffle.', 'human-cat,', 'pickup.', 'dogs?', '(more', 'tail!very', 'puppies.i', 'kibbles),', 'joy-filled', 'bond.', 'first,but', 'pampered,', 'fleas,', 'as-puppy-11', 'important!!', 'hair).', 'bew', '.food', 'kitten.love', 'doll..', '_______________________', 'takenote:', 'krai.', 'playing,', 'requirement...', 'room\"', 'constuction', 'pin,', 'ares.', 'enquiries.', 'woof!', 'horlicks', 'live,', 'black/partial', 'selangor.', 'concerns.', '“diva”', 'thunder:', 'healthcare.', 'tabby)', 'anybody.', 'persian(dlh/dmh),', 'adopt,free', 'lagenda', 'runding).', '(ive', 'bruno,', '1/2mths.', 'out..sometimes', \"'catching'\", 'excident', 'la..sape2', 'cecomel..', 'terribly.', 'baby(birthday', 'nyet,nyot', 'streets)', 'apartments).', 'jaya,seberang', \"he've\", 'uncomfortable,', 'home.adopt', 'cutie...', 'job,', 'ash-colored', 'shazrin-', 'hugs!!', 'then.', 'sweet...', 'perumahan', 'temporary/permanently', 'eats.', '(yeast)', 'sket.', 'atas,', 'creature.', 'avodem', 'apabila', 'share/foster', 'pets;', '\"pixie\"', 'appetite!!', 'yesterday,and', 'bangsar...', 'leg?)', 'mbi', 'inherited,', 'food/money', 'name.', 'chai.', 'mosu', 'jln', 'adoption?', 'rescuing/adoption', 'head).', 'tis', 'collar...', 'journey:', 'trafic.', '(.)', 'home?his', 'roaming)', 'de-wormed', 'guarantee.', '..adopt', 'chihuahua.', 'mdm.yap.', 'crowded.', 'betsy', '4-5', 'ascertain.', 'ng).', '(december', 'deserved.', 'malaysia…', 'valley.', '(jacky).', 'waterpark', 'mkn...', '4.orange', 'individual.donations', 'blue,', 'hihi!!', 'him.kindly', 'afraid.', 'feet.', 'face)found', 'high-meat', 'anus.', 'real,', 'something,', 'exerice', 'fee).', 'aktif..baru', 'temboary', 'burn..sebab', 'biscuits/kibbles.', 'curable.', \"'sheba\", 'koby', 'nyah', 'growth,the', 'train.this', 'tug-of-war', 'passive.', 'old..so', 'buffy', 'moreover,', 'kalo', 'jari', 'anda.', 'bengal', 'daytime)', '性别:公', 'fast-learning', '3y/o', 'guys~~', 'up.', 'i`ll', 'voice-', 'fella,', 'alukan', 'friendly,quiet,easily', \"your're\", 'knows...please', 'grooming..', 'balamced', 'slps', \"(they're\", 'kittens?', 'buddha', 'cucuk', ',mean', 'eyes,', \"kite..he's\", 'her~', 'brsalin.', 'diego', 'rice+steam', 'activities,', 'kanak-kanak', 'geladangan.', ',&', 'nishi!', 'nana,', 'since..', 'bwa', \"mora's\", '6/7', 'tetap', 'melea.', 'tefon', 'nails.', 'etc', 'sociable.', 'girl?', 'founder,', 'keon', '-feed', 'berikan', 'byk2.', 'family/home', 'y.o.', 'home/', 'does.', 'me,listening', 'meowing....so', '15mins', 'kitten,please', 'ride.', 'spayed:', 'stripes)', 'puppy?', 'barang', 'jrt', 'jie', '...while', 'one”', 'torn/', 'kfc', '小白两个月大了!', 'lucy...', 'girl..', 'seek!', 'programme.', 'catherinec', 'yo,', 'hari)', 'frontline,', 'me..also', 'him.hehe.', 'kitten.this', 'rosemerry,', 'euro,', 'video.', \"playful..he's\", '-gemuk,', 'hand)&', 'patient.', 'raccoon-like', 'baby..she', 'wee2', 'adiknya.', 'female..hyper', 'hee),', 'fred', 'loyalty.', 'un-occasionally', 'boy).', 'appetite..and', 'chezzy)', '3yr,', 'simpan', 'brothers.', 'me,they', 'day.', 'well-fed.', 'sept.', 'result.', 'berzat', 'bui.', 'well..though', 'nt-male', 'kerelaan', 'euthanised.', 'cuddle,', '(watch', 'in?', 'area.for', 'tertidur', 'fiv+', 'everywhere:', 'funny,', 'side(though', '♥♥', '..............attention', 'earmites', 'behavior,', 'anti-fungal', 'hyper,', 'tones.', ':):):)', 'me,and', 'haze,', 'yi', 'bela..', 'surprisingly,', 'cakap.', 'arbut.', 'alittle', '10kgs,', '(is', 'tongue,', '\"strange\"', 'mousedeer.', 'editing.', 'call/sms/whats', '(2yr,', 'bomba', '(which', 'kitty?', 'stations.', 'compassionate.', '有兴趣的话请联系我', '9)', 'onn', 'you..a', 'food,and', 'thilaga', 'injury..already', '10/1g,', 'boy;', 'bangsar.', 'was;', 'furry-kid', 'picture...jus', 'wow,', 'pad,', 'dem...', 'together,so', '(fosterer):', 'cyberjaya!', 'justice.', 'sebap', 'breeds,', 'navi', 'terriers.', 'susah', 'neyo.', '16,', 'thnks*', 'myself..but,the', 'sleep..hope', 'ochado', 'appealing,', 'faye', 'interested...pls', '24th', 'toby,', 'rolls,', 'see?', 'house-check', 'flap,', 'shophouses', 'vovo', 'fragile.', 'name!', ':15', 'selangor\".', '有養貓經驗者優先....', 'disability.', 'guinevere', 'loved,', 'megamall', 'lately....cod', 'nyuu', 'fostering.', '6/7/-', 'shepherd,', 'municipal.', 'pet-lover', 'selangor!', 'merata2.', 'korkor', 'minnie', 'smart..his', 'forest.', 'finger.', '(perai,', 'sleep)', 'belang', 'jiejie,', 'cat.when', 'urgent!', '\"coo-s\"', '2-6pm!', 'nature,', 'pacific,', 'lights,', 'ikan', '\"legal\"', 'russia)', 'profile..', 'wasted.', '(8', '请给小猫一个温暖的家。。可以sms给我，谢谢☺', 'muda,', 'sebab:', '(stray', 'plak', 'by.', 'scars.', 'power,', 'socialise', 'guards.', '3)my', 'e.g', 'naughty.and', 'grandmama', '5)color', 'kuching', 'am.', 'clara', 'petlover', '(age)', 'toby', 'sek', 'under-nourished.', '(affectionate)', 'away!', '\"cat', 'doubt!!!', 'colour+tail:', 'caged).', '\"medium-size\"', 'pls.', 'larry', 'road,', \"'comot'\", '***important:', 'jacqueline.', 'behold.', 'stopped,', 'run.', 'cleared.', 'seperately.', '*male', 'like..;)', \"mung's\", 'telinga', 'darker.', 'characteristic:))', 'fozzie', 'noah', 'nobara', 'keselamatan', 'for:', 'aktif', 'eventhough', '往后救援者若发现领养人有意隐瞒毛孩们的消息，救援者有权利要求把猫咪带回。', 'three.', 'gerbera', 'country...quarantine', 'missy,', '3/1', 'ingini.', 'love!and', '\"ngau', 'keeper)', 'scent.', 'looooooves', 'know..', 'ragdoll.', 'becase', 'home,he', 'adoopt', 'plays.', '40kg', 'fun,loving,active', 'viewing.', 'me.already', '3-4months', 'lestari', 'i..tenkiu', 'mouth.', 'overall.', 'pus,', 'ceria.', 'kok.', 'seema', '•', 'feeling,', 'shampoo).', 'curious,', 'purlease~~~~', 'fur-babies', \"temperament.i'm\", 'foods,containers', 'wizard.', \"redundant'...this\", '(together', 'packs.', 'dipisahkan', 'fininshed', 'newly-rescued', '(40\").', 'owners...', 'alone.he', 'spoiled,', 'termasuk', 'instruction.', 'mask.', 'safie', 'omey', 'seperates', 'jasper.i', 'scar.', 'will.', 'well-being.', \"solar's\", 'contact-tara', '\"business\".', ',pls', 'them,im', 'home!!!', 'physio.', 'kenit,', 'manjalara', 'ponky', 'tercacak3.', 'katty', 'menggigit', '🙏', 'off-leash', 'grey+orange', 'issue),', 'genes.', '1.send', 'girls!', 'rusaslina.', '(cute', '（male', 'tinggalkan.', 'before...', 'dilla', 'allergy).', 'meow.he', 'special,', 'english.', 'toothless.', 'car.very', 'darco', 'kitties.', 'lives,', 'hati', 'only1', 'touched,', 'family)', 'kowt!', 'low.8kg', 'games.potty', 'preferred,', 'tortoieshell.', 'rakan2', 'adoptio', 'since,', 'norman,', 'mummy,', 'besi', \"nellie's\", '\"day\"', '(mickey,', 'roll-over!', 'nih', 'doing,', 'coffee..,', 'gigi.', 'charming,', 'attempts.', 'email.thanks', '(stray)', 'taw..manja', 'mode,', 'patches;', 'mc', 'pup)', 'sarat', 'greyish-brownish', 'home.to', '(picture', 'jackle,', 'doctor,belum', 'from,', 'will:', 'word..thanks.', 'compassion...', 'bermuka', 'beruntung,', 'mommy/daddy?', '\"sit\",', 'melati', 'siame', 'diva!', 'emas,', 'fur:', 'jamek', 'caught.', 'altogether.', 'cage(sometimes)', 'sister,', 'kiss.', 'day,the', 'at!', 'nodes.', 'good!', 'unneuter', 'yang...', 'goberian', 'old,dewormed,pls', 'lumpur)was', 'mew:', 'dua', 'them;', 'hugs.', 'app.', 'cuz)...', '(though', 'luckily,', 'tail)', 'tgah', 'distubed', 'fibre', 'pet.', 'dewormed).', 'interactions)', 'dog;', 'cita', 'sakit', 'mi.', 'adopt-er', 'hero,', 'yrs', 'world!).', 'toll,', 'lexie.', 'shell.', 'ticks/fleas/heartworms.', 'letak', 'outlook,', 'appetite;)', 'nadia)', 'vaksinasi', 'compound.', '*fee', 'awake!', 'kontek', 'harga', 'dog...he', 'menambahkan', '(sold)1)color', '这区域是变态撞狗高风险区，希望快快帮他们找到家。', 'mabel', 'spoil,', 'her,i', 'raya.', 'malacca.', 'handphone.', 'tan)', 'pup).', 'thanks....', 'toilet,', 'febee.', 'cutties', '短信', 'pictures/videos', 'interested.they', '(or', 'gatto', 'comel2', 'puppies),', 'life,she', 'whatsapp?', '(7)', 'midnight,', 'amputate.', 'berani', 'pics/', 'bear).', 'vaccination,', 'uploader', '(based', 'tempoh', 'so).', 'la).', 'sicked,', '\"nicky\"', '联系号码:(li', 'him.now', '(felv).', 'street,this', '2b', 'being.stop', 'anymore...and', 'honesty,', 'fast.she', 'ada', 'furball,', 'sesiape', 'attacthed', 'dump,', 'spot-on', 'death,', 'rusty,', 'white-cream', 'melody.', 'roung', 'male.both', 'level.', 'soon.she', 'adopting,', 'etc...', 'adopters🕵🏻💁🏻\\u200d♂', 'happy..', 'kecil..', 'demure,', 'environments,', '：', 'bberapa', 'jolin', 'tam,selepas', 'jinak,', 'separately)', 'mochi', 'infections,', 'only,she', '(drinker)', 'posie,', 'ciq.', '•5', '6-year-old', 'damansara,', '2)(somalian)', 'parvovirus', 'cutetology', 'taimui', 'mentos.', 'jimmy,', 'jacqi,', 'january.', 'excited,', 'mkn', 'preferably,', 'dewormed,', \".don't\", 'bowl/', 'parasites).', 'petted.', 'blacky', 'keen,', 'm3', 'abandon.', 'muffin:', 'foster?', 'alone,', 'uber', 'brindle,', 'shishko', 'omari', 'neet', 'serentak.', 'balls,', 'cradle..whn', 'vader(male)', 'sekarang', '+)..very', 'cost.', 'beautiful.heart', 'whatsapp/sms/call.', 'solids).', 'lena', 'profile**', 'beagle.', '\"is', 'biru', 'worsen).', '(right)', 'walk,', 'plzzzzzzzzzz', '(m).', 'ning(yellow+white)', '(uncommon', 'recognised', 'grill,', 'sbp', 'him***', 'surroundings).', 'terms:-', 'spot!', 'shiba', 'neutered.but', 'claims,', '!!', \"mr.yoga's\", \"athi's\", 'golden-copper', 'petepicure.wordpress.com', 'chillin', '没有家，没有主人，没有名字，没有饱饭，甚至没感受过人类给的爱，呵护。', 'kembung.', 'enuff', 'joyce', 'thir', 'twins.beyonce', 'asdf', 'frizz,once', 'grandmother.', 'together),', 'feeder.coco', 'toi', 'hospitality.', '***whatsapp', 'tested!', 'sendayan,', 'lights.', 'human...', 'mandikan..', 'whatsapp:', 'interligent', 'months++)', 'pig\".', 'alternatively,', 'food,litter', 'tol', 'mengmeng', 'growl,', '(orijen;', 'page:', 'gecko(cicak)...', 'memberkati', 'must:', 'macy', 'short-medium', 'no.2', 'trained,cute,healthy', 'hands/lap,', 'gingey,', 'goooood', 'it.these', '(28.7.)...', 'parents/brother/husband/wife/child/friend', 'sitiawan', 'veriy', 'abuser!', 'breed）', '\"yummy\"', 'pd', 'cus', 'dixie.', 'hai.found', 'ugliey', '(1)', 'attached).', 'meru', 'ago.', 'sg.', \"'fat'\", 'river.', 'outthere', 'requirement.', 'suresh\\ufeff', '17/9/09', 'peace,', '22nd', 'streetsmart', 'her.now,', 'puppers', 'you!”', 'cheras..first', 'great.', 'we(my', '\"mee', 'sit,hand,stand,row.by', 'not!', 'hi..honestly,i', 'everytime', 'us..', 'older.', 'dipanggil.', 'shedding.', 'lexi.', 'candy.', '(caused', 'chelsea', 'mated.', 'weakness.', 'complain.', 'home.小红豆还在努力寻找爱它的粑粑麻麻们哦~', 'train..im', ',she', 'help!!!!', \"all'\", 'home...in', 'off!!', 'brother....but', 'pocket.', 'owner,and', 'surgery,', '4-month-old', 'reminder,', 'about!', 'look!', 'beans.', 'lexii', 'stranger.', 'eat.she', 'expresso', 'kmpong...tp', 'he,', ';(', '!!!!!', 'cooperation.', 'armpit.', 'document/certification', ',maybe', 'kenanga', 'nt-female', '!)', 'pinak.', 'care,', 'neutered-', '..syg', 'mereka...thank', 'by..', 'there!!', 'singaporean', 'resque', 'workz', 'condo...looking', 'org', 'elie', 'dik', 'wet/dry', 'on-going.', 'lovely,', '*lucy', '......', 'alang-alang', 'ns', 'ineterested', 'jovial,', 'rm15)so,what', 'noboby', 'antibiotik', 'persian/birman/dlh.', \"'eye\", 'tengku', 'mati', 'spaniel.', 'lover...', 'rent?', 'oriental!', 'pj..', '(tabby)', 'aaron', 'acl', 'financially-able', 'kondominium,', 'terjadi.', 'cats..since', 'whatsapp', 'kucing..', 'work?', 'heel.', 'kesihatan', 'brigades,', 'tu', 'adopption', 'jam.', 't.t.....sigh', 'hours..until', 'soft-mannered', 'outside.', '[for', 'meds,his', 'wakaka.', 'behave.', 'uma,', 'mousy-like', 'emo', 'sasha', 'dog..tq...', 'so,there', '21yo,', 'minch', 'names!', \"'twin',\", '3years', ':30:', '(manja),', 'disease,unsuitable', 'spaying,to', 'infection)', 'cat-parents', 'berdiri.', 'puppies-3', '你必須有經濟能力，如果沒有必須得到父母的同意。', 'saved.', 'adeq', 'yazid', '(same', 'sometime.she', 'these,', 'sukar', 'celico', 'brown/white', 'please!!!', 'oscar:', 'leia(female)', 'nuisance.', 'still.halle', 'apologise', 'out..............kindly', 'taipan,', 'abbie', 'woolsy', 'poddle', 'adopt!!', 'yet..these', 'salah', 'love,', 'penchala', 'puppies...give', 'ramadhan..', 'reason:', 'terancam.', 'alexis/', 'ozzy', 'minutes!).', '(initial', ';).', 'queries.', 'waterfront.', 'mixed.', 'hehehe).', 'answer.', 'passing.', 'kitten.so', 'heavenly!', 'her;', 'issues,', \"spitzee's\", 'suffering..', 'down!', 'today...', 'readings.', 'timo', 'yogurt...', 'host.', 'perasaan', '-body', 'bertambah', 'match.', 'apartments/landed', 'choy', 'm1raculus', 'fed,', '(clean!)', 'cirit', '(qiqi)', '(tegap)body', 'check,', 'extensively.', 'interests,', 'embassy.', '\"as', 'minitiger', 'above,', 'given.', '(bought', 'i\"m', 'center,', 'jony', 'checkup,', 'characters.', 'anjing,', 'fmf', 'prevention.', 'tough,yet', 'her/him', 'puppydum?', 'kelab', 'elektrik).', 'ketam.he', 'message-', '\"surau\"', 'teng', 'life....', 'someone...bersama', 'semiflat', '(possibly', 'ago).', '9am', 'shanthi', 'baby:', 'yes?', ')dinner', 'session.', 'petting.', 'ibu...sangat', 'stephan', 'owner.poor', 'verbalise.', 'odie', 'play?', 'fierce!', 'now..but', 'someday.', 'kedua', 'cageless', 'kissbie', 'soul,', 'bustle.', 'pictures),', 'bag.', 'aksi', 'breed,medium', 'manickam', '(ofis', 'call/wechat/whatsapp.', 'frontline/flea', 'rofi', 'home.adopter', '6-8', 'cert,', 'whatsapp/sms.', 'pembuangan', 'rawang', 'starngers', 'trucks,', 'health.maybe', 'neigbours', 'trained,adorable,really', 'pets?)', 'orange/', 'vehicles!', '11mth.due', 'page,', '*regular', 'dikenali.', 'pelajar', 'kd', '(you', 'digging.', 'skinny...', 'asia', 'calm,', 'jarang', 'arked', 'samara!', 'ols.', 'dad.', 'chewy,', 'lincah..baru', 'at.tq', 'together,they', 'disturbing.', 'information.', 'beaten,', '21july,', 'frisian', 'smart...he.need', 'examined,', 'black&', 'scratch/ktaj', 'adopting,kindly', 'kucen', 'tq***', 'liquidy', 'explorer!!', 'well-behave', 'app-', 'alhamdullilah', 'cool,', 'him...goes', 'proses', '-bulu', 'ea..', 'deseases', 'home!', 'unforgiveable!', 'birth..7', 'happily..', 'urgently.thanks.feel', 'godo', 'outdoor?', 'food/kibbles', 'sentul', 'observed:', 'chicken(yummy!!).', 'help!', 'call/sms/email', 'treats...but', 'sungai', 'hari', 'borang', 'paperwork.', 'hopd', 'iium/uia', 'monge).', 'april,.', '♦hyper', 'bcs', 'mujur', 'patern', 'engine.', 'later,', 'patted.', 'bahasa)', 'fellow,', 'dog/doorbell.', 'coon/dlh', 'ktm', 'sweet-tempered', 'angah...this', 'ske', 'coops.', 'well-looking', 'old.she', 'ttdi,', 'to.....', 'us.......so', '(plz', 'urination.', 'pace,', 'putri.', 'cuddler', 'fetch!', 'futher', 'dirty(wonder', 'died!', 'alam).these', 'showers!', 'anemia.', 'j-male-01', 'longkang,', '(taiping,', \"8years'\", 'stay.sunshine', 'intersted,', '•健康好', 'cat,dayang', 'licks!', '(respiratory', '大概2個月，健康活潑，很親人會追你玩，乾糧濕食都能吃，很聰明自己懂得上廁所。', 'grey,', 'hayden', 'call/', '3-4', '(female,', 'trouble....hope', 'kuttie', 'me/email', \"jackie's\", 'tensed.', 'sight.', 'kemain', 'utih,', 'eni', 'lex', 'medium/big', '幫她找家,', 'container,', 'bites,', 'sedap', 'treatｅｄ', 'ears!', 'vacc', 'nih..', 'kitten.i', 'whos', 'situation.', 'pic..they', 'garu-garu', 'albert.', 'syukur', 'dikkie', 'bukan', 'country...', '(weighs', 'male...', 'many.', 'urself..', 'thx~', '(can', 'andy,', '(my', 'god...please', '-reason', 'happy.she', 'garden).', 'jga..', 'kakinya', 'unknown-unsafe', 'sana', 'friends/owner', 'choice*', 'better?', 'yash', 'boot!', 'adpoted', '#loving', 'ngeri.', 'jaga..dlu', 'kitten..her', 'cute,cheerful', 'kesejukkan.', 'highway...he', 'health...eating', 'violent.', '(sepasang', 'budgeted.', 'seekor', 'look,', 'rains,', 'manjit', \"'home'\", 'panting.', 'watcher.', '[vaccinated,', '.now', 'east.', 'people,but', '\"suatu', '8mths.', 'keguguran', 'baby..always', 'hungry,crying,wet', 'dogs/pups.', 'kerja..', 'white-fur', 'yesterday!', 'gemini.', 'actually,i', 'audrey', '-included:', 'together...', 'there.the', 'interested.:)', 'recommended.', '地点:kepong,kl（载送到你府上）', 'mood.', 'vet,dr', \"kate's\", 'sumtimes', 'manage.', 'box.', 'drops.', 'me..for', 'it,but', 'that,my', 'dogs..i', '(w/app', 'sale.', 'catchers!', 'bones.', '(sand', '2/1,', 'boo,', '性格:活泼', 'sizes.', '(sit,', 'ni.', 'lol.', '1.troy', 'makanan,', 'amelia', '(a', 'play-time,', 'frequently.', 'beagle).', 'ms.sandy', 'mix?', 'sleep..', 'adopters**', 'klang,', 'motionless.', 'snauzer.', 'neve,', '[that]', 'dibuka.', 'lines,', 'chip:', 'months..', 'watapps', 'newspapers.', \"much..we've\", 'mama,', 'tkde', 'hallway...wet,one', 'done,', 'you)', 'ngn', 'invested.', 'iskandar', 'fav', 'lily,', 'sky.', 'pauline..', 'setahun', 'dia....', 'human:(', 'xin', 'euthaniasia', 'pushed.', 'otherwise..', 'sos!!', 'abd', 'patah', 'baley,', 'date,', 'kenal', '(rambo,', '(long', 'ever!', '(9th-july-15):', 'bobo,', 'paw,thirsty', 'james,', 'with.', '\"mango\"', 'parvo.', 'needs:', 'u.s', 'biasa.', 'barney,', 'brie,', '(litter', 'gurl.', 'alice', '(;', '“poo-poo”', 'throughout,', 'appolo', 'homogenus', 'responsibilities.', 'hiphopgirl', '(tony)', 'fully!', 'descrption', 'mensia-siakan', '17/5/', 'unsuitable.', 'friend,this', 'life,thanks', 'gracie', 'sms/whatsapp.', 'katey', 'kingsley', 'kucai', 'deciding.', 'boy),', 'details:', 'chameng.', 'jalil.', 'cookie!', '(call/sms/whatsapp)', 'karlo,', 'skirt.', \"oreo's\", '\"adik\"', 'po,daisy', 'bottle-feed', 'ss2.', 'club.', 'exercise;', 'home.no', 'fee(', '(deflea)', 'indeed.', 'volunteer/donate.', 'member..', 'learn.', 'babies!)', 'vaccination/deworm', '(eat', 'ambk...sya', 'tecit', 'gasing', 'asap.....', 'b3', 'adoption.)', 'ha!', 'razak.', 'disediakan', 'kelakuan', 'apartments,', 'frend', 'bgtau', 'fiona.', 'benii', 'urgently!!!', 'puppy.she', 'wld', 'offspring,', 'family/friends,', 'harmless.', 'blinky', 'omg,', '(prima', '3kg', 'recovers,', 'sentral', 'changed.', 'xske', 'dania', 'blessing!', '7th', 'independent..she', 'ex-ex', 'geng', 'vaccination+deworming.she', 'hulu', 'norton', 'joseph', 'anyybody', 'breeds.if', 'k.l.', 'wear.', 'jaya', 'energetic..', '(5', 'visitors.', 'kembangan,', 'hehehee', 'hme', 'sek6,', 'plate,water', 'karen', 'bu.', 'available..i', 'emergency!!!', 'addie', 'character..she', 'ginn,', 'terengganu.', '25/8/,', 'growl.', 'kemungkinan', 'am:', 'err.', 'lai,', 'molly)', '(mix', 'be)he', 'pole.', 'eve.', 'ia', '/january', 'boy,', 'mayb', 'command!', 'tin,', 'tomagochi..i', 'menstruation,', 'sekiranya', 't-rex', 'robby', 'mother/father', 'maggie.', 'michelle...', 'anti-mite', 'bark.he', 'bleeding,', 'neighbor,', 'friend,', 'guess.', 'beforehand.', 'night.they', 'rub.', 'siu', 'becouse', 'annelies', '(paris)', 'dn', 'setiap', 'area),so', 'consiting', 'assignments,', 'tlg', 'hope!', '(just', 'first,', 'rub!', 'you?', '6+', '(was', 'overseas.', 'march,', 'crocs', 'gurau', 'commands,', 'boldy', '-love', 'tigerlily', 'mubeena', '(home', '~i', 'zorra', 'experience!)', 'run-in', 'cute..', 'them/all', 'controllable,', '她被發現有乳癌,', 'jsut', '2.must', 'mixed.urgently', '👍', 'lama.another', 'dryer~', 'daddy!', 'tug-of-war.', 'to/contact', 'peter,', 'basket)', \"'tummie',\", '\"experience\"', 'charlie!', 'sweet,friendly,trusting', 'dumped.', 'hamasaki', 'luvs', 'unique.', 'tempua,', 'nite.', 'swings.', 'pregnant!', 'othman,', 'helthy', 'yimmy...', '4。can', \"miss=']\", 'puppies:', 'frail,so', '(vaccination,deworming,', 'mok', 'luckypaws', 'door.', 'hamiedha', 'good..', '\"sold\"', '8-month-old', '6bln..diberi', 'gino', 'semuanya', 'dapur', 'abandoned).been', 'lucky.', '9pm', 'labuan.', 'call/sms/whatsapp.', 'very!..', 'watsapp/msg', 'corridor.', 'crowny', 'neighbours!', 'neutered,', 'reffered', '(boleh', 'adoptions.', 'included,', 'i,', 'veterinarian?', 'hissy', 'walk/run', \"rafa's\", '~4days', 'poor.', '(kj).', 'cutties:', 'dada..', '30l.', 'medium-sized', 'bright.', 'ame', \"health'\", 'mal-nutrition', 'august.', 'toy.', 'feeders.', 'shorthair.', 'telah', 'caged!!!', '...woooww', ':p', 'sonia', 'mati.', 'chew.', 'cepat', 'hybrids.', 'injures,', 'mine!', 'week.anyone', 'workers)', 'playground.', 'anak-anak', 'tlc', 'nye', 'skins.', 'refundable)', 'boiboi', 'human)most', 'garang', 'girl,', ':>>', 'taman,', '(*╹▽╹*)', 'lrt/komuter', 'email/call', '9/5/.', 'cats.they', '....thank', 'elroy,', 'lice.', 'litter)', '\"petit\"', 'jogs/drives', '12-dec-', \"'n'\", 'pn,', 'kail\"', '(lizard)', 'sempit', 'againts', 'alike.', 'meronta', 'smart,cute,playful.', 'feral,', 'cheers~', 'nasib', 'imposed.', \"alex's\", 'gekwe', 'there...my', 'photo),', 'hua', 'bt', 'berminat.', 'ivy.', 'indah.', 'milklings.', 'home.....', 'soft-hearted', 'harm.', 'muslim,', 'adoption/fosterer!', 'bill.', 'terdekat', '*anyone', 'got,', 'dudes,', 'poepoe', 'posey', 'smuggling.', 'sorg.', 'neck...', 'back....', 'pics)', 'females.they', 'kitten,cat,', '(siblings).', '/15', 'call;', 'exist?', 'grandma).', 'you...', 'blankets,', \"1's\", 'him..tom', 'on.thank', 'buying.!!', 'james.', 'datang', 'thanks!!\"', 'marah2', 'subang.', 'byb', 'posie', 'kcg', 'sibling..this', 'adoption..all', 'trained.', 'joko', 'nanti,', \"'medan\", 'guling.', 'up,jocelyn', 'mouser.', 'adoption...i', 'milik', 'adorable,basically', 'kucing.', 'parent,', 'dawns.', 'purr!).', 'always:)', 'call,sms,', 'klein', 'health,', 'attn', 'feb', 'website,', 'vaccinated:', 'too...need', 'at:/', 'mengiau-ngiau', '-able', 'kundang,', 'fur-sister', 'nanna.', 'percuma.', 'woollybear', 'page.', 'food.healthy', 'size).', 'superb).', 'information,', 'shiumm', 'unfortunately..', 'neck.', 'menyusu.ginger', '(zul)', 'her.contact', 'puteh,', 'kasawari,', 'die,and', 'palm...', 'luxella', 'pinggan!).', 'alfa.', 'wallace', 'animal(s)', '(wound', 'cuddle.he', 'rubbish,they', 'sweetie!', 'fellow..', 'clingy.', '23/4/14', 'mix-breed', 'rasanya', '(hard', 'bestfren', 'mommie', 'together)', 'included.', 'history:', 'petang..', 'trained,eat', '7-11', 'antics)', \"jo's\", 'toilet-trained.', 'janggut', '.left', 'anymore.he', 'or(jack)', 'noorazah..', 'cee', 'alr', 'dr.ismail.', 'taquito', 'friendly.he', 'warehouse.', 'vet..', 'tropicana~', 'closed,the', 'dog-lover', 'answered!', 'under,', 'cageles', 'petting!', '1months', 'hair(mother)', 'fredo.', 'ditepi', 'tzu,', 'boy.i', 'cats/humans', 'chew-happy', 'doris.', 'environment..', 'tamans.', 'megah', '(opposite', ',3', 'teana.', 'terutama', 'adopter(who', 'beautifully.', 'dlh.', '(abang', 'restaurant.', '24-oct-', 'power!', 'pemerhatian', 'customer.', 'strong,healthy', 'there....', 'poody', 'kesian..pd', 'whte),', 'month),', 'full,', 'jest.', '(mother)', 'well..able', 'retriever.', 'dorang', 'jinak...', 'sorry...', 'him.there', 'however,most', 'considered..', 'husky).', '(tigerlily', 'stronger.', 'zapin!', 'boss,', 'tt.', 'birth,', 'longkang', 'www.everydoghasitsday.blogspot.com', 'rawatan', 'mouth;', 'available-rm', 'female.so', '(unfortunately', 'viruses.', 'recovery.', 'street.his', 'amazing!!!', 'diam', '(wing)', 'aww', 'milo(female).', 'fed).', 'tyke.', '(:', 'good,loving', 'kg!', 'dapat', 'petting,', 'marah', 'weight:3.14', 'luar', 'is.', 'lama2...', 'rehabilitation.', 'lim.', '不喜欢玩球', \"mother-in-law's\", 'die.', '(sunway),', 'genes,', 'cough.', 'azmyrax', 'berminat,', 'russel).', 'view/adopt', 'cats...i', '(tepi', '1.very', 'children)', 'fraser', 'one,feel', 'surprised.', 'jovial.', 'dead.', 'food,vitamins,medication.he', 'please....give', 'huisshhh..giler', 'picked,', 'scardy-cat', 'mother.im', 'pipi', 'main:', 'jamil', 'neighborhood.', 'sure,very', 'riverside.', 'dalmatians.', 'babai', 'manja).', 'paik', 'sesorang', 'jesse', 'at][dot]com', 'injurt', 'vasantha', 'plss', \"boboi's.\", 'shaving.', 'occupation.', 'plus-size', 'mischevious.', 'zone.', '8/)', 'seperated', '(mainly', 'dr', 'disappear.', 'wangsa)', 'exercise.', 'compound,', 'dia..we', 'abondoned', 'pinscher/german', '(mother', '^_^.', 'mohogany', 'crazy,', 'away;now', '*dewormed💊', 'litter-box', 'post,', 'disposition.', 'accessories.', 'treated.', 'unfornutely,', 'leg..it', 'fruits.', 'free..serious', 'toms,', '1)', '+++.', 'tiger-looked', 'solat', 'wai,', 'joel', 'kuciing', 'baqi.', 'voiceless,', 'house.sb', 'adopted.she', 'gate!!', 'hound,', 'whereby,', '(april).', 'omg~', 'size,when', 'rottweiler/doberman', 'town,', 'petcare', 'hill,', 'death.', 'traffic,', 'wantede', 'active.caramel', 'unlimited.', 'buttony', 'mendalam', 'zelda', 'timora),', '\"lion\"', \"'sit','down',\", 'sago:', 'la..tp', 'older).', 'memandangkan', 'noisy.', 'utm', 'tazzy', 'cute.!!', 'wellbeing', 'mom!', 'noreha', 'chiko', 'hour.', 'us.im', 'jessica!', 'jacker', 'toss-arounds,', 'dog~', 'bagan', '(ii)', 'ina).', 'remi', '=)', 'home..as', 'kindergarten.', 'hometown,', 'pulang', 'no-one', '\"bukit', 'witin', '\"quarrel', \"'dollar'.\", 'teh', \"be'ah\", '下車問点家,', 'wilson', 'ttdi', '(bella).', 'home..he', 'owner.if', 'ash.', 'comeback.', 'me..will', 'kajang,rawang,shahalam', '-sg', 'vaccination/microchip', 'lot!', 'pawlove', 'berminat..', 'shoulders.', 'vry', 'affi', 'irresponsibility,', 'suprising', 'vit', 'encourage.', 'locker-size', 'human,dogs', 'kitten2', 'sedang', 'tapi', 'subdued.', 'sherpard', 'happens,', 'vaccine/deworm', 'male.the', 'roll-over', 'f1', 'creamy.', 'her,groom', 'asingkan', 'nya.', 'erased.', 'danger:', 'lain,', 'setar..', 'decide.', '4mths..he', 'derp', 'only（no', 'long/kajang', 'mouse,', 'hijau...', 'ronny', '(4', 'markings.', 'bobby!', 'answering)', 'oldself.', '狗狗的主人是我的朋友，因车祸去世不在了，所以狗狗交给我照顾。', 'elite-plus)', 'bermain..', 'stomach,', 'backside.', 'it~', 'buying-selling.', 'unreservedly,', '2toddlers', 'alah', 'deworm,', 'tqvm..', 'birit).she', 'children.', 'play..', '希望想要領養較小貓咪的人能夠考慮她們。', 'steps.', 'terkejut', 'single-dog', '*no', 'vaksin,', 'olaf', 'done..and', 'hello...', 'lpas', 'golongan', 'vv', 'heart..', 'cuteness!', 'neutered/spayed', 'tersebut', 'nerve!', '*keep', ':d:d', 'boy?', 'hook\".', ':/', 'happens.', 'do...', 'nanti...', '因为是放在家里养的', 'tambah', 'medium.fluffy', 'traffic-flow', 'excessively),', 'pesanan', 'sabee', '“if', 'co', 'active.they', 'equally.', 'read:', 'name..', '.housemate', '(kad', 'yeh)!', 'dpt', 'missing).', 'vet..found', 'either.', 'vignes', 'nose/snout', 'trexie', 'lebih..manja', \"fren's\", 'coloured,', 'maintenance,', 'adoption...........she', 'papa.', 'kepong!', 'ball,and', 'sangat3', 'mimiey', '(her', '(cream,', '-healthy', 'estate.', '#can', '•has', 'nama', 'shamini', \"'come\", 'career.', 'bershka', 'available.', '10-jul', 'orange(s)', 'baru.', 'i/d', 'pups..mother', '/12,', 'seah', 'lace.', 'mews,', 'burglars.', 'banyak', 'makanan).', 'trained.they', 'shetland', 'active,playful,healthy,pee', 'molly,', 'grey;', '-when', 'pupies.', 'breeds.', 'temporarily.', 'aslan,', 'dutschun)', \"kenji's\", 'family.saya', 'pampered....', 'blackie.', 'mix(brown', 'replaced.', 'nos', 'bebek.', 'jumpa..so', 'eldery', 'shot.', 'keja..', 'below:-', 'diharap', \"'car\", 'kucing....kalau', 'zeeny', 'unwanted,', 'petshop.', 'drains,', 'sisters.', 'menjangkau', 'korean', 'poe', 'callie', 'own.', '*eat', 'over-excited.', 'trek,', '(dolly', 'liaw', 'wong).', 'maturity,', 'morning?', 'sendayan.', 'wan:', 'profile!', 'notification.', 'solar,', 'interested)or', 'koceng', 'comey', 'gold.', 'instruction,', 'sam,after', 'saya,', '(latest', 'pregnan', 'dnt', 'lap-cat.', 'kitten(2months', '还不是人类吗？', 'banyak2', 'happen)', \"manja..they'll\", 'dedicared', '--no', '11kg,', 'day;', 'bakal', 'tukang', 'matter.', 'dose)', 'vets:', 'great!!', 'tumour)', \"dog'.\", 'away\"', 'old,actually', 'glucosamine', 'lok\"', 'oyien', ':)it', 'sms/whatsapp', '10mth', 'manja-ed!', 'unstoppable.', 'lovers!', 'pieces.', 'person?', 'vacinated', 'zainol', 'kathleen', 'follow;', 'junior/etc)', 'hehe', 'temple)', '(the', 'done)', 'adoption.need', 'suresh', 'tiffany,', 'lively.', 'e-mail', 'adorableness...^^,', 'cleopatra', 'adopter/cat', 'lazy!', '。', 'petaling', 'jason,', 'person/family', 'lovers...', 'me.the', 'brown/golden', '(females)', 'land.', 'perlu', \"'miow'.\", 'borading', 'pairs/siblings.', 'dogs..thank', '~it', '真的是愛貓人士。', 'texting', 'bless.', 'admission,', 'playful.he', 'pj-subang-shahalam', 'recognise', 'human.pls', 'ackie).', '-please', 'damansara', ',sometimes', 'holes.', 'leashing,', 'arya', 'cardboard...', 'adopters***', 'previously).', '地点:', 'mbsa', 'each,', 'quirky,', '(ee', 'pekepoo', 'doos', 'easy-going', 'kikopup', 'lumps.', 'everybody.', 'fong.', 'ernie,meanie', 'tambun', 'newspaper..', 'anaknya', ',had', '(kepong)', 'goverment', 'syarat-syarat.', 'trained.she', 'tinggal...', 'alot,', 'hisap', 'multi-coat', 'dasher,', 'catlovers!', 'obese,', 'diafragmatic', 'ss3', 'mix-breed.', 'work-at-home', 'wrestling.', 'lc', 'easy-going.', 'well..both', 'scraps.', ':(lawrence)', 'walk...', '4kittens', 'bao', 'kiara.', '-house', 'territories.', 'batman(kitten)=wearing', 'culd', 'base.', 'trainning,', 'volunteers,', 'robert', 'stripey.', 'jagoo', \"elena's\", 'were.', 'pee/poop', 'keiko', 'talk!', 'happines', '\"lion', '希望会遇到有缘人', '(3x)', 'malaseb.', 'ronda', 'walaupun', 'rescues.', 'serius', 'across.', 'with.moreover,they', 'profile)', 'aggressive,', 'gemuk', 'coat.', 'companions.', 'peaches.', 'park)', 'puj3', 'call/whatsap', 'koko', 'there...', '(porridge', 'carried,', 'part/ball.', 'noses.', 'introduction.', 'shirts,', 'hehehe', 'field.', 'pats.', 'urgent!!!', 'happened..', 'ears,face,and', 'chin.', 'tail.still', 'displeasure.', 'come..oyen', 'playful..adorable..kindness...love', '1)my', 'perfect!).', 'attached)', 'enquiries!', 'tu.', '\"\"blinky\"', 'mula-mula', '(kuantan', \"maya's\", 'wanda', 'then....we', 'little-box', 'cage/', 'working,so', 'pasrah', 'shinny.', 'wynn', 'dainty.', 'litter-box-trained.', 'pound)', 'neutered+dewormed.female-4mths', '(british', 'cheron', 'visuals!', 'ieniemienie', '(getting', 'cuddle-time.', '(behind', 'perosanlty', 'spooteefy', 'bio-data', 'me.', 'noises.', '(giler2),', '3-10', 'house.they', 'hi!', 'end!', 'leboh', 'babies..', 'building,', '有兴趣者请联络我朋友', 'jadi', 'ofis', 'kaki,', 'doggies.', '8months', 'semak', 'yeah!)', 'rain..', 'chappy!', 'instruction...cant', '4dogs', 'hosp.tengku', \"hunger.he's\", 'kinrara,', '14/1/', 'sugar,', '2male', 'sana...', 'shoulder，a', ',,quiet', 'ownerless', 'gray!', '^^\"', 'golly.,', 'january)', 'village,', 'beel', 'haha!', 'active,playful,cheerful...', 'march!', 'grass.sometimes', 'tukar', 'close/', 'whiskie', '(black,', 'suspicius', '3am...', 'side!', 'feline,', 'remarkable!!', 'furever...', 'playground,', 'deteriorating.', 'lioness.', 'fairy-like', 'eternally.', \"hope...i'm\", 'error,', 'b:female', 'pepsi', 'couple-days-old', 'heart-wrenching', 'feast,', 'breaking(toilet-training).', 'listening,', 'cudding', 'temparory,he', 'glenmarie.', 'features:', '好嗎?', 'energy,', 'meal!', 'founder:', 'thatthey', 'tuannya...', 'months+', 'anus,', '2)do', ')if', 'food.if', '(gah', 'approx:', '–', 'sahaja..waktu', 'nala', 'cuddlebug,', '*funny', 'nemo.', 'bergantung', 'potty-trained,playful', 'her,give', '(lamb', 'much...', '5-year-old', 'etc..good', '4:', '♦gets', 'sophie', 'handshakes!', 'mungkin.', '(whisky).she', '10am-4.30pm.', 'minuman', 'thaks', 'cuddle!', 'do!)', 'rarely.', 'sentiasa', 'luca', 'adorable.now', 'restored;', 'dowg', 'her.for', 'hungry!', 'lion.', 'balik..', 'blackwood/iams', 'very!...', 'hard-hearted', 'malnourished.', '(soft', 'django.', 'rear.', 'maybe?', 'neko-chan', 'so..as', 'siamese)', 're.', 'menggigil', 'kgs,', 'masanya', 'more..', '-----------------------------------------------', 'active....', '5)family', 'back)', 'meee\".', 'negara.', 'hse', 'relau', \"(ahem...that's\", 'tamed,', 'de-worming.', 'kemek.', 'ss19,', '😹', \"lucky's\", 'dberi', '(**cat-friendly', 'togehter', 'persians,', 'up!!', 'soar.', 'mohammad', 'estee', 'hau', 'adventurous,cheeky', 'schnoodle', \"oyen's\", '-occupation', 'teenagers.', 'snout.', 'polkadot', 'hair,evident', 'chairs.', 'loving......pls', 'bcoz', 'recover.', 'colours(brown', 'bff', 'ciken', 'bahru', 'reason(s)', 'sincerity,', 'fosterer!', 'them.she', 'pathes', 'dog:))', 'sit-stay,', 'alone/tied', 'sunnies.', 'sepatutnya', 'young)', 'ann', 'vaccine,deworm', 'muzzle,', \"bailey's\", 'dory.', 'enviro', 'adopter.anyone', 'puppy\"', 'day!\"', 'smokey-white', 'chucky', '(3', 'parentage.', 'hernia.', 'satu', '*looking', '(spca', 'haru', 'black..looking', 'as,', \"'suspected'\", '：活潑好動，淘氣愛撒嬌的小公主～', '(jugak', 'cardbord', 'cats....and', '😊✌️', 'ipad!', 'gardening,', '(okay', 'curtains(to', 'resources.', 'meet,', 'friendly,quiet', 'roam,', 'healthy,,', '26/7/08.', 'dying,', '2-3x,', 'relax/sleep', 'behaviour.\"', 'problem..but', \"taylor's\", 'it,thanks', 'choosy.', 'time),', 'whassap:', 'adoption\\\\', 'garden-home.', ',y', 'grass/garden', 'nt', 'starving.', 'shakeshand', 'catch,neuter', 'spayed/neutered.', 'things/toys/etc.', 'skudai,', '(important)................', 'place.so', 'smart,loving', '目测1个多月的小菜菜', \"di'adopt'.\", 'female..if', 'oug)', 'say,', 'wanita', 'sibling.', 'memahami', 'them🙏cos', 'ginger,', 'marley.', '(rosak', 'off.so', 'squirrels.', \"roll...she's\", 'gender)', 'resheltered', 'kiranya', 'jalani', '17th', 'leader.', 'female(muffin).both', 'koon', 'girl!', 'giselle', 'scratching.', 'orangey,', 'feed/bath/care', 'nursing,', 're-done', 'allergies,', 'now.she', '👶🏻', 'mother-', 'stone.', 'details!', 'darlie', 'bottle-feeding', 'nebulizing', 'homes).', '😻', 'yaabbaaadaabaaadooooo!!!', '.we', 'bombay', 'pet....she', 'directly.', '(ccc)', 'laid-back', 'pup:)', 'wisma', \"moomoo's\", 'noty', '(ho', 'rescue.', 'mutt.', '有人可以給孩子們一個家嗎？', 'alsatian', 'dgr', 'smart.looking', 'often.he', 'adveturous', 'tootie', '\"mickey\",', 'aman', 'jing.', 'mess.', 'hammock.', 'develop)', 'peppi', 'here:', 'clara..alone,', 'penang', 'to.give', '都被丢到菜市場了.....最後店家答應讓我們幫忙结扎,', 'ibu,', 'home.gsd', 'fees🙏🙏🙏*', 'berpasangan...', 'cheeky,adorable,', 'cati', '(uterus', 'eye-balling', 'pau', 'colouring', 'more!),', 'cc-lia:-', 'name,after', 'results.', '3只都亲人。', 'she.', '4.we', 'recue', 'black/', '还是因为我不纯，还是我不乖...所以你把我丟了。', 'sy.', 'canine:', '(comes', 'sangat..', 'purry,', 'stephani__', 'olive-coloured', 'siblings.(they', 'greyy', 'girl,she', 'hercuba', 'cancer.', 'kutu.', 'petz', 'training/therapy,', '+-', 'catches.', 'outfit,', 'b)', 'healed..(hit', 'conditions;', 'oticlean.', \"'hand'\", 'potty-trained,', 'trained:', '(unlike', 'recks.', 'uia', 'hair,big', 'sihattetapi', 'bentley', 'yt,', 'saturdays.', 'age,needs', 'starbucks', 'active..runs', 'animals...', 'gving', 'mimo', 'ada,', 'somalian(', 'frontline-d', 'shelters..however,', 'alone..he', 'darling,loves', '(1/)', 'volunteers.', 'arise.', 'weaned.', 'exchange.nothing', 'home....', 'fostered/adopted', 'manja...fotogenik...kuat', 'breastfeeding,', 'blondie,', 'longer,,', \"kong's\", '11-floor', '..', 'loving”.', '(location:', 'dok', 'world...', 'closed.', 'betty', 'free.......he', 'xtau', 'bangkok', 'sos!', 'uncessary', 'muaji', 'caves.......', 'demodex.', 'well),', 'damage.', 'bread,', 'budak', '谢谢！', 'outside)', 'with:', 'voice!', 'migration.', 'speckled.', '6kg.', '2/3', '(catherine)', '???', 'fast,', 'mankind?', 'b&w', 'harrier)', 'tren', 'client.', 'batang', 'ekor.', 'kevin', 'cuddled...', 'sayangilah', 'cat!!haha...big', 'zachy', 'perbincangan', 'rm10.', 'closer,', 'now...the', 'tq..(x', 'dropped.', 'too,', 'companion(s)', 'her.please', '(your', 'qiuts', 'photographer,', 'tapple', '.pick', 'foojooli', '结扎,', 'j,l', 'young.looking', 'owner’s', 'miyu', 'shape-female', 'malnourished,', 'be).', 'hometown.there', 'priced..', 'oreo(black/white).', 'urgently,', 'sunway-shah', '2pups', 'diabetes,', 'bonito/sardine', 'areas).', '(official', 'condominium,', 'dipstick!', 'macho.', 'me/emel', 'wks', '6-7', 'allright.', 'soothy', \"baby..he's\", 'berfungsi', 'requested,', 'clinic/boarding', 'soup!', 'teoh', 'captain,', 'sleeps.', 'agent.', 'breed,around', 'one-to-one', 'felines,', 'chong,', 'develope', 'dewormded,not', 'heart,love', 'zeus', 'diadopt', 'kaki.', 'september.', 'mantin,', 'smell).', \"dr.jean's\", 'scanning,hoping', 'skipping..he', 'command\"go\"', 'alike,', 'indoor!better', 'there........', 'non-negotiable.', 'ss2', 'selling:', 'puppis', 'tommy', 'telinga.', 'kittens...', 'clean,but', 'kitten..please', 'possessive.', 'tropicana', 'kita', 'bin,', 'jagaannya', 'expressions.', 'for.adoption.', 'tinggalkan', 'tiap2', 'hospital;', 'healthy,playful,smart,understandscommand', 'app,', 'doll.', '/)', 'turkish', 'borne.', 'bunch.ekor', '(sendiri', 'dudu', 'arry。我之前是在', 'chacha', 'tabby.', 'perdy', 'kembangan.', 'memadailah', 'kiki,', 'la..', 'enviroment.', 'result,', 'good-looking', 'benjy', 'tedora', 'william', 'yer.', 'note:', 'cleaniness:', 'follow:', ':(', 'hailey', 'breeding,', 'sepasang.sebab', 'c:', 'appetite.', 'site,', 'sleep/play', 'sekeliling', '*renting', 'charmer.', 'ns,', 'lady...', 'lim', \"mother-in-law'a\", 'rehome,', 'allergies.', 'island/butterworth,sbrg', 'active,healthy.', '(tlc),', 'manja-moods', 'balik.kos', '(altough', 'shelter...please', 'anybody,', 'sabak', 'people/crowds', 'lovesss', 'severe,', 'again,', 'now?', 'details,thanks.', 'enquire.', '(hence', 'bruce.', 'bestfriends', 'malinois.', 'fatty.', 'loved,cared', 'molek,', 'adopters:', '(puppy', '有人要领养猫咪吗？', 'sedih', 'obviously..', 'maklum', 'milk.their', 'place?', 'mppj,', 'c-17g,', 'boxer.', 'along...', 'omie)', 'play-bite.', 'female.1', 'dbkl.', 'breeders!', 'fernando.he', 'mummy).', 'choice.', 'karpet,', 'usa', 'kandungannya..', 'gugur.', 'lg', 'nadja', 'beagle,', 'hospital!', 'job.', 'sep', 'je,', 'hurt.', 'puppies,very', 'tanya', 'kennel.', 'sure.', 'home..found', 'request.', '==================================', 'international)', 'everywhere,even', 'mun', 'hugs!', 'kibbles,', 'transit.', 'ticks/fleas/ear', \"must've\", 'characteristics.', 'hi..girl', 'charge.', 'crystal,', '\"wait', 'mka', 'kitty-proof', '***already', 'ayumi', 'toby)', 'odorless.', 'en.sanusi', '95%', 'eyes..tell', '(pauline).', 'yoyo.', 'diligently.', 'claire:', 'actually~', '10+', '7weeks', 'shorthairs,', 'up)', 'kiko..dia', 'spayed/neutered?', 'well,never', \"'girl'\", '8/2', 'tian', ':(text', 'mnta', '(duduk', 'guarddog.', 'chlorox', 'trenny', 'korat', 'gone,', '或许它们已成年了，所以要找家的机会很低很低。', 'paw!', '3/', 'cat.litter', 'now.', \"'socks'.\", '2am,', 'table.', 'dog-haters', 'belatok.', \"hasn't,\", 'bigger)', \"kristy's\", 'bodies.one', '1.5kgx2', 'male),', 'meera:', 'asap(strictly', 'siap', 'boomboom', 'careful,', 'touch!', 'ckp...', 'spaniel-poodle)', 'sms/whatsapp/line', 'now..they', 'security.', 'affectionate.', 'lucky,', 'bahagian', '(turiya)', 'adoption;', '1-month', 'duta', 'gelaran', \"'boyfriends'\", 'freee', 'activity.', 'massages).', 'text):', 'nextweek', 'bulut', 'trees.', 'creatures.', '21/2', '(stay', 'cat,i', 'requested.', 'hand-raised.', 'loving,playful', 'mornings..', 'no.:', 'enquiry:', 'platforms.', 'midnite', '(feel', 'dikongsikan', 'scheduled.', 'asthma...', 'dulu.', 'fee.the', 'megan.', 'tto', 'minky', 'expenses,', 'rotweiler', '-dark', 'below;', '地点:kepong,kl', \"jul'15\", 'dark.', 'citizens.', 'furkids.', 'quick.', 'suffered,', 'a2', 'je..', \"binky's\", 'before.', '(tennis', 'tumbuh', 'dumpster.', 'lalu.', '(well,', 'pepperee', 'smart....active', 'kyan', 'adoption....umur', 'alive...(as', 'me..she', 'hop,', 'bernard', '这小狗已经被领养了。周五,九月7日他的新主人(adam)将来取它回新家。', 'unknown,', 'kesian', 'memanjat', 'me:)', 'khor/rani', 'ren', '(saturday).', '-month', '-once', 'ciri', 'kitty!', 'hye,', 'entertained..suspect', 'times.', 'jackie', '-fur', 'amazingly!', '13/7', 'sila', '(colico)', 'howerver', '1.must', 'stamina),', 'sammie', 'smart;', 'loud!', 'prev.owner', 'master.he', 'porridge,', 'scuffy', 'enjoyable..', \"'accidents'\", 'sangatlah', '(loving)', 'tauriel', 'ball!', 'shetland,', '(silver/grey', 'theyr', 'myla', 'long..', 'sugar?', '\"safe', 'leo,panda', 'blue.', 'any):', 'out!', 'back).', 'putrajaya.', 'ali,', 'disappeared.', 'docile.', '....then,', 'time:-', 'miserable.', 'lessons.', 'naps.', 'pasar..jantan..umur', 'thunder.', '-shy', 'black!', 'acah2', 'ear-washing', 'luck,by', 'handler.', 'sized.', 'jacq', 'kenny', 'safety.', '(19/july/),', 'broken,', '-you', 'hurt/hit', 'lionking1', 'ashton', 'hesitation.', 'peluk', 'outdoors.', 'sweeties,', 'purebred.', 'nicely,', \"housemate's\", 'choice,', 'months....', 'ms.faithful,', 'cats.n', 'loyal.she', 'hide.', 'tumpangkan', 'followings:-', 'sos,', 'one.....', 'play...great', 'negative,', 'cage.', 'bowel.', 'macho,', 'jojie,', 'probest,', 'adoption:(', 'jr.', 'now.two', \"environment..we're\", 'feel.', 'florence', 'rosee', 'purrer,', 'together,i', '(fluff', '2-6pm', 'geebell', 'aktif,', '(crystal)', 'yaya', '\"bobby\"', 'unforseen', 'vaccine,deworm,and', 'spitz/dad', 'abandoned,', 'onwer', 'mature.', 'beach..', 'cat-safe', 'klang).', 'name:baby', 'pelabuhan', 'michelle,', 'dog..she', '\"morib', 'healed..but', '\"changing\"', 'members.also', 'love!!', 'lawati-', 'tight.', 'gmba', 'maxie', 'xpernah', 'nyit-nyit', 'puppies),some', '(pantang', 'mid-january', 'kittens(', 'needed.(would', 'attractive,', 'keropok', 'swee', 'enjoy.', 'msg.', 'yorkshire', 'gem.', 'pepper.', 'observer.', 'mpk...so', '26,', '各位，我只是帮忙朋友分享。', '99%', 'rescuer.', 'longgg', 'indoors/fenced.preferably', 'curious.', 'competion', 'gebu', 'pandang', 'inches.', 'returned.', 'verdi', 'everywhere.', 'recovered.', 'such.', 'dalmation.', 'only!!', 'tiada', 'pei..', 'bernama', 'risau.', 'swifty(female)-', 'hye..this', 'abscess.', 'contact.', 'snowy,', 'woooot!!!', 'grey.', 'black;', 'puppies/dogs', 'photo.she', 'healthy.', 'some1', 'male.', '.scared,', 'muhammad', 'roadside.bobby', 'fears,', 'big.not', 'body!', 'oscar.', 'iaws', 'kitty.cant', 'kuching.', '1!', 'contact!!', 'di', 'pawrents,', 'think.hahaha.', 'veron', 'balik...', 'me!', 'enough\"', 'surrounding.', 'fawn/cream', 'follows,', 'birit', 'approximately.', 'sudu', 'wrestle/chase/play', 'iams).', '1+', '2-3yrs', \"can't,\", 'miami', 'kittens(3', 'skudai..', 'makmal', 'shot),', '我叫', 'susan', 'couple,', 'clay,', 'adopter:', 'non-colourful', 'jumpa,', 'perca', 'hanya', 'characteristics,', 'isi', 'lake.', 'tortoiseshell/calico.', 'sesiapa', 'puppy.i', 'recognisable', 'kate.', 'whatsapp/sms/call', 'smilling', 'check...', 'it..she', 'child,', 'cyberjaya,', 'estimation.', 'marmaduke/dingo', 'wormed,', 'loc:', 'bigger,', '7pm.', '（養家裡，不關籠）', 'leukemia.', 'aircond.', '*owner', 'puchong区，有没有人有增添家庭成员？', 'maintenance.', '-well', 'baths,', 'caroline', 'momo,', 'bintang.she', 'nourished.', 'rosco,', 'nips!', 'skretch', '(20', '3/4/', 'mates.', 'salon!', '11a', 'kibble，', 'wai', 'puchong，', 'fine,', 'want,', '(clumping', 'azmi', 'blues,', 'pee).', '6months', 'dikurung', 'ringworm,now', '2-in-1', 'semenyih/kajang', 'demeanor.', 'temperament.you', 'share,', 'melayu', 'help...adoption', 'yoshi', 'is/has', 'mongreal.', 'am.young', 'nest,', 'function.', 'greatest,', 'said.', 'still).', 'berkeliaran', 'stick,', 'reall', 'langkawi.', '地点:kl-kepong', 'sex,', 'balanced.', 'dirt.', 'inteligent', 'bangi', '要养就要一辈子。', 'evening/night.', ',wait....', 'petshop', 'cakar', 'youth-looking', 'cared.', 'rubs.', 'fees?', 'he:', 'furballs', 'active,smart', 'happy,healthy', 'wid', 'owner.suffered', 'road.pls', 'play.however,', '12)', '(yuckkhh!!)', 'pet,married', 'items,', 'sad,', 'uncapable', 'shoulder!', 'scarde', '29-oct!', \"'treat'\", 'tqvm.', 'independent,', 'update.', 'before,', 'affected.', 'coat/fur', 'tugging!', 'different.', \"babydoll'.\", '(story', 'vanilla,', 'flats.so', 'ribbons.', 'putrajaya', 'mind,', 'kucing.terima', 'puppy-06', 'allie', 'diyana', 'ignor', '\"despite', 'mosu.', 'memandulkan', 'ying&yang', '🐈', 'interesting..', 'caca', 'jangkitan', 'goldie-like', 'quiet.', 'jhonny', 'brushed,', 'viewing...', 'kesian..', 'structure,', 'everything!', 'farah', 'hijua', 'pepper/pebbles)', 'worm.', 'sensors)', 'puppy(rm50', 'naturally.', 'rambai,', 'bawa', '90%', 'i)', 'back.', 'mpjpt', 'chat!', 'petdiartic', 'call../', 'contact:(ayu);', 'intelligent,need', '(boy)', 'st.', 'thats', 'pad(with', 'lobby,', 'elsie,', '(nearby', 'gingy', 'arry,', 'kecuali', 'train.love', 'girl...if', 'hostel.', 'name…', '-limited', 'claw.', 'info!', 'stillwaiting', 'leash.she', 'perai)', 'corgy', 'location:seremban', 'relief...', 'julian', 'roadside,what', '有兴趣请whatsapp....', 'attitude:', 'type:', '#obedient', 'rox', 'you~', '/16', '8)', '(i', 'sweet.', 'proper,', 'number:', 'it,pls', 'bit...', '(ikut', 'all,he', 'line.', 'drogba', 'her!!', 'her.but', 'well-structured', 'carikan', 'beberapa', 'lingkungan', 'chendol', 'beri.', 'knowing.', 'everyday!', 'pony.', 'ian', 'jalan', 'felv.', '(canny)', 'player.', 'adorable......', 'canin,', 'amos.', 'cute,cuddly', '3!', 'jumlah', 'perak..hope', 'furcoat', \"business'\", 'debbie', 'jage..kucing', '/..mkn', 'days.one', 'komi', 'super-friendly', '“love', 'yours.', 'combed.', 'hansome', 'summary:', 'tocik', '(seriously),', 'legs/', 'tkns', '2sisters.', 'picture).', 'fact,', 'furbaby.', 'concrete,', 'doggie!', 'eat.', '12pm.', 'lottt', 'matures.', 'tinggal,', 'with...snow', 'happen...', '5-day-old.', 'house,bandar', 'sediakala...', 'neck,like', 'bottle-feeding.', 'related.', 'this).', 'fur!', 'whatapps.', 'pup.she', 'frend.', '(tupai),', '3months', 'perayaan.umah', 'root.', 'cleaning.', 'cute.', '2of', 'cik', 'arnie', '.gershon', 'call/.', 'jie2', '“in”,', 'them...we', 'katniss.', 'lean.', 'wassup.', 'though!', 'vaccination).', 'away.)', 'uiam', 'green-grey', 'perfect!', 'sanggup', 'arrives.', 'dirawat', 'arc.', 'badannya.', 'annie', 'heart-worm', 'asap.she', 'more(the', 'deeply.', 'important:', 'meals.', 'selayang.', 'paws)', 'selsema', 'places-like', 'carolynn', 'frontlined.', 'yutsu', '(some', '*more', 'passed.', 'wow!', 'tertelan', '*3-4', 'found,free', 'shero', 'may).', '其他5隻就拜託停車場管理單位通融一星期。', '24houre', 'i.d', 'colour).', 'sylvia', '“do', 'dunia', 'quiet,', \"'jumper'\", 'haritu.', '(although', 'pups/dogs', 'more...defintely', ',right', '\"lucky\"', 'kemas', 'call.', 'medicine.', '(ascertained', 'onwards..', 'view.', 'me..millions', 'dbie', 'rid\"', '☺', 'prob', 'universiti', 'marie.', 'rembau.', 'neutered),', 'ambil.', 'cage-trained', 'stress(not', 'coat(black', 'self-potty-trained', 'hernia,', 'cookie.', 'poop.', 'dictionary...', \"food.she's\", 'muscle.', 'leg.', 'owners...if', 'acccident.', 'bahru.', 'petang.', '-must', 'sweet!', '36(about', 'cutie.tqvm!!', 'vokal.', 'concern..', 'part.', 'pico', 'complain.....i', 'athenna', 'nellie', 'middly', 'too.', 'mckenzie,', 'chew/', 're-christened', ',dan', 'ferringhi,', 'any1', 'purring,', 'god-of-fortune', 'street.', 'friendly,very', '9,', 'meows.', 'petfinder.my.', '10kg.', 'whiteface', 'dicaj,tetapi', '(kare)', 'hole.', 'bum,', 'needa', '(but', 'local.', 'felv', 'cat?', '.unfortunately', 'boarding.', 'together)-', '....so', 'sasa.', 'kledang', 'wheni', 'oyen', 'arlo', 'edible)', 'ekor', 'him/her', 'care..', 'nottingham', 'hdb', 'injury.', \"happy's\", 'call/wassup/message', 'so,once', 'dog..........', 'srigala', 'roam.', 'attention..she', 'user)', 'constipated,', 'discharged...fully', 'off..i', 'minder,', 'vocal.', '(almost).', 'whatts', 'upm', 'house-training.', 'jorge', '-temperament:', 'tt', 'help~', 'pebby.', 'nunim', 'house...he', 'brown,', 'baka:mixed', '(dsh)', '这样弃样真的很不人道，人类们还好意思说流浪狗不断增加导致安宁，试问是谁造成的。', 'dogs...unfortunately,one', 'teh,', 'occupied.', 'pupper', '(sounds', 'spt', 'inquiries.', 'dog!', 'factory,', 'ok.', 'vocalise', 'minum', 'skali..adik', 'actions.', 'after.', 'verry', 'trixie', 'xmahu', 'house.call', 'tinkerbelle', 'julia', 'males).', 'everlasting.', 'friendly,', '(sbb', 'mother.', 'sbelum', 'spured', 'home.it', 'jesus', 'slix', 'florentino!', 'long.they', 'year,miumiu', '4.)', 'cally', '(until', 'month,now', 'uncle)', 'cutting,', 'around.......', 'heeling,', 'dreamy,', 'still;', 'aniki', 'prefectly', 'maintainance', 'toni', 'gender),', 'puteh...', '(24/9).', 'jgn', 'is...to', 'hrs,', '(longkag)', '(friday).', 'biscuit.', 'spey', 'trained.he', 'lagi..', 'ate...', 'temporarily!', '14-jan-17', 'bushes,', 'memang', 'worms,', 'lap-cat:', 'winnie', 'flippy', 'adults,', 'ofn', 'shop!', 'silly,', 'segera!', 'mid-december.', 'move,', 'cent.', 'nombor', 'dump.', 'entertain.sorry...', 'proof).', 'eye)', 'that..', '.as', 'c.', 'cats.', 'true.', 'dory,', 'dewormed/vaccinated/neutered.', 'sleep?', 'couldnot', 'cat-it', 'find....one', 'school.i', 'covered.', ',need', 'gentlelike', 'repeats?', 'selesa', '#newhome', 'lately,', 'help...', 'both..', 'cha.', 'defensive..but', 'size!!', 'at..', '身邊围繞十只小狗,', 'beruntung', 'interesting....', 'bless,', 'rights.thanks', 'maarof', 'food.looking', 'me...tq', 'recovered,he', 'lover,we', 'teddi', 'please,', '.and', 'her...currently', 'smua..', '20kg', '.anytime', 'solution.', 'chicken,', 'hedgehog.', 'gigit2', 'dalmation', 'getto..she', 'full.', 'bathroom-turned-temporary-kitty-home.', 'jmp', 'hachiko', 'momi', 'of.people', 'time(his', 'along,', 'months)', 'count,', 'plz', 'kiew.', 'adoption...4', 'shy..adventures', '(9th', 'kilang', 'people..', 'mulanya', 'kucing...', 'tabby/belang', 'cakap,', '由于前主人有私人问题所以不能继续养它了，因此退回给我的朋友。。', 'nico', 'boy).harap', 'lecturer.', 'asing2..', '//.', 'shape.', 'listener).', 'dogs/cats.', 'sendirian', 'sesat', 'hardy.', 'she?', 'claimed.', 'collapsed.', 'enviroment.with', 'ask.', '(belang,', 'explain),', 'mobile.', 'snape', 'terus..', 'klia.', 'keluarga', '14-aug.', 'ago,.', 'he’ll', 'carpet.', 'lipas', 'hero.', '1.no', '----------------------------------', 'normal..', 'izyan', 'a,smot', 'asleep,', 'min', 'cats/animals,', 'perut', '-knows', 'belle-', 'puppy-05', 'teasing,', 'apartment,cheras..one', 'cesaro', '亲爱的粑粑麻麻们~', 'sim', 'possesion', 'elaine', 'litterbox.', 'pagi.', 'rawang,', '(whiskas,', 'smiley.', 'pls?', 'place).', 'adoptors', 'specky', 'expense.', \"'17.\", 'teeth.', 'terbaik', 'dewormed,in', '“karma”', 'bushytail', 'walk.now', 'today.)', 'cute~~~', 'zorro.', 'holla', 'alone)', \"mia's\", 'slippers,', '想领养的朋友请确保能履行基本的主人责任:', 'gel)', 'perai', '(monday', '只有一小片屋瓦遮身。小狗一天天减少,', '\"manja\"', 'thanks:-)', '-enjoys', '>_<', 'own).', 'ipoh', 'urgently!!', 'isabella', 'thw', '2-3', 'kulim.he', 'sleept', 'beings!', 'healthy/homebreed', 'nordin', 'penting,', '**looking', 'bowl,food', '(whatsapp/weechat', '\"kacau\"', 'accompany.', 'gebu..', 'm,i', 'dihalau', 'baily', 'munchkins.', 'scoopy-doo.', 'proof)', 'start,', 'requirements:', 'family?', '3mths+.', 'dane', '\"loving\"', '-comfortable', 'collar)', 'miju', 'home.', 'lately.shes', '11)', 'noorazah.', 'lookin', 'burn..', 'ohana', '.hope', 'tarzan.', '/fenced.', 'born:', 'rip.', 'in!', '♦male,', 'golek-golekkan', 'abuse.', '[updates]', 'kecik\"', 'limb.', '-tidak', 'panjang,', '\"blue\"', 'edy', 'playfulness,', 'wrongly,', 'intan,', 'ashley', 'sebagai', 'home^^', 'life...give', '(learned),', 'cute!', 'senget', 'tyre,', \"'how\", 'character)', 'pregnant,', 'mixed,', '(family', 'left!', 'chaochao', 'brood-', 'behave..perhaps', '(dlh).', 'merry-go-round', 'chompers', \"nini's\", 'cloe.', 'eyewitness,', 'july', 'kit.', 'sekolah', 'hallo......?', 'rosy.', 'shining,', 'fosters.', \"recover'\", 'memelihara', 'schnauzer.', 'active,,', 'ing', 'her*', 'n1', 'come.', '(50%)', 'damp.', 'accidental.', 'tick&flea', \"haley's\", 'years)', 'precautonary', 'fella!', 'cat-proofed).', 'bengal..', 'smtimes', 'arlo.', 'kibble,', 'jer.', 'alone..', '(ginger)', 'wearing.', 'shj..', '4-legged', 'day...claimed', 'interested..pls', '1white)', 'animate,', 'cvirus.', 'obeye..', 'litter,', 'hyper..', '(particular,', '.hence', 'condition.pls', 'feet!', 'loud,', 'langsung', 'dog..quiet.', 'kinrara)', 'boh', '4-pawed', '(acana)', '）', 'belom', 'damansara.', 'menonjol.', 'adopt//', 'profile).', 'besi.', 'future.', 'maluri,', 'serious,fond', 'shorthair,', '(03)', 'mikey', 'xtahu', 'many,', \"mochi's\", 'tortieshell', 'additional:', 'madrid', '(n.vijay)', '-eye', \"'buncit'\", 'ujang.', 'selamatkan..', 'afopt', 'lap-kitten.', 'pluto.', 'officers,', '灰虎斑，短毛，長尾，四肢健壮活泼', 'snauzher', 'berhati', 'reo', 'secure...', 'lumpur', 'ronald', 'ille:', '[urgent!].', 'meow,', 'childrren.', 'bibah', 'gheeza', 'cherry.', 'unresoonsible', 'sleep\".', 'vaccine,deworm,', 'tasek', 'sporotrichosis', '(certified', 'thankyou!', 'started..', '>last', 'paws/white', 'filo,', 'hartamas,', '*adoption', 'bff.', 'pisah', 'shor', 'ibu', 'however,i', '6,', 'hug.', 'raymond', 'trouble).', 'siamese(nickname>>ice', 'jensen.', 'please!!', '(male,', 'dewormed&vaccinated', 'caging/on', 'jambul', 'etc)....need', 'meanwhile,', 'video,', 'sambaboy', 'clio,', 'litter.', 'liver.', 'lotsa', 'choomi', 'joy.', 'food:blackwood', 'dimaklumkan', '把她视为家人，好好的用爱对待她', '-.', 'saya..kerana', 'house......', 'naranj', '9/.', 'afford,please', 'unsure,', 'stroked!', 'haters.', 'kumpulan', 'shake,', 'lover...mix', 'vet-approved', 'leg,', 'takers.', 'cook.', 'unadoptable', 'dispencer.', 'chris.', 'moment.', 'dowang', 'prognosis,', 'committment', 'working/student?),', 'persian', 'old.they', 'bravo.', 'live,what', 'fixed..', 'mths.', 'human.very', '9-2-:', 'smartheart', 'home,food,medication,love', '(great', 'together,but', 'fee:', ',etc', '(fight', '13kg', 'bc', 'us....', 'profile:', 'given,', '(individual', 'lagii', 'below)!', 'one),', '(uptown', '(sudah', 'infestation.', 'licks.', 'kayu', 'message,', 'guys,', 'mice.', 'noe', 'georgy,', 'makan.', 'ringworms', '23/1/,', 'berminat,bole', 'jap', 'lover(s)', 'sf', 'mellaniekrish', 'pakai', 'bless**', 'bigboned,', 'sign,', 'ss23,', 'burmese', \"month,don't\", 'kids...', 'sms,thank', 'lincah,', 'hi,', 'jalil,', 'traffic.', 'premise,', 'away,they', 'trainned.', 'enucleation', '5,8', 'code,', 'fun-loving!', 'local,', 'down.', 'jenson', 'hubby,', 'comel,', 'bungah.', 'microchipping', 'stud.', 'at].com.', 'call(yumi)', '(pippa)', 'together,because', 'australian', 'dewormed/', '😏.', 'great..his', 'playful.both', 'kitten.she', 'limbs.', 'bark/whine', 'penyelamat', '1=rm88', 'before)', 'neighbour.at', 'efforts).', '(sleeping', 'adoption～', 'silently,', 'buka', 'pokky.', 'esenia!', 'shop..', 'hooman,', ',very', 'whatsapp/telegram', 'outdoor..', 'okki', 'funky.', 'blueish/greenish', '然後送還店家。最後靠大家的热心捐款,', 'showed.', 'open.', 'tuan/rumah', 'perai(', 'surround.', 'chap,', 'ubtuk', 'karang,', 'baby.all', 'transport.', 'sendri', 'gelisah', 'bella-', 'fish....and', 'nile', 'fred.', 'baru..mioww..', 'name.that', 'feline’s', 'trained.we', 'terlebih', 'ketam', 'care....', 'kehidupan', 'him!).', 'apalah', 'few.', 'chance,', 'diabolo,', '1/2', 'must;', 'lookout.', 'thax', 'shaken.', 'shocked,', 'dog.....', 'fruitcake.', 'lebih-lebih', \"meme's\", '会听基本的指令', 'copper,', 'longest.', 'this..a', '(pj', 'uncatchable', 'mon,', 'bubbly..cute', 'temuduga', 'physically.', '有養狗經驗者優先', 'strangers..besides', 'home.....pls', 'mats.', 'sensational,', 'place..so,', 'spay)', \"fosterer's\", 'diam,', 'fyi', 'mbmb', '2.8.', 'substation.', 'students/singles.', '\"parent\"', '-almost', 'lover,this', '所以没打算再養!!!!!!', 'armour.', 'horn).', 'kopiko.', 'there!,', '--including', 'vain)', 'kenot,owen,', 'run,', '27-aug-10.', 'linlyla', 'prevention).', 'showers,', 'thosai', 'white,', 'black).', 'food,keep', 'tjaga', 'cat.', '(next', \"'athletic'\", 'roll,', ',loving', 'spanish', 'rite?', 'jungle,was', 'ago)', 'tempang.', \"vet's.\", 'handful.', 'trained...you', 'well-socialised', 'verdi.', 'hours.', 'hassle.', 'mulakan', 'active..my', 'entertaining.', 'anyone..', 'place(we', 'scare),after', 'dog,shop', '[adopted]', 'luilui.please', 'threat,', 'haha)', 'intetesting', 'chances.', 'finding.', 'prerequisite:', ',mino', 'check-up,', 'play.his', 'her.....', 'belai', '\"gumby\"', 'megan(adopted).', '(a.k.a', 'cheese.', 'not,', 'tersebut.', 'jane.', '(six', 'bulan', 'manis.', 'shit.', 'fearless,', 'shock.', 'release.', 'range,', 'berbanding', 'zen', 'caryn', 'view!', 'passtime', \"paris's\", 'tuna).', 'close,', 'jooby.....', 'wutever', 'makan:', 'pampered..i', 'disposition,', 'kv.', 'faiqa', 'alam/cheras', 'state,', '6.8kg', 'adorption.thq.', 'bam.', 'antibiotics,', 'astro', 'kecil.', 'please)', 'tirus', 'toliet', 'us.', 'tub.', 'only]', 'dogs)..', 'traffic).', 'cat(s)', \"momo's\", 'conditons', 'knows:', 'though!).', 'mind..i', '\"nips\"', 'litterbox,', 'tiega..has', 'phoebe’s', 'pet-type', 'raja,', '\"soft\"', 'climber.', 'hehehee.', 'genders.', 'abby-jinjing', 'rehabilitation,', 'sha', 'husky,was', 'tg', 'biarla', 'given).', 'hm.', 'shelter,', 'pc)', 'price.', 'puppy-04', 'stucked', 'out~', 'watchdogs.', 'importantly,', 'cat\"', 'this!!', 'honestly,', 'people\"', '(2x)', 'nose...😍', 'for?its', 'stranger,', '(rick)', 'ants.', '13)', 'pemalu', 'esther.', '-tri', 'halwa', '*baby', 'trained.eat', 'rm)', 'knows!very', \"'bite'\", 'completely,', 'familir', 'susu', 'flat.she', '\"aunty\",', '8/5/12.', '95%,', 'work,realy', 'life..', 'pungent.', 'do-re-mi-la-ti-do).', 'sec', 'know!', 'littlr', 'mokey,', 'temparent', 'blik.', '12\"', 'jenny.', 'khaleesi!', 'complained.', 'time..', 'ginger!)', 'playful...very', 'see...n', 'moderate.', 'times,i', 'diet,', \"m'sia\", 'deedee', 'forever\"', 'buffy.', 'forth.', 'kesulitan', 'neighbor,,,', '(kos', 'stronger;', 'dosage)', 'malaysian', 'berbaloi.', 'around.she', 'him,', 'months),', 'sentral,', \"pebby's\", 'steve.', 'mixef', 'story.', 'over-friendly', 'sayangi', 'susu.....ni', 'rounds.', '(neutering', '7/2/18', '(animal', '\"business\"', 'toy-sized', 'help!!', 'contact/.', 'brown-furred', 'nik', 'meranti', 'mangoes,', ',somehow', 'supervision,', 'studying.', 'strong.', 'friends,', '3month,', 'size,', 'guardhouse)', 'kulai,', 'white..', 'kelantan', 'temperament...', 'huang,', 'tqsm,', 'wamt', '(2)must', 'that’s', 'upstairs.', 'youtube.', 'diselamat', 'possible!', 'keats.', 'cute..active', 'thx', 'today!', 'slowly.', 'paper-trained.', 'around.i', 'watered.', 'foster/adopt.', 'huey', 'zo:', 'shj.', 'guardhouse.', \"isnt'\", 'adopter..tq', 'mud,', 'blanc', 'hitam.', 'napkin)', 'yuii', 'sms/no', 'dec.', 'adoption..email', 'like.', 'overfed.', 'waktunya.', '7.black', 'housetrained.', 'cremo:', 'anyways,', 'heaven-sent.', 'sun).', 'blueys', 'adventurous..', 'mus-cat-teers', 'seems.', 'hidupnya', 'elmo)', 'terima', 'cacing:', 'cross-breed', 'longkang..', 'over-crowded', 'myra', 'love.', 'are),', 'tame,well', 'owner?!', 'haneda', \"lengcai's\", 'opportunity,', 'jayden,', 'hand-fed', 'menyusu)...', '所以我们没有能力养它，希望在这里能帮她找到一个爱她，疼她的好主人。', 'petaling/bukit', 'siapa', 'cinta', 'mother-in-low', 'nya..', 'energytic.', 'details,thank', \"bui's\", 'hater\"', '6-8month-old.', '4ekor', 'pertama', 'kiti', 'ears.', 'pack...', '(8/)', 'vaccin)', 'strokes.', 'at:', 'sebenarnya', '(details', 't-bone', 'labrador)', '(shida)', 'nughthy', 'mio', 'concieve', '\"adopting', 'scratches.', 'debi', 'oct.', 'pic..', ':very', 'month-old.', 'house-train', 'full-grown', 'them...they', 'facebook', 'short-haired', 'sentosa,', '8th).', 'contact/sms', '“little', 'light,', \"'at\", 'home-bound,', 'totally.recuperation', 'calico.', 'area:', 'sms/whatsapp/viber', 'rihanna.', 'pujuk', '(where', 'open..', 'loves.', 'pet:', 'adik-beradik', 'meow\".', 'necessities;', '(/13)', 'gradually.', 'kindness.(=^.^=)', 'car..back', '*感恩领养代替购买', 'dibuang,', 'purr...', 'body......but', 'mandul..he', '*like', 'female-3mths+', 'qitmir', 'strip.', 'heap.', ',i', 'yay', 'pie!', 'pinky,hidung', 'mastiff!', 'milk..so', '.3)', 'checkups,', 'members.', 'eyes..he', 'thick,', 'max,', 'shelter(mercy', 'mama/papa.', 'brown/grey', 'pantang', 'hi..', '1)toilet', 'cars).', 'eyes,white', 'so..urgently', 'mon+.', 'so...', 'mpjp', 'fb:debbie', '(orange)', 'heck,', 'attitude!', 'spayed/neutered,', 'sunday', 'adoption,born', 'together..', 'russell,', 'word!', '2.一次家访', '(nina)', 'lembu', 'racoon.', 'peanuts.', 'excited..i', 'pharrel', 'jumpa.', 'pandangan', 'colder)', 'baby..i', 'worries.', '(jolyn', 'accident,', 'clever..', 'cute,playful', 'shirley.', 'heart,this', 'e-mail.', 'kesibukan', 'inu)', 'tpt', '(yang', 'alhamdulillah', 'mad.', 'pyometra', 'deworm:', 'cat-people', 'healed,', 'friend!', 'balcony)', 'terrier.', 'watching.', 'bambi.', 'punca', '[recovering', 'answered)!', 'fate,', 'raccoon.', \"'hand').\", '(irene)pls', 'seperated.', 'harmless,', 'adoption.male', 'recovered!', 'half-heartedly', 'disturb...', 'goes,', '...kunin', 'pemandulan', 'hugo', 'dsh/siamese', 'binjai', 'relau,', 'colours.', 'shitzu', 'blu', 'kibbles.(i', 'independence.', 'wardrobe.', 'oyen..trico', '流浪到我家的猫。', 'sikit.', 'male(2black', 'mbpj', 'charu', 'trpaksa', 'working.', 'purr-ever', 'arthur.', 'calls),', 'cure-able.', 'adoption.we', 'health..', 'released)', 'selangor)', 'patches/marking', 'check-ups', 'ble', '(sold)2)color', 'georgie', 'fierce.', '送到庇護所也好可憐,', 'neighbor)', '(guess', 'pleaseee', '6:30pm', 'k9', 'prodiet', 'female...coco', 'burden.', 'bingo.', 'gray，', 'shelby).', 'minum,', '(kolej', 'girl...he..he..', 'catty,', 'black(male)', 'dotti', 'castrated.', 'unabliie', '/before', 'sherlynsam', 'sendiri...tetapi', 'etot', 'building).', 'fined.', '.give', 'alive,', 'viewing/adoption.', '(cat', 'teruk', 'kurung', 'flea/parasite', 'me.thx', \"(grandma's\", 'february,', 'manja+', 'bangunan', 'unique...hehe..', 'there!!!', 'me/whatsapp,.', 'ss23', 'eyes!love', 'house/far/factory', ';p)', 'closed...possibly', 'harmlessly!', 'gia', 'who.', \"doens't\", 'puppy...', 'acceptable.', 'doorstep.', 'pang...for', 'name...', 'goh', 'tomoi.', 'rear.they', 'symbol.', 'bonks,', 'kembang2', '10days', 'debra,', 'pro.', 'prihatin', 'students,', 'dimi,', 'apart...', 'fish...', 'jojo..', 'dumpsite', 'condition.', 'vaccinned,deworming', 'pound..', 'msg,', 'caring/loving', 'campuran', '❤🐶', 'that:)', 'left)', 'now.we', '(urgent)', 'why.', 'punyer', 'sammi', 'i/m', 'lovely!', 'neighbour)', 'well!', 'mother.last', 'frindly', '(appointed', 'parents,', 'seniors/old', 'comin..', 'asuka', 'kicik,', 'time.😊', 'de-tick', 'dogs,therefore', '(adopted', 'speedy,', 'stray..she', 'neighbourhood.she', 'mesti', 'bath:', 'juliane', 'sukarela', 'rayson', 'jual...', 'doberman/rottweiler', 'life).', 'milking.', '(excluding', 'lin', 'gino,', 'bertemu', 'identical.', 'fatter.', '(pronounced', 'toy,', 'lagi,ade', 'ye..', 'santun', 'amc,', 'dibelakang', 'sporo', 'takut.', '3。can', 'rehome/release.', '(mid', 'house)', 'kl.', 'beranak.', 'weekends.', 'companion.she', 'bobos', 'knife,same', 'laarr', 'masak.', 'minutes.', 'breed)is', 'signs.', '5.yes', 'place),', 'in...they', 'devoted.', 'please?...', 'november,', '(a)', 'naidu..tq', 'vehicles,', 'kitty..the', '\"shake\",', 'male).', 'bobot', 'tail...one', 'sis,', 'especially.', 'friend..', 'eyes..', 'ago!', 'sorrow.', 'parvovirus!', '5l', 'please!!!!!', 'maintain.', 'bidi', 'condominum', 'cat......will', 'resist,', 'months,which', '24/1/', \"spots'\", 'there.this', 'bit..', 'shepard.', 'love.\"', 'x-ray', 'treatment.1st', 'tri', 'bouncy.', 'eg:', 'ringit,', 'shanti', 'engine!)', 'skg', 'elmo', 'jumpy,', '(neuter),', 'check).', 'nadia', 'obedient,', 'friday,', 'fever..she', 'fixed,', 'mohsen(mr)', '(goes', 'spay!', 'neauter', 'diperlihara)', 'soon!', '-soft', '(哈哈)', 'jobless,', 'shelly,', 'shed,', 'kawasan', 'tinggalkn', 'sikt', 'colours,', '(pn.', 'suke', 'cry.', '-宾士宝贝，母的，4月29日出生(差不多6个月大)，打完预防针', 'cherishlife', '(revolution', 'jacquelyn', 'momma.', 'them!!!', 'goofy,', 'ago.he', 'size),', 'possible..tq..', 'doggie...she', '\"massage\",', 'bowl,', 'bigger.', '(duh', '(suprisingly', 'bold.', 'miri', '\"inside\",', 'caves...', 'coming.', 'friend.', 'whie', 'dehydated', 'previously?', 'hooman.', 'h.i.o', 'zack', 'then)', 'sit!):)well...', 'dirty,so', 'mandikan', 'desexualised.', 'liung,', 'rascal.', '(i’m', 'previously.', 'hi!!!', 'berkurap', 'usia', 'future!', 'sorts.', 'gebeshuber', 'puma-like.', 'medium-long', 'unclear.', 'labrador-mixed,', 'ibunya', '请大家幫忙傳一傳,', '(chicken', '-groomed,', 'tender,', 'jacko', 'garfield.', 'secepat', '指定期限内结扎后，rm押金会全数奉还，为必须出示结扎账单。', '(answers', '(july', 'story.i', 'swell.', 'births,', 'adeline', 'hungry.', 'feeble.', 'jog.', 'y/o)', 'desserts!', 'beeing', 'betul', 'welcome.', 'kebajikan', 'p/s:**priority', 'him.(kl', '(soot)', 'passed,', \"'sit'!\", 'street,is', 'kuih', 'gate).', '%,', 'track.', '☆♥billy☆♥', 'yuanyuan', '4kg', 'boy..abt', 'bobo).', 'puuuurrrrrssss', 'ideas?)throw', 'spayed-', 'girl.she', 'serta', 'founder.', 'obliging,', 'none.', '.kittens', 'latte-', '4~5', 'must:-', 'house,to', 'eater.if', '(heartworm', 'siobhan', 'antibitocs', 'dogs..one', 'marblecake', '(completed).', 'bladder.', 'bobo.', '7-10', '：女female', 'two-three', \"''\", 'bertahan', 'them..poor', '(tied', 'com', 'd.o.b:', 'worms,when', 'juno', 'sebahagian', 'company.i', 'perindustrian', 'profession:', 'apart.', 'moved,', 'good-natured', 'mr.yeow', 'mother-lulu)', 'blood).', '>90%', 'daughter!', 'kavitha', 'old).', 'cross,', 'cersik.', '5.black', 'left.', 'colour:', 'replied.', 'lost.got', 'rattling,', 'huattttt!!!!!', 'size.', 'alright).', 'lovable.her', 'puppy)', 'kaula', 'pleaser.', 'house,but', '性格比较害怕人，只可以养在室内，要有养猫经验，要有耐心和他接触。。......', 'sum.', 'kenji', '(listed', 'should;', 'daniel', '18/6/', 'beserta', 'snowy.', 'sesame.', '(prompt', '\"rub', 'present.', 'pretty.', 'female-5', 'school,', '(bandar', 'two..they', 'available!', 'ketiak...', 'patience,if', 'preferbly', 'melvin', 'yesterday,', 'adopter,anyone', 'panjang', 'india,', 'squeeshi', 'goppled', '(huda).', \"there'll\", 'hide...', 'costs.', 'deposit:', 'lane.', 'jj', 'ham.', 'gentleinquisitive,playful', 'front.', 'massages.', 'pendiam.', 'dogs)!', 'kontot.', '(born:', '9yo', 'twins,dua2', 'groups,', '顺便还有打针和结扎手术的费用……感恩', 'surviving.', 'whatapp', 'kitten.hmm,i', 'apartment/', 'broga', 'jumping,', 'pkul', 'plafyul', 'labour', 'panther.', 'diselamatkan', 'cute.i', 'bela,', 'truth.', 'infection.', '\"fish', 'besides,', 'abdullah.', 'adopted,but', 'cerz...she', 'xleh', 'hand(shake', 'istimewa', '-photos', 'neighbourhood,', 'ini,3', 'berkejar-kejaran', 'witj', '(sunday)', 'malaikat', 'consuming..).', '(because', 'moments.', 'theit', \"foster.i've\", 'rosemary,', 'blue,green', 'runding.', 'pillow!', 'letgo.', 'loooking', 'cat-magnet', 'angel.', 'layan.', 'people..currently', 'empat', 'tnb', '常被绑在店旁,', 'litte', 'twins.they', 'sumwhere', 'cried....u', 'boy2', 'camera!', \"d'sara\", 'you).', 'properly),', '她很乖的，又可爱又肥。。。5kg...........', 'whatsapp)', 's.o.s.', 'groomed.', 'semoga', 'centre..she', 'pr.', 'hairs.', ',playfull', 'capai', 'vaccinatioms', 'inquiry..', 'kenzie.', 'desex.', 'truly,', '=(', 'face/', 'post-adoption', \"siamese's\", 'ment', 'cage??', 'jebat', 'shadow\".', 'objects.', 'ball.born', 'aboo', 'bdr.', 'hav', 'uploaded.....', 'number(mr', 'kutip..', 'lari2', 'closely,', '2mths.', 'dob:', 'get,', 'luck,', '小狗（母）让领养。', '-vaccinated', 'smart,', 'personality:really', 'benar2', '2bln', 'sleep..ant', '****urgent', 'usj11.', 'banting.', 'survivor,', 'climds', 'bark!', \"casey's\", 'alice.', 'rubbish(', 'keputusan', 'ekornya', 'maintanence.', '\"some', 'months).', 'dogs)', 'chin,', 'furkid,', 'spend/have', 'first!', '(enough', 'boboi', 'feline.', 'pahan.', 'cute...', 'attacked.', '有意者请pm。', 'third.', 'lah..', 'stray.rescued', 'edip', 'tail?', \"couldn't...\", 'business.', 'chased,', 'pakcik', 'mustache.', 'nuetered.', 'pegang', 'soon!!', '+schnauzer)', 'brown;', 'call(jack)', 'fila.she', 'seriues', 'rusky,', 'stok', 'mum...now', 'stadium.', 'strings,', '超级可爱', 'human,', 'gel.', 'dog.he', 'container(kontena)', 'raindrops.', 'consideration,', 'cme', 'birdy,', 'shit..', 'squarish-round', 'gina', 'contact/whatsapp', '-orange', 'home.(the', 'trained..', 'take-in', 'mths..omg', 'jalanan,', 'interested,', 'jojo,', 'keys,', \"'meowing'.\", 'wanjah.', 'fifi?', 'triki', 'life,', 'baik.', 'hurm...', 'cat...why', 'diet:rc', 'missing,', 'spent.', 'adorable,i', 'segamat', 'viber', '[appeal', 'gender:male', 'too:', 'dainty,', '1/', 'lukanya.', 'recovering..', '*a', 'fat,', 'baru....', 'pindah', 'timtams', 'hands.', 'loving,', 'appetites.', 'furs.', 'pen.', 'microchiped.adopt', 'cheras,kl..or', '-viva', 'eat,if', 'injection.', 'at.many', 'wil', '~3', 'akann', 'supermarket.', 'matisse', 'aslan:', \"legs.she's\", '2months,', 'old..domestic', 'dudu.', 'anti-tick/flea', 'must!', 'mummys', 'sngat2....', 'bai〉has', '\"open', 'hungry,', \"'kerengga',and\", 'issue.', 'bath/check', 'kris,', 'cats....', 'jalan.', 'street..', 'kammy', 'proses.tiada', 'avery', 'sekali.atau', 'treat,', 'taken.', 'lost,it', 'diharapkan', 'mischevious,', 'believe..god', 'color/markings:', 'liquid.', '願意帶小貓進行年預防針注射', 'landlords.', 'bo', 'only,', 'adopter..', 'joey,', 'cuddles.', '但她还是只很让人心疼和喜爱的老猫猫。', 'mine.now', 'adpted', 'naughty.if', 'febee', 'emial', 'pie!!', 'bone.', 'kubu', 'lokasi.', '5/...', 'tumble,', 'children...', 'alert.', 'ex.', 'surrounding.she', 'to).', '(nadia)', 'color:white', 'palm:', 'pulihkan', 'questions..', 'mintak', \"there're\", 'woofie', 'small..', 'sembuh.', 'home.adopted', ',can', 'kembar,', 'window.', 'glutton)', 'friend!!!', 'pm', 'call(mohan)', 'services.', \"else's\", 'playable.', 'bandingkan', 'department,', 'orange/yellow/ginger', 'mmg', '4/5', '7.30am,', 'neighbour,', 'female(posted', 'anje.', 'arah', '(less', '(male).', \"'white\", 'double-kink', 'die,', 'fight.', 'here)', 'petani.', '\"back\"', 'ekor..', 'tyre', '#name?', 'discussion)', '\"di', 'adoption.she', 'angkat..', 'me?\".', 'dominica.', 'play.eat', 'look-alike.', 'rehoming', 'tonite', 'kids,it', 'momo!', 'lawang', 'pawsome', 'called.', 'shining.', 'yet...', 'bathing.', 'rehome', 'death.please', \"me'\", 'borned.', '(estimated', 'sena.', 'parts,', 'apartment(dats', 'august,', 'enough..', 'prodiet(dry', 'pet!', \"dec'15.\", 'amazing.', 'photo,', 'kutip', \"weasley's\", 'much.', 'blue-eyed', 'flea-free', 'cimmi.she', 'status/send', 'siamese-short', 'comfort.', '-on', 'simone', 'snack.', 'down...etc).', 'oren)', ':(5', 'pm.', '(ati)', 'astimated', 'shiny,', 'cuddle....', '•1', 'valarie', 'brand)', 'wth', 'happy?', 'november:', 'responded.', 'voila!', 'guy)', 'reply,', 'cause).', 'perlukan', 'maturity..', 'co-foster', 'dogfood', 'blind.', 'intereste', 'junior.', 'british', 'puppyhood.', 'adjustment.', 'teramat-amat', 'dita', 'actually,', 'actually,siao', 'sweetheart!', 'ar', 'katie', ',only', 'kcing...', 'availabe', 'syringe.prefer', 'male-1', 'pm)', 'with.please', 'most..wat', 'prime?', 'surrounding,', '2-3months..', 'eyes....and', 'connie', 'adult.', 'finder.', 'fits),', 'apdoption', 'p.p.s', 'caretakers.', 'adopeted.', '(iaitu', '50km', 'commands(hand', 'yr', 'food.blood', '(pee', 'cream)', 'tabby;', 'migraine,', 'free..', '*mari', '1.7kg.', 'apps:', 'bila', 'berlari', 'febu', 'ends).', 'tea!', \"'friendly'\", 'condo/apartment', 'reason.vaccinated,', 'tinggal.', 'pitifully.', 'people.she', '3km', 'universiti,', 'babu', 'together.', 'tikka', 'fighter!', 'baths.', 'bloodline.', 'supercute,', 'june,.', 'i’m', 'cats..i', 'weekday.', 'cats/kittens.', 'anytime,', 'here,not', 'kids.thank', 'male-2', 'vocal/talkative', 'lai', 'down,', '.i', 'kecian', 'ketot', 'evr', 'etc),', 'administered).', 'mom(spayed', 'apartment..at', 'zoe,', 'a.', 'play.manja', 'fees).', 'nose.', 'telomian,', 'lots..', 'midas', '/.\\\\', 'proton,', 'healthy,cute', 'hungry..', 'only*', 'kittens..', 'retriever..', '=p)', 'street.she', 'non-destructive', 'monster..', '8)super', 'four-legged', '(ms.', 'baik2.', 'litter-trained.i', 'beel.', 'given..', 'problem)', 'purr-filled', 'kitten.like', 'one,she', 'ticks/overall', 'brooms.', 'explorer,', '(father)', 'ages,', 'langgar..', '2-3months', 'mixxy', 'vet.iam', 'house-broken(toilet', 'segera', 'him...tin', 'shown)', 'anyhow,', 'heyyy!', 'adoption.two', 'me!!', 'sihat.', ',lovely', '😀', 'urgent!!pls', 'vicinty', '35/each)', 'malignant.vet', 'loveable.', 'morgan.', 'injections)', 'ollie', 'adoptions,', 'shell,', 'yeni', 'doll)', 'lovi', 'selamat.', 'incident.', 'dysplasia..', '(founder/temporary', 'history!', 'male..the', 'condominium.', '\"paw\"', 'hojo', 'treatment，', 'years...', '-now', '2.结扎-我们会赞助部分或全数的结扎费', 'play...', 'manja...will', 'rakan', 'tonight,', 'faye.', 'us!', '6-', 'me....', 'unnecessarily,', 'abandonment.', 'in.', '(male', 'penakut', 'bikini,', 'doing\".', 'month(3rd', 'playful..toilet', 'finish,', 'please...', ',big', 'car...', 'manjer', '(f)', 'adopted,pls', 'retriever.adopter', 'veternirary', 'moment.adopter', 'so.', 'shelter,paws', 'persons,', 'love.anyone', 'food).', 'fridly', 'zoe', 'soul/s', 'stella', 'abang', 'greenies', 'lenloy.', 'inside,', '白天比较爱睡觉', 'play.he', 'but,', 'setar.', \"hye....i'm\", 'neuteringjavascript:void(0);', 'gentle.', 'corner,', 'bahagia', '\"convinced\"', '-pemberian', 'reason,', 'sesuai.', 'fluids,', 'cloud..very', 'sms-', 'rocky,', 'ovaltine', 'promise,', 'obligations.', 'kgs..', 'however..due', '7pm,', 'dcfea', 'kare(kuantan', 'muffin.', 'door,', '这样的它们，已很满足了~', 'form:', 'kira', 'gambar.', 'forfeited.)', 'it’s', 'play....', 'daughter)', '我们会赞助部分结扎费', 'boxy:', 'nangis.', 'completely.currently', 'kelaparan..', 'homeless,', 'lagi,', '1years', 'oliver:', 'forehead!', 'stdi', 'vet..we', 'maja', 'koji', 'pattern.the', 'email.', 'urin', 'travis', 'handraised.', '她救到了几只可爱的小狗宝，几只已成功领养了。', 'spectrum,', 'owner/family', 'stories.', '\"stay\"', \"girl..she's\", 'samada', 'un-vaccinated', '-prefer', 'joanne', 'dimandulkan', 'okonomiyaki,', 'homebound.', 'mites...', 'pipi,', 'mindy.', 'thanks.........', 'intelligent,', 'diblend', 'caoont', 'backstreet,', 'balcony.', 'suria', '\"poo\"', '-flexible', 'mojie', 'straying....is', 'chat.', 'mins', '(previously', 'kitten!', 'bernard.', 'alam,', 'yay!', 'caretaker.', 'strenght,', 'berdikari', '(used', 'medium-sized,', \"puppies'\", 'chorbath', 'handicap.', 'cudly', 'woman.', 'april,.much', '3rd', 'check-up', 'taman..', 'streets.', 'realistic.', 'at-.', 'petlover,', 'brough', 'whispered:', 'both.', 'bulldog,', 'incurred.', '18th', 'kental', 'non-pet', 'gd', 'only..and', 'year..so', 'her.all', 'kibble.', 'unresponsible', 'lyza.', '洋葱头,', 'warmth.', 'spayed..as', 'jelutong.', '(ikan', 'dlh,', 'cage,', 'dkt', \"'john'\", 'good-temper', 'medical+hospitalisation+boarding+shelter', 'rolls.', '(,', 'earlier)', 'dog.too', 'complex,', 'outside,', 'sachi', 'pre-adoption/fostering', 'rachel.', 'jr!', 'european', 'joyceline', 'cert', 'janie', 'tengok', 'kesian.', \"sticks..he'll\", 'ohno', 'loud),', 'mentioned,', '****************', 'biscuits.', 'che', 'eater.', 'atau', 'butt,', '(1st', 'her..she', 'tau!', 'setapak.', 'jumpa', 'spirited,', ',well', 'fighting;', 'meiji', 'bab', 'hardship.', 'us,', 'deworm/deflea/neuter/spay', 'casey.he', 'nonsense..here', 'highway,', 'ke', 'leia', 'support,', 'flabby.', 'claims.', 'shining..', 'ciao.', ',n', 'hi..i', \":'(\", 'nyh', 'healthy,playful,docile,quiet.', 'purr.', 'yuran', 'ismail,', \"'safe'\", 'nurised', 'male-4mths+.', 'sudi', 'lincah', 'stripes.', 'friendly.if', 'suxian', 'socks!', 'playtime.', \"pedigree'\", 'feisal', '*healthy', 'beating.', 'favourite', 'cheong', 'vaccinated,', 'abandoned/lost', 'mlm2', 'petite.', 'veterinar.', 'putih,', '-20℃', 'pity..', '(means', 'makanan..makan', '1black', 'reward.', '领养代替购买，结扎代替捕杀', 'gamat', 'xoxo', '😅😅)', 'alam.', 'coone', 'bunch!', '-william', 'happen.', 'scotish', '😝', 'deworm.ready', 'summer,', 'bood', 'hse..', 'hai', 'staycat', 'term,', 'ricky,', 'history...but', 'asian', 'bones!', 'lot..her', 'jawa,', 'healed.', 'dish,', 'auction,', 'lap.', 'hati.', '\"fight', 'rembrandt', 'spayed),', 'by...', 'aggressives', 'toilet-trained:', '/,', 'terbuka', 'everything,', 'weaning.', 'mark,', 'play.i', 'june', 'membawanya', 'ciro', 'surgery...', 'environment.', '的，我的联络号码', 'easily.', 'committed,', 'kulai', '請聯絡toonho', 'sunday,', '-ive', 'fam', '定期杜蟲', 'adoption/', 'life\".', '4weeks+', 'vet;', 'pippin,', 'observing,', 'conditions.despite', 'bermain.', 'story:', 'tuxie.', '(kitten):', 'operation,', 'story,', 'stakat', 'packs,', 'spread!', '5.7kg', '4/5/', 'happy.)', '(homes', '.intelligent', 'kasih..', 'proof,', '____________________', 'pygmy?', 'rate.', 'yours...when', 'fi-fi', '*****************', 'valley,', 'having.', '(probably', 's.w.t...', 'ending..', 'de-worm.', 'step.', 'larang', 'life.tq.', 'tooth.', 'myza', 'somemore', '，', 'member,', 'her..tq', 'immediately..!!', 'call/contact', 'tidur', 'cleo', 'dog.if', 'adiq', 'window..', 'details.(please', 'friendly..loving..love', 'divorced.', 'guinevere!', 'calico,', 'enonugh', 'vacinne,', 'stray..', 'mira', 'throw.', 'them..or', 'karma!', 'puppyhood)', 'non-steroid', 'prada', 'furbaby', 'angah.', 'others,', 'utara,', '\"boxy\"', 'min)', 'veryhealthy.', 'stuart', 'chumiko', 'memerlukn', 'mimy', 'arrive.', 'diajak', 'brownish/white', 'hair，a', 'time:', 'pn', 'uncle/', 'with...either', 'highway..', 'undemanding,', 'surita', '15)', 'metals,', 'menjadikan', 'pitty', 'me?....or', 'side.i', 'baru..actually', 'trinky', \"'cat'\", '....pls', 'ambil..', 'walks,', 'milan', 'bills.', 'tricks.', '30.3.', 'bangi,', 'both,', 'nikko', 'south,', 'cleanliness:', '-for', 'dogcatchers,', 'tinker,', 'knows.', 'kolam', 'black,', 'eria', 'kwek', 'vaccinatd', 'arranged)', 'little..if', '____________________________________________', 'cutie.', 'playful...', 'eye.hope', 'adopt..definitely', 'retriever.she', '-long', 'gelandangan.', \"selera'\", 'to!', 'curious!', 'addopt', 'berpisah.', 'visible,', '😊😆', 'maya.', 'interested,do', '/sepang', 'wonders.', 'me.tq', 'mum.', 'cleaning,', 'wormed.', 'pups(mixed', 'email)', 'companions!', 'justeru', 'alley!', 'old...', 'anyhow.', 'finalising', 'strangers.so', 'millie', '它们已等家很久了。。', 'kereta.', 'valley!', 'hair-ball', 'shrubs).', 'street......please', 'humans\":', 'tolong', 'nova,', 'glance,', 'hilpark', 'rehome.', 'faeces.', '*puppies', 'self~...whatsapp', '20cats.', 'behaved.', 'athlete,nor', 'bited', 'condition:', 'out,', 'teeth,very', 'kirby', 'divaksin', 'in-bound', 'beginning,', 'months...', 'favourites),', 'biggrin.gif', 'god-of-fortune!', 'farhan', 'business!', 'blackie,', 'chery', 'elvis!', '(caramel', '(dusters,', '\"pet', 'melawati', 'themselves!)', '(orange,', 'fleas(ligat', 'soon....', 'scarlette', 'kneads.', '31st', 'stokin', '):', 'lulu..', 'mongul', 'rescuer,', 'beeble', 'quite,', 'seek/wrestle', '请留言', 'kushi', 'rubs.interested', 'both.contact', 'penang,', 'pups,and', 'deticking,', '(sandy)', 'miau', '9.1.', 'nala.she', 'alktif', 'female(minnie)', 'blur.', 'breader', 'grey-eyed', 'lovable,', 'updated).', 'members,', 'white/salt-pepper', 'jacqueline', 'other.', '70s,she', '*she', ',his', '(rescued', 'bye-bye!', 'learner,', 'neighbouring', 'hike,', 'lover,', '三只可爱狗狗待领养（吉隆坡）狗妈妈', '(sugee)', 'day...', 'thankyou&godblessu.', 'ispca', 'chilli,', 'malaseb', '\"playful\"', 'bukti.', 'ditangkap', 'hairfall(not', '(狗狗已被领养了，谢谢', 'neautered', 'policy.', 'ones,', 'spit.', 'all-round', 'elsa', 'jek', 'condo/apartment.', '1st,', '..suka', 'up..but', 'huan!', 'friend(s)', 'semuanya.', 'one-eyed', 'etc,', 'la..saya', 'lilac-pointed', 'babyhood.', \"(we've\", 'colors,', 'mudah', 'hazel.', 'females,', 'rest!', '是因为我不可爱', 'question.🙏', 'vaccinated,de-wormed', 'heart?', 'travel,', 'tiger’s', 'runcit.', 'tasik', 'tel', 'kemuning', 'jas', 'last.', 'underfed.', 'liao..', 'kids.(due', 'however,jay', '11).', 'khoh', '3.orange', 'survives.', 'to.', 'damon(whatsapp)', 'lepak', 'videos!', 'second/third', 'small.', '.☆♥', 'recently,vacc,frontline', 'air-con', 'toyota;', '版主,我有6只狗狗了,双层排屋但是中间的,所以只可以养两只罢了,算超多了,对吧?', 'weary.', 'cage..', '++', 'big.', 'people.hes', 'successful,', 'sau', 'old+.', 'lotza', 'heartworms', 'culture.', 'pulainthiran)', 'immediately.a', 'tame.please', 'point.', 'island,', 'breed).', 'happened.', 'panda,', 'mei)', '(when', 'xiaodao', '\"orijen\"', '(thats', '22/5/', 'telaga', 'white)is', 'wahahahaah', 'business’', '(children', 'well-behaved,', 'cats/kittens', 'anymore..this', 'lucas.', 'companianship,', 'cudly,', 'watapps.', 'truth.the', '(halloween)', 'noted:', 'type!!!', '(callie).', 'glee.', 'call:', '🍭i', 'bunny,', 'youngs', \"moomoo're\", 'mrk.', '(bigger', '8:30', 'sehari,', '12,', 'huhu,', 'rescuer’s', '(constantly', 'adpopted', '/time:', 'twila', '26/jan/.', 'road.', 'meimei', 'razak', '(miumiu)', 'situation,', 'campuran.', '晚上都会在院子晃来晃去看门', 'consider,that', '父：名狗不过不懂种类（mixed', 'tadi..', '☆♥adopted', 'uncertainties.', \"putih's\", 'them..mereka', '😈😈😈😈😈', \"bibi's\", 'abuse,', 'ha..ha..', 'vacinate', 'adopters.', 'up).', 'bia', 'occationally', '(benefits', 'lionking2', 'barunya.', '27/7/16', 'urgent)', 'dawn!', '帮助救援者转达的领养帖，如您有能力给可爱的猫猫们一个家，请直接联系', 'facebook:', 'socialises', 'slippers.', 'fur,', '15+kg,', 'bornedby', 'likez', 'chaining,', 'observant,', 'so.much', 'spaying/neutering', 'state;infected', 'document)', 'jedi', 'thnks', 'water?', 'no:(call/text/whatsapp', 'fish.', 'amount,', 'tnrm)', 'pricess', 'maymay', 'hehe.)', 'starnger', 'both,pls', '2-1-20', 'her..', '\"guests\"', 'bagheerah!', '領養者必須：', 'them.and', 'frieskies', 'then...', 'gitu', 'prince,', 'well!!', 'pebble.', 'mandee', 'compound!', 'guardian...she', 'them!!', 'home!)', 'train.suitable', 'thn,', '谢谢你可以给我一个机会，我一世都会对你全家忠心！', 'blessed!!!!', '30weeks', 'recovery.he', 'encouragement.', 'wing\"', ':\"', 'time!', 'anda,', 'mooncake', '\"one', 'tempang', 'nature.', 'destroyed...please,', 'outdoor.', \"rocco's\", 'conract', '....when', 'wise.', 'approaches.', 'shashimi.', 'black/yellow/orange', 'marie', 'son):', 'shampoo,', '3。願意每個月發照片給義工或家訪以作跟進。', 'one....', 'a.forever', 'joshua', '(utk', 'hero:', 'children;', 'mange.', '\"square\",', 'owners,cos,it', 'house,only', 'high-maintenance', 'it.....)', 'torties', 'me.only', 'parties,', 'aktif..', 'dsbbkn', 'girl,senstive', 'koko.', 'negotiable..', 'adoption-pj', '2pack', 'male...we', '：红豆妹little', 'senyap', 'strangers..', 'control,', 'artist.', '*combination', 'intereted', 'together.so', 'rubs,', 'jack!', 'worry..', 'catlover', 'few;', 'kitten/cat.', ',was', 'malah', 'gf', '\"manja\",', 'owners)', 'wifi.', 'home...bobby', 'serious.', 'cleanliness.', 'puchong.', 'runnng', 'sick).', 'deliver!', '\"moustache\",', 'puss-in-the-boots.', 'kairi.', '(diana)', 'dog...not', 'killed.', 'more!', 'mereka..i', '(mama', 'cleared,', 'lover)', '10)', 'penangite', 'kejut', 'ditinggalkan', 'thx)', '(female)', 'fighter,', '3.love', 'obses', 'rotties.', 'zoro.', '还差点被车撞死', 'pjs9', \"doll'\", 'belongs.', 'teething,', 'nickname:', 'sophy,', 'aj.', 'seen:', 'alaskan', 'allahyarhamah', 'mulan(my', 'fee,just', 'jocelyn', 'marley,', 'buddies,', 'up-to-date,', 'girl:', 'year).', '(usj', '(consider', 'too.he', 'himself...', 'him.had', '(over', '王老仙师..', 'sentosa..', 'disease,', 'stuff.i', 'long;', 'healthy.and', 'yong', '4/2/', 'teaser.she', 'thier', 'female...has', 'browns,', 'concerned:', 'foong,', 'silver/gray', 'upm,', \"schmoopy's\", 'also,they', '-makan', 'shades,', \"balloons'\", 'doorsteps,', 'manjer,', 'olly', 'drink..', 'both)', 'shihtzu-pekingese', 'ditempah.', 'cimb', 'lynn)', '3pups', 'temporary.', '\"he\"', 'd2', 'nishinoya', 'b2.', 'datuk', 'xd', 'mempunyai', '蒲種区，雪兰莪。.......', '[good', '\"innocent\"', '13kgs,', 'seat,', '几个月前牠生了三个小孩，但都死完。一星期前牠又给流浪狗公看上，不得已的带牠去阉割。', '(an', 'cesar.', '5bln..makanan', 'lovessssss.', '**dear', '-neutered', 'fight,', 'makan,', \"dog,doesn't\", 'spayed/neutered:', 'long),', 'razak)', 'sekaligus', 'dr.callie', 'branda', 'memaklumkan', 'ash,', 'me.thanks', '*lovely*', '🌻lassie🌻', 'milkodog', 'ropes,', 'pampering.', 'bro,', 'males.', 'afu,', 'good/watch', 'unattended.', 'golden-brown', 'dog....**', 'white.', 'zorro', 'history.', 'manja..really', \"chica's\", 'rin', 'tuju', 'interested..', 'body,', 'bf', 'playful.currently', 'please..help.', 'whatsapp/viber', '⚫️', 'cuddle.patty', 'ongey', 'owner.', 'karlo', 'nannied', 'lips!', 'peppermint,', 'thunderstorms.', 'kajang...thx!!!the', 'sofia', 'treat)', 'difficultly.', 'pad)', 'kaylee', 'heck.', 'someday!', 'dino', 'kitorg', 'moved.', 'seeeerious,', 'simon.', 'spanish,', 'inseparable...', 'darsh', 'goofy.', 'champ.', 'culling.', 'rainstorm.', 'white,female,american', '\"no\".', 'woollybear!', '(white', 'smallest,', 'housemate.', 'keadaannya', 'available.**', 'neutered.', 'in..and', '________________________________________________', 'taman', 'je....', 'exercises.', 'olivia', 'sudin', 'pet-ty,', 'beagle-like', '*交通载送可以安排。', 'do;we', '50++', 'melissa', 'it..', 'pertanyaan/yang', 'buloh', 'main...hmm..lupa', 'clinics.inspite', '**unknown', 'record.they', '/call', 'won’t', 'rescued:', 'one!!', 'course,', 'did..', 'tanggungjawab', '[porch/backyard/inside', 'adoption..please', '**lia,', 'only!!!', '[].', 'kiv.', 'ups;', '(like', 'shops,', 'touch.', '*****************************************', 'dlh', 'mereka..', 'neutered/spayed.', 'relocation.', 'ariana', 'true,', 'now)', '2months(female', 'c)', 'ocha', 'dat', 'thx!!', 'engine,he', 'people-loving', 'this.', 'berhak.', 'roads,', 'rescuer!)', 'layed-back', 'apply.', '(named', 'puppy.3', 'tan,', 'adam(cheras),', 'meet.', 'interested,pls', 'fosterer', 'up-to-date', 'exceptional.', 'lap/', 'poo...', 'foreigners.', 'already...then', 'warnanya', 'pat.', 'all!', 'doggy..', 'fecov', 'orey', 'loyalty!', 'herder..', '(docile)', 'sweet....likes', 'office/house.', 'elderly.', 'visits.', 'playful.interested', 'bathing!', '9am-6.30pm', 'eye.', 'urgent‼adopters/', '(cry)', 'school,need', 'turquoise)', 'kucing,', '(for', '(need', 'forvwr', 'pattern)', '💖💖💖💖💖💖💖💖', '4month', 'wild.', 'february).', '(rm1.50', 'ok.\"', 'treats.', 'mory', 'upin', 'ocha,', 'nirmala', 'you.do', 'birth.', 'curiosity,', 'rex,', 'young..', 'fastest.', 'freeway.', '-due', ',includ', 'cudly.', 'old.according', 'ears.they', 'care!', 'funds.', 'incapacitated,', 'passer-by', 'always,', 'rear-view', 'noya', 'singapore,', 'fee.', '(white,', 'study.', 'baka', 'de-worm:', 'friends),', 'berminat?', 'nanti.', 'that.good', 'huskies.', 'itchy,', 'teeth,these', 'playfull,', '\"him\"', 'neew', 'at(ms', '===============================================', '(stephani)', 'mom...unfortunately', 'business,', 'terbaru', 'etc)..', 'deer.', 'lived.', 'been:-', 'diadoptkan', '***11', 'harapan.', 'on-going', 'safe,', '\"manja\".', 'side,', 'beza', 'things,', 'indoors!', 'bising2,', 'xkasi', 'unconditionally,', 'therapy.', 'krn', 'mrr2.', 'menyayanginya.', 'to:', 'friday', 'bestfriend.', 'round-the-clock', 'feeder.', 'much..', 'them.there', 'kitty(bunny)has', 'frontlined', 'fb,', 'workshop,', 'outstation,no', 'feet,', 'bergambar', '(on', 'vaccinated,n', 'place,', 'oren,', 'russel', 'sica', 'louie', 'en.khairil', 'food,toilet', 'jou', 'intelligent..', 'luck.', 'grow!', 'roddy', 'parties:', '12am)', '(petfinder)', 'selesema', 'ood', 'birds,', 'test,', 'tlc,', 'shj,', 'bouche', \"'paw'.\", 'mine?', 'anytime.', 'only..contact', 'things).', 'happy-go-lucky,', 'timit,', 'residence,', '.skrang', 'sandy.', 'pasar,', 'mengawal', 'street-born,', 'up/', 'bud?', 'nursing...', 'yuyu', 'no.4', 'long-coated', 'wall.', '1)kitten', 'ching', 'dachsund', 'liam', 'cat..therefore', 'alot!', 'vaccinate,and', 'radius.', \"kuma's\", 'fifa', 'hurmm...something', 'max', \"'cat\", 'pee/defecate', 'also..', 'segment:', 'wa,', '(use', 'leave.', 'mom...i', 'gigit', '(east', '20km', '14/7/', 'binatang', 'heights.', 'no.24,', 'month!', 'anymore...urgently', 'un-neutered.', 'matter...i', 'jennifer', 'moment)', '*de-flea,', \"though...i'm\", 'neutering).', 'tripod,', 'pecahkan', 'catch.', 'setia', '(guessed', 'khamis', 'club).', '没责任心-非诚勿扰', '...because', 'female),', 'shelter/food.', 'bunyi', 'comfy.', \"it,can't\", '\"lady\"', 'dosages).', 'christmas.', 'rumi', 'apa', 'bear-like', 'mixed):', 'talk(meow)', '10kg,', '\"hey', 'jantan.', 'beradik.', 'indoor**', '(pure)', '**adopter', 'puppies.this', 'arahan', 't’challa', 'unscooped', 'noted!', 'classy,', 'give,', '(li', 'todate', 'star.', 'pee-ed', 'pets?', 'zu,', 'bising.', 'kid,n', 'sarawak', 'work...looking', '😅', '🏡', 'malaysian/expatriate?),', 'limited.', 'happily,', 'palm).', '7.for', 'brownie:', 'healthy!', 'himself..:d..', ',deworm', 'adopt...lagi', 'cat,the', '~adoption', 'reserved.', 'maknya.', 'sheperd', '\"meow', 'feb.', '(nadhira)', 'gromming,', 'complete,', 'link:', 'dipersilakan', 'blink,', '(found', 'sat.', 'hitted', '2months', '牠受的苦太多了！！', 'semenjak', 'streets..', '年齡：兩月齡', 'adopt.location', 'dutamas', 'mandul/spayed', 'hard,', 'constrains(i', 'jelutong,', 'sneaky.', 'throughout.', '3healthy', '领养-弃养-不结扎-3分钟热度。', 'female,black', 'berhasrat', 'play!', 'visite', 'samaritans.', 'deworm..', 'screaming.', '90%.', 'ini..', 'condo/apartmenr/flat.', '结扎押金:', 'pets+strays', '白与灰，中长毛，長尾，四肢健壮活泼', 'missing!', 'betina(chicky)', 'pets..i', 'kotor', 'skills.please', 'ms.chan', 'cuddly!', 'keramat.', '(vaccs/deworming/heartworm).', 'memories.', 'medium)', \"days,i'm\", 'feelings.', 'attempts...she', 'valuation.', 'whatsapp/im', 'today.', 'pees/poops', 'some.', 'favourite.', 'kucng', 'puppy,they', 'sessions,', 'blue-eyed.', 'ald..', 'me.....', '(such', 'jealous.', 'jessie', 'confident,', 'adviced', \"doesn't.\", 'carlton', 'tugjob', 'berry..adopted', 'door,wanting', 'katy', 'plenty.', 'access.', 'schnauzer,', 'news,', 'cocobee', '*luna', '.asap', '5。keep', 'them.thank', 'theyve', 'adoption]', 'purebred,', 'menyiasat', 'goden,', 'lcoation', '(indoor', 'vaccinated,dewormed', 'everywer', 'rm50)', \"him.he's\", 'tummy!', 'november)', 'rex', 'ability,', 'color!', ':))', 'rabbits!', 'go...', 'mendengarkan', 'it)!', 'pics,', 'hungry.we', 'darks,', 'bloatted', 'legs!', '**adoption', 'spayed,vaccinated', 'becky', 'a-my', 'days)', 'pasti.', 'worms.however', 'blind!', '-purrs', 'him?', 'terdekat.', 'sam:', 'anywhere.', 'number,if', 'live.', 'pf', 'dog...loves', '/10,2nd', 'zig-zag', 'yappy.', 'sandbox.', 'hand..', 'that:', '1,.', 'unfortunaltely', '-potty', ':-)', 'yeng.', 'fierce..', 'sadly,as', 'hershey,', 'them.i', 'mula2,', 'menyayangi', 'held!', '..for', 'boleh,', 'msn:', 'game.', 'aca', 'bill.d', 'aggression.', 'tap.', 'monthly/', 'nya..sekarang', 'miniatures.', \"'on\", 'study...', 'non-clumping.', 'firendly', '15/8/13', '✅', 'd.o.b', 'interested.thank', 'colors/patterns.', '3)tell', 'all..mummy', 'friskies,', 'thanks...', 'mendatang,', 'tahun)', 'bahru,', 'mites.', 'family....plsss...with', 'society.', 'p.j', 'playful!', 'home.thanks', 'cheers,', 'upmfreedom', 'jacob', 'accompanied/play', 'shower!', 'available:', '(female).', 'corak', 'tyre.', 'rice+soup', 'collector.', 'one....please', \"kitten',\", 'susahkan', 'shahzie', 'smoothly.', 'melaka)', 'well-cared', 'workplace.', 'mixed),', '=c', 'melaui', 'mongreal', 'healthy,likes', 'potty-trained.', 'condo,', '-always', \"'mew'\", 'floor,', 'set,', 'problem.', 'bahasa', 'netflix', 'booncit', 'apartment..', 'cheras?', 'months,not', 'spay/neuter,', 'fleas/ticks/mites', 'available?\"', 'doctor)', 'childhood!', 'millenium', 'name)/', '12apr14.//', 'seremban,', 'housebroken,', 'kittens!!', 'anitha', 'treatment.last', 'mood)', 'coffee.', 'well-behaved', 'resident,', 'pegawai', 'frens..both', 'asnawi..:)))))', 'successfully.', 'photo.', 'days\",', 'companion..she', 'well….', '(left).', 'wt', 'puchong', 'reena', 'off)', 'groups.', 'better.', 'pup-', 'chance.removed', 'demodex,', 'playful,cute', 'scrappy,', 'sheni', 'newpaper', 'mamee)', ',a', 'laughters', 'lahir..pagi', 'kaylee.', 'kitties..now', 'it.', 'squirrel.', 'dog-friendly', 'asd', 'neighbourhood)', 'adopter,kindly', 'yet;', '(benjamin)', 'milk..', 'hally', 'carameow', 'thnx..likecommentshare', 'morning,i', 'dominan.', 'rgds', '3.must', 'upkeep.', 'lalang,i', 'kangsar,', 'bus,', 'dsh)', 'call/text/whatsapp.', 'x-ray,', 'adoption!!!', 'whatapps/', 'colourful', 'kitty,', '-fully', 'akhir', ':.', 'ends.', 'steps..', 'it...only', 'med', 'eyedrop', 'membuang', 'kuat', '必须同意为他注射例行预防针', 'harsly', 'smellanor.', '(orijen).', 'skinny....those', 'knowledge..i', 'vivo', 'cowardly.she', 'completely).', '(mixed', 'two!', 'jangan', 'ni,', 'follower..', 'genuine,', '*shower', \"'jetta'\", 'woul', 'like,', 'kitties,', '黑白切(cheer)在我上班的地方流浪。我們擔心牠遇到不測，想為牠找一個愛牠的家。', 'slow).', 'zaim:', 'above).', 'tempered,', '2female', 'back,so', 'nolonger', 'meowings', 'given)', 'roof.', 'jev', 'suggest.', 'cat..a', '30th,', 'brown-haired', 'tempotatily', \"ol'\", 'came,', '::', 'talkative.', 'kuning', 'requires:', 'be.', 'puppy!', '2.i', 'lives~', '10l', '10pm,', '-old', 'fellas.', '(refundable)', 'berpengalaman', 'chair.', 'mths', 'tanny,', 'outgoing,', 'scabies/mange', 'adopter.vaccinations', 'urget', 'ear,', 'playful.very', 'canin™', 'maisy', 'streets...', 'lancelot,', '**disney', 'road;', '可爱的猫咪mia在蒲種,', 'chocolate-female,', '6:00pm', '6th', 'xanie', 'diletgo..', 'brutus.', 'pups..', 'dy.', 'fish&chicken+food', 'season).', 'ways...please', '-betina', 'kucing2', 'usyang...', 'amount.', 'comot-comot', 'learner..', 'rottwiler', '28/8/16', '(haliza)', 'bunyik.', 'committed.', 'road..', 'rehoming.', '=============', 'home);', 'there.if', 'nie..saya', 'asmatha', 'melaka', 'suicide.', 'size)', 'mse', 'mom-cat', 'work.', 'kippy', 'me).', 'closeby', 'poo/pee,', 'jalil', 'iphone..', \"ben's\", 'minutes!', 'cleaness,', 'hello...my', '##yeay', 'system,', 'loveable,', 'csr', 'dalmatian.', '(ling)', 'rapat.', 'gate,', 'keluarga,', 'worried....', 'obediant', 'clinic,', \"(that's\", 'progresses.', 'secara', 'deserve!)', '(9)', '(eiyza)', '#the', 'ngau\"', 'bakar', \"'m\", 'bising,', 'loyalty...true', 'recognise)', 'ahead.', 'very-very', 'hand).', 'indoors/fence.if', \"rescuers'\", 'tadi.', 'gebuk', 'roy', 'anak', '.luckily', 'cockroach.', 'doctor,she', 'ie.', 'siggi', 'singing!', 'bals...thanks..', 'poseidon),', 'front,', 'active,cheerful,', 'highway)', 'jaya.', 'torbie', 'active..due', '***lovable', 'around.now', 'bruno.kindly', 'hrs', 'europe', 'table,', 'introduced.', 'persian)', 'profession?', 'semasa', 'wawa', 'paws.little', 'more.she', 'nottie', 'forever.', 'area...', 'kinabalu,', 'freyja', 'garbage.', 'komuniti.', 'mervin.', 'strangers),playful', 'pitbull).', 'dirumah..', 'that,i', 'fostercare', 'elvis', '体型;小型', '3kgs.', 'elbert', 'adoptees', 'gosh!!!', 'friends..', 'amat', 'road,in', 'manageable....', 'her,n', '必须同意每年为她注射例行预防针', '*not', 'quickily.', 'spay.', 'soft;', 'inger,', 'morni', 'flees.', '-diet-', 'provided:', 'mr.rajan', 'same..', 'transporter.', 'bin.', '..&', 'moo(male)-', 'attack.', '颜色/color：全黑，惨色灰', 'dies.', 'sikit,', '9)likes', \"'kacau-ing'\", 'resort.', 'dinah', 'heydee', 'bit!).', '(1.9kg)', 'multi-cat', '#1', 'tonight.', 'kg)', 'begaduh', 'hampir', 'arthur', 'exploring.', 'ultimately)', '(rm)', 'buyer.negotiable', 'pie.', 'adoption...they', 'again...', 'blum', '不需虐待！不需弃养！', 'hand/arm', 'dumped).', 'mths,', '8-10months', 'lives..', 'sendiri.', 'permai,', 'low-maintenance,', '(here)', 'milk,the', 'darling.', 'stand.', 'contacts.', 'description,', '(gets', 'milk!', 'it?', 'bruno', 'panggil', 'affection-time', 'photogenic,', 'kot', 'knox', 'wek', 'free--', 'ferringhi', 'sphinx.', 'dog.look', 'down..people,', '(paper', 'caltex', '\"interested\"', 'look.', 'houdini.', 'car;', 'clay.', 'eaters,', ':d', 'shoot).', '*mama', 'adoption,free', 'sticks..if', '杜绝繁殖，领养，不购买!', 'sulung.', 'cute!!!', 'dong,bang,shin,ki', 'brush,', '.adoption', 'you///', 'anggaran', 'five,', '.who', '(bw', 'saru', 'old).dewormed.reason', 'shar-peis', 'liz:', 'updat', 'skills,', 'sejahtera', 'sebaik', 'pulak..please', '8/.', 'doggiez', ',golden', 'tica', '-make', 'respectful,', 'mendapatkan', 'distance.', 'repeat.', 'nutritous', 'called!', 'tidur.', '=_=..(no', 'selatan', 'them!', 'totoro', 'scratch..', 'fan.', '7)', 'kittens..the', 'younger.', 'cats.give', 'implies,', 'baru,', 'ago,we', '/a9,', 'raina', 'excuse)', 'microchip,if', 'respectively.', 'out.he', '(terrier', 'thomas:', 'coat..', 'couldnt.', 'mark).', 'more,need', 'kanajawa.he', 'shoulder.', 'queries,', 'kucing...xmampu', 'terbakar..', 'playful.she', 'on-nadira', 'cats..', 'vaccinated...she', 'acidently', 'murni', 'breeder,', 'compact.as', 'white/orange', 'some,', 'bintang.', 'abandoned,but', 'lifted..', 'like,is', 'nos.', 'droops.', '\"shasha\"', 'calicos).', 'hana-chan.', 'stan', 'ias', 'beautifull', 'inginkan', 'preganant', 'adopter.she', 'shocked.', 'love..home', 'active,loving,', 'kitten..', 'kuala.', 'stimulation.', 'anyone.when', 'name,', 'punky', '小叮叮是无辜的..她也不想自己会有个不完美的外表..', 'samantha', 'foxy-looking', 'grissley', 'shepard\"', 'recipe)', '(carporch)', '****************************************', 'tu.if', 'shampoo/total', 'benar', 'kk.', 'old..hope', '3++', 'mok)', \"street.she's\", 'negleted', 'wats', 'booties.', 'dikembalikan', 'post-op,', 'company,', 'dutchess', 'runcit.masa', 'cici', 'confinement.', 'loceng,', 'at:gcm', 'anne', 'tlc.', 'bambi', 'manusia', 'clean,very', 'randah', 'smsa', ',adoption', 'space,', 'cartoons.', 'veryy', 'taipan.', 'length.', 'byk', 'temper,', 'unik', 'talker,', 'thin,outside', 'mother,i', 'ss1', 'able.to', 'healthy...', '(christine)', 'sure.happy', 'hair!!', 'demetrius', 'soon),i', 'taht', 'biar', '(neutered),', 'leep!', 'below),', 'request:', 'dermatitis.i', '>appx', 'salad.', 'detick', '1/3', 'patient(her', 'ween)', 'duk', 'move.', 'affort', 'basah', 'hopefully....adopt', '(happy)and', 'x)', 'gem!', 'sonce', 'macam', 'oleh', 'shop..haha..have', 'berhampiran', \"puppies's\", 'happiness,', 'teh.', 'cockroaches.', 'osky', 'deworming)', 'sunbathing.', 'beibei(', 'lindungan', 'ministre', 'healty,active', 'greg', 'park.he', 'anytime!', 'g.', 'machine.', 'month...', 'well-mannered,', 'ee', '2)keep', 'pets.', 'loving,forever', '♦most', ':golden', '13pups,', 'hearts...', 'owner..pls', 'cold-blooded', 'tv', 'uma(4yrs', 'also).', 'rains.', 'tersangat', 'strays.', 'course),', 'jt', 'house(we', 'healty,', 'wiley.', 'pair!!!together!!!', 'schedule.', 'foas', 'adopting.', 'happy.', 'orange/beige/yellow', 'becermin', 'age:2.5', '12kg', 'ss24,', 'acupunture', 'takers,', 'others,please', 'clingy,', '(mario', 'female:', 'onwer.', '(refer', 'delta:', 'abbyssinian', 'wihtout', 'antics.', 'mia.', 'terrier,', 'bebe,', 'brian', 'kurung,', '1/3/16', 'trip,', 'many..', 'namesake!', 'kibbles/home', 'food..if', 'berhubung', 'thk', 'mannered,', 'wondering,', 'vetted.', 'minyak,', 'places,i', \"doen't\", 'becuz', 'released......', '(depends', 'visits,', '\"yay!', 'loooove', 'beware!', 'stanley', 'narinder', 'fugly', '地区:kl-kepong(会亲自载送府上，会做家访)', 'merbahaya', '******************', 'in-and', 'fundings', 'italian?..well', '25/6/', 'khor.', 'salehudin!', ',fluffy...sgt2', 'gentleman-like', 'semi-feral', 'intelligent..lovely', ';-).', 'sempena', '-respond', 'companionship)', '7-9kg', 'balck', '\"are', 'terabai..', 'owners!).', 'fur-stick.', 'korgi', 'naomi', 'limit..', 'gon', 'box).', 'ambik,', 'well...so', 'her**', 'sarah', 'lap-dog', 'use.', 'cemetery.', 'deserted.', '(absolute', '2females)', 'rabbit.', 'downstair.', ';;', 'sunday:', 'in-laws', 'relative).', 'bharu', 'giant.', '必须同意每年为宠物注射例行预防针', 'above!', 'sarawak,', 'mobile)', 'indah,klang.', 'mimiko', 'soon..the', 'product.', 'puppy.please', 'animal,', 'business...', 'carefull', 'institusi', 'schoolchildren.', 'appealing.', 'adopter**', 'foods..', 'applies...', 'them...both', 'amik.skrg', 'sob.', 'simon', '(finds', 'adik', 'usha.', 'utama,', 'again..', 'musy', 'hair,skin', '============================================', 'pups/dog', 'her...and', 'kiseki', 'diapers.', 'me..thanks', 'sembilan', 'old..', 'saiz,', 'seapark', 'young,', '[img]%20and%20tam%20tam/dsc5.jpg[/img]', 'brown-foot:', 'diba..', 'weeks.', 'king\"', 'outfit.', 'home..pls', '\"talkative\"', '4.would', 'temperament.', '(australia,', 'vacc.', 'grey-black', 'ligth', 'snowball)', 'toys/bones\"', 'panther,', 'pessengers', 'pair..', 'malay,', 'walking.', 'socks..', 'sihat,', 'wrong.(he', '(mimi)', ',friendly', 'humphrey', 'jantan...ank', 'me./', 'felisha', 'neighbours', 'dae', 'senai,', 'main2', 'ticks.', 'penang,no', 'lately.', 'jugakk...', 'kittens.will', 'metta', 'in/out,', 'cute...i', 'papa/mummy', 'kisses,', 'frightnened,', 'manekineko', 'home.must', 'offer?', 'ukm', '14th', 'princess:', 'sweater.', '\"come\"', 'alexis.', 'killer.', 'body).', 'perut.', '(top)', 'student..i', 'uploaded.', 'lemah', 'brother!', 'p.s.', 'equine,', 'miaos', 'type,', 'tmpt', 'taylor.', 'eventually.', 'vo', 'somewhere.', 'pillo', 'tyler', 'siew', 'where:', 'langant', 'raw/barf', 'milo.', '6ish,', 'identity.', 'ingenious!', 'friend..1', 'cuddled!', 'fast...hahhahhaha', '7,', 'armor,', 'tgh', '6th.', 'nera', 'jasa', '9pm.', 'deworming', 'vaccines.', 'emmie!', '**for', '-remains', 'distemper,', 'rose.', '忽然看不到她,', '(janice)', 'blocks.', '12/1/12.', 'robin.', 'chickens.', \"stella's\", '(photos/', 'stil', 'ketiga2', 'families,', 'nissan', 'olive!', 'depression,', 'bathing,', 'black)...the', \"'sit\", 'loved.', 'white....white', 'determination!', 'glimpse,', 'kucin', 'pembedahan', 'whatapp.', 'baik;', 'wee-wee', 'fuller.', 'htis', 'barkly.', 'chimang.', 'fosterers..even', 'purrers', 'hihi', 'kekuning-kuningan,', 'pls...', '30/1/18.', 'relative.', 'negotiable!', 'age.some', 'sooo', 'fragile,', 'aimi', 'tell,', ',selangor.....a', 'eg', 'sissley', 'me!!!', 'male..', 'eyes.2', 'ampang', 'tnr)', 'body.the', 'side.', '8/6/', 'deflea,', '*special', 'months).they', 'don‘t', 'go.~~', 'next.', 'thru!', 'followed.', 'her....', 'lovely.', 'yoongi.', 'cage(corroded', 'bersetuju', 'cream-yellowing', 'ash,please', 'market..very', ':-p', 'boxes,', 'membela', 'adopters..', 'paying/deducting', '(/13).', 'owner..tapi', 'suprise', 'shifting...', '卖菜阿姨见他们年纪小小失去妈妈好可怜', 'michele.', \"bobo's\", \"gwennie's\", '(fb', 'adore.', 'tail.....i', 'brown/beige', 'berkenaan.', 'identiti', 'jga', 'siblings..sms/wasup', 'reinforcement.', 'survive,', 'optimistic.', 'taeyang', 'veera', 'ino', 'opie', 'beranak,', 'ago,this', 'beatiful', 'rmh,dia', 'outlet.', '(>18', 'oliver', 'mothere', 'winky,', 'meera', '17,', 'cerewet.', 'ago.with', 'appartment).', 'each/', 'pantai', 'origen', 'insecure.', 'drops,', '领养费用包括', 'coon,', 'comjng!', 'furkids', 'wound,', 'wounds..and', 'advice.he', 'terlalu', 'adik-beradik.', 'bandaran', 'them...', 'cat-parrot?', '\"down\".', 'dressing.', 'toplay', 'tmn', '免费领养。', \"dr.grey's\", '-be', 'yuran.sbb', 'intereted,', 'owner,management', 'do.', 'ebay', 'wrng', 'mixed/mongrel', 'train,home', '(fish', 'weather,', 'sooo...', 'gold/orange', 'adpot', 'pee,', 'dadaa', 'separating.', 'dtg', 'pouncing,', 'boy-boy', 'talker.', 'hair.', 'toes,', 'neuter/spray', 'die..im', 'ie', 'jaylyn', 'foodcourt', 'friend!!!!!', '(yea,', 'removed.', 'fosterer)', \"tree'!\", 'tzu)', 'treasure.', \"lovers'\", 'goes!', 'roger.', '.this', '(treat', 'neglected,', 'anak2nya', 'de-fleaed', 'immediately,', 'agnes', 'nails,', 'together..thank', 'all\"', 'mr.ong', 'pembahagi', 'shamsul', 'laksa', 'deserve!', 'sophie!', 'deticked.', '1yr', '2).these', 'rose,', 'xxx..', 'fruitless.', 'rasa', 'diterima', 'm:', 'hingga', '***priority', 'total,', 'legged...', 'homely?', 'feminine.', 'pup!', 'playtime!', 'tersebut,', 'conan', 'owner,i', 'sidney', 'onlly,', 'kinda-bully.', 'teo', 'popeye(adopted', 'diserahkan', 'heals.', 'kurang', 'tgok', '2.15kg.', 'awhile,', 'mummy:', 'keen.', 'siamese...', 'leash!', 'breed..', 'everdeen', 'alhamdullilah...manyaw', 'selma', 'characterful:-)', 'cageing', '(ann', 'blissful,', 'adopt~', 'sandbox,', 'girlgal', 'rescurer', 'ogen', 'sporo(a', ',any', 'jz', 'setelah', 'keisha,', '贪可爱，没耐心-非诚勿扰', 'greedy...i', 'nutriedge', '6)are', 'worming,', 'vocal..', 'heterochromia', '(interested', 'white..her', 'moe', 'menjaganya', 'philip', 'call/msg/whatsapp', 'afoption', 'factory).', 'pup,', '•leader', 'in-law', 'joy,', \"'no\", 'rarity,', 'overall.they', 'alone....and', 'along:', 'find,', 'day...a', 'month,two', '(horrible', 'adoption.', 'inquiries,', 'green/', 'commands;', '29/9/10.', 'cheras).', 'tempoarily', '.rm', 'kontot(bukan', 'birthday:', 'flat-face', 'asma/lelah', '(5km', 'cool...but', 'twice,', 'meantime.', 'viewing,', 'dikurung.', 'so!', 'strenght.', 'ok.)', 'adoptme', 'lumpur,', 'tables,', 'd.o.b:20/9/10', 'mencium', 'partially(any', 'doofus', 'muka', '#adoptsherlock', 'babe~', 'pickels', 'kotor.', 'eyes...been', 'activity,', 'thne', \"'kunyit'\", 'terdaya', 'bapoo,', 'sy,', \"'silver'\", 'vaccin', 'home,unfortunaly', \"sharpei's\", 'follows.', 't]', 'menyusu', 'dogs...', 'roadside.quiet', 'restaurant.very', 'fault.', 'feed.i', 'white-ish', '(morning', 'doggies!', 'nicky', 'slim,', 'abandoned.', 'turf.', 'baobob', 'shouldnt', \"jessi's\", '#helpauntylim', 'left:', 'everywhere,', 'solty', '-+', 'orally.', '~yam~', 'mickey,', 'non-animal', 'ccc', 'around..', 'old.', 'english!!', 'sg.long,', \"she'l\", 'bersihkan.', 'pregnancy.....', 'hunter;', \"'montel'.and\", '如果我吸收能力慢，请给我一点时间。', 'tgk', 'lives#adopt', 'medication)', 'ginger,a', 'her.she', 'names.', 'bells,', 'johnny,', 'distemper.', 'maju,', 'accommodation/owner', 'injured.she', 'coloured.', 'neko-chan.', 'cn', 'lot!),', 'lookalike.', '\"brains\"', 'toona', \"jie's\", 'layla', '].', 'tables.', 'kulim,', 'fanny,', 'anda..kucing', 'tanjung', '>.<', 'black.', 'caramel’s', 'said,', 'pencinta', 'www.youtube.com/watch?v=ujaamayzmae', '(urgent', 'people).', 'far...', 'charles', 'jawi', 'friendly:', '-------------------------------------', 'car.', 'free!!!', 'kali..', 'homez', 'free,the', 'babyboy..', 'am!', '\"adopt,', '*kl.', 'nishi', 'paws~', 'that.', 'mutiara', 'adopters/fosterer.', '-food', 'cute,adorable,clever&active', 'gr', \"lap-cat'\", 'trained..very', 'stolichnaya,', 'dekati.', 'motorcycle.', 'mixed.he', \"'botak'\", 'country,and', 'foodholic,', 'adopt,i', '(26.9.)', 'already..so', '(alor', '(grace).', 'kieran', 'kill)', 'skin,', 'mongral', 'rachel', 'dispenser,', 'lap,', 'lagi.', 'compliants.', 'info.dont', 'ticks/lice,', 'centrepoint', 'did.', '(indication', 'pihak', 'janganlah', 'help?”', 'record,', 'adoption..very', 'ritz', 'hrs.tq', 'may.', 'behaviour.', 'ya.', 'kurung..', 'hair..he', 'email-', '(call/whatsapp).', 'lonely.', 'rescue/.', 'snookums', 'passionte', '..iwould', '-he', 'phenomena,&', 'month.looking', 'ulcer.', 'catniss', 'boots,', 'ikut', 'mlm', 'weight,', 'us...', 'fostered!', 'konw', ')...sooner', '(important)', '7weeks,', 'taximan', 'deal,', 'clothing,', 'lovely.anyone', 'luluh', 'umah', 'us?', 'die..sangat', 'msg', '(understands', 'brownish.', '===========================================', '2kg', '2/8:', '14may14', 'two.', 'itself.', 'lelong.', 'bbq', 'gigit2..die', '(canned', 'ni??', 'tel.', 'maggie,', '6-months.', 'away,', 'didnt', 'mother(a', '(twinkle,buddy,sparky', 'oakland', 'mengikut', '11am-8pm,', 'female..they', 'ming.', '35,', '住在允許養寵物的房子', '(wags', 'dog,or', 'kg', 'play;', 'bawah.', 'american', 'qiut', 'adopt..', 'once).take', '....we', 'shephard', 'aisia', 'shoe.', '(hema).', 'kttens', 'kota', 'hurt,', 'rawhide.', '\"come\".', 'family...please', 'issebelle*', 'clawdette', '把他视为家人，好好的用爱对待他', 'pet\"', 'home.dumped', '.（家人允許）', 'sorry,', '(rm)*', 'please..please', 'says..hailey', 'parasite...', 'vets,', 'brownie..thanks!!!', 'boss...urgent', 'sayang.', '😍', 'eecho', 'afraid,', '-laid', 'money.', 'jil', '\"megan\"', 're-homed', 'ml', 'hye', '-sape', 'firdaus', '3(check', 'gandalf', 'soon...i', 'dog..pls', 'kesemua', 'photos).', 'apartments(if', 'giabt', 'chest-snuggles', '1-2months', 'at../', 'randomly.', '\"sunny\"', 'feed,', 'sheela', 'white-colored,', '(aunty', 'permission.', 'mid-feb.', 'spots,', 'cm.', 'twinkie', 'malim', 'fiesty!', 'implies.', 'disgestive', 'arranged.', \"'fetch'\", '\"surau\".', 'britcare', 'salam', 'berdarah2.', 'nak,', 'loud).', '**selection', 'brownish/black', ',so', 'meals,', 'poison,', 'mowgli', 'adakalanya', 'demolished.', 'favour', 'aging.', 'rescued!', 'play-dates', 'progress.', 'kids,', 'kindness.', 'selamatkan.', '.location', '“spot-on”', \"🐾let's\", 'preference.', 'male(1brown&2yellow)', 'follower,', 'nov,', 'awwww.', 'shadows.', '3-month-old', 'mazda', 'dilanggar', 'emmy),', '4-5months', 'walcome', '*molly', 'mr', 'chd', 'old(puppies)', '\"menapause\".', '1.75kg.', 'pumpkin,', 'female-7', 'cat..he', 'ace.', 'companions:', 'old.pls', 'ss19', 'gwayne', '\"stranger', 'independently.', 'jb:-', 'nanao', 'siblings,', 'cute-looking', 'clan.', 'ideal!', '*b', 'takpe.', 'taro,', 'swollen)', 'saujana', 'trips,', 'details).', 'hit-and-run', 'there..her', 'ok?', 'colors.', 'any.', 'trusting.', 'pregnant.cute', '希望可以盡快給他找一個永遠愛他的家。。。。', 'that?', 'colouring）', 'tido.', 'bkt.bintang', 'active.he', 'cases,', 'heelp', 'recovered;', 'le', 'b.', 'outgoing.', 'er..', 'forehead,', 'loki', \"susu'\", 'group,', 'keluarga.', '-cepat', 'cashew.', 'comot', '以為狗被我們带走了,', 'guinness,', 'be:', '\"apple\"', 'heartworms,the', 'bottle/syringe', 'sarcospic', 'additionally,', '-。', 'twilight,', 'tapi,', 'alien.yes.', '7-month', ',boleh', 'beline,', 'elok..tanx', \"'compound'.\", 'owner..she', 'roundworms,', 'jer)', 'breed!', '(normally', '(male),', 'phew,', 'rambo,', '(shi', '/13-i', 'realling', 'louis-boy!', 'long(like', 'do..', 'characters,', 'uniten', '2.kitten', '3.7.', '5mths', 'adventurous,', 'blacky.', 'time...', 'breed.they', 'at,tq', 'baran,', 'foster/', '7months', 'meowww...meow...meeeeoooooowww!', 'leaves.', 'problem...she', 'berkuasa,', '(house', 'couples,', 'him,that', \"gary's\", '[dog', '-domestic', 'mocha.', 'suzi.', 'them,i', 'us!!', '\"forever', 'climb.', 'jing2', 'payment!', 'kevin.', 'jadilah', 'aggresively', 'villas,country', '6.30pm.', 'rooftops..however', 'poisoning).', 'open-air', 'had,', 'necessary),', 'spayed]', 'dog,healthy,super', 'vaccinate.', '😅😱', 'area,she', '0.1.6.6.6.6.5.1.7.7', 'warna),', 'lexi', 'vivian', 'male)but', 'ago,looks', 'beforez.', 'oustation', 'soon;', 'dont', 'emaciated,', 'livelier.', 'sanat', 'mins)', 'khor)', 'al', 'dibiak', 'banyak-banyak.', 'mon-thur', '(having', 'dogs..', 'crystal.', 'kitten..reason', '.14)...please', 'keje', 'call/whatsapp:-', 'dirty/pee/poo', 'cares~', 'others..', 'kitzyme', 'only.please', 'elle', 'returns,', 'home..we', 'cathers.', 'danger.please', 'hesitation,', '-eating', 'revisions.', 'kembang)', 'family,and', 'area...ever', 'leo.', 'jantan', 'believe.', 'apa2.', '3months!', 'engish', 'pettable.', '(daily;', 'good-hearted', 'cages)', 'indah', '3.stop', 'seberang', 'tido', 'pleae', 'kebasahan', 'oct,', '1.burp', 'plihra', 'aggie.', '(dark', '(ms', 'kucing.dan', 'kemuning,', 'k.', 'demetri.', 'area.or', 'certs.', 'mana,then', 'kok,h/p:', 'looking..looking', '---------------------------------------------', 'safety,', 'herder.', 'vax', 'kuarters..', 'enterance', 'kan.', 'pm/whatsapp', 'yuri', 'really!!', 'grey/brown', 'technology,', \"en.sanusi's\", 'guarding.', '#independant', 'certificate.', '‘come’', \"'homeless'\", 'cp4', 'fur,cute', 'putra,', 'lingga', '>>', 'whisky.', 'herbie', 'merupakan', 'sgt..mkn', 'months..so', 'taming.', 'unemployee', 'found.', 'alote', 'stroke.', 'her!', 'oscar', '6/-1/', 'henry,', 'kibble...very', 'time.)', 'pregnancy)', '24hours', 'messy,', 'yoda.', 'friendly..his', 'adopeter', 'car..her', 'hasina/aiin', 'bite…', 'lip.', 'pon', 'not-neutered', 'david', 'malacca', 'examined.', 'dress-up.', 'mk', 'castration.', 'terus.', 'makanan', \"emails.'\", 'tremendously,', 'laika', 'rukun,', 'body:', \"'siblings'\", '(mini', 'kibbles..kedua-duanya', 'growing,', 'old..short', 'nowadays,', 'prem', 'dibelai.', 'forever^^!', 'chanteq(d.o.b', 'old)mother', 'on:', 'monitoring).', 'background.', '#allow', 'livez', 'terpaksala', 'shyness.', 'walk-in', 'doosan', 'aminah', 'intelligent(', 'jojo', '31/at,', 'furrmily.', 'okie', 'reese', 'costs,', 'desa', 'maid,', 'girl.anyone', 'siblings,but', \"'luckie\", 'mrs.', 'corgi..', 'shuttlecock.', 'adorable,very', 'dealers***', 'sisi', 'sepang.', 'foir', 'natasha', 'her.call', 'pergi.', 'grows.', 'manja..got', 're-captured', 'sangat.', 'monica', 'fleas(got', 'convulsions.', 'wire,', 'done.', 'nurturing,', 'them(one', '(5th', 'de-fleed', 'selsema.kini', 'pemulihan.', 'c:male', 'old..the', 'ivermectin', 'face!', 'must,', 'family.i', 'vacinnated,', 'pics.', 'kittens.no', 'philos', 'allergy,', '(feb', 'bai(9', 'over..', 'leela', 'uncles.', 'maju.', 'warmth!', '(demotex),', 'season),', 'permanant', \"home'\", 'watsapps', 'cockroaches,', '2kittens)*', '(b&w)', 'tambah2', 'zul', 'ellen', 'september', 'post.', 'her..()', '7eleven', 'enjin', 'shar-pei', 'tyger', 'utamakan', '*preferred', 'opportunity.', 'b4', 'yrs)', 'points,', 'passerby.', 'neutere.', 'chyna', 'alam,setia', 'veni', 'noura', 'trained,', 'jason', 'adoption，3', 'yestrdy...', 'hanye', 'them,will', 'butterworth,', 'playful..pls', 'days!!!', 'wonderful.', 'obedient,alert,', 'miracle.', 'sure...', 'cause!', 'subsidy,', 'operation.', 'keyad,', 'homebreed', 'honking.', 'acer', 'itseslf', 'tame.', 'f1.', 'menangkap', 'accident-', 'loyalty,', '(video', 'melalu', 'unsuccessful.', 'allowed\".', 'wallahualam.', 'her...just', 'semambu', 'mongrel,', 'another.', 'roadside,', \"'give\", 'cute).', 'lian,', 'favour.', 'neutre', 'sassy.', '吉隆玻', 'itsy', 'melaka,', 'thankyou', '(calico)', 'routine,', 'connection!', 'disia-siakan', 'ashley,', 'eyes.a', 'memey', 'actually)', 'delivery.', '....now', 'tail:', 'mengizinkan.', 'around)', '(ipoh', 'realise', 'training)', 'tq)', 'escalating,', \"its'\", 'walked,', 'ashey.', 'mertajam', 'becoz', '******serious', 'pudu', 'txt', 'h20.', 'rumah,', 'dia...', 'pairs.', '1.30-6.30pm.', 'abu', 'kitties,litter', 'lice/', 'strong,energetic,friendly', '.anyone', 'bu11', 'mcdonald', 'subsidise', 'poo.', 'greedy.', 'location:usj', 'roadside.she', '-farah', 'ipad', 'purrfect', '4-mth', 'fungus.', 'rub\"', 'female..', ':ipoh,perak', 'amat.', 'sabby', 'died,', 'bangun', 'vaccn:no', '*birth:', 'catch..u', 'toranj', '(depan', 'mission.', '...call', 'coon.she', 'barks.', 'vocal,', 'house(shah', 'speaking.', 'it´s', '-cat', '(paw', 'pulangkan....tp', 'jua', 'noon):', 'setiawangsa', 'sejak', 'reply.', 'kemam', 'to;', 'menyendeng', 'mami.....', 'mum..', 'siakan.', '(bottom).', 'julien', 'kawaii', 'boy....', 'comers.', 'jasper,', 'dog),', '(sonia)', 'oliver!', 'amik', 'ditch.he', 'jilly.', 'marble..sy', 'related!', 'hindhi)', 'requsting', '：兩個月', 'kawaii,', '(green-ish)', 'breeding...', ',sweetest', '.so', 'menjaganya...', 'days,', 'outside!)', 'muzzle.', 'jrts', 'posted,', 'delta,', 'joy~', '\"snowball\".', 'loyal.although', 'me../', 'implanted.', 'home:', 'jinggo', 'growing.', '2yrs', 'ackie', 'bengkokkan', 'queensbay,', 'arrange.', 'lavvv.', 'last,', '(felv)', 'obidents', 'lagi..sy', 'dimsum', '這是我朋友救起來的狗狗，但是他不能留下它，希望有好心人可以給狗狗一個家。..', 'haha.', 'hi~!', 'tv.', 'long-bodied', 'emotional.', '3(molly', 'cuddle....please', 'twigs.', 'people(people', 'spca/paws', '-rishi', 'plese', 'loving,,', 'latar', '2months.', 'owner..)', 'me.visitation', 'late...', 'december,', 'colby', 'narrow).', 'survivor.', '(diet', 'eli', '(small', 'judgment,', 'exuberant.', 'e9.', '//update', 'vacation.', 'all...so', 'lobby.', 'any:', 'girls...', '(虽然抱久就会发脾气咬人', 'frees.', 'cats...', '来人啊...赶快领他回家吧', 'belajar', 'jane:', 'puffy!', 'term...', 'hobby,', '____', 'najla', 'furniture,', 'well-behaved.', 'kirbie', 'manners.', 'infections.', \"rid'\", 'kurungan', 'whine...she', 'cheers.', 'dog........unable', 'sherlock.', 'attention-seeking', '(previously)', '*responsible.', 'alright,', 'here:(', '(tmpt', '(soaked', 'pray...and', 'tom!', 'chen-chen', 'surrendered.', 'cendol', 'boyboy,', 'color..she', 'them,they', 'flea-infested.', \"couldn't.\", 'vaccinated)', 'bed).', 'buang.kucing', 'droppings.', 'most.', 'aldy', 'already~for', \"millie's\", 'healthy.we', 'cockroaches,also', 'potty)', 'athletic,', 'rm45', 'first.they', 'messy经过义工细心照顾下，完全健康了', 'roads.', 'ariful,', 'eyesight.', 'pack,', \"shape/haven't\", '(shiba', 'fiona.if', 'more.can', '(vaccination', 'tomorrow,', 'live..please', '19,', 'birdy', '(judging', 'powder.', 'toblerone)', 'training:', 'kdg2', 'ito', '.very', 'update*', 'betine', 'expanded.', 'husky.', 'kereta,', 'huggie', 'bik', 'body.', 'kopitiam', 'them....', 'holaa..', 'refuge.', 'cheers!', '-no', 'persian-like', 'lapphud', 'as-puppy-06', 'anyways,miss', 'met,', 'tallulah', 'succesful', 'seriously.', 'kedah', 'pet?', 'bob-tail', 'office..', 'mimo,', 'entah', '.10.', 'snow)', 'assitance', 'sheba', \"molly)'s\", 'roundabout.', 'simple:', 'feeder.lucky', 'dotdot', \"assalamu'alaikum\", 'watsapp', 'interested?', 'selangor.*', 'awang', 'qassey', 'kitten:', 'eyes.', 'urgency.', 'suitable).', 'berempat', 'didn’t', 'smile.', '(kaler', 'pneumonia..', '(wednesday).', 'homes.', '(elaine', 'worse,', 'fingers.', 'merata-rata', ').', 'diperlukan.', '4!', '•性别母', 'interesting,', 'home.already', 'snake..that', 'neck,his', 'guy!!!', 'isnin', 'handsome.', 'happened,', 'in-house', '-went', 'unncessarily.', 'boy.,', 'admited', 'look...', 'melon,', 'can,', 'ciri2', '(non', '\"cuteness\".', 'hema.', 'de-wormed.', 'sama', 'youyou,', 'mama\"', 'divorcing.', \"sochi's\", 'blind.the', 'bubu?', 'pendiam,', 'jacko.', 'month,', 'back..', 'luckie.', 'dalam.', 'coloration.', 'donatella', 'they...', 'time,shaking', 'woriied', 'booking.', 'owner:their', 'adopter,please.', '3babies', 'nimbus.', 'you’d', 'addorable!', '~male', 'daring.', 'littermates,', 'ipoh.', 'kicik', 'training,', 'pari', 'llke', 'rambut', 'brothers,', 'bangel..tp', \"vet,they're\", 'color:', 'veterinary,', \"strangers'\", 'lovers~', 'satying', 'wolfie', 'play-bites.', \"'almost\", 'strong!', 'ready,', 'low-maintenance,you', 'wifes', 'priority..', 'excuess', 'needs.(', '请联络(hwee', 'teach.', 'aswell,', 'twisted.', 'moglet', 'ever,', 'eat/poo/pee', '*some', 'language:', 'purposes.', 'lineage,', 'stay,,,,please', '21th', 'patterns.', 'feeding.', 'neuter/spaying', 'domestic.', 'rate)', ',bathe,leashed', 'well-defined', 'dog.she', '(mazuvil)or', 'bed,', 'representations,', 'mengalu', 'lapar', 'lego', 'place..juz', 'hair)', 'forehead.', 'muscle!', '(3yrs', 'bulan..', '***important', 'luna.', 'lot,\"soft', '-yellow/orange', 'gal..easy', 'alert,he', 'curiosity.', 'puppiesd', 'come,sit', 'petfinder..', 'brownie..', 'chiko.', 'bei', 'adopters,', 'tablets.', 'biege', 'zaty', 'deserve..', 'bumi.', 'mostly-white', 'strays.)', 'cold.nobody', 'tips)', 'long).', 'hug)', 'coco.', '>>>', 'furkid.', 'mask\".', 'very2', 'on./.', \"neighbour's.\", '\"cry\"', 'fynn', '现在发炎不能将伤口缝合，要到星期一再观察如没发炎再缝合。', 'fully;', 'phua', 'diletak', 'fantabulous', '3.home', 'fendi', 'sementara', 'nasty.', 'nina', '2/2/', 'area....', 'non-coloring', \"tommy's\", 'aryu', '1个月多', '2-months', 'snowbell', '3)since', '5dogs', '两只宝宝被退养，还有3个宝宝找家，有人愿意给他们一个家吗？', 'females.', '(sits', 'thereafter,', 'flea.', 'pils)', 'usj.', 'sepenuhnya', 'cats.....and', 'home/family...', 'amazingly,', 'cat-proofed,', 'tiger!', 'there..', 'rd', 'non-halal', 'me..i', 'elita', 'nervous,', 'klg)', 'medicines.', 'maturity:', 'october.', 'year，', '(available)1)%', 'appear...', '-----------------------', 'sms,', 'treatments.', 'q.', '(treated', 'matters,', 'syarat', 'website.', '。...', 'home????', 'lead.', 'dangerously.', '8kg,', '(free', 'akan', 'home...i', 'outisde', 'shoelaces.', '(his', 'skin,ribs', 'baby)!they', 'everyday.', 'temperament..just', 'compound/inside', 'foundation(our', 'food...someone', 'ella', 'cuteness,', 'lg..', '/09:', 'vet-checked,', 'gal.all', 'steadily,', 'rescued.the', 'smiling.', 'member...', 'soon..others', '[update', 'adopt.pick', '\"bear', 'lucky....mddb', 'jabatan', 'abby', 'dia..', 'smart.i', 'seated.', 'walks--', 'cats.paw', 'alpha.he', 'dog-owner', 'mr.isaac', 'coloured', 'mix2', 'tnc', 'excitement,', 'love..if', 'jual', 'wating', 'guys..:)', 'home.which', '1)love', 'kind-hearted', 'required.', 'saya', 'bertujuan', '4...', 'keadaan', 'leisuremall', 'kiara,', 'mum..hehe..because', 'shape...playfull', '*you', 'stocky,', 'meal,', 'shera', 'lalat', 'softly..tujuan', 'possible)', 'nelly.', \"'human\", 'berkeley,', 'akibat', 'addition.', 'wiggliz', 'correctly,', 'pepper;', 'fail.', 'cats.looking', '17]', 'paw(only', 'friends)', 'meet!', 'micro-chipped,', 'clean-sand', 'cantik..mari', 'group.', 'enquries', 'member!', 'me..diana', 'preys.', 'hideyoshi.', 'tails.both', 'kyan.', 'adaptive,', 'month’s', 'visitations.', 'neutered/spayed,', 'lice..', '...we', 'adapt.', 'family.if', '(whatsapp)', 'each.', 'parasites,', 'beline', 'loving,caring', 'mana2', 'yu', 'caging!!', 'ss14', 'ni..tapi', 'google', '.not', 'allowed.', 'abroad.', '14kgs),', 'shankar', 'namun', 'accomodate', 'aktif...', 'berdikari.', 'kin:', 'belly-rubbed,', 'supplements,', 'mandi.', 'puppy.he', 'tame~', \"much,it's\", 'rm50.', 'chipped.', '(miar)', 'medium/long', 'vico', 'of.', 'yeochi:', 'diadopt.', 'infectious.', 'memberi', '\"underneath', 'rantau', 'good.', 'prescription,', 'jenis', 'sundae.', 'owner,been', 'lazy).', 'selesai.', '1.kitten', 'easier.', 'excitable.', '现在講鳥話!!!!她很活潑,', 'vaccineation,deworm,', 'bi-colour', 'breeder.', 'pie,', '1。keep', 'noemy', 'seeker”.', '它们不介意你是富有或贫穷，它们只求餐温饱，安全的地方还有主人的关心与爱~', 'gm', 'owner.please', '(smaller', '(1)have', 'that!thanks', 'operations.', 'cave,', 'toothless,', '/16.', 'oreo.', '\"german', 'temporary,and', 'babycat.', 'walk!', ':3)', '2kitties', 'luka', '(73', 'kejar', 'thriving.', 'slighly', 'shades.', 'ex-pat', 'cute.the', 'campus,', 'ppl.', 'yusof', 'somewher', 'kucing-kucing', 'petronas', '(raining)', ':).....', 'kaira', '店家告知她之前一次所生的一群小狗,', 'complaining.', 'playfull,active', 'pups.3', 'cat!!', ':30hb', 'return,', 'mongrel).loves', 'trainer,', 'gintut', \"leo's\", 'anda....', '(mpk)', '(please,', 'straight-long-bushy', 'tht', 'everyday?', 'rm7.50/per', '(bu', '只把她结扎就好,', 'rescuer/fosterer.', 'alam/', 'sengaja', 'sekitarnya.', 'hand,able', 'rumah..', 'now...she', 'mpaj)', 'facebook.', 'abang...tp', 'angkat..ada', 'raven,', 'mr.biggles', 'sand)', '21/7.he', '(pastel)', 'adopters)***:', 'dworm', 'park,temporary', 'multy', 'xde', 'whatssap/call/sms', '(dogs', 'baby.however,i', 'cheeky,', 'ny', 'doggies),', 'right.', 'abondon', '(nani).', 'reservation.', 'own,', 'girl).', 'podengo.', 'johor', 'i?', 'seeker(probably', 'beautiful,lovly', 'piggy)', 'owner(s).', 'diberikan', 'encourag3d', 'picture.', '2]', '17/1/17', 'eg.', 'da', 'usj18', '(separated', 'milk....really', 'pester/follow', 'other.if', '(thunder/fireworks', 'carly', '“wee-wee”,', 'her..but', 'kiki.', 'melakukannya!', 'stores.', 'ariyanti', 'expenses.', '(25%)', 'soul.', 'amoung', '如果我们可以选择自己的出生，我想我们大概不会流浪，不会日晒雨淋，不会没有饱饭，甚至不会被安乐。', 'leg(back).', 'him.when', 'to)', 'dog...the', '-10kg', '(杜賓色)', 'dottie', \"it'll.\", 'noisy).', '/09', 'complete.', 'stitching.rescuer', 'thunderstorm,', 'her.right', 'attitude.', 'cat...love', 'minimum.', 'profiles.', 'below!', 'aeden', 'dalyla', 'wrong.', 'videos,', 'beagle.it', '(petaling', '1.8.16;', 'assistant,', 'neighbour),', 'new.', 'two!)', 'huggable,', 'pur', 'beds,', 'temparory,and', 'vitamin,', '(please', 'slap,', 'home.\"', 'april.new', 'boy...i', 'home..thank', '：小春卷spring', 'inoculations.the', 'healthy)', 'tuan', 'tggl', 'fully)', 'lansung', 'etc)', 'tunku', '*adopters', 'bambam', '(yup,', '•meera', 'love/attention/discipline/exercise', 'exams.', 'poby', 'studies,', 'belum', 'premise.', 'sultanah', 'cat.please', 'zhi', 'bela.', \"kickin'....\", 'domesticate.', 'no:', 'mdm', '最近我要出国读书了，所以想找一个疼爱狗狗的人收养它。', 'gender:', 'tam)-', 'me,i', 'collapsing.', 'efforts.', '(no', 'wynn.', 'hyperactiveness..', 'foster/rescuer', 'pug,', 'doremon', 'mata.', 'immediatley', '8-month', 'wasy', 'down..', '[vaccinated;', 'buttercream', 'seekers.', 'walk.she', 'work,,', 'river.he', 'over,', 'yuvi', 'acquired,', 'worst,', 'feirce', 'behaviour,', \"'cooler'\", 'sologirl', 'lok', 'taran', 'downpour,', 'eat,drink', 'happen).', '(persian)', 'does,', 'jing', \"kiew's\", 'keluar', 'mininimum', 'cq', 'sabah.', 'bangdingkan', 'faith?', 'noizy', 'adoption....', 'bengkok.', 'cats.friendly', 'breed-female,', 'late!', '(kittens)', 'ish.', 'supervision),', 'family.....if', 'pain,their', 'sealed.', 'leng.', '(got', 'tranportation', 'dangerous.has', 'sederhana', 'nine.', 'please..as', 'decide,', 'pets...we', 'currently,', 'required!!!', '雪兰莪被爱心姐姐救援并照顾着，可以给mia一个好家的朋友，请直接联系以上号码哦感恩~', 'lme2', 'adopton.', '(around', 'fun-loving', 'rasmi', 'dawon', \"(bubu's\", 'furminator.', 'here.', '(jb', 'around,we', 'wage.', '-address', 'male-2mths+.', 'heartworm.', 'hair,small', 'have..', 'kumbang.', 'folks.', '____________________________________', 'sterlised.the', 'snow.', 'closely.', 'flavour)', 'kelaparan.', 'moga2', 'human,she', 'moisy', 'calls/', 'shiki', 'maru', 'botol', '♦already', 'try.', 'perfect.', 'anaknya..', '(booked)4)color', '-rm.', 'urgely', 'kuo', 'adoring,', 'stooges.', '只能继续照顾他们', 'months-2', 'box,', 'exercise).', 'mentally.', 'malaysians', 'charges.', 'eching', \"drain.she's\", 'girlfriend/', 'called,', 'telok', 'abandoned..', 'fuzzy!', 'raining.', 'moscow,', 'bit!', 'terutamanya', 'sebelum', 'mika', 'responsibility.', 'sg.buloh', 'jasmin,', 'again?', '\"go\"', 'kuchai', 'mama:', '(preferably)', 'one...', 'round)', '*doctor', 'fully.', 'cur.', 'klcc.', 'qiqi', 'semut', 'farm.', 'nakal.....', 'iams/blackwood', '\"taikoh\"', 'chihuahua!', 'bell.', 'groomed).', ':-)my', 'kucing', 'entertained.', 'rescue,', 'kasihan', 'priority.', 'trainable.', 'afrain', 'newspaper)', 'watson', 'twenitu', '(9', 'owners”…..', 'guna..', 'ty', 'everyone,and', '2/', 'yoyo', 'tomboy!', 'call/sms', 'meo', 'tenggiri', 'daddy.', 'dingo.', '(cause', '(commitment', 'rats,', 'heat),', 'bertempat', 'puppys', 'caging/leashing.', 'free....his', 'mei把一家人都接回家。', 'neg', 'blindness.', 'nicholas', 'smk', \"maam'\", 'pups...', 'arived', 'dier', 'sick..', 'berkawan', 'programme', '“come”,', 'hitam', 'mix-siamese', '🐱for', 'temporarily,', 'topsy.', 'louse,', 'auddenly', '我们真的需要一个永远的家，一个有爱的家，只要你踏出第一步，我们就可以继续为明天奔跑。', 'comfirmed', 'roof,', 'beng', 'anggerik/taman', 'home.pls', 'grandma’s', '10q', 'lift.', 'adopter/fosterer,', 'unnecessary.she', 'welcoming.', 'have?', 'shop-lot.', 'barking.millie', '你我做起。', 'so.must', 'problems).', 'everyday...i', 'all,babyboy', 'jd', 'hand..and', '5yrs', 'post:', 'penyayang', 'bath!!', 'nkve.', 'train.can', 'donate,', 'mood...very', '(nita', 'cream/white,', 'inseparable!', 'random,', 'notification.thanx', \"'stay'\", 'direction.', 'foreignors', 'through.', 'by:', 'belang2', '-fee', 'teh)', '\"philosophy', 'world!', 'europa', \"(he's\", 'noise.', '5-year', '地区：甲洞/吉隆玻', 'vaccination(she', '-siblings', 'pug.', 'eyes;', 'scarlett:', 'a-tan', 'adopt..saya', 'orange+white', 'tail),', 'family;', 'izzie', 'approved.', 'jiran2', 'berminat,kontek', 'peanut.', 'zabell', 'bangi/kajang', 'injure.', 'states.', 'wanderiing', 'now..i', 'patrick', 'periang,', 'possession,', 'go..', 'dog-friendly.', 'breast,', 'shoplots', '.meow', 'minami', 'singapura', 'news.', 'ofc,', 'recover!', 'takesgood', '-pong', 'fayja', '\"outside\"', 'elvinfew', 'night,unaware', '(email', 'gisele', 'other...', '喜欢咬布', 'dj.', 'medically,', 'doggy...', 'arent', 'right,', '(peri)', 'memuaskan', 'dogs.i', 'bwk', 'peliharaan', 'boy.he', 'respond!', 'crying.', 'trust.', 'trained).', \"all..that's\", 'metot,', 'everywhere!', '1yo.', 'neutering..(medical', 'kitty..', 'filth,', 'intelligent.', 'selangor/kl', '让她动双目摘除手术。', 'perlindungan', 'rehome,owner', \"(pet's\", 'being,', 'sounds.', '谁可以给她一个家', 'sockie', 'tun.', 'best-looking', 'catchers.', 'adopted!yayy..', 'baley', 'interest..pls', 'paws).', 'attract,', 'luas', 'caramel.', 'fearless.', 'james', 'sophia', '7e', 'barking...when', 'contact;', 'pulak...', 'helpf', 'silver-grey,', \"girl.she's\", '\"talk\"', 'depression.', 'train,', 'damasara.', 'kisses).', '(=^.^=)', 'reading!', '1)black,brown', 'shows!', '所以希望可以找到可以真心对待他的新主人', 'cute,active', 'training....and', 'alternately,', 'cheeky!', 'court,but', 'mereka..dulu', 'bila-', 'jiran...saya', 'lemah.', '11months', '地区', '7/3/10.', '\"encik', 'playful,shy', 'stripes,', 'labrador', 'brownie,', 'tong,', 'only...', '(muzzle', 'vet.clinic', 'polpot..rosemerry..', 'be;', 'toya', 'tail,black', 'k.l', 'skjap', '(mr.', 'pui', '4th', 'opinion.', 'dog.probably', 'swiss', 'guestroom.', 'up...!!', '.tel:', 'ground.', 'orphan,', 'ranny', 'perihatin', 'bu', 'up...but', \"beno..it's\", 'bertabah', 'hours,', 'rider,', '3toddlers', 'problem).', '-im', 'old,', 'nxt', 'only,drink', 'love.hope', 'instructions.', 'showered,', 'animal!', '1-2', 'things)..', 'padat', 'me...and', 'murni,', 'me??', 'perdagangkan.', 'vetri', 'diorg', 'metropoint', 'normahani\"', 'buloh.', 'neck.im', 'faces.', 'mercilessly.', 'sgt!!', 'banyak2...', 'critters.', '*breathes*', 'pair).', 'comel….”.', '2month', '8kg', 'himalayan', 'circumstances....', 'sayanginya,', 'was!', 'know,poor', '*update', 'cheetah.', 'doubts,', 'prolonged.', 'lovers..', 'needs!', 'surprised!', '请带我们回家...公母一样，只要结扎了都一样...请给母狗一次机会，一次活下来的机会。', 'test)', 'activ', \"'jetting'\", 'breed.though', 'odorable', 'strays.their', 'why)', 'bread)', 'honey,', 'slalu', 'gambang,', 'striped/seal-point', '\"highlights\"', 'go-lucky', 'area..interested', 'gelang', 'pun,', 'fun.', 'fullest.', 'bigger...', 'needs)', 'excuses.', 'base-color', 'malaysia,and', 'adoption.....fendi', ',now.healthy', '6kgs', '(bukit', 'pf:', 'yellowish-green', 'chubby-cheeked', 'kacukan', 'minpin', 'bad:', 'description.', 'cages.', 'moods,', 'vanilla!!', 'babyhood,', 'pets.curerently', 'anyone,', 'ower', 'laura,', 'land,', '。。。', 'go!', 'senang.', 'sleep).', '25/6/.', 'cockeyed.', 'two..lady', 'spay(can', 'saiz', '分两次開刀,', 'on,', 'premium/super', 'kids.', 'excessively.', '(whenever', 'exciting.', 'box-trained', 'sickness,', 'p/s', 'gemok', 'menyerahkan', 'kyle)', 'sememet', ':d:d:d', \"salem's\", 'kennel,', 'bsh,', 'quickly.', 'tabby).the', 'merata...mereka', 'helena', 'mickey.', 'chicken/beef', 'bummer,', 'beautiful,loving', 'mine.', 'blaja..', 'less..', 'spayed)', 'rani)', 'urgent,', 'gray/black.', \",he's\", ',we', 'messy.', 'pair.', 'lv', 'hello.', 'current,', 'sebarang', 'sad...', 'home...^_^', 'screen.', 'humans.', 'tambun,', 'pukul', '4,', 'sewer.', '.your', 'ute', \"marnie's\", 'home...we', 'yellow/green', '已经被领养了,期望它们在新的家幸福和带给主人欢乐!\")', 'newcomers.', 'calls!', '1utama', 'constraints.', 'terrified,', 'left..', 'housepet', 'children?', 'pups,within', 'littlemgirl', 'kinrara...', 'canine.', '1-month-old.', 'broken.', 'later..', 'meds', 'separated.', 'spayed).', 'sprays/', 'home>', '因为多数人想领养的是可爱的小狗狗。', 'appreciate,', 'ordinary.', 'selayang', 'pacpac', 'dependable.', 'furrizens', \"po'\", 'cukup', 'ahtelete,', 'chubby,', 'terlampau', '(black/brown),', 'peepee&poopoo.', 'knowledge,she', '(whatapps/sms/call).', 'clever，she', 'train....she', 'tumpang', 'others!', 'adoption...urgent!', 'benarkan...perlukan', 'taller.', 'this..tq', 'ever-faithful', ':(li', 'almari', 'smudges,', 'soon......2nd', 'prayer)', '(neck)', 'extracted,', 'tiong', 'meewing.', 'ownership,', 'sockist', 'grey)...', 'october*', 'here.those', 'no1', 'annabelle', 'adoption.abt', 'heel,', 'bergegas', 'meeks', 'cat/cage', 'thanksssss...', 'gombak/', 'pm/call/sms', 'budak2', 'buy!', 'irresponsible.', 'hours...i', '(tak', 'himself.', 'bayan.lepas,', 'building)', 'stomach.past(nana)', 'fun!', 'much....i', 'donate.', '**********************************************', 'why..', 'restless,', 'qualities.', 'adopted.i', 'adopted...', 'actually.', '7/6/16', 'marlee.', 'mata', 'spayed/neutered..all', 'sad,i', 'kitten+white', 'mable', 'look-a-like,', 'deposit.', 'de-flea', 'dewormed)', '1pm-7pm........thanks.....', 'emjoys', 'syaridah', 'laidback', 'love~^^', 'female;', 'orange+black,2black', 'rice.', 'appetite,', 'alone..we', '-been', 'evo', 'ternampak', 'sms/phone', 'kiara', 'call/text/watsapp', \"'miao'\", 'louisa', 'recovery,', 'terselamat.', 'ditto,', '(?)...very', 'short,', 'female-2mth+.', 'highlands,', '-tail', 'vaccinated.', 'me..no', 'simultaneously.', '6-month-old', 'please:)', 'numbers.', 'whiskas.', 'type(large)and', '！他在我公司附近，它的主人8月尾要搬了，它们没地方躲了，请帮帮忙。。。！！...', 'thea.', 'god,', 'directly,', 'single-cat', 'sweetie,', 'pls!!!', 'active..cute', 'akind', \"din't\", '3-6', 'perfume,shampoo,dental', 'disertakan)', 'don’t', 'confined.', '打预防针，这些是猫咪应获得的医药福利。', 'million.', 'sweetie.', 'garden/porch', '*end', 'secretly.', 'ir', 'minute..', 'bungalow/semi-d/corner', 'noooooo~~~~', 'mall,', 'sat&sun)', 'showered.', '*11.7.17', 'commite', 'worms.', 'eyebrows.', 'jocelyn,', 'started!', 'total)..', 'wetfood(whiskas', 'milk.', 'blurry...pitiful', '*they', '2。vaccin', 'anymore..', 'minnie!', 'ever!!', 'car)he', 'home,and', 'templement', 'eachother...', 'bekas', 'strong,', 'hee.', 'male,slightly', 'prayers.', 'reason.so', 'best!', 'monster!!', 'flea-free,', 'nappies.', 'ppl', 'independantly.', 'scarce,', 'middle-aged', '(mr.goh)', 'down\"),', 'prihatin..', 'you!!!', 'sherhan,', 'pils', 'him.....', 'lass.', 'hana.', 'btw，he', 'itself,', 'kesian,', 'play-biting', 'boys?', 'nutrient,', 'free-roaming?', 'stages)', '~cing~', 'owner-to-be.', 'bugs!', 'virgin!', '华语', 'it...', '原来点家要装修,', 'please...interested', 'siberia', 'hungry).', '小白〈xiao', 'aggressive/crazy/dominant', 'same,different', 'vietnamese', \"ming's\", 'persuasion,', 'cocoju', 'ajar..kues..kues..kuess..).).', \"mum'\", 'sterilized.', 'laws,', 'fright.', 'confiscated!', 'silver-cream', 'completed,', 'anytime,this', 'gender.', \"wars'\", 'mereka', 'olsen', 'floor).', 'huged', 'vicky.', 'initially.', 'house!', 'head.contact.pick', 'bypasser', 'hometown.', 'spine!', 'preferred.', 'kutty', 'race?', '(b)', 'im', 'semakin', '-face', 'lux.', 'ille', 'traveled\"', 'visit,', 'ishikimaru', 'medication.meaning', 'hasveen-', 'jadi.', 'spray,it', 'kobe', 'milk-male,', 'mbpp', 'sgline', 'location.', 'self-collect', 'only******', 'that).', 'whyte!', 'finnish', 'doggie-snacks!', 'pasar', '(medically)', 'owner,', 'mengguna', 'nama.skrg', '2.3kg', 'cny.', 'cat:', 'borhan!', 'hukm.', 'parvo,', 'distress.', 'dipercayai', 'general.', 'austin', 'dibuka', 'vet,gives', 'taylor', '20/3/', '谁有家不睡，睡天桥地呢。', 'hiss.', 'whtasapp', 'stomach.', 'trap,', 'spay,money', 'they?', 'nights.', 'died.', 'nilam', 'badly.', 'cuts.', '\"me\"', 'others).', 'hubungi.', 'paper)', 'description).', 'only).', 'home...potty', '(quiet', '十月之前，否则结扎押金将不退还.', '(succelent', 'days...she', 'floor),', 'monge', 'inflammed', 'kitty,bunny', 'socialised.', 'litterbox', 'even.', 'beauty,', 'shys', 'dsh+russian', '2)', 'welcome..sorry', '>_', '80%', 'limit..so', 'susu,', 'beings.', 'biasa', '3mths', 'guardhouse,', 'pocket,', 'boycat', 'today!)', 'stokin..', '[finally,', 'rm15', 'birds.', 'mosu)', 'love-giving', \"'nurse',\", '------------------------------------------------', 'tummy\"', '\"duke\"', 'mother..', 'elok.', 'puchong,selangor.', 'requirement,', 'catit', 'mouth),', 'baggy.', ',potty', 'vet)', 'plse', 'jin', 'avoderm', 'friend/', '(f,', 'easy-to-manage', 'fur-dudette', 'puppy?)', '**conditions**', '/scratch', 'ali', 'hair/short', '26/5/', 'yoru', 'fear.', 'buzz.', 'sahaja.area', '.15,', 'gate...', 'soozie', 'cons:', 'fault...their', '.....', 'doors.', 'kampung.', 'beliau,', '--', '*kuala', '(yet', '1)black,', 'enquiry,', 'secrecy.', 'flan.', 'puppy.we', 'hema)', 'blackwood/regal', 'so,', 'setter.', 'dibiarkan', '(heard', 'c...', 'agressive', '(vet', '/08', 'sockist.', 'court6', 'u.s.', 'home)', 'bed..', 'out!)', '/11.', 'experiments.', 'wetfood.', 'necessary)', 'tin-foil', '%.', 'spayed,', 'dimandikan', 'owners.no', 'fluff,', 'note,', 'supermutts,', 'pragnent', 'behaviour', \"'manja'\", '(subang)', 'kelak', 'says,', 'fergi', 'panjang...cantik', 'chantal)', 'kitten,she', 'provided).', 'chrisy', 'tebrau', 'loves!', 'newborn,', 'eanted', '*sleepy', 'suggests.', 'updated.', 'vaneytha', 'tinggalkan..', 'sana.', 'travel.', 'include.', 'out-going', 'coquetry.', 'kelabu', 'hellow,', \"isn't,\", 'overweight.', 'numbers:', 'freedom,', 'gender?', 'floors.', '(whtapp)📞', 'kol', 'is)', 'home...very', 'screaming,', 'guest~', 'love,give', 'warmth,', 'balls...', 'cancer,', 'license-to-bark-situations', 'street...s.', 'caught,', 'commited', 'there.please', 'grey/silver', '19kg+', 'you..but', 'town.', 'spca,', '\"robotic\"', 'well-trained,', 'lain.', 'half-short', 'probably)', 'about?', 'alik', 'individually.', 'scratched/petted.', 'active..', 'membantu', '(rm6)', 'sam!', 'sterilisation', 'young,he', 'gustavo', 'unfortunately.', 'xpayah', 'disciplined,', 'kay', '.please', 't0', 'edwards', 'routine.', 'pawse', 'drown.', 'homed.protocol', 'move!', 'nie,', '♡♡♡天真无心机傻傻妹小岛在找家', 'mulia,', '1month', 'matthew.', 'okey.', 'ned', 'gray-long', '7kg', 'soon...', '**always', 'steets', 'middle,', 'sentry;', 'insects!', 'semenyih', 'blackwood.', 'running,', 'hillpark', 'affectionate/manja.', 'serious,honest,truthful', '✅lovable', 'sibilings', '*whatsapp/wechat', '16/5/', 'call:/', 'sometimes.', '(microchip', 'human.love', 'stranger/sounds', 'cemetry.', '•not', 'sherhan', 'whatsoever.', 'dog..for', 'old;', 'me,able', 'furfriends,', '(low-maintenance).', 'arabic', '她太活泼！找到的新主人全都送回来了qaq', 'comrades!', 'caress.', '(white/black)', 'apartments.', 'socialable', 'nie', 'number-', 'partner,', 'rm80', 'meredith', 'yet.mei', 'bright..a', 'sportman', 'there..all', 'pamper,', 'puppies.', 'way..he', 'janet', 'ears!!!', '\"rc\"', '(own', 'gingey', 'it!', 'dad..', 'included)', 'neuter,', 'suria,', 'now....yeayyyyy', '(trinity):', 'parents.', 'dont.', 'adoption!', 'discharge,', 'mui-mui.', 'bus!!!', 'fun-loving,', 'ozel..i', \"'nye'.he\", 'honeybun', '停車場管理單位又開始在我們上班附近捕捉小狗狗。', 'hartamas', 'female).', 'crowny.', '可爱小白狗寻找主人哦！', 'form.', 'adoption*', 'instead.', 'manja!!!!', '1month.after', 'at.', '(second', 'act,', 'caugth.', 'problems..', 'course.', 'nap.', 'seafield).', 'color(little', 'understanding.', 'mommy.shes', 'happily.', 'layback', 'mrs.yap', 'call/text,', \"'sit'\", 'negara', 'hama', ';p', 'soaked.', 'figo', 'day!', 'piglet.', 'medication).', 'disappointed.', 'senang', 'collection,', 'heyyyy', 'wednesday,', 'stevie', 'kesejukkan', 'colour)', '1year)', '7/.', '5-in-1', 'laa..org', 'sprinter,', 'red,', 'mth,', 'white-', 'compulsary!*', 'cats.she', '‘my', 'medication.', '...looking', 'sweet,', 'test/prevention,', \"jerry's\", '\"can', 'akela', 'fellow.', 'mimi.', 'carpark.', '***********************', 'ok,', 'fine...as', 'check-up.', 'interested:', 'e-mail:', '7)your', 'setiawangsa.', 'dickson', 'rentership.', 'rare)', 'circumstances..', 'majlis', '病死,', 'in-sight.', 'drink,', 'perhatian.', 'cat-', 'recovered.but', 'friendly，', 'chargesthe', 'family.unfortunately,', 'shepherd).', 'miaw2', '..she', 'justice,', 'down\".', 'scott', 'tigre', 'kisses.i', 'bored!', 'human..', 'sweeeeeetttt', '18,', 'separate..its', 'cuma', 'chang', 'nice.', '(dikkie', 'near.', 'grumpy.', 'excellence,', 'positive.', ':jasper', 'anywhere,', 'energetic!', '(cheras', 'charlene,', '-do', 'female-11/2', 'needed)', 'marschia', '7-8', 'tails.their', 'all-male', 'yery', 'jamuan', 'speyed,', 'dominating.visit', '•toilet', 'teddy,', 'huckjam', \"don'.t\", 'witb', 'puppy,coz', '希望你每天都可以带他去走走', 'beautiful;', '4.feline', 'pakai)', 'melo', 'rosemarie', 'cousin/', '(sold)4)color', 'companions,', 'updates/photos', 'secondly,', 'desire,', 'rumah....', 'highway....', 'plaque-remover', 'softly,', 'inhouse', 'ooi).', 'regularly...', 'definivly', 'kitten).', '🐶', 'unfortunely,', '-main', 'shown,', 'own!', '(aunty)', 'masters?', 'sunway/subang', 'abandoned.when', 'sabah)', 'newspaper-trained', 'buy,', 'mesra', 'chrissy', 'dog,and', 'children).', 'already,', 'haven’t', 'trish', \"him,don't\", 'thing?', '/17', 'cause..', 'memanggil', 'kingsley..he', 'chipsmore.', 'bosy', 'ubat.', 'mex', 'already.', 'giorgio', 'paper.', 'pemandulan/spaying', 'nurul)', 'guardog.', 'five(++)', 'shut.', 'alam).', 'individuals.', 'etc.)', 'nose...', 'kesayangan.', 'urgent....!', 'isolated),thanks', 'cream.', 'ara', 't_t', 'saya.', 'neutered,vaccinated', 'rm++.', 'vaccination:', 'kyla', '1pm-7pm.....thanks.', 'pokimon', 'perbandaran', 'mechanic’s', 'berkilat', 'pertanyaan.', 'atleast', 'chloe', 'p.s.:pls', 'miseries.', 'ruby,', 'disayangi', 'around...', 'yet,', 'erasmus', 'tyhem...', 'sopan..', 'friendship,', 'a__77_29_', 'sands,', '（吉隆坡）', 'face,the', 'raining..and', 'hari2', 'lovelyyyy', 'tale.', 'back...as', 'natural,', 'mischieves', 'sahaja..', 'limp.pony'}\n",
      "30241\n"
     ]
    }
   ],
   "source": [
    "from spellchecker import SpellChecker\n",
    "spell = SpellChecker()\n",
    "\n",
    "# Find misspelled words in train set\n",
    "misspelled = set()\n",
    "typos_lengths = []  # List to store the lengths of typos\n",
    "\n",
    "for index, row in text_train_x.iterrows():\n",
    "    if pd.notnull(row['Description']):\n",
    "        words = row['Description'].split()\n",
    "        typos = spell.unknown(words)\n",
    "        misspelled = misspelled.union(typos)\n",
    "        # The number of typos may be a factor in the adoption speed as well, so we may want to create a new feature\n",
    "        typos_lengths.append(len(typos))\n",
    "    else:\n",
    "        typos_lengths.append(0)  # Append 0 if the description is null\n",
    "\n",
    "# Create a new column 'Typos' in the DataFrame\n",
    "text_train_x['Typos'] = typos_lengths\n",
    "\n",
    "print(misspelled)\n",
    "print(len(misspelled))\n",
    "# Quite a number of typos!"
   ]
  },
  {
   "cell_type": "code",
   "execution_count": 116,
   "metadata": {},
   "outputs": [
    {
     "data": {
      "text/html": [
       "<div>\n",
       "<style scoped>\n",
       "    .dataframe tbody tr th:only-of-type {\n",
       "        vertical-align: middle;\n",
       "    }\n",
       "\n",
       "    .dataframe tbody tr th {\n",
       "        vertical-align: top;\n",
       "    }\n",
       "\n",
       "    .dataframe thead th {\n",
       "        text-align: right;\n",
       "    }\n",
       "</style>\n",
       "<table border=\"1\" class=\"dataframe\">\n",
       "  <thead>\n",
       "    <tr style=\"text-align: right;\">\n",
       "      <th></th>\n",
       "      <th>Name</th>\n",
       "      <th>Description</th>\n",
       "      <th>Typos</th>\n",
       "    </tr>\n",
       "  </thead>\n",
       "  <tbody>\n",
       "    <tr>\n",
       "      <th>4977</th>\n",
       "      <td>vanila</td>\n",
       "      <td>/ adorable local mix persian kitten looking fo...</td>\n",
       "      <td>23</td>\n",
       "    </tr>\n",
       "    <tr>\n",
       "      <th>14176</th>\n",
       "      <td>cliff-ord</td>\n",
       "      <td>clifford and his 3 siblings need a home. mothe...</td>\n",
       "      <td>9</td>\n",
       "    </tr>\n",
       "    <tr>\n",
       "      <th>2137</th>\n",
       "      <td>â¥ ..teddy.. â¥</td>\n",
       "      <td>introducing teddy! ♥ adult male shih tzu, 1+ y...</td>\n",
       "      <td>37</td>\n",
       "    </tr>\n",
       "    <tr>\n",
       "      <th>14768</th>\n",
       "      <td>kiss</td>\n",
       "      <td>poor kiss was rescued off a road while he/she ...</td>\n",
       "      <td>5</td>\n",
       "    </tr>\n",
       "    <tr>\n",
       "      <th>14437</th>\n",
       "      <td>sam</td>\n",
       "      <td>sam has lots of love to give! he even has a lo...</td>\n",
       "      <td>19</td>\n",
       "    </tr>\n",
       "  </tbody>\n",
       "</table>\n",
       "</div>"
      ],
      "text/plain": [
       "                    Name                                        Description  \\\n",
       "4977              vanila  / adorable local mix persian kitten looking fo...   \n",
       "14176          cliff-ord  clifford and his 3 siblings need a home. mothe...   \n",
       "2137   â¥ ..teddy.. â¥  introducing teddy! ♥ adult male shih tzu, 1+ y...   \n",
       "14768               kiss  poor kiss was rescued off a road while he/she ...   \n",
       "14437                sam  sam has lots of love to give! he even has a lo...   \n",
       "\n",
       "       Typos  \n",
       "4977      23  \n",
       "14176      9  \n",
       "2137      37  \n",
       "14768      5  \n",
       "14437     19  "
      ]
     },
     "execution_count": 116,
     "metadata": {},
     "output_type": "execute_result"
    }
   ],
   "source": [
    "text_train_x.head()"
   ]
  },
  {
   "cell_type": "code",
   "execution_count": 118,
   "metadata": {},
   "outputs": [
    {
     "data": {
      "text/html": [
       "<div>\n",
       "<style scoped>\n",
       "    .dataframe tbody tr th:only-of-type {\n",
       "        vertical-align: middle;\n",
       "    }\n",
       "\n",
       "    .dataframe tbody tr th {\n",
       "        vertical-align: top;\n",
       "    }\n",
       "\n",
       "    .dataframe thead th {\n",
       "        text-align: right;\n",
       "    }\n",
       "</style>\n",
       "<table border=\"1\" class=\"dataframe\">\n",
       "  <thead>\n",
       "    <tr style=\"text-align: right;\">\n",
       "      <th></th>\n",
       "      <th>Name</th>\n",
       "      <th>Description</th>\n",
       "      <th>Typos</th>\n",
       "    </tr>\n",
       "  </thead>\n",
       "  <tbody>\n",
       "    <tr>\n",
       "      <th>14361</th>\n",
       "      <td>3 little kittens</td>\n",
       "      <td>they say cats have 9 lives. but really these l...</td>\n",
       "      <td>8</td>\n",
       "    </tr>\n",
       "    <tr>\n",
       "      <th>12761</th>\n",
       "      <td>rory</td>\n",
       "      <td>rory is now ready for adoption. please share. ...</td>\n",
       "      <td>15</td>\n",
       "    </tr>\n",
       "    <tr>\n",
       "      <th>10031</th>\n",
       "      <td>@~smoky~@</td>\n",
       "      <td>very active n playful with the kids, never bit...</td>\n",
       "      <td>11</td>\n",
       "    </tr>\n",
       "    <tr>\n",
       "      <th>7798</th>\n",
       "      <td>no name</td>\n",
       "      <td>3 kittens available for adoption. one mixed co...</td>\n",
       "      <td>12</td>\n",
       "    </tr>\n",
       "    <tr>\n",
       "      <th>6239</th>\n",
       "      <td>minnie</td>\n",
       "      <td>this minnie. she is very quiet and pampered pu...</td>\n",
       "      <td>6</td>\n",
       "    </tr>\n",
       "  </tbody>\n",
       "</table>\n",
       "</div>"
      ],
      "text/plain": [
       "                   Name                                        Description  \\\n",
       "14361  3 little kittens  they say cats have 9 lives. but really these l...   \n",
       "12761              rory  rory is now ready for adoption. please share. ...   \n",
       "10031         @~smoky~@  very active n playful with the kids, never bit...   \n",
       "7798            no name  3 kittens available for adoption. one mixed co...   \n",
       "6239             minnie  this minnie. she is very quiet and pampered pu...   \n",
       "\n",
       "       Typos  \n",
       "14361      8  \n",
       "12761     15  \n",
       "10031     11  \n",
       "7798      12  \n",
       "6239       6  "
      ]
     },
     "execution_count": 118,
     "metadata": {},
     "output_type": "execute_result"
    }
   ],
   "source": [
    "# Add Typos column to test set\n",
    "\n",
    "# Find misspelled words in test set\n",
    "typos_lengths = []\n",
    "\n",
    "for index, row in text_test_x.iterrows():\n",
    "    if pd.notnull(row['Description']):\n",
    "        words = row['Description'].split()\n",
    "        typos = spell.unknown(words)\n",
    "        # The number of typos may be a factor in the adoption speed as well, so we may want to create a new feature\n",
    "        typos_lengths.append(len(typos))\n",
    "    else:\n",
    "        typos_lengths.append(0)  # Append 0 if the description is null\n",
    "\n",
    "# Create a new column 'Typos' in the DataFrame\n",
    "text_test_x['Typos'] = typos_lengths\n",
    "\n",
    "text_test_x.head()"
   ]
  },
  {
   "cell_type": "code",
   "execution_count": null,
   "metadata": {},
   "outputs": [],
   "source": [
    "# Correct misspelled words with TextBlob\n",
    "'''\n",
    "from textblob import TextBlob\n",
    "\n",
    "def correct_spelling(text):\n",
    "    if pd.isnull(text):\n",
    "        return text\n",
    "    tb = TextBlob(text)\n",
    "    return str(tb.correct())\n",
    "\n",
    "text_train_x['Description'] = text_train_x['Description'].apply(correct_spelling)\n",
    "text_test_x['Description'] = text_test_x['Description'].apply(correct_spelling)\n",
    "\n",
    "# Test number of misspelled words again\n",
    "misspelled = set()\n",
    "for row in text_train_x['Description']:\n",
    "    if pd.notnull(row):\n",
    "        words = row.split()\n",
    "        misspelled = misspelled.union(spell.unknown(words))\n",
    "\n",
    "print(misspelled)\n",
    "print(len(misspelled))\n",
    "\n",
    "# Write the new data to a csv file\n",
    "text_train_x.to_csv('text_train_x.csv', index=False)\n",
    "text_test_x.to_csv('text_test_x.csv', index=False)\n",
    "'''\n",
    "\n",
    "# Number of identified typos reduced from 13005 to 6178\n",
    "# Here, TextBlob took an extremely long time, about 6 hours...\n",
    "# I have commented out the cell and saved the outputs in a text file instead\n",
    "# Another solution to consider is symspellpy, which claims to six orders of magnitude faster"
   ]
  },
  {
   "cell_type": "code",
   "execution_count": 119,
   "metadata": {},
   "outputs": [],
   "source": [
    "from textblob import TextBlob\n",
    "\n",
    "def correct_spelling(text):\n",
    "    if pd.isnull(text):\n",
    "        return text\n",
    "    tb = TextBlob(text)\n",
    "    return str(tb.correct())\n",
    "\n",
    "text_test_x['Description'] = text_test_x['Description'].apply(correct_spelling)\n",
    "\n",
    "text_test_x.to_csv('text_test_x.csv', index=False)"
   ]
  },
  {
   "cell_type": "code",
   "execution_count": 124,
   "metadata": {},
   "outputs": [
    {
     "name": "stdout",
     "output_type": "stream",
     "text": [
      "count    11970.000000\n",
      "mean        61.764327\n",
      "std         67.056145\n",
      "min          0.000000\n",
      "25%         21.000000\n",
      "50%         44.000000\n",
      "75%         80.000000\n",
      "max       1226.000000\n",
      "Name: Description, dtype: float64\n",
      "count    2997.000000\n",
      "mean       64.028028\n",
      "std        72.888931\n",
      "min         1.000000\n",
      "25%        21.000000\n",
      "50%        43.000000\n",
      "75%        81.000000\n",
      "max      1095.000000\n",
      "Name: Description, dtype: float64\n"
     ]
    }
   ],
   "source": [
    "# Load the data\n",
    "text_train_x = pd.read_csv('text_train_x.csv')\n",
    "text_test_x = pd.read_csv('text_test_x.csv')\n",
    "# Target variable y_train and y_test are already defined\n",
    "\n",
    "# Investigate length of sequences\n",
    "print(text_train_x['Description'].str.split().str.len().describe())\n",
    "print(text_test_x['Description'].str.split().str.len().describe())\n",
    "\n",
    "# Maximum length is 1226 but most sequences are less than 80 words, let's cut off at 1000 words\n",
    "# At this point, I decided to omit the name column because it would likely add a lot of irrelevant \n",
    "# vocabulary to the embedding model"
   ]
  },
  {
   "cell_type": "code",
   "execution_count": 132,
   "metadata": {},
   "outputs": [],
   "source": [
    "# Further split train set into train and validation sets\n",
    "x_train_text, x_val_text, y_train_text, y_val_text = train_test_split(text_train_x, y_train, test_size=0.2, random_state=0)"
   ]
  },
  {
   "cell_type": "code",
   "execution_count": null,
   "metadata": {},
   "outputs": [],
   "source": [
    "# Create a neural network - reference: https://www.tensorflow.org/tutorials/keras/text_classification"
   ]
  },
  {
   "cell_type": "code",
   "execution_count": 133,
   "metadata": {},
   "outputs": [],
   "source": [
    "# Create text vectorization layer\n",
    "from tensorflow.keras.layers import TextVectorization\n",
    "\n",
    "max_features = 10000\n",
    "sequence_length = 1000\n",
    "\n",
    "vectorize_layer = TextVectorization(\n",
    "    max_tokens=max_features,\n",
    "    output_mode='int',\n",
    "    output_sequence_length=sequence_length)\n",
    "\n",
    "# Adapt the vectorization layer to the training text\n",
    "text_train = x_train_text['Description']\n",
    "# Convert all values to strings\n",
    "text_train = text_train.astype(str)\n",
    "vectorize_layer.adapt(text_train)"
   ]
  },
  {
   "cell_type": "code",
   "execution_count": 135,
   "metadata": {},
   "outputs": [],
   "source": [
    "# Apply the vectorization layer to the training, validation and test sets\n",
    "x_train_text = vectorize_layer(x_train_text['Description'].astype(str))\n",
    "x_val_text = vectorize_layer(x_val_text['Description'].astype(str))\n",
    "x_test_text = vectorize_layer(text_test_x['Description'].astype(str))"
   ]
  },
  {
   "cell_type": "code",
   "execution_count": null,
   "metadata": {},
   "outputs": [],
   "source": [
    "# Train a neural network with the text data\n",
    "from tensorflow.keras import Sequential\n",
    "from tensorflow.keras.layers import Input, Embedding, LSTM, Dense, Flatten\n",
    "from tensorflow.keras.optimizers import Adam\n",
    "\n",
    "# Define the model\n",
    "model = Sequential([\n",
    "    Input(shape=(sequence_length,)),\n",
    "    Embedding(max_features, 64, input_length=sequence_length),\n",
    "    LSTM(64, return_sequences=True),\n",
    "    Flatten(),\n",
    "    Dense(64, activation='relu'),\n",
    "    Dense(5, activation='softmax')\n",
    "])\n",
    "\n",
    "# Compile the model\n",
    "model.compile(optimizer=Adam(learning_rate=0.001),\n",
    "              loss='sparse_categorical_crossentropy',\n",
    "              metrics=['accuracy'])\n",
    "\n",
    "# Train the model\n",
    "epochs = 10\n",
    "history = model.fit(x_train_text, y_train_text, epochs=epochs, validation_data=(x_val_text, y_val_text))\n",
    "\n",
    "# I stopped the model early because val_loss was increasing while loss was decreasing,\n",
    "# which is a sign of overfitting"
   ]
  },
  {
   "cell_type": "code",
   "execution_count": 145,
   "metadata": {},
   "outputs": [
    {
     "name": "stdout",
     "output_type": "stream",
     "text": [
      "Epoch 1/10\n",
      "300/300 [==============================] - 254s 828ms/step - loss: 0.5366 - accuracy: 0.7891 - val_loss: 2.4764 - val_accuracy: 0.3576\n",
      "Epoch 2/10\n",
      "300/300 [==============================] - 257s 858ms/step - loss: 0.4893 - accuracy: 0.8065 - val_loss: 2.6648 - val_accuracy: 0.3547\n",
      "Epoch 3/10\n",
      "300/300 [==============================] - 270s 900ms/step - loss: 0.4585 - accuracy: 0.8177 - val_loss: 2.9696 - val_accuracy: 0.3447\n",
      "Epoch 4/10\n",
      "300/300 [==============================] - 248s 827ms/step - loss: 0.4318 - accuracy: 0.8268 - val_loss: 3.1004 - val_accuracy: 0.3422\n"
     ]
    }
   ],
   "source": [
    "# Let's try fitting the model with a lower learning rate, and stopping early\n",
    "# with the EarlyStopping callback\n",
    "from tensorflow.keras.callbacks import EarlyStopping\n",
    "\n",
    "\n",
    "callback = EarlyStopping(monitor='val_loss', patience=3)\n",
    "model.compile(optimizer=Adam(learning_rate=0.0001),\n",
    "              loss='sparse_categorical_crossentropy', # Because there are 5 labels and they seem to behave like nominal variables\n",
    "              metrics=['accuracy'])\n",
    "history = model.fit(x_train_text, y_train_text, epochs=epochs, validation_data=(x_val_text, y_val_text), callbacks=[callback])"
   ]
  },
  {
   "cell_type": "code",
   "execution_count": 146,
   "metadata": {},
   "outputs": [
    {
     "name": "stdout",
     "output_type": "stream",
     "text": [
      "Epoch 1/10\n",
      "300/300 [==============================] - 528s 2s/step - loss: 1.7279 - accuracy: 0.2613 - val_loss: 1.4858 - val_accuracy: 0.2964\n",
      "Epoch 2/10\n",
      "300/300 [==============================] - 513s 2s/step - loss: 1.5067 - accuracy: 0.2681 - val_loss: 1.4662 - val_accuracy: 0.2964\n",
      "Epoch 3/10\n",
      "300/300 [==============================] - 573s 2s/step - loss: 1.4973 - accuracy: 0.2647 - val_loss: 1.4615 - val_accuracy: 0.2964\n",
      "Epoch 4/10\n",
      "300/300 [==============================] - 563s 2s/step - loss: 1.4942 - accuracy: 0.2719 - val_loss: 1.4615 - val_accuracy: 0.2964\n",
      "Epoch 5/10\n",
      "245/300 [=======================>......] - ETA: 1:32 - loss: 1.4936 - accuracy: 0.2685"
     ]
    },
    {
     "ename": "KeyboardInterrupt",
     "evalue": "",
     "output_type": "error",
     "traceback": [
      "\u001b[1;31m---------------------------------------------------------------------------\u001b[0m",
      "\u001b[1;31mKeyboardInterrupt\u001b[0m                         Traceback (most recent call last)",
      "Cell \u001b[1;32mIn[146], line 21\u001b[0m\n\u001b[0;32m      7\u001b[0m model \u001b[38;5;241m=\u001b[39m Sequential([\n\u001b[0;32m      8\u001b[0m     Input(shape\u001b[38;5;241m=\u001b[39m(sequence_length,)),\n\u001b[0;32m      9\u001b[0m     Embedding(max_features, \u001b[38;5;241m64\u001b[39m, input_length\u001b[38;5;241m=\u001b[39msequence_length),\n\u001b[1;32m   (...)\u001b[0m\n\u001b[0;32m     14\u001b[0m     Dense(\u001b[38;5;241m5\u001b[39m, activation\u001b[38;5;241m=\u001b[39m\u001b[38;5;124m'\u001b[39m\u001b[38;5;124msoftmax\u001b[39m\u001b[38;5;124m'\u001b[39m)\n\u001b[0;32m     15\u001b[0m ])\n\u001b[0;32m     17\u001b[0m model\u001b[38;5;241m.\u001b[39mcompile(optimizer\u001b[38;5;241m=\u001b[39mAdam(learning_rate\u001b[38;5;241m=\u001b[39m\u001b[38;5;241m0.0001\u001b[39m),\n\u001b[0;32m     18\u001b[0m                 loss\u001b[38;5;241m=\u001b[39m\u001b[38;5;124m'\u001b[39m\u001b[38;5;124msparse_categorical_crossentropy\u001b[39m\u001b[38;5;124m'\u001b[39m,\n\u001b[0;32m     19\u001b[0m                 metrics\u001b[38;5;241m=\u001b[39m[\u001b[38;5;124m'\u001b[39m\u001b[38;5;124maccuracy\u001b[39m\u001b[38;5;124m'\u001b[39m])\n\u001b[1;32m---> 21\u001b[0m history \u001b[38;5;241m=\u001b[39m \u001b[43mmodel\u001b[49m\u001b[38;5;241;43m.\u001b[39;49m\u001b[43mfit\u001b[49m\u001b[43m(\u001b[49m\u001b[43mx_train_text\u001b[49m\u001b[43m,\u001b[49m\u001b[43m \u001b[49m\u001b[43my_train_text\u001b[49m\u001b[43m,\u001b[49m\u001b[43m \u001b[49m\u001b[43mepochs\u001b[49m\u001b[38;5;241;43m=\u001b[39;49m\u001b[43mepochs\u001b[49m\u001b[43m,\u001b[49m\u001b[43m \u001b[49m\u001b[43mvalidation_data\u001b[49m\u001b[38;5;241;43m=\u001b[39;49m\u001b[43m(\u001b[49m\u001b[43mx_val_text\u001b[49m\u001b[43m,\u001b[49m\u001b[43m \u001b[49m\u001b[43my_val_text\u001b[49m\u001b[43m)\u001b[49m\u001b[43m,\u001b[49m\u001b[43m \u001b[49m\u001b[43mcallbacks\u001b[49m\u001b[38;5;241;43m=\u001b[39;49m\u001b[43m[\u001b[49m\u001b[43mcallback\u001b[49m\u001b[43m]\u001b[49m\u001b[43m)\u001b[49m\n",
      "File \u001b[1;32mc:\\Users\\user\\github-projects\\aichallenge\\venv\\lib\\site-packages\\keras\\src\\utils\\traceback_utils.py:65\u001b[0m, in \u001b[0;36mfilter_traceback.<locals>.error_handler\u001b[1;34m(*args, **kwargs)\u001b[0m\n\u001b[0;32m     63\u001b[0m filtered_tb \u001b[38;5;241m=\u001b[39m \u001b[38;5;28;01mNone\u001b[39;00m\n\u001b[0;32m     64\u001b[0m \u001b[38;5;28;01mtry\u001b[39;00m:\n\u001b[1;32m---> 65\u001b[0m     \u001b[38;5;28;01mreturn\u001b[39;00m fn(\u001b[38;5;241m*\u001b[39margs, \u001b[38;5;241m*\u001b[39m\u001b[38;5;241m*\u001b[39mkwargs)\n\u001b[0;32m     66\u001b[0m \u001b[38;5;28;01mexcept\u001b[39;00m \u001b[38;5;167;01mException\u001b[39;00m \u001b[38;5;28;01mas\u001b[39;00m e:\n\u001b[0;32m     67\u001b[0m     filtered_tb \u001b[38;5;241m=\u001b[39m _process_traceback_frames(e\u001b[38;5;241m.\u001b[39m__traceback__)\n",
      "File \u001b[1;32mc:\\Users\\user\\github-projects\\aichallenge\\venv\\lib\\site-packages\\keras\\src\\engine\\training.py:1807\u001b[0m, in \u001b[0;36mModel.fit\u001b[1;34m(self, x, y, batch_size, epochs, verbose, callbacks, validation_split, validation_data, shuffle, class_weight, sample_weight, initial_epoch, steps_per_epoch, validation_steps, validation_batch_size, validation_freq, max_queue_size, workers, use_multiprocessing)\u001b[0m\n\u001b[0;32m   1799\u001b[0m \u001b[38;5;28;01mwith\u001b[39;00m tf\u001b[38;5;241m.\u001b[39mprofiler\u001b[38;5;241m.\u001b[39mexperimental\u001b[38;5;241m.\u001b[39mTrace(\n\u001b[0;32m   1800\u001b[0m     \u001b[38;5;124m\"\u001b[39m\u001b[38;5;124mtrain\u001b[39m\u001b[38;5;124m\"\u001b[39m,\n\u001b[0;32m   1801\u001b[0m     epoch_num\u001b[38;5;241m=\u001b[39mepoch,\n\u001b[1;32m   (...)\u001b[0m\n\u001b[0;32m   1804\u001b[0m     _r\u001b[38;5;241m=\u001b[39m\u001b[38;5;241m1\u001b[39m,\n\u001b[0;32m   1805\u001b[0m ):\n\u001b[0;32m   1806\u001b[0m     callbacks\u001b[38;5;241m.\u001b[39mon_train_batch_begin(step)\n\u001b[1;32m-> 1807\u001b[0m     tmp_logs \u001b[38;5;241m=\u001b[39m \u001b[38;5;28;43mself\u001b[39;49m\u001b[38;5;241;43m.\u001b[39;49m\u001b[43mtrain_function\u001b[49m\u001b[43m(\u001b[49m\u001b[43miterator\u001b[49m\u001b[43m)\u001b[49m\n\u001b[0;32m   1808\u001b[0m     \u001b[38;5;28;01mif\u001b[39;00m data_handler\u001b[38;5;241m.\u001b[39mshould_sync:\n\u001b[0;32m   1809\u001b[0m         context\u001b[38;5;241m.\u001b[39masync_wait()\n",
      "File \u001b[1;32mc:\\Users\\user\\github-projects\\aichallenge\\venv\\lib\\site-packages\\tensorflow\\python\\util\\traceback_utils.py:150\u001b[0m, in \u001b[0;36mfilter_traceback.<locals>.error_handler\u001b[1;34m(*args, **kwargs)\u001b[0m\n\u001b[0;32m    148\u001b[0m filtered_tb \u001b[38;5;241m=\u001b[39m \u001b[38;5;28;01mNone\u001b[39;00m\n\u001b[0;32m    149\u001b[0m \u001b[38;5;28;01mtry\u001b[39;00m:\n\u001b[1;32m--> 150\u001b[0m   \u001b[38;5;28;01mreturn\u001b[39;00m fn(\u001b[38;5;241m*\u001b[39margs, \u001b[38;5;241m*\u001b[39m\u001b[38;5;241m*\u001b[39mkwargs)\n\u001b[0;32m    151\u001b[0m \u001b[38;5;28;01mexcept\u001b[39;00m \u001b[38;5;167;01mException\u001b[39;00m \u001b[38;5;28;01mas\u001b[39;00m e:\n\u001b[0;32m    152\u001b[0m   filtered_tb \u001b[38;5;241m=\u001b[39m _process_traceback_frames(e\u001b[38;5;241m.\u001b[39m__traceback__)\n",
      "File \u001b[1;32mc:\\Users\\user\\github-projects\\aichallenge\\venv\\lib\\site-packages\\tensorflow\\python\\eager\\polymorphic_function\\polymorphic_function.py:832\u001b[0m, in \u001b[0;36mFunction.__call__\u001b[1;34m(self, *args, **kwds)\u001b[0m\n\u001b[0;32m    829\u001b[0m compiler \u001b[38;5;241m=\u001b[39m \u001b[38;5;124m\"\u001b[39m\u001b[38;5;124mxla\u001b[39m\u001b[38;5;124m\"\u001b[39m \u001b[38;5;28;01mif\u001b[39;00m \u001b[38;5;28mself\u001b[39m\u001b[38;5;241m.\u001b[39m_jit_compile \u001b[38;5;28;01melse\u001b[39;00m \u001b[38;5;124m\"\u001b[39m\u001b[38;5;124mnonXla\u001b[39m\u001b[38;5;124m\"\u001b[39m\n\u001b[0;32m    831\u001b[0m \u001b[38;5;28;01mwith\u001b[39;00m OptionalXlaContext(\u001b[38;5;28mself\u001b[39m\u001b[38;5;241m.\u001b[39m_jit_compile):\n\u001b[1;32m--> 832\u001b[0m   result \u001b[38;5;241m=\u001b[39m \u001b[38;5;28mself\u001b[39m\u001b[38;5;241m.\u001b[39m_call(\u001b[38;5;241m*\u001b[39margs, \u001b[38;5;241m*\u001b[39m\u001b[38;5;241m*\u001b[39mkwds)\n\u001b[0;32m    834\u001b[0m new_tracing_count \u001b[38;5;241m=\u001b[39m \u001b[38;5;28mself\u001b[39m\u001b[38;5;241m.\u001b[39mexperimental_get_tracing_count()\n\u001b[0;32m    835\u001b[0m without_tracing \u001b[38;5;241m=\u001b[39m (tracing_count \u001b[38;5;241m==\u001b[39m new_tracing_count)\n",
      "File \u001b[1;32mc:\\Users\\user\\github-projects\\aichallenge\\venv\\lib\\site-packages\\tensorflow\\python\\eager\\polymorphic_function\\polymorphic_function.py:868\u001b[0m, in \u001b[0;36mFunction._call\u001b[1;34m(self, *args, **kwds)\u001b[0m\n\u001b[0;32m    865\u001b[0m   \u001b[38;5;28mself\u001b[39m\u001b[38;5;241m.\u001b[39m_lock\u001b[38;5;241m.\u001b[39mrelease()\n\u001b[0;32m    866\u001b[0m   \u001b[38;5;66;03m# In this case we have created variables on the first call, so we run the\u001b[39;00m\n\u001b[0;32m    867\u001b[0m   \u001b[38;5;66;03m# defunned version which is guaranteed to never create variables.\u001b[39;00m\n\u001b[1;32m--> 868\u001b[0m   \u001b[38;5;28;01mreturn\u001b[39;00m \u001b[43mtracing_compilation\u001b[49m\u001b[38;5;241;43m.\u001b[39;49m\u001b[43mcall_function\u001b[49m\u001b[43m(\u001b[49m\n\u001b[0;32m    869\u001b[0m \u001b[43m      \u001b[49m\u001b[43margs\u001b[49m\u001b[43m,\u001b[49m\u001b[43m \u001b[49m\u001b[43mkwds\u001b[49m\u001b[43m,\u001b[49m\u001b[43m \u001b[49m\u001b[38;5;28;43mself\u001b[39;49m\u001b[38;5;241;43m.\u001b[39;49m\u001b[43m_no_variable_creation_config\u001b[49m\n\u001b[0;32m    870\u001b[0m \u001b[43m  \u001b[49m\u001b[43m)\u001b[49m\n\u001b[0;32m    871\u001b[0m \u001b[38;5;28;01melif\u001b[39;00m \u001b[38;5;28mself\u001b[39m\u001b[38;5;241m.\u001b[39m_variable_creation_config \u001b[38;5;129;01mis\u001b[39;00m \u001b[38;5;129;01mnot\u001b[39;00m \u001b[38;5;28;01mNone\u001b[39;00m:\n\u001b[0;32m    872\u001b[0m   \u001b[38;5;66;03m# Release the lock early so that multiple threads can perform the call\u001b[39;00m\n\u001b[0;32m    873\u001b[0m   \u001b[38;5;66;03m# in parallel.\u001b[39;00m\n\u001b[0;32m    874\u001b[0m   \u001b[38;5;28mself\u001b[39m\u001b[38;5;241m.\u001b[39m_lock\u001b[38;5;241m.\u001b[39mrelease()\n",
      "File \u001b[1;32mc:\\Users\\user\\github-projects\\aichallenge\\venv\\lib\\site-packages\\tensorflow\\python\\eager\\polymorphic_function\\tracing_compilation.py:139\u001b[0m, in \u001b[0;36mcall_function\u001b[1;34m(args, kwargs, tracing_options)\u001b[0m\n\u001b[0;32m    137\u001b[0m bound_args \u001b[38;5;241m=\u001b[39m function\u001b[38;5;241m.\u001b[39mfunction_type\u001b[38;5;241m.\u001b[39mbind(\u001b[38;5;241m*\u001b[39margs, \u001b[38;5;241m*\u001b[39m\u001b[38;5;241m*\u001b[39mkwargs)\n\u001b[0;32m    138\u001b[0m flat_inputs \u001b[38;5;241m=\u001b[39m function\u001b[38;5;241m.\u001b[39mfunction_type\u001b[38;5;241m.\u001b[39munpack_inputs(bound_args)\n\u001b[1;32m--> 139\u001b[0m \u001b[38;5;28;01mreturn\u001b[39;00m \u001b[43mfunction\u001b[49m\u001b[38;5;241;43m.\u001b[39;49m\u001b[43m_call_flat\u001b[49m\u001b[43m(\u001b[49m\u001b[43m  \u001b[49m\u001b[38;5;66;43;03m# pylint: disable=protected-access\u001b[39;49;00m\n\u001b[0;32m    140\u001b[0m \u001b[43m    \u001b[49m\u001b[43mflat_inputs\u001b[49m\u001b[43m,\u001b[49m\u001b[43m \u001b[49m\u001b[43mcaptured_inputs\u001b[49m\u001b[38;5;241;43m=\u001b[39;49m\u001b[43mfunction\u001b[49m\u001b[38;5;241;43m.\u001b[39;49m\u001b[43mcaptured_inputs\u001b[49m\n\u001b[0;32m    141\u001b[0m \u001b[43m\u001b[49m\u001b[43m)\u001b[49m\n",
      "File \u001b[1;32mc:\\Users\\user\\github-projects\\aichallenge\\venv\\lib\\site-packages\\tensorflow\\python\\eager\\polymorphic_function\\concrete_function.py:1323\u001b[0m, in \u001b[0;36mConcreteFunction._call_flat\u001b[1;34m(self, tensor_inputs, captured_inputs)\u001b[0m\n\u001b[0;32m   1319\u001b[0m possible_gradient_type \u001b[38;5;241m=\u001b[39m gradients_util\u001b[38;5;241m.\u001b[39mPossibleTapeGradientTypes(args)\n\u001b[0;32m   1320\u001b[0m \u001b[38;5;28;01mif\u001b[39;00m (possible_gradient_type \u001b[38;5;241m==\u001b[39m gradients_util\u001b[38;5;241m.\u001b[39mPOSSIBLE_GRADIENT_TYPES_NONE\n\u001b[0;32m   1321\u001b[0m     \u001b[38;5;129;01mand\u001b[39;00m executing_eagerly):\n\u001b[0;32m   1322\u001b[0m   \u001b[38;5;66;03m# No tape is watching; skip to running the function.\u001b[39;00m\n\u001b[1;32m-> 1323\u001b[0m   \u001b[38;5;28;01mreturn\u001b[39;00m \u001b[38;5;28;43mself\u001b[39;49m\u001b[38;5;241;43m.\u001b[39;49m\u001b[43m_inference_function\u001b[49m\u001b[38;5;241;43m.\u001b[39;49m\u001b[43mcall_preflattened\u001b[49m\u001b[43m(\u001b[49m\u001b[43margs\u001b[49m\u001b[43m)\u001b[49m\n\u001b[0;32m   1324\u001b[0m forward_backward \u001b[38;5;241m=\u001b[39m \u001b[38;5;28mself\u001b[39m\u001b[38;5;241m.\u001b[39m_select_forward_and_backward_functions(\n\u001b[0;32m   1325\u001b[0m     args,\n\u001b[0;32m   1326\u001b[0m     possible_gradient_type,\n\u001b[0;32m   1327\u001b[0m     executing_eagerly)\n\u001b[0;32m   1328\u001b[0m forward_function, args_with_tangents \u001b[38;5;241m=\u001b[39m forward_backward\u001b[38;5;241m.\u001b[39mforward()\n",
      "File \u001b[1;32mc:\\Users\\user\\github-projects\\aichallenge\\venv\\lib\\site-packages\\tensorflow\\python\\eager\\polymorphic_function\\atomic_function.py:216\u001b[0m, in \u001b[0;36mAtomicFunction.call_preflattened\u001b[1;34m(self, args)\u001b[0m\n\u001b[0;32m    214\u001b[0m \u001b[38;5;28;01mdef\u001b[39;00m \u001b[38;5;21mcall_preflattened\u001b[39m(\u001b[38;5;28mself\u001b[39m, args: Sequence[core\u001b[38;5;241m.\u001b[39mTensor]) \u001b[38;5;241m-\u001b[39m\u001b[38;5;241m>\u001b[39m Any:\n\u001b[0;32m    215\u001b[0m \u001b[38;5;250m  \u001b[39m\u001b[38;5;124;03m\"\"\"Calls with flattened tensor inputs and returns the structured output.\"\"\"\u001b[39;00m\n\u001b[1;32m--> 216\u001b[0m   flat_outputs \u001b[38;5;241m=\u001b[39m \u001b[38;5;28;43mself\u001b[39;49m\u001b[38;5;241;43m.\u001b[39;49m\u001b[43mcall_flat\u001b[49m\u001b[43m(\u001b[49m\u001b[38;5;241;43m*\u001b[39;49m\u001b[43margs\u001b[49m\u001b[43m)\u001b[49m\n\u001b[0;32m    217\u001b[0m   \u001b[38;5;28;01mreturn\u001b[39;00m \u001b[38;5;28mself\u001b[39m\u001b[38;5;241m.\u001b[39mfunction_type\u001b[38;5;241m.\u001b[39mpack_output(flat_outputs)\n",
      "File \u001b[1;32mc:\\Users\\user\\github-projects\\aichallenge\\venv\\lib\\site-packages\\tensorflow\\python\\eager\\polymorphic_function\\atomic_function.py:251\u001b[0m, in \u001b[0;36mAtomicFunction.call_flat\u001b[1;34m(self, *args)\u001b[0m\n\u001b[0;32m    249\u001b[0m \u001b[38;5;28;01mwith\u001b[39;00m record\u001b[38;5;241m.\u001b[39mstop_recording():\n\u001b[0;32m    250\u001b[0m   \u001b[38;5;28;01mif\u001b[39;00m \u001b[38;5;28mself\u001b[39m\u001b[38;5;241m.\u001b[39m_bound_context\u001b[38;5;241m.\u001b[39mexecuting_eagerly():\n\u001b[1;32m--> 251\u001b[0m     outputs \u001b[38;5;241m=\u001b[39m \u001b[38;5;28;43mself\u001b[39;49m\u001b[38;5;241;43m.\u001b[39;49m\u001b[43m_bound_context\u001b[49m\u001b[38;5;241;43m.\u001b[39;49m\u001b[43mcall_function\u001b[49m\u001b[43m(\u001b[49m\n\u001b[0;32m    252\u001b[0m \u001b[43m        \u001b[49m\u001b[38;5;28;43mself\u001b[39;49m\u001b[38;5;241;43m.\u001b[39;49m\u001b[43mname\u001b[49m\u001b[43m,\u001b[49m\n\u001b[0;32m    253\u001b[0m \u001b[43m        \u001b[49m\u001b[38;5;28;43mlist\u001b[39;49m\u001b[43m(\u001b[49m\u001b[43margs\u001b[49m\u001b[43m)\u001b[49m\u001b[43m,\u001b[49m\n\u001b[0;32m    254\u001b[0m \u001b[43m        \u001b[49m\u001b[38;5;28;43mlen\u001b[39;49m\u001b[43m(\u001b[49m\u001b[38;5;28;43mself\u001b[39;49m\u001b[38;5;241;43m.\u001b[39;49m\u001b[43mfunction_type\u001b[49m\u001b[38;5;241;43m.\u001b[39;49m\u001b[43mflat_outputs\u001b[49m\u001b[43m)\u001b[49m\u001b[43m,\u001b[49m\n\u001b[0;32m    255\u001b[0m \u001b[43m    \u001b[49m\u001b[43m)\u001b[49m\n\u001b[0;32m    256\u001b[0m   \u001b[38;5;28;01melse\u001b[39;00m:\n\u001b[0;32m    257\u001b[0m     outputs \u001b[38;5;241m=\u001b[39m make_call_op_in_graph(\n\u001b[0;32m    258\u001b[0m         \u001b[38;5;28mself\u001b[39m,\n\u001b[0;32m    259\u001b[0m         \u001b[38;5;28mlist\u001b[39m(args),\n\u001b[0;32m    260\u001b[0m         \u001b[38;5;28mself\u001b[39m\u001b[38;5;241m.\u001b[39m_bound_context\u001b[38;5;241m.\u001b[39mfunction_call_options\u001b[38;5;241m.\u001b[39mas_attrs(),\n\u001b[0;32m    261\u001b[0m     )\n",
      "File \u001b[1;32mc:\\Users\\user\\github-projects\\aichallenge\\venv\\lib\\site-packages\\tensorflow\\python\\eager\\context.py:1486\u001b[0m, in \u001b[0;36mContext.call_function\u001b[1;34m(self, name, tensor_inputs, num_outputs)\u001b[0m\n\u001b[0;32m   1484\u001b[0m cancellation_context \u001b[38;5;241m=\u001b[39m cancellation\u001b[38;5;241m.\u001b[39mcontext()\n\u001b[0;32m   1485\u001b[0m \u001b[38;5;28;01mif\u001b[39;00m cancellation_context \u001b[38;5;129;01mis\u001b[39;00m \u001b[38;5;28;01mNone\u001b[39;00m:\n\u001b[1;32m-> 1486\u001b[0m   outputs \u001b[38;5;241m=\u001b[39m \u001b[43mexecute\u001b[49m\u001b[38;5;241;43m.\u001b[39;49m\u001b[43mexecute\u001b[49m\u001b[43m(\u001b[49m\n\u001b[0;32m   1487\u001b[0m \u001b[43m      \u001b[49m\u001b[43mname\u001b[49m\u001b[38;5;241;43m.\u001b[39;49m\u001b[43mdecode\u001b[49m\u001b[43m(\u001b[49m\u001b[38;5;124;43m\"\u001b[39;49m\u001b[38;5;124;43mutf-8\u001b[39;49m\u001b[38;5;124;43m\"\u001b[39;49m\u001b[43m)\u001b[49m\u001b[43m,\u001b[49m\n\u001b[0;32m   1488\u001b[0m \u001b[43m      \u001b[49m\u001b[43mnum_outputs\u001b[49m\u001b[38;5;241;43m=\u001b[39;49m\u001b[43mnum_outputs\u001b[49m\u001b[43m,\u001b[49m\n\u001b[0;32m   1489\u001b[0m \u001b[43m      \u001b[49m\u001b[43minputs\u001b[49m\u001b[38;5;241;43m=\u001b[39;49m\u001b[43mtensor_inputs\u001b[49m\u001b[43m,\u001b[49m\n\u001b[0;32m   1490\u001b[0m \u001b[43m      \u001b[49m\u001b[43mattrs\u001b[49m\u001b[38;5;241;43m=\u001b[39;49m\u001b[43mattrs\u001b[49m\u001b[43m,\u001b[49m\n\u001b[0;32m   1491\u001b[0m \u001b[43m      \u001b[49m\u001b[43mctx\u001b[49m\u001b[38;5;241;43m=\u001b[39;49m\u001b[38;5;28;43mself\u001b[39;49m\u001b[43m,\u001b[49m\n\u001b[0;32m   1492\u001b[0m \u001b[43m  \u001b[49m\u001b[43m)\u001b[49m\n\u001b[0;32m   1493\u001b[0m \u001b[38;5;28;01melse\u001b[39;00m:\n\u001b[0;32m   1494\u001b[0m   outputs \u001b[38;5;241m=\u001b[39m execute\u001b[38;5;241m.\u001b[39mexecute_with_cancellation(\n\u001b[0;32m   1495\u001b[0m       name\u001b[38;5;241m.\u001b[39mdecode(\u001b[38;5;124m\"\u001b[39m\u001b[38;5;124mutf-8\u001b[39m\u001b[38;5;124m\"\u001b[39m),\n\u001b[0;32m   1496\u001b[0m       num_outputs\u001b[38;5;241m=\u001b[39mnum_outputs,\n\u001b[1;32m   (...)\u001b[0m\n\u001b[0;32m   1500\u001b[0m       cancellation_manager\u001b[38;5;241m=\u001b[39mcancellation_context,\n\u001b[0;32m   1501\u001b[0m   )\n",
      "File \u001b[1;32mc:\\Users\\user\\github-projects\\aichallenge\\venv\\lib\\site-packages\\tensorflow\\python\\eager\\execute.py:53\u001b[0m, in \u001b[0;36mquick_execute\u001b[1;34m(op_name, num_outputs, inputs, attrs, ctx, name)\u001b[0m\n\u001b[0;32m     51\u001b[0m \u001b[38;5;28;01mtry\u001b[39;00m:\n\u001b[0;32m     52\u001b[0m   ctx\u001b[38;5;241m.\u001b[39mensure_initialized()\n\u001b[1;32m---> 53\u001b[0m   tensors \u001b[38;5;241m=\u001b[39m \u001b[43mpywrap_tfe\u001b[49m\u001b[38;5;241;43m.\u001b[39;49m\u001b[43mTFE_Py_Execute\u001b[49m\u001b[43m(\u001b[49m\u001b[43mctx\u001b[49m\u001b[38;5;241;43m.\u001b[39;49m\u001b[43m_handle\u001b[49m\u001b[43m,\u001b[49m\u001b[43m \u001b[49m\u001b[43mdevice_name\u001b[49m\u001b[43m,\u001b[49m\u001b[43m \u001b[49m\u001b[43mop_name\u001b[49m\u001b[43m,\u001b[49m\n\u001b[0;32m     54\u001b[0m \u001b[43m                                      \u001b[49m\u001b[43minputs\u001b[49m\u001b[43m,\u001b[49m\u001b[43m \u001b[49m\u001b[43mattrs\u001b[49m\u001b[43m,\u001b[49m\u001b[43m \u001b[49m\u001b[43mnum_outputs\u001b[49m\u001b[43m)\u001b[49m\n\u001b[0;32m     55\u001b[0m \u001b[38;5;28;01mexcept\u001b[39;00m core\u001b[38;5;241m.\u001b[39m_NotOkStatusException \u001b[38;5;28;01mas\u001b[39;00m e:\n\u001b[0;32m     56\u001b[0m   \u001b[38;5;28;01mif\u001b[39;00m name \u001b[38;5;129;01mis\u001b[39;00m \u001b[38;5;129;01mnot\u001b[39;00m \u001b[38;5;28;01mNone\u001b[39;00m:\n",
      "\u001b[1;31mKeyboardInterrupt\u001b[0m: "
     ]
    }
   ],
   "source": [
    "# Model is still overfitting quite drastically...\n",
    "# Let's try adding a dropout layer and using L2 regularization\n",
    "\n",
    "from keras.regularizers import l2\n",
    "from keras.layers import Dropout\n",
    "\n",
    "model = Sequential([\n",
    "    Input(shape=(sequence_length,)),\n",
    "    Embedding(max_features, 64, input_length=sequence_length),\n",
    "    LSTM(64, return_sequences=True, dropout=0.5, recurrent_dropout=0.5),\n",
    "    Flatten(),\n",
    "    Dense(64, activation='relu', kernel_regularizer=l2(0.01)),\n",
    "    Dropout(0.5),\n",
    "    Dense(5, activation='softmax')\n",
    "])\n",
    "\n",
    "model.compile(optimizer=Adam(learning_rate=0.0001),\n",
    "                loss='sparse_categorical_crossentropy',\n",
    "                metrics=['accuracy'])\n",
    "\n",
    "history = model.fit(x_train_text, y_train_text, epochs=epochs, validation_data=(x_val_text, y_val_text), callbacks=[callback])\n",
    "\n",
    "# Paused the cell due to slow learning"
   ]
  },
  {
   "cell_type": "code",
   "execution_count": 147,
   "metadata": {},
   "outputs": [
    {
     "name": "stdout",
     "output_type": "stream",
     "text": [
      "Epoch 1/10\n",
      "300/300 [==============================] - 561s 2s/step - loss: 1.5379 - accuracy: 0.2656 - val_loss: 1.4768 - val_accuracy: 0.2935\n",
      "Epoch 2/10\n",
      "300/300 [==============================] - 540s 2s/step - loss: 1.4923 - accuracy: 0.2871 - val_loss: 1.4437 - val_accuracy: 0.3460\n",
      "Epoch 3/10\n",
      "300/300 [==============================] - 517s 2s/step - loss: 1.4471 - accuracy: 0.3566 - val_loss: 1.4243 - val_accuracy: 0.3489\n",
      "Epoch 4/10\n",
      "300/300 [==============================] - 519s 2s/step - loss: 1.3857 - accuracy: 0.3996 - val_loss: 1.4250 - val_accuracy: 0.3685\n",
      "Epoch 5/10\n",
      "300/300 [==============================] - 543s 2s/step - loss: 1.3398 - accuracy: 0.4252 - val_loss: 1.4432 - val_accuracy: 0.3652\n",
      "Epoch 6/10\n",
      "300/300 [==============================] - 545s 2s/step - loss: 1.2828 - accuracy: 0.4667 - val_loss: 1.4808 - val_accuracy: 0.3660\n"
     ]
    }
   ],
   "source": [
    "# A little too good at preventing overfitting, let's relax the dropout rate and L2 regularization\n",
    "model = Sequential([\n",
    "    Input(shape=(sequence_length,)),\n",
    "    Embedding(max_features, 64, input_length=sequence_length),\n",
    "    LSTM(64, return_sequences=True, dropout=0.5, recurrent_dropout=0.5),\n",
    "    Flatten(),\n",
    "    Dense(64, activation='relu', kernel_regularizer=l2(0.001)),\n",
    "    Dropout(0.2),\n",
    "    Dense(5, activation='softmax')\n",
    "])\n",
    "\n",
    "model.compile(optimizer=Adam(learning_rate=0.0002), # Slightly higher learning rate\n",
    "                loss='sparse_categorical_crossentropy',\n",
    "                metrics=['accuracy'])\n",
    "\n",
    "history = model.fit(x_train_text, y_train_text, epochs=epochs, validation_data=(x_val_text, y_val_text), callbacks=[callback])"
   ]
  },
  {
   "cell_type": "code",
   "execution_count": 150,
   "metadata": {},
   "outputs": [
    {
     "data": {
      "image/png": "[encoded data removed]",
      "text/plain": [
       "<Figure size 640x480 with 1 Axes>"
      ]
     },
     "metadata": {},
     "output_type": "display_data"
    }
   ],
   "source": [
    "# The results are pretty good here with a validation accuracy of 0.3660!\n",
    "# Plot the training and validation accuracy and loss\n",
    "plt.plot(history.history['accuracy'], 'bo', label='training accuracy')\n",
    "plt.plot(history.history['val_accuracy'], 'b', label = 'validation accuracy')\n",
    "plt.xlabel('Epoch')\n",
    "plt.ylabel('Accuracy')\n",
    "plt.legend()\n",
    "plt.show()\n",
    "\n"
   ]
  },
  {
   "cell_type": "code",
   "execution_count": 151,
   "metadata": {},
   "outputs": [
    {
     "name": "stdout",
     "output_type": "stream",
     "text": [
      "Epoch 1/10\n",
      "300/300 [==============================] - 67s 213ms/step - loss: 1.5230 - accuracy: 0.2724 - val_loss: 1.4504 - val_accuracy: 0.2989\n",
      "Epoch 2/10\n",
      "300/300 [==============================] - 60s 201ms/step - loss: 1.4631 - accuracy: 0.3095 - val_loss: 1.4449 - val_accuracy: 0.2964\n",
      "Epoch 3/10\n",
      "300/300 [==============================] - 56s 185ms/step - loss: 1.4534 - accuracy: 0.3421 - val_loss: 1.4383 - val_accuracy: 0.3168\n",
      "Epoch 4/10\n",
      "300/300 [==============================] - 52s 172ms/step - loss: 1.4407 - accuracy: 0.3754 - val_loss: 1.4321 - val_accuracy: 0.3397\n",
      "Epoch 5/10\n",
      "300/300 [==============================] - 71s 237ms/step - loss: 1.4221 - accuracy: 0.3925 - val_loss: 1.4239 - val_accuracy: 0.3497\n",
      "Epoch 6/10\n",
      "300/300 [==============================] - 66s 221ms/step - loss: 1.3985 - accuracy: 0.4134 - val_loss: 1.4155 - val_accuracy: 0.3593\n",
      "Epoch 7/10\n",
      "300/300 [==============================] - 60s 198ms/step - loss: 1.3677 - accuracy: 0.4331 - val_loss: 1.4049 - val_accuracy: 0.3576\n",
      "Epoch 8/10\n",
      "300/300 [==============================] - 63s 210ms/step - loss: 1.3292 - accuracy: 0.4600 - val_loss: 1.3940 - val_accuracy: 0.3727\n",
      "Epoch 9/10\n",
      "300/300 [==============================] - 68s 228ms/step - loss: 1.2832 - accuracy: 0.5057 - val_loss: 1.3835 - val_accuracy: 0.3756\n",
      "Epoch 10/10\n",
      "300/300 [==============================] - 64s 212ms/step - loss: 1.2301 - accuracy: 0.5549 - val_loss: 1.3792 - val_accuracy: 0.3643\n"
     ]
    }
   ],
   "source": [
    "\n",
    "# Let's try a different model - a convolutional neural network\n",
    "from tensorflow.keras.layers import Conv1D, GlobalMaxPooling1D\n",
    "\n",
    "model = Sequential([\n",
    "    Input(shape=(sequence_length,)),\n",
    "    Embedding(max_features, 64, input_length=sequence_length),\n",
    "    Conv1D(128, 5, activation='relu'),\n",
    "    GlobalMaxPooling1D(),\n",
    "    Dense(64, activation='relu'),\n",
    "    Dense(5, activation='softmax')\n",
    "])\n",
    "\n",
    "model.compile(optimizer=Adam(learning_rate=0.0001),\n",
    "                loss='sparse_categorical_crossentropy',\n",
    "                metrics=['accuracy'])\n",
    "\n",
    "history = model.fit(x_train_text, y_train_text, epochs=epochs, validation_data=(x_val_text, y_val_text), callbacks=[callback])"
   ]
  },
  {
   "cell_type": "code",
   "execution_count": 152,
   "metadata": {},
   "outputs": [
    {
     "name": "stdout",
     "output_type": "stream",
     "text": [
      "Epoch 1/10\n",
      "300/300 [==============================] - 50s 167ms/step - loss: 1.1717 - accuracy: 0.6095 - val_loss: 1.3745 - val_accuracy: 0.3777\n",
      "Epoch 2/10\n",
      "300/300 [==============================] - 59s 198ms/step - loss: 1.1066 - accuracy: 0.6685 - val_loss: 1.3691 - val_accuracy: 0.3856\n",
      "Epoch 3/10\n",
      "300/300 [==============================] - 65s 215ms/step - loss: 1.0384 - accuracy: 0.7093 - val_loss: 1.3670 - val_accuracy: 0.3877\n",
      "Epoch 4/10\n",
      "300/300 [==============================] - 57s 189ms/step - loss: 0.9691 - accuracy: 0.7504 - val_loss: 1.3690 - val_accuracy: 0.3914\n",
      "Epoch 5/10\n",
      "300/300 [==============================] - 55s 184ms/step - loss: 0.8989 - accuracy: 0.7825 - val_loss: 1.3796 - val_accuracy: 0.3822\n",
      "Epoch 6/10\n",
      "300/300 [==============================] - 54s 179ms/step - loss: 0.8278 - accuracy: 0.8048 - val_loss: 1.3957 - val_accuracy: 0.3789\n"
     ]
    }
   ],
   "source": [
    "# The CNN seems to be doing well, and the validation loss is still decreasing at the end of the 10th epoch\n",
    "# Let's continue training for a few more epochs\n",
    "\n",
    "history = model.fit(x_train_text, y_train_text, epochs=epochs, validation_data=(x_val_text, y_val_text), callbacks=[callback])\n"
   ]
  },
  {
   "cell_type": "code",
   "execution_count": 153,
   "metadata": {},
   "outputs": [
    {
     "name": "stderr",
     "output_type": "stream",
     "text": [
      "c:\\Users\\user\\github-projects\\aichallenge\\venv\\lib\\site-packages\\keras\\src\\engine\\training.py:3103: UserWarning: You are saving your model as an HDF5 file via `model.save()`. This file format is considered legacy. We recommend using instead the native Keras format, e.g. `model.save('my_model.keras')`.\n",
      "  saving_api.save_model(\n"
     ]
    }
   ],
   "source": [
    "# val_accuracy: 0.3789\n",
    "# Let's save the model\n",
    "model.save('text_model.h5')"
   ]
  },
  {
   "cell_type": "code",
   "execution_count": 159,
   "metadata": {},
   "outputs": [
    {
     "name": "stdout",
     "output_type": "stream",
     "text": [
      "375/375 [==============================] - 11s 28ms/step\n",
      "94/94 [==============================] - 3s 31ms/step\n"
     ]
    },
    {
     "data": {
      "text/html": [
       "<div>\n",
       "<style scoped>\n",
       "    .dataframe tbody tr th:only-of-type {\n",
       "        vertical-align: middle;\n",
       "    }\n",
       "\n",
       "    .dataframe tbody tr th {\n",
       "        vertical-align: top;\n",
       "    }\n",
       "\n",
       "    .dataframe thead th {\n",
       "        text-align: right;\n",
       "    }\n",
       "</style>\n",
       "<table border=\"1\" class=\"dataframe\">\n",
       "  <thead>\n",
       "    <tr style=\"text-align: right;\">\n",
       "      <th></th>\n",
       "      <th>Type</th>\n",
       "      <th>Gender</th>\n",
       "      <th>Color1</th>\n",
       "      <th>Color2</th>\n",
       "      <th>Color3</th>\n",
       "      <th>MaturitySize</th>\n",
       "      <th>FurLength</th>\n",
       "      <th>Vaccinated</th>\n",
       "      <th>Dewormed</th>\n",
       "      <th>Sterilized</th>\n",
       "      <th>...</th>\n",
       "      <th>BreedBins</th>\n",
       "      <th>StateBins</th>\n",
       "      <th>VideoAmtBins</th>\n",
       "      <th>PhotoAmtBins</th>\n",
       "      <th>QuantityBins</th>\n",
       "      <th>BreedPure</th>\n",
       "      <th>ColorAmt</th>\n",
       "      <th>NameorNO</th>\n",
       "      <th>Typos</th>\n",
       "      <th>TextPrediction</th>\n",
       "    </tr>\n",
       "  </thead>\n",
       "  <tbody>\n",
       "    <tr>\n",
       "      <th>14361</th>\n",
       "      <td>2</td>\n",
       "      <td>3</td>\n",
       "      <td>1</td>\n",
       "      <td>6</td>\n",
       "      <td>0</td>\n",
       "      <td>1</td>\n",
       "      <td>1</td>\n",
       "      <td>2</td>\n",
       "      <td>2</td>\n",
       "      <td>2</td>\n",
       "      <td>...</td>\n",
       "      <td>Others</td>\n",
       "      <td>41326</td>\n",
       "      <td>0</td>\n",
       "      <td>4</td>\n",
       "      <td>2</td>\n",
       "      <td>Y</td>\n",
       "      <td>2</td>\n",
       "      <td>Y</td>\n",
       "      <td>8</td>\n",
       "      <td>2</td>\n",
       "    </tr>\n",
       "    <tr>\n",
       "      <th>12761</th>\n",
       "      <td>1</td>\n",
       "      <td>1</td>\n",
       "      <td>7</td>\n",
       "      <td>0</td>\n",
       "      <td>0</td>\n",
       "      <td>2</td>\n",
       "      <td>2</td>\n",
       "      <td>1</td>\n",
       "      <td>1</td>\n",
       "      <td>2</td>\n",
       "      <td>...</td>\n",
       "      <td>307</td>\n",
       "      <td>41326</td>\n",
       "      <td>0</td>\n",
       "      <td>3</td>\n",
       "      <td>1</td>\n",
       "      <td>N</td>\n",
       "      <td>1</td>\n",
       "      <td>Y</td>\n",
       "      <td>14</td>\n",
       "      <td>2</td>\n",
       "    </tr>\n",
       "    <tr>\n",
       "      <th>10031</th>\n",
       "      <td>2</td>\n",
       "      <td>2</td>\n",
       "      <td>2</td>\n",
       "      <td>5</td>\n",
       "      <td>0</td>\n",
       "      <td>2</td>\n",
       "      <td>1</td>\n",
       "      <td>2</td>\n",
       "      <td>2</td>\n",
       "      <td>2</td>\n",
       "      <td>...</td>\n",
       "      <td>292</td>\n",
       "      <td>41401</td>\n",
       "      <td>0</td>\n",
       "      <td>5</td>\n",
       "      <td>1</td>\n",
       "      <td>Y</td>\n",
       "      <td>2</td>\n",
       "      <td>Y</td>\n",
       "      <td>10</td>\n",
       "      <td>2</td>\n",
       "    </tr>\n",
       "    <tr>\n",
       "      <th>7798</th>\n",
       "      <td>2</td>\n",
       "      <td>3</td>\n",
       "      <td>2</td>\n",
       "      <td>7</td>\n",
       "      <td>0</td>\n",
       "      <td>2</td>\n",
       "      <td>1</td>\n",
       "      <td>2</td>\n",
       "      <td>1</td>\n",
       "      <td>2</td>\n",
       "      <td>...</td>\n",
       "      <td>266</td>\n",
       "      <td>41401</td>\n",
       "      <td>0</td>\n",
       "      <td>&gt;=6</td>\n",
       "      <td>3</td>\n",
       "      <td>Y</td>\n",
       "      <td>2</td>\n",
       "      <td>N</td>\n",
       "      <td>12</td>\n",
       "      <td>2</td>\n",
       "    </tr>\n",
       "    <tr>\n",
       "      <th>6239</th>\n",
       "      <td>1</td>\n",
       "      <td>2</td>\n",
       "      <td>1</td>\n",
       "      <td>2</td>\n",
       "      <td>0</td>\n",
       "      <td>2</td>\n",
       "      <td>1</td>\n",
       "      <td>2</td>\n",
       "      <td>2</td>\n",
       "      <td>2</td>\n",
       "      <td>...</td>\n",
       "      <td>307</td>\n",
       "      <td>41326</td>\n",
       "      <td>0</td>\n",
       "      <td>5</td>\n",
       "      <td>1</td>\n",
       "      <td>N</td>\n",
       "      <td>2</td>\n",
       "      <td>Y</td>\n",
       "      <td>6</td>\n",
       "      <td>4</td>\n",
       "    </tr>\n",
       "  </tbody>\n",
       "</table>\n",
       "<p>5 rows × 23 columns</p>\n",
       "</div>"
      ],
      "text/plain": [
       "       Type  Gender  Color1  Color2  Color3  MaturitySize  FurLength  \\\n",
       "14361     2       3       1       6       0             1          1   \n",
       "12761     1       1       7       0       0             2          2   \n",
       "10031     2       2       2       5       0             2          1   \n",
       "7798      2       3       2       7       0             2          1   \n",
       "6239      1       2       1       2       0             2          1   \n",
       "\n",
       "       Vaccinated  Dewormed  Sterilized  ...  BreedBins StateBins  \\\n",
       "14361           2         2           2  ...     Others     41326   \n",
       "12761           1         1           2  ...        307     41326   \n",
       "10031           2         2           2  ...        292     41401   \n",
       "7798            2         1           2  ...        266     41401   \n",
       "6239            2         2           2  ...        307     41326   \n",
       "\n",
       "      VideoAmtBins PhotoAmtBins QuantityBins BreedPure ColorAmt NameorNO  \\\n",
       "14361            0            4            2         Y        2        Y   \n",
       "12761            0            3            1         N        1        Y   \n",
       "10031            0            5            1         Y        2        Y   \n",
       "7798             0          >=6            3         Y        2        N   \n",
       "6239             0            5            1         N        2        Y   \n",
       "\n",
       "      Typos  TextPrediction  \n",
       "14361     8               2  \n",
       "12761    14               2  \n",
       "10031    10               2  \n",
       "7798     12               2  \n",
       "6239      6               4  \n",
       "\n",
       "[5 rows x 23 columns]"
      ]
     },
     "execution_count": 159,
     "metadata": {},
     "output_type": "execute_result"
    }
   ],
   "source": [
    "# Now, we can use the model to create a new feature for the original dataset\n",
    "# This feature will be the predicted AdoptionSpeed for each pet based on the text data\n",
    "# Let's attach this feature and the typos feature to the original dataset\n",
    "\n",
    "# Load the model\n",
    "from tensorflow.keras.models import load_model\n",
    "model = load_model('text_model.h5')\n",
    "\n",
    "# In the interest of time, I didn't want to redo the spellcheck, so I'll reprocess the \n",
    "# spellchecked text data. Will handle this properly in the model pipeline!\n",
    "text_train_x = pd.read_csv('text_train_x.csv')\n",
    "text_test_x = pd.read_csv('text_test_x.csv')\n",
    "\n",
    "def count_typos(df):\n",
    "    typos_lengths = []\n",
    "    for index, row in df.iterrows():\n",
    "        if pd.notnull(row['Description']):\n",
    "            words = row['Description'].split()\n",
    "            typos = spell.unknown(words)\n",
    "            typos_lengths.append(len(typos))\n",
    "        else:\n",
    "            typos_lengths.append(0)  # Append 0 if the description is null\n",
    "    return typos_lengths\n",
    "\n",
    "x_train['Typos'] = count_typos(text_train_x)\n",
    "x_test['Typos'] = count_typos(text_test_x)\n",
    "\n",
    "def generate_predictions(df):\n",
    "    # Apply the vectorization layer to the training, validation and test sets\n",
    "    x_text = vectorize_layer(df['Description'].astype(str))\n",
    "    return model.predict(x_text)\n",
    "\n",
    "train_pred = generate_predictions(text_train_x)\n",
    "test_pred = generate_predictions(text_test_x)\n",
    "\n",
    "# Attach the predictions to the original dataset\n",
    "x_train['TextPrediction'] = np.argmax(train_pred, axis=1)\n",
    "x_train['TextPrediction'] = x_train['TextPrediction'].astype('int64')\n",
    "x_test['TextPrediction'] = np.argmax(test_pred, axis=1)\n",
    "x_test['TextPrediction'] = x_test['TextPrediction'].astype('int64')\n",
    "\n",
    "x_test.head()\n"
   ]
  },
  {
   "cell_type": "code",
   "execution_count": 169,
   "metadata": {},
   "outputs": [
    {
     "data": {
      "text/html": [
       "<div>\n",
       "<style scoped>\n",
       "    .dataframe tbody tr th:only-of-type {\n",
       "        vertical-align: middle;\n",
       "    }\n",
       "\n",
       "    .dataframe tbody tr th {\n",
       "        vertical-align: top;\n",
       "    }\n",
       "\n",
       "    .dataframe thead th {\n",
       "        text-align: right;\n",
       "    }\n",
       "</style>\n",
       "<table border=\"1\" class=\"dataframe\">\n",
       "  <thead>\n",
       "    <tr style=\"text-align: right;\">\n",
       "      <th></th>\n",
       "      <th>Type</th>\n",
       "      <th>Gender</th>\n",
       "      <th>Color1</th>\n",
       "      <th>Color2</th>\n",
       "      <th>Color3</th>\n",
       "      <th>MaturitySize</th>\n",
       "      <th>FurLength</th>\n",
       "      <th>Vaccinated</th>\n",
       "      <th>Dewormed</th>\n",
       "      <th>Sterilized</th>\n",
       "      <th>...</th>\n",
       "      <th>StateBins</th>\n",
       "      <th>VideoAmtBins</th>\n",
       "      <th>PhotoAmtBins</th>\n",
       "      <th>QuantityBins</th>\n",
       "      <th>BreedPure</th>\n",
       "      <th>ColorAmt</th>\n",
       "      <th>NameorNO</th>\n",
       "      <th>TextPrediction</th>\n",
       "      <th>Typos</th>\n",
       "      <th>TyposBins</th>\n",
       "    </tr>\n",
       "  </thead>\n",
       "  <tbody>\n",
       "    <tr>\n",
       "      <th>4977</th>\n",
       "      <td>2</td>\n",
       "      <td>1</td>\n",
       "      <td>5</td>\n",
       "      <td>0</td>\n",
       "      <td>0</td>\n",
       "      <td>2</td>\n",
       "      <td>3</td>\n",
       "      <td>2</td>\n",
       "      <td>1</td>\n",
       "      <td>2</td>\n",
       "      <td>...</td>\n",
       "      <td>41326</td>\n",
       "      <td>0</td>\n",
       "      <td>&gt;=6</td>\n",
       "      <td>1</td>\n",
       "      <td>N</td>\n",
       "      <td>1</td>\n",
       "      <td>Y</td>\n",
       "      <td>1</td>\n",
       "      <td>2</td>\n",
       "      <td>2</td>\n",
       "    </tr>\n",
       "    <tr>\n",
       "      <th>14176</th>\n",
       "      <td>1</td>\n",
       "      <td>1</td>\n",
       "      <td>3</td>\n",
       "      <td>5</td>\n",
       "      <td>0</td>\n",
       "      <td>2</td>\n",
       "      <td>1</td>\n",
       "      <td>2</td>\n",
       "      <td>2</td>\n",
       "      <td>2</td>\n",
       "      <td>...</td>\n",
       "      <td>41326</td>\n",
       "      <td>0</td>\n",
       "      <td>2</td>\n",
       "      <td>1</td>\n",
       "      <td>N</td>\n",
       "      <td>2</td>\n",
       "      <td>Y</td>\n",
       "      <td>2</td>\n",
       "      <td>1</td>\n",
       "      <td>1</td>\n",
       "    </tr>\n",
       "    <tr>\n",
       "      <th>2137</th>\n",
       "      <td>1</td>\n",
       "      <td>1</td>\n",
       "      <td>1</td>\n",
       "      <td>2</td>\n",
       "      <td>7</td>\n",
       "      <td>1</td>\n",
       "      <td>3</td>\n",
       "      <td>1</td>\n",
       "      <td>1</td>\n",
       "      <td>1</td>\n",
       "      <td>...</td>\n",
       "      <td>41326</td>\n",
       "      <td>0</td>\n",
       "      <td>4</td>\n",
       "      <td>1</td>\n",
       "      <td>Y</td>\n",
       "      <td>3</td>\n",
       "      <td>Y</td>\n",
       "      <td>1</td>\n",
       "      <td>7</td>\n",
       "      <td>2+</td>\n",
       "    </tr>\n",
       "    <tr>\n",
       "      <th>14768</th>\n",
       "      <td>2</td>\n",
       "      <td>2</td>\n",
       "      <td>3</td>\n",
       "      <td>7</td>\n",
       "      <td>0</td>\n",
       "      <td>1</td>\n",
       "      <td>2</td>\n",
       "      <td>2</td>\n",
       "      <td>2</td>\n",
       "      <td>2</td>\n",
       "      <td>...</td>\n",
       "      <td>41326</td>\n",
       "      <td>0</td>\n",
       "      <td>2</td>\n",
       "      <td>1</td>\n",
       "      <td>Y</td>\n",
       "      <td>2</td>\n",
       "      <td>Y</td>\n",
       "      <td>4</td>\n",
       "      <td>2</td>\n",
       "      <td>2</td>\n",
       "    </tr>\n",
       "    <tr>\n",
       "      <th>14437</th>\n",
       "      <td>1</td>\n",
       "      <td>1</td>\n",
       "      <td>2</td>\n",
       "      <td>7</td>\n",
       "      <td>0</td>\n",
       "      <td>2</td>\n",
       "      <td>1</td>\n",
       "      <td>2</td>\n",
       "      <td>1</td>\n",
       "      <td>2</td>\n",
       "      <td>...</td>\n",
       "      <td>41326</td>\n",
       "      <td>0</td>\n",
       "      <td>2</td>\n",
       "      <td>1</td>\n",
       "      <td>N</td>\n",
       "      <td>2</td>\n",
       "      <td>Y</td>\n",
       "      <td>4</td>\n",
       "      <td>4</td>\n",
       "      <td>2+</td>\n",
       "    </tr>\n",
       "  </tbody>\n",
       "</table>\n",
       "<p>5 rows × 24 columns</p>\n",
       "</div>"
      ],
      "text/plain": [
       "       Type  Gender  Color1  Color2  Color3  MaturitySize  FurLength  \\\n",
       "4977      2       1       5       0       0             2          3   \n",
       "14176     1       1       3       5       0             2          1   \n",
       "2137      1       1       1       2       7             1          3   \n",
       "14768     2       2       3       7       0             1          2   \n",
       "14437     1       1       2       7       0             2          1   \n",
       "\n",
       "       Vaccinated  Dewormed  Sterilized  ...  StateBins VideoAmtBins  \\\n",
       "4977            2         1           2  ...      41326            0   \n",
       "14176           2         2           2  ...      41326            0   \n",
       "2137            1         1           1  ...      41326            0   \n",
       "14768           2         2           2  ...      41326            0   \n",
       "14437           2         1           2  ...      41326            0   \n",
       "\n",
       "      PhotoAmtBins QuantityBins BreedPure ColorAmt NameorNO TextPrediction  \\\n",
       "4977           >=6            1         N        1        Y              1   \n",
       "14176            2            1         N        2        Y              2   \n",
       "2137             4            1         Y        3        Y              1   \n",
       "14768            2            1         Y        2        Y              4   \n",
       "14437            2            1         N        2        Y              4   \n",
       "\n",
       "      Typos  TyposBins  \n",
       "4977      2          2  \n",
       "14176     1          1  \n",
       "2137      7         2+  \n",
       "14768     2          2  \n",
       "14437     4         2+  \n",
       "\n",
       "[5 rows x 24 columns]"
      ]
     },
     "execution_count": 169,
     "metadata": {},
     "output_type": "execute_result"
    }
   ],
   "source": [
    "x_train.head()"
   ]
  },
  {
   "cell_type": "code",
   "execution_count": 163,
   "metadata": {},
   "outputs": [
    {
     "data": {
      "text/plain": [
       "count    11994.000000\n",
       "mean         1.844255\n",
       "std          3.129319\n",
       "min          0.000000\n",
       "25%          0.000000\n",
       "50%          1.000000\n",
       "75%          2.000000\n",
       "max         59.000000\n",
       "Name: Typos, dtype: float64"
      ]
     },
     "execution_count": 163,
     "metadata": {},
     "output_type": "execute_result"
    }
   ],
   "source": [
    "# Let's try fitting a logistic regression model with the new features\n",
    "\n",
    "# First, we should bin the typos feature\n",
    "# Investigate the distribution of the typos feature\n",
    "x_train['Typos'].describe()"
   ]
  },
  {
   "cell_type": "code",
   "execution_count": null,
   "metadata": {},
   "outputs": [],
   "source": [
    "# Most descriptions seem to have 0, 1 or 2 typos, so we can bin them into 0, 1, 2, and 2+\n",
    "x_train['TyposBins'] = pd.cut(x_train['Typos'], bins=[-1, 0, 1, 2, np.inf], labels=['0', '1', '2', '2+'])  \n",
    "x_test['TyposBins'] = pd.cut(x_test['Typos'], bins=[-1, 0, 1, 2, np.inf], labels=['0', '1', '2', '2+'])\n",
    "x_train.drop('Typos', axis=1, inplace=True)\n",
    "x_test.drop('Typos', axis=1, inplace=True)"
   ]
  },
  {
   "cell_type": "code",
   "execution_count": 174,
   "metadata": {},
   "outputs": [
    {
     "name": "stdout",
     "output_type": "stream",
     "text": [
      "(11994, 100)\n",
      "0.36845615205068355\n"
     ]
    }
   ],
   "source": [
    "# Hot encode the data\n",
    "x_hot_train = x_train.copy()\n",
    "x_hot_train = ohe.fit_transform(x_hot_train)\n",
    "\n",
    "x_hot_test = x_test.copy()\n",
    "x_hot_test = ohe.transform(x_hot_test)\n",
    "\n",
    "# Train the model\n",
    "model = LogisticRegression(max_iter=1000)\n",
    "model.fit(x_hot_train, y_train)\n",
    "\n",
    "# Make predictions\n",
    "y_pred = model.predict(x_hot_test)\n",
    "\n",
    "# Evaluate the model\n",
    "accuracy = accuracy_score(y_test, y_pred)\n",
    "print(accuracy)"
   ]
  },
  {
   "cell_type": "code",
   "execution_count": 175,
   "metadata": {},
   "outputs": [
    {
     "data": {
      "text/plain": [
       "TextPrediction\n",
       "2    4320\n",
       "4    3664\n",
       "1    2263\n",
       "3    1747\n",
       "Name: count, dtype: int64"
      ]
     },
     "execution_count": 175,
     "metadata": {},
     "output_type": "execute_result"
    }
   ],
   "source": [
    "# The accuracy is 0.3685, which is slightly worse than the model without the text data\n",
    "# Let's check the distribution of the TextPrediction feature\n",
    "x_train['TextPrediction'].value_counts()"
   ]
  },
  {
   "cell_type": "code",
   "execution_count": 177,
   "metadata": {},
   "outputs": [
    {
     "data": {
      "text/plain": [
       "TextPrediction\n",
       "2    1333\n",
       "4     930\n",
       "1     478\n",
       "3     258\n",
       "Name: count, dtype: int64"
      ]
     },
     "execution_count": 177,
     "metadata": {},
     "output_type": "execute_result"
    }
   ],
   "source": [
    "x_test['TextPrediction'].value_counts()\n",
    "# The model never predicts 0, but the distribution is similar to the target variable"
   ]
  },
  {
   "cell_type": "code",
   "execution_count": 180,
   "metadata": {},
   "outputs": [
    {
     "name": "stdout",
     "output_type": "stream",
     "text": [
      "0.3677892630876959\n"
     ]
    }
   ],
   "source": [
    "# Let's try a gradient boosting model\n",
    "\n",
    "# Ordinal encode the data\n",
    "x_ordinal_train = x_train.copy()\n",
    "x_ordinal_train = oe.fit_transform(x_ordinal_train)\n",
    "\n",
    "x_ordinal_test = x_test.copy()\n",
    "x_ordinal_test = oe.transform(x_ordinal_test)\n",
    "\n",
    "# Train the model\n",
    "model = GradientBoostingClassifier()\n",
    "model.fit(x_ordinal_train, y_train)\n",
    "\n",
    "# Make predictions\n",
    "y_pred = model.predict(x_ordinal_test)\n",
    "\n",
    "# Evaluate the model\n",
    "accuracy = accuracy_score(y_test, y_pred)\n",
    "print(accuracy)\n",
    "\n",
    "# Accuracy is 0.3678, which is again worse than the model without the text data,\n",
    "# and the CNN alone!"
   ]
  },
  {
   "cell_type": "code",
   "execution_count": 181,
   "metadata": {},
   "outputs": [
    {
     "name": "stdout",
     "output_type": "stream",
     "text": [
      "0.36845615205068355\n"
     ]
    }
   ],
   "source": [
    "# Try dropping the typos feature\n",
    "x_train = x_train.drop('TyposBins', axis=1)\n",
    "x_test = x_test.drop('TyposBins', axis=1)\n",
    "\n",
    "# Hot encode the data\n",
    "x_hot_train = x_train.copy()\n",
    "x_hot_train = ohe.fit_transform(x_hot_train)\n",
    "\n",
    "x_hot_test = x_test.copy()\n",
    "x_hot_test = ohe.transform(x_hot_test)\n",
    "\n",
    "# Train the model\n",
    "model = LogisticRegression(max_iter=1000)\n",
    "model.fit(x_hot_train, y_train)\n",
    "\n",
    "# Make predictions\n",
    "y_pred = model.predict(x_hot_test)\n",
    "\n",
    "# Evaluate the model\n",
    "accuracy = accuracy_score(y_test, y_pred)\n",
    "print(accuracy)\n",
    "\n",
    "# The accuracy is 0.3685, which is the same as the model with the typos feature"
   ]
  },
  {
   "cell_type": "code",
   "execution_count": 185,
   "metadata": {},
   "outputs": [
    {
     "name": "stdout",
     "output_type": "stream",
     "text": [
      "accuracy for logistic regression model: 0.39713237745915303\n",
      "accuracy for CNN model: 0.36612204068022675\n",
      "0.3601200400133378\n"
     ]
    }
   ],
   "source": [
    "# Let's try taking the average of the text prediction and the model prediction\n",
    "\n",
    "# Train logistic regression model without the text prediction feature\n",
    "# x_train = x_train.drop('TextPrediction', axis=1)\n",
    "# x_test = x_test.drop('TextPrediction', axis=1)\n",
    "\n",
    "x_hot_train = x_train.copy()\n",
    "x_hot_train = ohe.fit_transform(x_hot_train)\n",
    "\n",
    "x_hot_test = x_test.copy()\n",
    "x_hot_test = ohe.transform(x_hot_test)\n",
    "\n",
    "# Train the model\n",
    "model = LogisticRegression(max_iter=1000)\n",
    "model.fit(x_hot_train, y_train)\n",
    "\n",
    "# Make predictions\n",
    "y_pred_lr = model.predict(x_hot_test)\n",
    "y_pred_cnn = np.argmax(test_pred, axis=1)\n",
    "\n",
    "# Take the average of the predictions\n",
    "y_pred = (y_pred_lr * 0.51 + y_pred_cnn * 0.49).round() # favour the logistic regression model in rounding scenarios since it has a higher accuracy\n",
    "\n",
    "# Evaluate the model\n",
    "lr_accuracy = accuracy_score(y_test, y_pred_lr)\n",
    "cnn_accuracy = accuracy_score(y_test, y_pred_cnn)\n",
    "print(f\"accuracy for logistic regression model: {lr_accuracy}\")\n",
    "print(f\"accuracy for CNN model: {cnn_accuracy}\")\n",
    "accuracy = accuracy_score(y_test, y_pred)\n",
    "print(accuracy)\n",
    "\n",
    "# The accuracy is still worse than either model alone"
   ]
  },
  {
   "cell_type": "code",
   "execution_count": 195,
   "metadata": {},
   "outputs": [
    {
     "name": "stdout",
     "output_type": "stream",
     "text": [
      "Nibble is a 3+ month old ball of cuteness. He is energetic and playful. I rescued a couple of cats a few months ago but could not get them neutered in time as the clinic was fully scheduled. The result was this little kitty. I do not have enough space and funds to care for more cats in my household. Looking for responsible people to take over Nibble's care. 4\n"
     ]
    }
   ],
   "source": [
    "# It seems the models are not complementary\n",
    "# Another approach I wanted to try was to use LLMs to generate predictions from the descriptions\n",
    "# Not sure if this might work, so I'll use the OpenAI API to do some really quick tests first.\n",
    "# If it shows promise we may have to consider using a open source model and doing some fine-tuning\n",
    "\n",
    "from openai import OpenAI\n",
    "import os\n",
    "os.environ['OPENAI_API_KEY'] = 'API KEY HERE'\n",
    "client = OpenAI()\n",
    "\n",
    "def generate_prediction(description):\n",
    "    response = client.chat.completions.create(\n",
    "        model=\"gpt-3.5-turbo\",\n",
    "        messages=[\n",
    "            {\"role\": \"system\", \"content\": \"You are evaluating pet descriptions to predict how fast the pet would be adopted. For each description, only respond with a number from 1 to 5, with 1 being the fastest and 5 being the slowest.\"},\n",
    "            {\"role\": \"user\", \"content\": description},\n",
    "        ]\n",
    "    )\n",
    "    return response.choices[0].message.content\n",
    "\n",
    "# Test the function\n",
    "print(df['Description'][0], generate_prediction(df['Description'][0]))\n",
    "\n",
    "# The function works!"
   ]
  },
  {
   "cell_type": "code",
   "execution_count": 197,
   "metadata": {},
   "outputs": [
    {
     "name": "stdout",
     "output_type": "stream",
     "text": [
      "Prediction: I apologize for the oversight. Could you please provide me with the pet description so I can evaluate it for you? is not a number\n",
      "Prediction: Please provide me with the first pet description to evaluate. is not a number\n"
     ]
    }
   ],
   "source": [
    "# Let's generate predictions for 100 descriptions and see if the predictions are consistent with the actual AdoptionSpeed\n",
    "\n",
    "# Generate predictions for 100 descriptions\n",
    "descriptions = df['Description'].iloc[:100]\n",
    "predictions = []\n",
    "for description in descriptions:\n",
    "    if pd.isna(description):\n",
    "        predictions.append(0)\n",
    "    else:\n",
    "        prediction = generate_prediction(description)\n",
    "        if len(prediction) == 1:\n",
    "            predictions.append(int(prediction) - 1)\n",
    "        else:\n",
    "            print(f\"Prediction: {prediction} is not a number\")\n",
    "            predictions.append(0)\n",
    "\n",
    "# Convert predictions to integers\n",
    "predictions = [int(x) for x in predictions]\n",
    "\n",
    "# Evaluate the predictions\n",
    "accuracy = accuracy_score(df['AdoptionSpeed'].iloc[:100], predictions)\n"
   ]
  },
  {
   "cell_type": "code",
   "execution_count": 198,
   "metadata": {},
   "outputs": [
    {
     "name": "stdout",
     "output_type": "stream",
     "text": [
      "0.3\n"
     ]
    }
   ],
   "source": [
    "print(accuracy)\n",
    "\n",
    "# The accuracy is 0.3, which is honestly not terrible given that the model has no information about the dataset\n",
    "# or the exact nature of the target variable\n",
    "\n",
    "# I suspect LLMs may have potential in generating new features (e.g. sentiment analysis, identifying strengths and weaknesses),\n",
    "# but I will not pursue this further due to time constraints"
   ]
  },
  {
   "cell_type": "code",
   "execution_count": 199,
   "metadata": {},
   "outputs": [
    {
     "data": {
      "text/plain": [
       "count    14980.000000\n",
       "mean        62.972363\n",
       "std         69.329075\n",
       "min          1.000000\n",
       "25%         21.000000\n",
       "50%         44.000000\n",
       "75%         81.000000\n",
       "max       1257.000000\n",
       "Name: Description, dtype: float64"
      ]
     },
     "execution_count": 199,
     "metadata": {},
     "output_type": "execute_result"
    }
   ],
   "source": [
    "# I don't really want to disregard the description field completely as I think it plays a decent role...\n",
    "# Let's try making a new feature based on the length of the description\n",
    "\n",
    "# Investigate the distribution of the length of the description\n",
    "df['Description'].str.split().str.len().describe()\n",
    "\n",
    "# We can bin them later based on these splits"
   ]
  },
  {
   "cell_type": "code",
   "execution_count": 204,
   "metadata": {},
   "outputs": [
    {
     "name": "stdout",
     "output_type": "stream",
     "text": [
      "0.39713237745915303\n"
     ]
    }
   ],
   "source": [
    "# Add the new feature to the dataset\n",
    "x_train['DescriptionLength'] = text_train_x['Description'].str.split().str.len().fillna(0)\n",
    "x_test['DescriptionLength'] = text_test_x['Description'].str.split().str.len().fillna(0)\n",
    "\n",
    "# Bin the new feature\n",
    "x_train['DescriptionLengthBins'] = pd.cut(x_train['DescriptionLength'], bins=[-1, 0, 22, 45, 82, np.inf], labels=['0', '1-21', '22-44', '45-81', '81+'])\n",
    "x_test['DescriptionLengthBins'] = pd.cut(x_test['DescriptionLength'], bins=[-1, 0, 22, 45, 82, np.inf], labels=['0', '1-21', '22-44', '45-81', '81+'])\n",
    "x_train.drop('DescriptionLength', axis=1, inplace=True)\n",
    "x_test.drop('DescriptionLength', axis=1, inplace=True)\n",
    "\n",
    "# Hot encode the data\n",
    "x_hot_train = x_train.copy()\n",
    "x_hot_train = ohe.fit_transform(x_hot_train)\n",
    "\n",
    "x_hot_test = x_test.copy()\n",
    "x_hot_test = ohe.transform(x_hot_test)\n",
    "\n",
    "# Train the model\n",
    "model = LogisticRegression(max_iter=1000)\n",
    "model.fit(x_hot_train, y_train)\n",
    "\n",
    "# Make predictions\n",
    "y_pred = model.predict(x_hot_test)\n",
    "\n",
    "# Evaluate the model\n",
    "accuracy = accuracy_score(y_test, y_pred)\n",
    "print(accuracy)\n",
    "\n",
    "# 0.3971 - well, it's a slight improvement"
   ]
  }
 ],
 "metadata": {
  "kernelspec": {
   "display_name": "Python 3",
   "language": "python",
   "name": "python3"
  },
  "language_info": {
   "codemirror_mode": {
    "name": "ipython",
    "version": 3
   },
   "file_extension": ".py",
   "mimetype": "text/x-python",
   "name": "python",
   "nbconvert_exporter": "python",
   "pygments_lexer": "ipython3",
   "version": "3.12.2"
  }
 },
 "nbformat": 4,
 "nbformat_minor": 2
}
